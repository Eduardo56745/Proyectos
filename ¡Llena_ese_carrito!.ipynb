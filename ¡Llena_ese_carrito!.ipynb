{
 "cells": [
  {
   "cell_type": "markdown",
   "id": "3Xg_RQfnafXz",
   "metadata": {
    "id": "3Xg_RQfnafXz"
   },
   "source": [
    "# ¡Llena ese carrito!"
   ]
  },
  {
   "cell_type": "markdown",
   "id": "mhIvmmkW414q",
   "metadata": {
    "id": "mhIvmmkW414q"
   },
   "source": [
    "# Introducción\n",
    "\n",
    "Instacart es una plataforma de entregas de comestibles donde la clientela puede registrar un pedido y hacer que se lo entreguen, similar a Uber Eats y Door Dash.\n",
    "El conjunto de datos que te hemos proporcionado tiene modificaciones del original. Redujimos el tamaño del conjunto para que tus cálculos se hicieran más rápido e introdujimos valores ausentes y duplicados. Tuvimos cuidado de conservar las distribuciones de los datos originales cuando hicimos los cambios.\n",
    "\n",
    "Debes completar tres pasos. Para cada uno de ellos, escribe una breve introducción que refleje con claridad cómo pretendes resolver cada paso, y escribe párrafos explicatorios que justifiquen tus decisiones al tiempo que avanzas en tu solución.  También escribe una conclusión que resuma tus hallazgos y elecciones.\n"
   ]
  },
  {
   "cell_type": "markdown",
   "id": "3MbyzpOQZ5Or",
   "metadata": {
    "id": "3MbyzpOQZ5Or"
   },
   "source": [
    "## Diccionario de datos\n",
    "\n",
    "Hay cinco tablas en el conjunto de datos, y tendrás que usarlas todas para hacer el preprocesamiento de datos y el análisis exploratorio de datos. A continuación se muestra un diccionario de datos que enumera las columnas de cada tabla y describe los datos que contienen.\n",
    "\n",
    "- `instacart_orders.csv`: cada fila corresponde a un pedido en la aplicación Instacart.\n",
    "    - `'order_id'`: número de ID que identifica de manera única cada pedido.\n",
    "    - `'user_id'`: número de ID que identifica de manera única la cuenta de cada cliente.\n",
    "    - `'order_number'`: el número de veces que este cliente ha hecho un pedido.\n",
    "    - `'order_dow'`: día de la semana en que se hizo el pedido (0 si es domingo).\n",
    "    - `'order_hour_of_day'`: hora del día en que se hizo el pedido.\n",
    "    - `'days_since_prior_order'`: número de días transcurridos desde que este cliente hizo su pedido anterior.\n",
    "- `products.csv`: cada fila corresponde a un producto único que pueden comprar los clientes.\n",
    "    - `'product_id'`: número ID que identifica de manera única cada producto.\n",
    "    - `'product_name'`: nombre del producto.\n",
    "    - `'aisle_id'`: número ID que identifica de manera única cada categoría de pasillo de víveres.\n",
    "    - `'department_id'`: número ID que identifica de manera única cada departamento de víveres.\n",
    "- `order_products.csv`: cada fila corresponde a un artículo pedido en un pedido.\n",
    "    - `'order_id'`: número de ID que identifica de manera única cada pedido.\n",
    "    - `'product_id'`: número ID que identifica de manera única cada producto.\n",
    "    - `'add_to_cart_order'`: el orden secuencial en el que se añadió cada artículo en el carrito.\n",
    "    - `'reordered'`: 0 si el cliente nunca ha pedido este producto antes, 1 si lo ha pedido.\n",
    "- `aisles.csv`\n",
    "    - `'aisle_id'`: número ID que identifica de manera única cada categoría de pasillo de víveres.\n",
    "    - `'aisle'`: nombre del pasillo.\n",
    "- `departments.csv`\n",
    "    - `'department_id'`: número ID que identifica de manera única cada departamento de víveres.\n",
    "    - `'department'`: nombre del departamento."
   ]
  },
  {
   "cell_type": "markdown",
   "id": "n3Ha_cNSZ8lK",
   "metadata": {
    "id": "n3Ha_cNSZ8lK"
   },
   "source": [
    "# Paso 1. Descripción de los datos\n",
    "\n",
    "Lee los archivos de datos (`/datasets/instacart_orders.csv`, `/datasets/products.csv`, `/datasets/aisles.csv`, `/datasets/departments.csv` y `/datasets/order_products.csv`) con `pd.read_csv()` usando los parámetros adecuados para leer los datos correctamente. Verifica la información para cada DataFrame creado.\n"
   ]
  },
  {
   "cell_type": "markdown",
   "id": "OmlQPLlyaAfR",
   "metadata": {
    "id": "OmlQPLlyaAfR"
   },
   "source": [
    "## Plan de solución\n",
    "\n",
    "Escribe aquí tu plan de solución para el Paso 1. Descripción de los datos.\n",
    "\n",
    "###### Para el paso 1 tengo que importar las librerias de pandas y matplotlib y, luego leer los datos de forma correcta y por ultimo visualizar la informarción del dataset con .info()."
   ]
  },
  {
   "cell_type": "code",
   "execution_count": 1,
   "id": "fbf1adab",
   "metadata": {
    "id": "fbf1adab"
   },
   "outputs": [],
   "source": [
    "# importar librerías\n",
    "import pandas as pd\n",
    "from matplotlib import pyplot as plt"
   ]
  },
  {
   "cell_type": "code",
   "execution_count": 2,
   "id": "ad36396d",
   "metadata": {
    "id": "ad36396d"
   },
   "outputs": [],
   "source": [
    "# leer conjuntos de datos en los DataFrames\n",
    "instacart_orders = pd.read_csv('/datasets/instacart_orders.csv', sep=';')\n",
    "products = pd.read_csv('/datasets/products.csv', sep=';')\n",
    "aisles = pd.read_csv('/datasets/aisles.csv', sep=';')\n",
    "departments = pd.read_csv('/datasets/departments.csv', sep=';')\n",
    "order_products = pd.read_csv('/datasets/order_products.csv', sep=';')"
   ]
  },
  {
   "cell_type": "code",
   "execution_count": 3,
   "id": "ad6a1efa",
   "metadata": {
    "id": "ad6a1efa"
   },
   "outputs": [
    {
     "name": "stdout",
     "output_type": "stream",
     "text": [
      "<class 'pandas.core.frame.DataFrame'>\n",
      "RangeIndex: 478967 entries, 0 to 478966\n",
      "Data columns (total 6 columns):\n",
      " #   Column                  Non-Null Count   Dtype  \n",
      "---  ------                  --------------   -----  \n",
      " 0   order_id                478967 non-null  int64  \n",
      " 1   user_id                 478967 non-null  int64  \n",
      " 2   order_number            478967 non-null  int64  \n",
      " 3   order_dow               478967 non-null  int64  \n",
      " 4   order_hour_of_day       478967 non-null  int64  \n",
      " 5   days_since_prior_order  450148 non-null  float64\n",
      "dtypes: float64(1), int64(5)\n",
      "memory usage: 21.9 MB\n"
     ]
    }
   ],
   "source": [
    "# mostrar información del DataFrame\n",
    "instacart_orders.info()"
   ]
  },
  {
   "cell_type": "code",
   "execution_count": 4,
   "id": "5130e05e",
   "metadata": {
    "id": "5130e05e"
   },
   "outputs": [
    {
     "name": "stdout",
     "output_type": "stream",
     "text": [
      "<class 'pandas.core.frame.DataFrame'>\n",
      "RangeIndex: 49694 entries, 0 to 49693\n",
      "Data columns (total 4 columns):\n",
      " #   Column         Non-Null Count  Dtype \n",
      "---  ------         --------------  ----- \n",
      " 0   product_id     49694 non-null  int64 \n",
      " 1   product_name   48436 non-null  object\n",
      " 2   aisle_id       49694 non-null  int64 \n",
      " 3   department_id  49694 non-null  int64 \n",
      "dtypes: int64(3), object(1)\n",
      "memory usage: 1.5+ MB\n"
     ]
    }
   ],
   "source": [
    "# mostrar información del DataFrame\n",
    "products.info()"
   ]
  },
  {
   "cell_type": "code",
   "execution_count": 5,
   "id": "d8370c05",
   "metadata": {
    "id": "d8370c05"
   },
   "outputs": [
    {
     "name": "stdout",
     "output_type": "stream",
     "text": [
      "<class 'pandas.core.frame.DataFrame'>\n",
      "RangeIndex: 134 entries, 0 to 133\n",
      "Data columns (total 2 columns):\n",
      " #   Column    Non-Null Count  Dtype \n",
      "---  ------    --------------  ----- \n",
      " 0   aisle_id  134 non-null    int64 \n",
      " 1   aisle     134 non-null    object\n",
      "dtypes: int64(1), object(1)\n",
      "memory usage: 2.2+ KB\n"
     ]
    }
   ],
   "source": [
    "# mostrar información del DataFrame\n",
    "aisles.info()"
   ]
  },
  {
   "cell_type": "code",
   "execution_count": 6,
   "id": "59e2090f",
   "metadata": {
    "id": "59e2090f"
   },
   "outputs": [
    {
     "name": "stdout",
     "output_type": "stream",
     "text": [
      "<class 'pandas.core.frame.DataFrame'>\n",
      "RangeIndex: 21 entries, 0 to 20\n",
      "Data columns (total 2 columns):\n",
      " #   Column         Non-Null Count  Dtype \n",
      "---  ------         --------------  ----- \n",
      " 0   department_id  21 non-null     int64 \n",
      " 1   department     21 non-null     object\n",
      "dtypes: int64(1), object(1)\n",
      "memory usage: 464.0+ bytes\n"
     ]
    }
   ],
   "source": [
    "# mostrar información del DataFrame\n",
    "departments.info()"
   ]
  },
  {
   "cell_type": "code",
   "execution_count": 7,
   "id": "6fc81694",
   "metadata": {
    "id": "6fc81694"
   },
   "outputs": [
    {
     "name": "stdout",
     "output_type": "stream",
     "text": [
      "<class 'pandas.core.frame.DataFrame'>\n",
      "RangeIndex: 4545007 entries, 0 to 4545006\n",
      "Data columns (total 4 columns):\n",
      " #   Column             Dtype  \n",
      "---  ------             -----  \n",
      " 0   order_id           int64  \n",
      " 1   product_id         int64  \n",
      " 2   add_to_cart_order  float64\n",
      " 3   reordered          int64  \n",
      "dtypes: float64(1), int64(3)\n",
      "memory usage: 138.7 MB\n"
     ]
    }
   ],
   "source": [
    "# mostrar información del DataFrame\n",
    "order_products.info()"
   ]
  },
  {
   "cell_type": "markdown",
   "id": "t75BD19oaR5f",
   "metadata": {
    "id": "t75BD19oaR5f"
   },
   "source": [
    "## Conclusiones\n",
    "\n",
    "Escribe aquí tus conclusiones intermedias sobre el Paso 1. Descripción de los datos.\n",
    "\n",
    "###### Para leer correctamente los dataset hubo que decirle a pandas que el separador era ';'  para que pudiera leer la información de forma correcta y hasta el momento todo correcto."
   ]
  },
  {
   "cell_type": "markdown",
   "id": "8RJHqxVmaVsF",
   "metadata": {
    "id": "8RJHqxVmaVsF"
   },
   "source": [
    "# Paso 2. Preprocesamiento de los datos\n",
    "\n",
    "Preprocesa los datos de la siguiente manera:\n",
    "\n",
    "- Verifica y corrige los tipos de datos (por ejemplo, asegúrate de que las columnas de ID sean números enteros).\n",
    "- Identifica y completa los valores ausentes.\n",
    "- Identifica y elimina los valores duplicados.\n",
    "\n",
    "Asegúrate de explicar qué tipos de valores ausentes y duplicados encontraste, cómo los completaste o eliminaste y por qué usaste esos métodos. ¿Por qué crees que estos valores ausentes y duplicados pueden haber estado presentes en el conjunto de datos?"
   ]
  },
  {
   "cell_type": "markdown",
   "id": "p6poABZQaZYb",
   "metadata": {
    "id": "p6poABZQaZYb"
   },
   "source": [
    "## Plan de solución\n",
    "\n",
    "Escribe aquí tu plan para el Paso 2. Preprocesamiento de los datos.\n",
    "\n",
    "###### Primero tendré que encontrar los valores duplicados, luego los valores ausentes y luego corregir los tipos de datos de algunas columnas."
   ]
  },
  {
   "cell_type": "markdown",
   "id": "07357848-dc64-4156-9cc3-01ff4365226d",
   "metadata": {
    "id": "07357848-dc64-4156-9cc3-01ff4365226d"
   },
   "source": [
    "## Encuentra y elimina los valores duplicados (y describe cómo tomaste tus decisiones)."
   ]
  },
  {
   "cell_type": "markdown",
   "id": "f179f0a9",
   "metadata": {
    "id": "f179f0a9"
   },
   "source": [
    "### `instacart_orders` data frame"
   ]
  },
  {
   "cell_type": "code",
   "execution_count": 8,
   "id": "b99297a5-405a-463d-8535-9adc3da4ad74",
   "metadata": {
    "id": "b99297a5-405a-463d-8535-9adc3da4ad74"
   },
   "outputs": [
    {
     "data": {
      "text/html": [
       "<div>\n",
       "<style scoped>\n",
       "    .dataframe tbody tr th:only-of-type {\n",
       "        vertical-align: middle;\n",
       "    }\n",
       "\n",
       "    .dataframe tbody tr th {\n",
       "        vertical-align: top;\n",
       "    }\n",
       "\n",
       "    .dataframe thead th {\n",
       "        text-align: right;\n",
       "    }\n",
       "</style>\n",
       "<table border=\"1\" class=\"dataframe\">\n",
       "  <thead>\n",
       "    <tr style=\"text-align: right;\">\n",
       "      <th></th>\n",
       "      <th>order_id</th>\n",
       "      <th>user_id</th>\n",
       "      <th>order_number</th>\n",
       "      <th>order_dow</th>\n",
       "      <th>order_hour_of_day</th>\n",
       "      <th>days_since_prior_order</th>\n",
       "    </tr>\n",
       "  </thead>\n",
       "  <tbody>\n",
       "    <tr>\n",
       "      <th>145574</th>\n",
       "      <td>794638</td>\n",
       "      <td>50898</td>\n",
       "      <td>24</td>\n",
       "      <td>3</td>\n",
       "      <td>2</td>\n",
       "      <td>2.0</td>\n",
       "    </tr>\n",
       "    <tr>\n",
       "      <th>223105</th>\n",
       "      <td>2160484</td>\n",
       "      <td>107525</td>\n",
       "      <td>16</td>\n",
       "      <td>3</td>\n",
       "      <td>2</td>\n",
       "      <td>30.0</td>\n",
       "    </tr>\n",
       "    <tr>\n",
       "      <th>230807</th>\n",
       "      <td>1918001</td>\n",
       "      <td>188546</td>\n",
       "      <td>14</td>\n",
       "      <td>3</td>\n",
       "      <td>2</td>\n",
       "      <td>16.0</td>\n",
       "    </tr>\n",
       "    <tr>\n",
       "      <th>266232</th>\n",
       "      <td>1782114</td>\n",
       "      <td>106752</td>\n",
       "      <td>1</td>\n",
       "      <td>3</td>\n",
       "      <td>2</td>\n",
       "      <td>NaN</td>\n",
       "    </tr>\n",
       "    <tr>\n",
       "      <th>273805</th>\n",
       "      <td>1112182</td>\n",
       "      <td>202304</td>\n",
       "      <td>84</td>\n",
       "      <td>3</td>\n",
       "      <td>2</td>\n",
       "      <td>6.0</td>\n",
       "    </tr>\n",
       "    <tr>\n",
       "      <th>284038</th>\n",
       "      <td>2845099</td>\n",
       "      <td>31189</td>\n",
       "      <td>11</td>\n",
       "      <td>3</td>\n",
       "      <td>2</td>\n",
       "      <td>7.0</td>\n",
       "    </tr>\n",
       "    <tr>\n",
       "      <th>311713</th>\n",
       "      <td>1021560</td>\n",
       "      <td>53767</td>\n",
       "      <td>3</td>\n",
       "      <td>3</td>\n",
       "      <td>2</td>\n",
       "      <td>9.0</td>\n",
       "    </tr>\n",
       "    <tr>\n",
       "      <th>321100</th>\n",
       "      <td>408114</td>\n",
       "      <td>68324</td>\n",
       "      <td>4</td>\n",
       "      <td>3</td>\n",
       "      <td>2</td>\n",
       "      <td>18.0</td>\n",
       "    </tr>\n",
       "    <tr>\n",
       "      <th>323900</th>\n",
       "      <td>1919531</td>\n",
       "      <td>191501</td>\n",
       "      <td>32</td>\n",
       "      <td>3</td>\n",
       "      <td>2</td>\n",
       "      <td>7.0</td>\n",
       "    </tr>\n",
       "    <tr>\n",
       "      <th>345917</th>\n",
       "      <td>2232988</td>\n",
       "      <td>82565</td>\n",
       "      <td>1</td>\n",
       "      <td>3</td>\n",
       "      <td>2</td>\n",
       "      <td>NaN</td>\n",
       "    </tr>\n",
       "    <tr>\n",
       "      <th>371905</th>\n",
       "      <td>391768</td>\n",
       "      <td>57671</td>\n",
       "      <td>19</td>\n",
       "      <td>3</td>\n",
       "      <td>2</td>\n",
       "      <td>10.0</td>\n",
       "    </tr>\n",
       "    <tr>\n",
       "      <th>394347</th>\n",
       "      <td>467134</td>\n",
       "      <td>63189</td>\n",
       "      <td>21</td>\n",
       "      <td>3</td>\n",
       "      <td>2</td>\n",
       "      <td>2.0</td>\n",
       "    </tr>\n",
       "    <tr>\n",
       "      <th>411408</th>\n",
       "      <td>1286742</td>\n",
       "      <td>183220</td>\n",
       "      <td>48</td>\n",
       "      <td>3</td>\n",
       "      <td>2</td>\n",
       "      <td>4.0</td>\n",
       "    </tr>\n",
       "    <tr>\n",
       "      <th>415163</th>\n",
       "      <td>2282673</td>\n",
       "      <td>86751</td>\n",
       "      <td>49</td>\n",
       "      <td>3</td>\n",
       "      <td>2</td>\n",
       "      <td>2.0</td>\n",
       "    </tr>\n",
       "    <tr>\n",
       "      <th>441599</th>\n",
       "      <td>2125197</td>\n",
       "      <td>14050</td>\n",
       "      <td>48</td>\n",
       "      <td>3</td>\n",
       "      <td>2</td>\n",
       "      <td>3.0</td>\n",
       "    </tr>\n",
       "  </tbody>\n",
       "</table>\n",
       "</div>"
      ],
      "text/plain": [
       "        order_id  user_id  order_number  order_dow  order_hour_of_day  \\\n",
       "145574    794638    50898            24          3                  2   \n",
       "223105   2160484   107525            16          3                  2   \n",
       "230807   1918001   188546            14          3                  2   \n",
       "266232   1782114   106752             1          3                  2   \n",
       "273805   1112182   202304            84          3                  2   \n",
       "284038   2845099    31189            11          3                  2   \n",
       "311713   1021560    53767             3          3                  2   \n",
       "321100    408114    68324             4          3                  2   \n",
       "323900   1919531   191501            32          3                  2   \n",
       "345917   2232988    82565             1          3                  2   \n",
       "371905    391768    57671            19          3                  2   \n",
       "394347    467134    63189            21          3                  2   \n",
       "411408   1286742   183220            48          3                  2   \n",
       "415163   2282673    86751            49          3                  2   \n",
       "441599   2125197    14050            48          3                  2   \n",
       "\n",
       "        days_since_prior_order  \n",
       "145574                     2.0  \n",
       "223105                    30.0  \n",
       "230807                    16.0  \n",
       "266232                     NaN  \n",
       "273805                     6.0  \n",
       "284038                     7.0  \n",
       "311713                     9.0  \n",
       "321100                    18.0  \n",
       "323900                     7.0  \n",
       "345917                     NaN  \n",
       "371905                    10.0  \n",
       "394347                     2.0  \n",
       "411408                     4.0  \n",
       "415163                     2.0  \n",
       "441599                     3.0  "
      ]
     },
     "execution_count": 8,
     "metadata": {},
     "output_type": "execute_result"
    }
   ],
   "source": [
    "# Revisa si hay pedidos duplicados\n",
    "instacart_orders[instacart_orders.duplicated()]"
   ]
  },
  {
   "cell_type": "markdown",
   "id": "PEkwUX_gvt5A",
   "metadata": {
    "id": "PEkwUX_gvt5A"
   },
   "source": [
    "¿Tienes líneas duplicadas? Si sí, ¿qué tienen en común?\n",
    "\n",
    "###### Sí, se encontraron 15 valores duplicados, lo que tienen en común son el día de la semana en que los pedidos se hiceron que es el día 3, la hora del día que fue 2 y algunas coincidencias en el order_number y en days_since_prier_order"
   ]
  },
  {
   "cell_type": "code",
   "execution_count": 9,
   "id": "0d44de5d",
   "metadata": {
    "id": "0d44de5d"
   },
   "outputs": [
    {
     "data": {
      "text/html": [
       "<div>\n",
       "<style scoped>\n",
       "    .dataframe tbody tr th:only-of-type {\n",
       "        vertical-align: middle;\n",
       "    }\n",
       "\n",
       "    .dataframe tbody tr th {\n",
       "        vertical-align: top;\n",
       "    }\n",
       "\n",
       "    .dataframe thead th {\n",
       "        text-align: right;\n",
       "    }\n",
       "</style>\n",
       "<table border=\"1\" class=\"dataframe\">\n",
       "  <thead>\n",
       "    <tr style=\"text-align: right;\">\n",
       "      <th></th>\n",
       "      <th>order_id</th>\n",
       "      <th>user_id</th>\n",
       "      <th>order_number</th>\n",
       "      <th>order_dow</th>\n",
       "      <th>order_hour_of_day</th>\n",
       "      <th>days_since_prior_order</th>\n",
       "    </tr>\n",
       "  </thead>\n",
       "  <tbody>\n",
       "    <tr>\n",
       "      <th>4838</th>\n",
       "      <td>2766110</td>\n",
       "      <td>162084</td>\n",
       "      <td>41</td>\n",
       "      <td>3</td>\n",
       "      <td>2</td>\n",
       "      <td>16.0</td>\n",
       "    </tr>\n",
       "    <tr>\n",
       "      <th>5156</th>\n",
       "      <td>2190225</td>\n",
       "      <td>138285</td>\n",
       "      <td>18</td>\n",
       "      <td>3</td>\n",
       "      <td>2</td>\n",
       "      <td>11.0</td>\n",
       "    </tr>\n",
       "    <tr>\n",
       "      <th>15506</th>\n",
       "      <td>553049</td>\n",
       "      <td>58599</td>\n",
       "      <td>13</td>\n",
       "      <td>3</td>\n",
       "      <td>2</td>\n",
       "      <td>7.0</td>\n",
       "    </tr>\n",
       "    <tr>\n",
       "      <th>18420</th>\n",
       "      <td>382357</td>\n",
       "      <td>120200</td>\n",
       "      <td>19</td>\n",
       "      <td>3</td>\n",
       "      <td>2</td>\n",
       "      <td>11.0</td>\n",
       "    </tr>\n",
       "    <tr>\n",
       "      <th>24691</th>\n",
       "      <td>690242</td>\n",
       "      <td>77357</td>\n",
       "      <td>2</td>\n",
       "      <td>3</td>\n",
       "      <td>2</td>\n",
       "      <td>9.0</td>\n",
       "    </tr>\n",
       "    <tr>\n",
       "      <th>...</th>\n",
       "      <td>...</td>\n",
       "      <td>...</td>\n",
       "      <td>...</td>\n",
       "      <td>...</td>\n",
       "      <td>...</td>\n",
       "      <td>...</td>\n",
       "    </tr>\n",
       "    <tr>\n",
       "      <th>457013</th>\n",
       "      <td>3384021</td>\n",
       "      <td>14881</td>\n",
       "      <td>6</td>\n",
       "      <td>3</td>\n",
       "      <td>2</td>\n",
       "      <td>30.0</td>\n",
       "    </tr>\n",
       "    <tr>\n",
       "      <th>458816</th>\n",
       "      <td>910166</td>\n",
       "      <td>164782</td>\n",
       "      <td>18</td>\n",
       "      <td>3</td>\n",
       "      <td>2</td>\n",
       "      <td>4.0</td>\n",
       "    </tr>\n",
       "    <tr>\n",
       "      <th>459635</th>\n",
       "      <td>1680532</td>\n",
       "      <td>106435</td>\n",
       "      <td>6</td>\n",
       "      <td>3</td>\n",
       "      <td>2</td>\n",
       "      <td>21.0</td>\n",
       "    </tr>\n",
       "    <tr>\n",
       "      <th>468324</th>\n",
       "      <td>222962</td>\n",
       "      <td>54979</td>\n",
       "      <td>59</td>\n",
       "      <td>3</td>\n",
       "      <td>2</td>\n",
       "      <td>3.0</td>\n",
       "    </tr>\n",
       "    <tr>\n",
       "      <th>477526</th>\n",
       "      <td>2592344</td>\n",
       "      <td>46860</td>\n",
       "      <td>38</td>\n",
       "      <td>3</td>\n",
       "      <td>2</td>\n",
       "      <td>3.0</td>\n",
       "    </tr>\n",
       "  </tbody>\n",
       "</table>\n",
       "<p>121 rows × 6 columns</p>\n",
       "</div>"
      ],
      "text/plain": [
       "        order_id  user_id  order_number  order_dow  order_hour_of_day  \\\n",
       "4838     2766110   162084            41          3                  2   \n",
       "5156     2190225   138285            18          3                  2   \n",
       "15506     553049    58599            13          3                  2   \n",
       "18420     382357   120200            19          3                  2   \n",
       "24691     690242    77357             2          3                  2   \n",
       "...          ...      ...           ...        ...                ...   \n",
       "457013   3384021    14881             6          3                  2   \n",
       "458816    910166   164782            18          3                  2   \n",
       "459635   1680532   106435             6          3                  2   \n",
       "468324    222962    54979            59          3                  2   \n",
       "477526   2592344    46860            38          3                  2   \n",
       "\n",
       "        days_since_prior_order  \n",
       "4838                      16.0  \n",
       "5156                      11.0  \n",
       "15506                      7.0  \n",
       "18420                     11.0  \n",
       "24691                      9.0  \n",
       "...                        ...  \n",
       "457013                    30.0  \n",
       "458816                     4.0  \n",
       "459635                    21.0  \n",
       "468324                     3.0  \n",
       "477526                     3.0  \n",
       "\n",
       "[121 rows x 6 columns]"
      ]
     },
     "execution_count": 9,
     "metadata": {},
     "output_type": "execute_result"
    }
   ],
   "source": [
    "# Basándote en tus hallazgos,\n",
    "# Verifica todos los pedidos que se hicieron el miércoles a las 2:00 a.m.\n",
    "instacart_orders[(instacart_orders['order_dow'] == 3) & (instacart_orders['order_hour_of_day'] == 2)]"
   ]
  },
  {
   "cell_type": "markdown",
   "id": "vu2OWyoqwOx5",
   "metadata": {
    "id": "vu2OWyoqwOx5"
   },
   "source": [
    "¿Qué sugiere este resultado?\n",
    "\n",
    "###### Significa que hay 121 filas que coinciden con el día miércoles a las 2 de la mañana"
   ]
  },
  {
   "cell_type": "code",
   "execution_count": 10,
   "id": "480563c7",
   "metadata": {
    "id": "480563c7"
   },
   "outputs": [],
   "source": [
    "# Elimina los pedidos duplicados\n",
    "instacart_orders = instacart_orders.drop_duplicates()"
   ]
  },
  {
   "cell_type": "code",
   "execution_count": 11,
   "id": "0b2396a2",
   "metadata": {
    "id": "0b2396a2"
   },
   "outputs": [
    {
     "name": "stdout",
     "output_type": "stream",
     "text": [
      "0\n"
     ]
    }
   ],
   "source": [
    "# Vuelve a verificar si hay filas duplicadas\n",
    "print(instacart_orders.duplicated().sum())"
   ]
  },
  {
   "cell_type": "code",
   "execution_count": 12,
   "id": "f6113ef1",
   "metadata": {
    "id": "f6113ef1"
   },
   "outputs": [
    {
     "name": "stdout",
     "output_type": "stream",
     "text": [
      "0\n"
     ]
    }
   ],
   "source": [
    "# Vuelve a verificar si hay IDs duplicados de pedidos\n",
    "print(instacart_orders['order_id'].duplicated().sum())"
   ]
  },
  {
   "cell_type": "markdown",
   "id": "5e8905ae",
   "metadata": {
    "id": "5e8905ae"
   },
   "source": [
    "Describe brevemente tus hallazgos y lo que hiciste con ellos\n",
    "\n",
    "###### Busqué si había filas duplicadas y en efecto había 15 filas, lo que hice fue elimarlas con drop_duplicates y volver a chequear si seguían ahí, pero ya están eliminadas del mismo dataframe"
   ]
  },
  {
   "cell_type": "markdown",
   "id": "45e6bc46",
   "metadata": {
    "id": "45e6bc46"
   },
   "source": [
    "### `products` data frame"
   ]
  },
  {
   "cell_type": "code",
   "execution_count": 13,
   "id": "5f526b5b-8175-46fa-a0fd-441767d50e64",
   "metadata": {
    "id": "5f526b5b-8175-46fa-a0fd-441767d50e64"
   },
   "outputs": [
    {
     "name": "stdout",
     "output_type": "stream",
     "text": [
      "0\n"
     ]
    }
   ],
   "source": [
    "# Verifica si hay filas totalmente duplicadas\n",
    "print(products.duplicated().sum())"
   ]
  },
  {
   "cell_type": "code",
   "execution_count": 14,
   "id": "88daa4f4",
   "metadata": {
    "id": "88daa4f4"
   },
   "outputs": [
    {
     "name": "stdout",
     "output_type": "stream",
     "text": [
      "0\n"
     ]
    }
   ],
   "source": [
    "# Verifica si hay IDs duplicadas de productos\n",
    "print(products['product_id'].duplicated().sum())"
   ]
  },
  {
   "cell_type": "code",
   "execution_count": 15,
   "id": "c773f0bf",
   "metadata": {
    "id": "c773f0bf"
   },
   "outputs": [
    {
     "name": "stdout",
     "output_type": "stream",
     "text": [
      "       product_id                                     product_name  aisle_id  \\\n",
      "71             72                                              NaN       100   \n",
      "109           110                                              NaN       100   \n",
      "296           297                                              NaN       100   \n",
      "416           417                                              NaN       100   \n",
      "436           437                                              NaN       100   \n",
      "...           ...                                              ...       ...   \n",
      "49689       49690                    HIGH PERFORMANCE ENERGY DRINK        64   \n",
      "49690       49691                    ORIGINAL PANCAKE & WAFFLE MIX       130   \n",
      "49691       49692  ORGANIC INSTANT OATMEAL LIGHT MAPLE BROWN SUGAR       130   \n",
      "49692       49693                           SPRING WATER BODY WASH       127   \n",
      "49693       49694                          BURRITO- STEAK & CHEESE        38   \n",
      "\n",
      "       department_id  \n",
      "71                21  \n",
      "109               21  \n",
      "296               21  \n",
      "416               21  \n",
      "436               21  \n",
      "...              ...  \n",
      "49689              7  \n",
      "49690             14  \n",
      "49691             14  \n",
      "49692             11  \n",
      "49693              1  \n",
      "\n",
      "[1361 rows x 4 columns]\n"
     ]
    }
   ],
   "source": [
    "# Revisa si hay nombres duplicados de productos (convierte los nombres a letras mayúsculas para compararlos mejor)\n",
    "products['product_name'] = products['product_name'].str.upper()\n",
    "\n",
    "products_duplicated = products[products['product_name'].duplicated()]\n",
    "\n",
    "print(products_duplicated)"
   ]
  },
  {
   "cell_type": "code",
   "execution_count": 16,
   "id": "01efd02e",
   "metadata": {
    "id": "01efd02e"
   },
   "outputs": [
    {
     "name": "stdout",
     "output_type": "stream",
     "text": [
      "       product_id                                     product_name  aisle_id  \\\n",
      "2058         2059                                  BIOTIN 1000 MCG        47   \n",
      "5455         5456                 GREEN TEA WITH GINSENG AND HONEY        96   \n",
      "5558         5559                           CREAM OF MUSHROOM SOUP        69   \n",
      "7558         7559                        CINNAMON ROLLS WITH ICING       105   \n",
      "9037         9038                           AMERICAN CHEESE SLICES        21   \n",
      "...           ...                                              ...       ...   \n",
      "49689       49690                    HIGH PERFORMANCE ENERGY DRINK        64   \n",
      "49690       49691                    ORIGINAL PANCAKE & WAFFLE MIX       130   \n",
      "49691       49692  ORGANIC INSTANT OATMEAL LIGHT MAPLE BROWN SUGAR       130   \n",
      "49692       49693                           SPRING WATER BODY WASH       127   \n",
      "49693       49694                          BURRITO- STEAK & CHEESE        38   \n",
      "\n",
      "       department_id  \n",
      "2058              11  \n",
      "5455              20  \n",
      "5558              15  \n",
      "7558              13  \n",
      "9037              16  \n",
      "...              ...  \n",
      "49689              7  \n",
      "49690             14  \n",
      "49691             14  \n",
      "49692             11  \n",
      "49693              1  \n",
      "\n",
      "[104 rows x 4 columns]\n"
     ]
    }
   ],
   "source": [
    "# Revisa si hay nombres duplicados de productos no faltantes\n",
    "products_not_nan = products[products['product_name'].notna()]\n",
    "\n",
    "products_duplicated_not_nan = products_not_nan[products_not_nan['product_name'].duplicated()]\n",
    "\n",
    "print(products_duplicated_not_nan)"
   ]
  },
  {
   "cell_type": "markdown",
   "id": "9da8d293",
   "metadata": {
    "id": "9da8d293"
   },
   "source": [
    "Describe brevemente tus hallazgos y lo que hiciste con ellos.\n",
    "\n",
    "###### El dataframe no tenía filas completas duplicadas, pero al checar las filas duplicadas en product_name, había 1361, pero eran tantas por los valores ausentes, entonces se tuvieron que eliminar los valores ausentes para volver a hacer la prueba y ahora solo devolvió 104 valores duplicados de la columna 'product_name'."
   ]
  },
  {
   "cell_type": "markdown",
   "id": "edf7536b",
   "metadata": {
    "id": "60f30db1"
   },
   "source": [
    "### `departments` data frame"
   ]
  },
  {
   "cell_type": "code",
   "execution_count": 17,
   "id": "fb410ad4-0fbf-4b80-bb09-23fdea79afe3",
   "metadata": {
    "id": "fb410ad4-0fbf-4b80-bb09-23fdea79afe3"
   },
   "outputs": [
    {
     "name": "stdout",
     "output_type": "stream",
     "text": [
      "0\n"
     ]
    }
   ],
   "source": [
    "# Revisa si hay filas totalmente duplicadas\n",
    "print(departments.duplicated().sum())"
   ]
  },
  {
   "cell_type": "code",
   "execution_count": 18,
   "id": "332b12bb",
   "metadata": {
    "id": "332b12bb"
   },
   "outputs": [
    {
     "name": "stdout",
     "output_type": "stream",
     "text": [
      "0\n"
     ]
    }
   ],
   "source": [
    "# Revisa si hay IDs duplicadas de productos\n",
    "print(departments['department_id'].duplicated().sum())"
   ]
  },
  {
   "cell_type": "markdown",
   "id": "bd30d78e",
   "metadata": {
    "id": "bd30d78e"
   },
   "source": [
    "Describe brevemente tus hallazgos y lo que hiciste con ellos.\n",
    "\n",
    "###### chequé si había filas totalmente duplicadas en departments, pero no, luego chequé en la columna de 'deparment_id' y también había 0."
   ]
  },
  {
   "cell_type": "markdown",
   "id": "889349c1",
   "metadata": {
    "id": "889349c1"
   },
   "source": [
    "### `aisles` data frame"
   ]
  },
  {
   "cell_type": "code",
   "execution_count": 19,
   "id": "9da89fb9-4679-40f5-ad0d-c34df753a3f8",
   "metadata": {
    "id": "9da89fb9-4679-40f5-ad0d-c34df753a3f8"
   },
   "outputs": [
    {
     "name": "stdout",
     "output_type": "stream",
     "text": [
      "0\n"
     ]
    }
   ],
   "source": [
    "# Revisa si hay filas totalmente duplicadas\n",
    "print(aisles.duplicated().sum())"
   ]
  },
  {
   "cell_type": "code",
   "execution_count": 20,
   "id": "da7c2822",
   "metadata": {
    "id": "da7c2822"
   },
   "outputs": [
    {
     "name": "stdout",
     "output_type": "stream",
     "text": [
      "0\n"
     ]
    }
   ],
   "source": [
    "# Revisa si hay IDs duplicadas de productos\n",
    "print(aisles['aisle_id'].duplicated().sum())"
   ]
  },
  {
   "cell_type": "markdown",
   "id": "ac63826f",
   "metadata": {
    "id": "ac63826f"
   },
   "source": [
    "Describe brevemente tus hallazgos y lo que hiciste con ellos."
   ]
  },
  {
   "cell_type": "markdown",
   "id": "274cd06a",
   "metadata": {
    "id": "274cd06a"
   },
   "source": [
    "### `order_products` data frame"
   ]
  },
  {
   "cell_type": "code",
   "execution_count": 21,
   "id": "52326689-84a8-4b8f-a881-7c68780f62c9",
   "metadata": {
    "id": "52326689-84a8-4b8f-a881-7c68780f62c9"
   },
   "outputs": [
    {
     "name": "stdout",
     "output_type": "stream",
     "text": [
      "0\n"
     ]
    }
   ],
   "source": [
    "# Revisa si hay filas totalmente duplicadas\n",
    "print(order_products.duplicated().sum())"
   ]
  },
  {
   "cell_type": "code",
   "execution_count": 22,
   "id": "7b861391",
   "metadata": {
    "id": "7b861391"
   },
   "outputs": [
    {
     "name": "stdout",
     "output_type": "stream",
     "text": [
      "0\n"
     ]
    }
   ],
   "source": [
    "# Vuelve a verificar si hay cualquier otro duplicado engañoso\n",
    "duplicated_products = order_products.duplicated(subset=['product_id', 'order_id']).sum()\n",
    "print(duplicated_products)"
   ]
  },
  {
   "cell_type": "markdown",
   "id": "0b890492",
   "metadata": {
    "id": "0b890492"
   },
   "source": [
    "Describe brevemente tus hallazgos y lo que hiciste con ellos.\n",
    "\n",
    "\n",
    "###### busqué si había valores totalmente duplicados en order_products y luego busqué duplicados engañosos en las columnas product_id y order_id, pero tampoco encontré algo interesante"
   ]
  },
  {
   "cell_type": "markdown",
   "id": "1e46de76",
   "metadata": {
    "id": "1e46de76"
   },
   "source": [
    "## Encuentra y elimina los valores ausentes\n",
    "\n",
    "Al trabajar con valores duplicados, pudimos observar que también nos falta investigar valores ausentes:\n",
    "\n",
    "* La columna `'product_name'` de la tabla products.\n",
    "* La columna `'days_since_prior_order'` de la tabla orders.\n",
    "* La columna `'add_to_cart_order'` de la tabla order_productos."
   ]
  },
  {
   "cell_type": "markdown",
   "id": "c0aebd78",
   "metadata": {
    "id": "c0aebd78"
   },
   "source": [
    "### `products` data frame"
   ]
  },
  {
   "cell_type": "code",
   "execution_count": 23,
   "id": "fe4a8b0f",
   "metadata": {
    "id": "fe4a8b0f"
   },
   "outputs": [
    {
     "data": {
      "text/html": [
       "<div>\n",
       "<style scoped>\n",
       "    .dataframe tbody tr th:only-of-type {\n",
       "        vertical-align: middle;\n",
       "    }\n",
       "\n",
       "    .dataframe tbody tr th {\n",
       "        vertical-align: top;\n",
       "    }\n",
       "\n",
       "    .dataframe thead th {\n",
       "        text-align: right;\n",
       "    }\n",
       "</style>\n",
       "<table border=\"1\" class=\"dataframe\">\n",
       "  <thead>\n",
       "    <tr style=\"text-align: right;\">\n",
       "      <th></th>\n",
       "      <th>product_id</th>\n",
       "      <th>product_name</th>\n",
       "      <th>aisle_id</th>\n",
       "      <th>department_id</th>\n",
       "    </tr>\n",
       "  </thead>\n",
       "  <tbody>\n",
       "    <tr>\n",
       "      <th>37</th>\n",
       "      <td>38</td>\n",
       "      <td>NaN</td>\n",
       "      <td>100</td>\n",
       "      <td>21</td>\n",
       "    </tr>\n",
       "    <tr>\n",
       "      <th>71</th>\n",
       "      <td>72</td>\n",
       "      <td>NaN</td>\n",
       "      <td>100</td>\n",
       "      <td>21</td>\n",
       "    </tr>\n",
       "    <tr>\n",
       "      <th>109</th>\n",
       "      <td>110</td>\n",
       "      <td>NaN</td>\n",
       "      <td>100</td>\n",
       "      <td>21</td>\n",
       "    </tr>\n",
       "    <tr>\n",
       "      <th>296</th>\n",
       "      <td>297</td>\n",
       "      <td>NaN</td>\n",
       "      <td>100</td>\n",
       "      <td>21</td>\n",
       "    </tr>\n",
       "    <tr>\n",
       "      <th>416</th>\n",
       "      <td>417</td>\n",
       "      <td>NaN</td>\n",
       "      <td>100</td>\n",
       "      <td>21</td>\n",
       "    </tr>\n",
       "    <tr>\n",
       "      <th>...</th>\n",
       "      <td>...</td>\n",
       "      <td>...</td>\n",
       "      <td>...</td>\n",
       "      <td>...</td>\n",
       "    </tr>\n",
       "    <tr>\n",
       "      <th>49552</th>\n",
       "      <td>49553</td>\n",
       "      <td>NaN</td>\n",
       "      <td>100</td>\n",
       "      <td>21</td>\n",
       "    </tr>\n",
       "    <tr>\n",
       "      <th>49574</th>\n",
       "      <td>49575</td>\n",
       "      <td>NaN</td>\n",
       "      <td>100</td>\n",
       "      <td>21</td>\n",
       "    </tr>\n",
       "    <tr>\n",
       "      <th>49640</th>\n",
       "      <td>49641</td>\n",
       "      <td>NaN</td>\n",
       "      <td>100</td>\n",
       "      <td>21</td>\n",
       "    </tr>\n",
       "    <tr>\n",
       "      <th>49663</th>\n",
       "      <td>49664</td>\n",
       "      <td>NaN</td>\n",
       "      <td>100</td>\n",
       "      <td>21</td>\n",
       "    </tr>\n",
       "    <tr>\n",
       "      <th>49668</th>\n",
       "      <td>49669</td>\n",
       "      <td>NaN</td>\n",
       "      <td>100</td>\n",
       "      <td>21</td>\n",
       "    </tr>\n",
       "  </tbody>\n",
       "</table>\n",
       "<p>1258 rows × 4 columns</p>\n",
       "</div>"
      ],
      "text/plain": [
       "       product_id product_name  aisle_id  department_id\n",
       "37             38          NaN       100             21\n",
       "71             72          NaN       100             21\n",
       "109           110          NaN       100             21\n",
       "296           297          NaN       100             21\n",
       "416           417          NaN       100             21\n",
       "...           ...          ...       ...            ...\n",
       "49552       49553          NaN       100             21\n",
       "49574       49575          NaN       100             21\n",
       "49640       49641          NaN       100             21\n",
       "49663       49664          NaN       100             21\n",
       "49668       49669          NaN       100             21\n",
       "\n",
       "[1258 rows x 4 columns]"
      ]
     },
     "execution_count": 23,
     "metadata": {},
     "output_type": "execute_result"
    }
   ],
   "source": [
    "# Encuentra los valores ausentes en la columna 'product_name'\n",
    "products[products['product_name'].isna()]"
   ]
  },
  {
   "cell_type": "markdown",
   "id": "-A6x1AbJhjkp",
   "metadata": {
    "id": "-A6x1AbJhjkp"
   },
   "source": [
    "Describe brevemente cuáles son tus hallazgos.\n",
    "\n",
    "###### Usé el metodo isna en la columna products_name y encontré 1258 valores ausentes."
   ]
  },
  {
   "cell_type": "code",
   "execution_count": 24,
   "id": "e96167bc",
   "metadata": {
    "id": "e96167bc"
   },
   "outputs": [
    {
     "name": "stdout",
     "output_type": "stream",
     "text": [
      "       product_id product_name  aisle_id  department_id\n",
      "37             38          NaN       100             21\n",
      "71             72          NaN       100             21\n",
      "109           110          NaN       100             21\n",
      "296           297          NaN       100             21\n",
      "416           417          NaN       100             21\n",
      "...           ...          ...       ...            ...\n",
      "49552       49553          NaN       100             21\n",
      "49574       49575          NaN       100             21\n",
      "49640       49641          NaN       100             21\n",
      "49663       49664          NaN       100             21\n",
      "49668       49669          NaN       100             21\n",
      "\n",
      "[1258 rows x 4 columns]\n"
     ]
    }
   ],
   "source": [
    "#  ¿Todos los nombres de productos ausentes están relacionados con el pasillo con ID 100?\n",
    "nan_100 = products[(products['product_name'].isna()) & (products['aisle_id'] == 100)]\n",
    "\n",
    "print(nan_100)"
   ]
  },
  {
   "cell_type": "markdown",
   "id": "WRpIfXRphpSL",
   "metadata": {
    "id": "WRpIfXRphpSL"
   },
   "source": [
    "Describe brevemente cuáles son tus hallazgos.\n",
    "\n",
    "###### Después del filtrado siguen siendo 1258 valores ausentes entonces sí, todos están relacionados con el pasillo 100."
   ]
  },
  {
   "cell_type": "code",
   "execution_count": 25,
   "id": "8fd0a541",
   "metadata": {
    "id": "8fd0a541"
   },
   "outputs": [
    {
     "name": "stdout",
     "output_type": "stream",
     "text": [
      "       product_id product_name  aisle_id  department_id\n",
      "37             38          NaN       100             21\n",
      "71             72          NaN       100             21\n",
      "109           110          NaN       100             21\n",
      "296           297          NaN       100             21\n",
      "416           417          NaN       100             21\n",
      "...           ...          ...       ...            ...\n",
      "49552       49553          NaN       100             21\n",
      "49574       49575          NaN       100             21\n",
      "49640       49641          NaN       100             21\n",
      "49663       49664          NaN       100             21\n",
      "49668       49669          NaN       100             21\n",
      "\n",
      "[1258 rows x 4 columns]\n"
     ]
    }
   ],
   "source": [
    "# ¿Todos los nombres de productos ausentes están relacionados con el departamento con ID 21?\n",
    "nan_21 = products[(products['product_name'].isna()) & (products['department_id'] == 21)]\n",
    "\n",
    "print(nan_21)"
   ]
  },
  {
   "cell_type": "markdown",
   "id": "qDpdYn1Fht_I",
   "metadata": {
    "id": "qDpdYn1Fht_I"
   },
   "source": [
    "Describe brevemente cuáles son tus hallazgos.\n",
    "\n",
    "###### Siguen siendo 1258 valores ausentes entonces sí, también está relacionado con el departamento 21."
   ]
  },
  {
   "cell_type": "code",
   "execution_count": 26,
   "id": "325c3464",
   "metadata": {
    "id": "325c3464"
   },
   "outputs": [
    {
     "name": "stdout",
     "output_type": "stream",
     "text": [
      "    department_id department\n",
      "20             21    missing\n",
      "\n",
      "    aisle_id    aisle\n",
      "99       100  missing\n"
     ]
    }
   ],
   "source": [
    "# Usa las tablas department y aisle para revisar los datos del pasillo con ID 100 y el departamento con ID 21.\n",
    "#departments[departments['department_id'] == 21]\n",
    "department_21 = departments[departments['department_id'] == 21]\n",
    "\n",
    "aisle_100 = aisles[aisles['aisle_id'] == 100]\n",
    "\n",
    "print(department_21)\n",
    "print()\n",
    "print(aisle_100)\n"
   ]
  },
  {
   "cell_type": "markdown",
   "id": "nqhSTUPhhvEJ",
   "metadata": {
    "id": "nqhSTUPhhvEJ"
   },
   "source": [
    "Describe brevemente cuáles son tus hallazgos.\n",
    "\n",
    "###### El departamento 21 y el pasillo 100 están como perdidos o faltantes."
   ]
  },
  {
   "cell_type": "code",
   "execution_count": 27,
   "id": "6b295120",
   "metadata": {
    "id": "6b295120"
   },
   "outputs": [
    {
     "name": "stdout",
     "output_type": "stream",
     "text": [
      "0\n"
     ]
    }
   ],
   "source": [
    "# Completa los nombres de productos ausentes con 'Unknown'\n",
    "products['product_name'] = products['product_name'].fillna('Unknown')\n",
    "\n",
    "print(products['product_name'].isna().sum())"
   ]
  },
  {
   "cell_type": "markdown",
   "id": "fc70e5ad",
   "metadata": {
    "id": "fc70e5ad"
   },
   "source": [
    "Describe brevemente tus hallazgos y lo que hiciste con ellos.\n",
    "\n",
    "###### Despues de rellenar los valores ausentes con 'Unknown' ahora faltan 0."
   ]
  },
  {
   "cell_type": "markdown",
   "id": "7eb45c86",
   "metadata": {
    "id": "7eb45c86"
   },
   "source": [
    "### `orders` data frame"
   ]
  },
  {
   "cell_type": "code",
   "execution_count": 28,
   "id": "93e41d96",
   "metadata": {
    "id": "93e41d96"
   },
   "outputs": [
    {
     "data": {
      "text/html": [
       "<div>\n",
       "<style scoped>\n",
       "    .dataframe tbody tr th:only-of-type {\n",
       "        vertical-align: middle;\n",
       "    }\n",
       "\n",
       "    .dataframe tbody tr th {\n",
       "        vertical-align: top;\n",
       "    }\n",
       "\n",
       "    .dataframe thead th {\n",
       "        text-align: right;\n",
       "    }\n",
       "</style>\n",
       "<table border=\"1\" class=\"dataframe\">\n",
       "  <thead>\n",
       "    <tr style=\"text-align: right;\">\n",
       "      <th></th>\n",
       "      <th>order_id</th>\n",
       "      <th>user_id</th>\n",
       "      <th>order_number</th>\n",
       "      <th>order_dow</th>\n",
       "      <th>order_hour_of_day</th>\n",
       "      <th>days_since_prior_order</th>\n",
       "    </tr>\n",
       "  </thead>\n",
       "  <tbody>\n",
       "    <tr>\n",
       "      <th>28</th>\n",
       "      <td>133707</td>\n",
       "      <td>182261</td>\n",
       "      <td>1</td>\n",
       "      <td>3</td>\n",
       "      <td>10</td>\n",
       "      <td>NaN</td>\n",
       "    </tr>\n",
       "    <tr>\n",
       "      <th>96</th>\n",
       "      <td>787445</td>\n",
       "      <td>25685</td>\n",
       "      <td>1</td>\n",
       "      <td>6</td>\n",
       "      <td>18</td>\n",
       "      <td>NaN</td>\n",
       "    </tr>\n",
       "    <tr>\n",
       "      <th>100</th>\n",
       "      <td>294410</td>\n",
       "      <td>111449</td>\n",
       "      <td>1</td>\n",
       "      <td>0</td>\n",
       "      <td>19</td>\n",
       "      <td>NaN</td>\n",
       "    </tr>\n",
       "    <tr>\n",
       "      <th>103</th>\n",
       "      <td>2869915</td>\n",
       "      <td>123958</td>\n",
       "      <td>1</td>\n",
       "      <td>4</td>\n",
       "      <td>16</td>\n",
       "      <td>NaN</td>\n",
       "    </tr>\n",
       "    <tr>\n",
       "      <th>104</th>\n",
       "      <td>2521921</td>\n",
       "      <td>42286</td>\n",
       "      <td>1</td>\n",
       "      <td>3</td>\n",
       "      <td>18</td>\n",
       "      <td>NaN</td>\n",
       "    </tr>\n",
       "    <tr>\n",
       "      <th>...</th>\n",
       "      <td>...</td>\n",
       "      <td>...</td>\n",
       "      <td>...</td>\n",
       "      <td>...</td>\n",
       "      <td>...</td>\n",
       "      <td>...</td>\n",
       "    </tr>\n",
       "    <tr>\n",
       "      <th>478895</th>\n",
       "      <td>2589657</td>\n",
       "      <td>205028</td>\n",
       "      <td>1</td>\n",
       "      <td>0</td>\n",
       "      <td>16</td>\n",
       "      <td>NaN</td>\n",
       "    </tr>\n",
       "    <tr>\n",
       "      <th>478896</th>\n",
       "      <td>2222353</td>\n",
       "      <td>141211</td>\n",
       "      <td>1</td>\n",
       "      <td>2</td>\n",
       "      <td>13</td>\n",
       "      <td>NaN</td>\n",
       "    </tr>\n",
       "    <tr>\n",
       "      <th>478922</th>\n",
       "      <td>2272807</td>\n",
       "      <td>204154</td>\n",
       "      <td>1</td>\n",
       "      <td>1</td>\n",
       "      <td>15</td>\n",
       "      <td>NaN</td>\n",
       "    </tr>\n",
       "    <tr>\n",
       "      <th>478926</th>\n",
       "      <td>2499542</td>\n",
       "      <td>68810</td>\n",
       "      <td>1</td>\n",
       "      <td>4</td>\n",
       "      <td>19</td>\n",
       "      <td>NaN</td>\n",
       "    </tr>\n",
       "    <tr>\n",
       "      <th>478945</th>\n",
       "      <td>1387033</td>\n",
       "      <td>22496</td>\n",
       "      <td>1</td>\n",
       "      <td>5</td>\n",
       "      <td>14</td>\n",
       "      <td>NaN</td>\n",
       "    </tr>\n",
       "  </tbody>\n",
       "</table>\n",
       "<p>28817 rows × 6 columns</p>\n",
       "</div>"
      ],
      "text/plain": [
       "        order_id  user_id  order_number  order_dow  order_hour_of_day  \\\n",
       "28        133707   182261             1          3                 10   \n",
       "96        787445    25685             1          6                 18   \n",
       "100       294410   111449             1          0                 19   \n",
       "103      2869915   123958             1          4                 16   \n",
       "104      2521921    42286             1          3                 18   \n",
       "...          ...      ...           ...        ...                ...   \n",
       "478895   2589657   205028             1          0                 16   \n",
       "478896   2222353   141211             1          2                 13   \n",
       "478922   2272807   204154             1          1                 15   \n",
       "478926   2499542    68810             1          4                 19   \n",
       "478945   1387033    22496             1          5                 14   \n",
       "\n",
       "        days_since_prior_order  \n",
       "28                         NaN  \n",
       "96                         NaN  \n",
       "100                        NaN  \n",
       "103                        NaN  \n",
       "104                        NaN  \n",
       "...                        ...  \n",
       "478895                     NaN  \n",
       "478896                     NaN  \n",
       "478922                     NaN  \n",
       "478926                     NaN  \n",
       "478945                     NaN  \n",
       "\n",
       "[28817 rows x 6 columns]"
      ]
     },
     "execution_count": 28,
     "metadata": {},
     "output_type": "execute_result"
    }
   ],
   "source": [
    "# Encuentra los valores ausentes\n",
    "instacart_orders[instacart_orders['days_since_prior_order'].isna()]"
   ]
  },
  {
   "cell_type": "code",
   "execution_count": 29,
   "id": "166e5a86",
   "metadata": {
    "id": "166e5a86"
   },
   "outputs": [
    {
     "name": "stdout",
     "output_type": "stream",
     "text": [
      "Empty DataFrame\n",
      "Columns: [order_id, user_id, order_number, order_dow, order_hour_of_day, days_since_prior_order]\n",
      "Index: []\n"
     ]
    }
   ],
   "source": [
    "# ¿Hay algún valor ausente que no sea el primer pedido del cliente?\n",
    "firts_order_nan = instacart_orders[(instacart_orders['order_hour_of_day'].isna()) & (instacart_orders['order_number'] != 1)]\n",
    "print(firts_order_nan)"
   ]
  },
  {
   "cell_type": "markdown",
   "id": "4e23d089",
   "metadata": {
    "id": "4e23d089"
   },
   "source": [
    "Describe brevemente tus hallazgos y lo que hiciste con ellos.\n",
    "\n",
    "###### Al usar el metodo isna se encontraron 28817 valores ausentes en la columna 'days_since_prior_order', pero ninguno donde no sea el primer pedido del cliente."
   ]
  },
  {
   "cell_type": "markdown",
   "id": "69dc9ca4",
   "metadata": {
    "id": "69dc9ca4"
   },
   "source": [
    "### `order_products` data frame"
   ]
  },
  {
   "cell_type": "code",
   "execution_count": 30,
   "id": "b8240253",
   "metadata": {
    "id": "b8240253"
   },
   "outputs": [
    {
     "data": {
      "text/html": [
       "<div>\n",
       "<style scoped>\n",
       "    .dataframe tbody tr th:only-of-type {\n",
       "        vertical-align: middle;\n",
       "    }\n",
       "\n",
       "    .dataframe tbody tr th {\n",
       "        vertical-align: top;\n",
       "    }\n",
       "\n",
       "    .dataframe thead th {\n",
       "        text-align: right;\n",
       "    }\n",
       "</style>\n",
       "<table border=\"1\" class=\"dataframe\">\n",
       "  <thead>\n",
       "    <tr style=\"text-align: right;\">\n",
       "      <th></th>\n",
       "      <th>order_id</th>\n",
       "      <th>product_id</th>\n",
       "      <th>add_to_cart_order</th>\n",
       "      <th>reordered</th>\n",
       "    </tr>\n",
       "  </thead>\n",
       "  <tbody>\n",
       "    <tr>\n",
       "      <th>737</th>\n",
       "      <td>2449164</td>\n",
       "      <td>5068</td>\n",
       "      <td>NaN</td>\n",
       "      <td>0</td>\n",
       "    </tr>\n",
       "    <tr>\n",
       "      <th>9926</th>\n",
       "      <td>1968313</td>\n",
       "      <td>43867</td>\n",
       "      <td>NaN</td>\n",
       "      <td>0</td>\n",
       "    </tr>\n",
       "    <tr>\n",
       "      <th>14394</th>\n",
       "      <td>2926893</td>\n",
       "      <td>11688</td>\n",
       "      <td>NaN</td>\n",
       "      <td>0</td>\n",
       "    </tr>\n",
       "    <tr>\n",
       "      <th>16418</th>\n",
       "      <td>1717990</td>\n",
       "      <td>4142</td>\n",
       "      <td>NaN</td>\n",
       "      <td>0</td>\n",
       "    </tr>\n",
       "    <tr>\n",
       "      <th>30114</th>\n",
       "      <td>1959075</td>\n",
       "      <td>42828</td>\n",
       "      <td>NaN</td>\n",
       "      <td>1</td>\n",
       "    </tr>\n",
       "    <tr>\n",
       "      <th>...</th>\n",
       "      <td>...</td>\n",
       "      <td>...</td>\n",
       "      <td>...</td>\n",
       "      <td>...</td>\n",
       "    </tr>\n",
       "    <tr>\n",
       "      <th>4505662</th>\n",
       "      <td>1800005</td>\n",
       "      <td>7411</td>\n",
       "      <td>NaN</td>\n",
       "      <td>0</td>\n",
       "    </tr>\n",
       "    <tr>\n",
       "      <th>4511400</th>\n",
       "      <td>1633337</td>\n",
       "      <td>260</td>\n",
       "      <td>NaN</td>\n",
       "      <td>0</td>\n",
       "    </tr>\n",
       "    <tr>\n",
       "      <th>4517562</th>\n",
       "      <td>404157</td>\n",
       "      <td>9517</td>\n",
       "      <td>NaN</td>\n",
       "      <td>0</td>\n",
       "    </tr>\n",
       "    <tr>\n",
       "      <th>4534112</th>\n",
       "      <td>1673227</td>\n",
       "      <td>17835</td>\n",
       "      <td>NaN</td>\n",
       "      <td>0</td>\n",
       "    </tr>\n",
       "    <tr>\n",
       "      <th>4535739</th>\n",
       "      <td>1832957</td>\n",
       "      <td>17949</td>\n",
       "      <td>NaN</td>\n",
       "      <td>1</td>\n",
       "    </tr>\n",
       "  </tbody>\n",
       "</table>\n",
       "<p>836 rows × 4 columns</p>\n",
       "</div>"
      ],
      "text/plain": [
       "         order_id  product_id  add_to_cart_order  reordered\n",
       "737       2449164        5068                NaN          0\n",
       "9926      1968313       43867                NaN          0\n",
       "14394     2926893       11688                NaN          0\n",
       "16418     1717990        4142                NaN          0\n",
       "30114     1959075       42828                NaN          1\n",
       "...           ...         ...                ...        ...\n",
       "4505662   1800005        7411                NaN          0\n",
       "4511400   1633337         260                NaN          0\n",
       "4517562    404157        9517                NaN          0\n",
       "4534112   1673227       17835                NaN          0\n",
       "4535739   1832957       17949                NaN          1\n",
       "\n",
       "[836 rows x 4 columns]"
      ]
     },
     "execution_count": 30,
     "metadata": {},
     "output_type": "execute_result"
    }
   ],
   "source": [
    "# Encuentra los valores ausentes\n",
    "order_products[order_products['add_to_cart_order'].isna()]"
   ]
  },
  {
   "cell_type": "code",
   "execution_count": 31,
   "id": "9a78e5ee",
   "metadata": {
    "id": "9a78e5ee"
   },
   "outputs": [
    {
     "name": "stdout",
     "output_type": "stream",
     "text": [
      "Min= 1.0\n",
      "Max= 64.0\n"
     ]
    }
   ],
   "source": [
    "# ¿Cuáles son los valores mínimos y máximos en esta columna?\n",
    "add_to_cart_order = order_products['add_to_cart_order']\n",
    "\n",
    "print('Min=', add_to_cart_order.min())\n",
    "print('Max=', add_to_cart_order.max())\n"
   ]
  },
  {
   "cell_type": "markdown",
   "id": "-Z2Ja215jW78",
   "metadata": {
    "id": "-Z2Ja215jW78"
   },
   "source": [
    "Describe brevemente cuáles son tus hallazgos.\n",
    "\n",
    "###### Hay 836 valores ausentes en add_to_cart_order y los valores mínimos son de 1 y máximos de 64."
   ]
  },
  {
   "cell_type": "code",
   "execution_count": 32,
   "id": "ab9d0c2b",
   "metadata": {
    "id": "ab9d0c2b"
   },
   "outputs": [
    {
     "name": "stdout",
     "output_type": "stream",
     "text": [
      "737        2449164\n",
      "9926       1968313\n",
      "14394      2926893\n",
      "16418      1717990\n",
      "30114      1959075\n",
      "            ...   \n",
      "4505662    1800005\n",
      "4511400    1633337\n",
      "4517562     404157\n",
      "4534112    1673227\n",
      "4535739    1832957\n",
      "Name: order_id, Length: 836, dtype: int64\n"
     ]
    }
   ],
   "source": [
    "# Guarda todas las IDs de pedidos que tengan un valor ausente en 'add_to_cart_order'\n",
    "orders_id_nan = order_products[order_products['add_to_cart_order'].isna()]['order_id']\n",
    "\n",
    "print(orders_id_nan)"
   ]
  },
  {
   "cell_type": "code",
   "execution_count": 33,
   "id": "54c31695",
   "metadata": {
    "id": "54c31695"
   },
   "outputs": [
    {
     "name": "stdout",
     "output_type": "stream",
     "text": [
      "1\n"
     ]
    }
   ],
   "source": [
    "# ¿Todos los pedidos con valores ausentes tienen más de 64 productos?\n",
    "# Agrupa todos los pedidos con datos ausentes por su ID de pedido.\n",
    "# Cuenta el número de 'product_id' en cada pedido y revisa el valor mínimo del conteo.\n",
    "orders_nan = order_products[order_products['add_to_cart_order'].isna()]\n",
    "orders_group = orders_nan.groupby('order_id')['product_id'].count()\n",
    "print(orders_group.min())"
   ]
  },
  {
   "cell_type": "markdown",
   "id": "p9V6pddtjglj",
   "metadata": {
    "id": "p9V6pddtjglj"
   },
   "source": [
    "Describe brevemente cuáles son tus hallazgos.\n",
    "\n",
    "###### El mínimo resultante fue de 1, osea que no todos los valores ausentes tienen más de 64 productos."
   ]
  },
  {
   "cell_type": "code",
   "execution_count": 34,
   "id": "7a987d08",
   "metadata": {
    "id": "7a987d08"
   },
   "outputs": [
    {
     "name": "stdout",
     "output_type": "stream",
     "text": [
      "<class 'pandas.core.frame.DataFrame'>\n",
      "RangeIndex: 4545007 entries, 0 to 4545006\n",
      "Data columns (total 4 columns):\n",
      " #   Column             Dtype\n",
      "---  ------             -----\n",
      " 0   order_id           int64\n",
      " 1   product_id         int64\n",
      " 2   add_to_cart_order  int64\n",
      " 3   reordered          int64\n",
      "dtypes: int64(4)\n",
      "memory usage: 138.7 MB\n",
      "None\n"
     ]
    }
   ],
   "source": [
    "# Remplaza los valores ausentes en la columna 'add_to_cart? con 999 y convierte la columna al tipo entero.\n",
    "order_products['add_to_cart_order'] = order_products['add_to_cart_order'].fillna(999)\n",
    "order_products['add_to_cart_order'] = order_products['add_to_cart_order'].astype(int)\n",
    "\n",
    "print(order_products.info())"
   ]
  },
  {
   "cell_type": "markdown",
   "id": "fea4bcc7",
   "metadata": {
    "id": "fea4bcc7"
   },
   "source": [
    "Describe brevemente tus hallazgos y lo que hiciste con ellos.\n",
    "\n",
    "###### Utilicé fillna para llenar los valores ausentes con 999 y luego transforme el dtype de la columna 'add_to_cart_order' a int utilizando el metodo astype."
   ]
  },
  {
   "cell_type": "markdown",
   "id": "RnplPFY1gSrb",
   "metadata": {
    "id": "RnplPFY1gSrb"
   },
   "source": [
    "## Conclusiones\n",
    "\n",
    "Escribe aquí tus conclusiones intermedias sobre el Paso 2. Preprocesamiento de los datos\n",
    "\n",
    "###### Al parecer tener valores aunsentes y duplicados es bastante común el los dataframes, afortunadamente no es una tarea muy difícil de resolver pero si algo tardada y demasiado interesante.\n"
   ]
  },
  {
   "cell_type": "markdown",
   "id": "UjrOIwTcz3ri",
   "metadata": {
    "id": "UjrOIwTcz3ri"
   },
   "source": [
    "# Paso 3. Análisis de los datos\n",
    "\n",
    "Una vez los datos estén procesados y listos, haz el siguiente análisis:"
   ]
  },
  {
   "cell_type": "markdown",
   "id": "turkish-kidney",
   "metadata": {
    "id": "turkish-kidney"
   },
   "source": [
    "# [A] Fácil (deben completarse todos para aprobar)\n",
    "\n",
    "1. Verifica que los valores en las columnas `'order_hour_of_day'` y `'order_dow'` en la tabla orders sean razonables (es decir, `'order_hour_of_day'` oscile entre 0 y 23 y `'order_dow'` oscile entre 0 y 6).\n",
    "2. Crea un gráfico que muestre el número de personas que hacen pedidos dependiendo de la hora del día.\n",
    "3. Crea un gráfico que muestre qué día de la semana la gente hace sus compras.\n",
    "4. Crea un gráfico que muestre el tiempo que la gente espera hasta hacer su siguiente pedido, y comenta sobre los valores mínimos y máximos."
   ]
  },
  {
   "cell_type": "markdown",
   "id": "short-capability",
   "metadata": {
    "id": "short-capability"
   },
   "source": [
    "### [A1] Verifica que los valores sean sensibles"
   ]
  },
  {
   "cell_type": "code",
   "execution_count": 35,
   "id": "growing-fruit",
   "metadata": {
    "id": "growing-fruit"
   },
   "outputs": [
    {
     "name": "stdout",
     "output_type": "stream",
     "text": [
      "Min= 0\n",
      "\n",
      "Max= 23\n"
     ]
    }
   ],
   "source": [
    "hours = instacart_orders['order_hour_of_day'].unique()\n",
    "print('Min=', hours.min())\n",
    "print()\n",
    "print('Max=', hours.max())"
   ]
  },
  {
   "cell_type": "code",
   "execution_count": 36,
   "id": "accessory-malaysia",
   "metadata": {
    "id": "accessory-malaysia"
   },
   "outputs": [
    {
     "name": "stdout",
     "output_type": "stream",
     "text": [
      "Min= 0\n",
      "\n",
      "Max= 6\n"
     ]
    }
   ],
   "source": [
    "dow = instacart_orders['order_dow']\n",
    "print('Min=', dow.min())\n",
    "print()\n",
    "print('Max=', dow.max())"
   ]
  },
  {
   "cell_type": "markdown",
   "id": "hmR2GNQ6lCsX",
   "metadata": {
    "id": "hmR2GNQ6lCsX"
   },
   "source": [
    "Escribe aquí tus conclusiones\n",
    "\n",
    "###### El rango de order_hour_of_day está entre las 12 de la mañana y las 11 de la noche y el rango de order_dow está entre los días de la semana siendo 0 el domingo y 6 el sabado."
   ]
  },
  {
   "cell_type": "markdown",
   "id": "a6743a70",
   "metadata": {
    "id": "a6743a70"
   },
   "source": [
    "### [A2] Para cada hora del día, ¿cuántas personas hacen órdenes?"
   ]
  },
  {
   "cell_type": "code",
   "execution_count": 37,
   "id": "a36cca27",
   "metadata": {
    "id": "a36cca27"
   },
   "outputs": [
    {
     "data": {
      "image/png": "[encoded data removed]",
      "text/plain": [
       "<Figure size 640x480 with 1 Axes>"
      ]
     },
     "metadata": {},
     "output_type": "display_data"
    }
   ],
   "source": [
    "orders_hour = instacart_orders.groupby('order_hour_of_day')['user_id'].nunique()\n",
    "orders_hour.plot(kind='bar', title='Número de personas que hacen pedidos por hora del día', xlabel='Hora del día', ylabel='Número de personas')\n",
    "plt.show()"
   ]
  },
  {
   "cell_type": "markdown",
   "id": "11270eed",
   "metadata": {
    "id": "11270eed"
   },
   "source": [
    "Escribe aquí tus conclusiones\n",
    "\n",
    "###### Según el gráfico la hora del día en el que más personas hacen pedidos, son las 3 de la tarde y el rango de mayores ventas está entre las 10 y las 16 hrs."
   ]
  },
  {
   "cell_type": "markdown",
   "id": "documented-command",
   "metadata": {
    "id": "documented-command"
   },
   "source": [
    "### [A3] ¿Qué día de la semana compran víveres las personas?"
   ]
  },
  {
   "cell_type": "code",
   "execution_count": 38,
   "id": "chief-digit",
   "metadata": {
    "id": "chief-digit"
   },
   "outputs": [
    {
     "data": {
      "image/png": "[encoded data removed]",
      "text/plain": [
       "<Figure size 640x480 with 1 Axes>"
      ]
     },
     "metadata": {},
     "output_type": "display_data"
    }
   ],
   "source": [
    "# Verifica los valores únicos en order_dow\n",
    "compras_días = instacart_orders['order_dow'].value_counts().sort_index()\n",
    "compras_días.plot(kind='bar', title='Número de compras por día de la semana', xlabel='Día de la semana', ylabel='Número de compras', rot=45)\n",
    "plt.xticks(ticks=range(7), labels=['Domingo', 'Lunes', 'Martes', 'Miércoles', 'Jueves', 'Viernes', 'Sábado'])\n",
    "plt.show()"
   ]
  },
  {
   "cell_type": "markdown",
   "id": "dominant-lightning",
   "metadata": {
    "id": "dominant-lightning"
   },
   "source": [
    "Escribe aquí tus conclusiones\n",
    "\n",
    "###### Suponiendo que la semana empieza el día domingo = 0, entonces el domingo es el día que más se comprar viveres de parte de los usuarios, casi a la par del lunes."
   ]
  },
  {
   "cell_type": "markdown",
   "id": "cutting-concert",
   "metadata": {
    "id": "cutting-concert"
   },
   "source": [
    "### [A4] ¿Cuánto tiempo esperan las personas hasta hacer otro pedido? Comenta sobre los valores mínimos y máximos."
   ]
  },
  {
   "cell_type": "code",
   "execution_count": 39,
   "id": "c231f523",
   "metadata": {
    "id": "c231f523",
    "scrolled": true
   },
   "outputs": [
    {
     "data": {
      "image/png": "[encoded data removed]",
      "text/plain": [
       "<Figure size 640x480 with 1 Axes>"
      ]
     },
     "metadata": {},
     "output_type": "display_data"
    }
   ],
   "source": [
    "days = instacart_orders['days_since_prior_order']\n",
    "\n",
    "days.value_counts().sort_index().plot(kind='bar',\n",
    "             title='Tiempo que esperan los usuarios hasta hacer otro pedido',\n",
    "             ylabel='Usuarios',\n",
    "             xlabel='Días',\n",
    "             rot=90)\n",
    "plt.show()"
   ]
  },
  {
   "cell_type": "markdown",
   "id": "discrete-vertex",
   "metadata": {
    "id": "discrete-vertex"
   },
   "source": [
    "Escribe aquí tus conclusiones\n",
    "\n",
    "###### Las personas esperan de 0 a 30 días para volver a hacer otro pedido en plataforma."
   ]
  },
  {
   "cell_type": "markdown",
   "id": "tight-staff",
   "metadata": {
    "id": "tight-staff"
   },
   "source": [
    "# [B] Intermedio (deben completarse todos para aprobar)\n",
    "\n",
    "1. ¿Existe alguna diferencia entre las distribuciones `'order_hour_of_day'` de los miércoles y los sábados? Traza gráficos de barra de `'order_hour_of_day'` para ambos días en la misma figura y describe las diferencias que observes.\n",
    "2. Grafica la distribución para el número de órdenes que hacen los clientes (es decir, cuántos clientes hicieron solo 1 pedido, cuántos hicieron 2, cuántos 3, y así sucesivamente...).\n",
    "3. ¿Cuáles son los 20 principales productos que se piden con más frecuencia (muestra su identificación y nombre)?"
   ]
  },
  {
   "cell_type": "markdown",
   "id": "packed-classic",
   "metadata": {
    "id": "packed-classic"
   },
   "source": [
    "### [B1] Diferencia entre miércoles y sábados para  `'order_hour_of_day'`. Traza gráficos de barra para los dos días y describe las diferencias que veas."
   ]
  },
  {
   "cell_type": "code",
   "execution_count": 40,
   "id": "d89b8403",
   "metadata": {
    "id": "d89b8403"
   },
   "outputs": [],
   "source": [
    "order_saturday = instacart_orders[instacart_orders['order_dow'] == 6][['order_hour_of_day']]\n",
    "order_wednesday = instacart_orders[instacart_orders['order_dow'] == 3][['order_hour_of_day']]\n",
    "\n",
    "order_saturday['day'] = 'Sábado'\n",
    "order_wednesday['day'] = 'Miércoles'"
   ]
  },
  {
   "cell_type": "code",
   "execution_count": 41,
   "id": "94e54e8a",
   "metadata": {
    "id": "94e54e8a"
   },
   "outputs": [],
   "source": [
    "sat_wed = pd.concat([order_saturday, order_wednesday])"
   ]
  },
  {
   "cell_type": "code",
   "execution_count": 42,
   "id": "797c90a8",
   "metadata": {
    "id": "797c90a8"
   },
   "outputs": [],
   "source": [
    "sat_wed = sat_wed.groupby(['order_hour_of_day', 'day']).size().unstack(fill_value=0)"
   ]
  },
  {
   "cell_type": "code",
   "execution_count": 43,
   "id": "35bcea30",
   "metadata": {
    "id": "35bcea30"
   },
   "outputs": [
    {
     "data": {
      "image/png": "[encoded data removed]",
      "text/plain": [
       "<Figure size 640x480 with 1 Axes>"
      ]
     },
     "metadata": {},
     "output_type": "display_data"
    }
   ],
   "source": [
    "sat_wed.plot(kind='bar', title='Distribución de pedidos el sábado y miércoles',\n",
    "                   xlabel='Hora del día', ylabel='Número de pedidos', rot=0, legend=['Sábado', 'Miércoles'])\n",
    "plt.show()"
   ]
  },
  {
   "cell_type": "markdown",
   "id": "charitable-congo",
   "metadata": {
    "id": "charitable-congo"
   },
   "source": [
    "Escribe aquí tus conclusiones\n",
    "\n",
    "###### En los días sábados la mayor concentración de pedidos está a las 2 de la tarde, mientras que el miércoles a las 2 de la tarde el número de pedidos bajan y sube a su pico máximo a las 3 de la tarde, las horas que más se venden en sábado en el grafico del miércoles bajan y viceversa.\n"
   ]
  },
  {
   "cell_type": "markdown",
   "id": "e3891143",
   "metadata": {
    "id": "e3891143"
   },
   "source": [
    "### [B2] ¿Cuál es la distribución para el número de pedidos por cliente?"
   ]
  },
  {
   "cell_type": "code",
   "execution_count": 44,
   "id": "d8c26c23",
   "metadata": {
    "id": "d8c26c23"
   },
   "outputs": [],
   "source": [
    "#instacart_orders.head()\n",
    "order_client = instacart_orders.groupby('user_id')['order_number'].count()"
   ]
  },
  {
   "cell_type": "code",
   "execution_count": 45,
   "id": "00e69a66",
   "metadata": {
    "id": "00e69a66"
   },
   "outputs": [
    {
     "data": {
      "image/png": "[encoded data removed]",
      "text/plain": [
       "<Figure size 640x480 with 1 Axes>"
      ]
     },
     "metadata": {},
     "output_type": "display_data"
    }
   ],
   "source": [
    "order_client.value_counts().sort_index().plot(kind='bar',\n",
    "                                             title='Distribución del número de órdenes por cliente',\n",
    "                                             xlabel='Número de órdenes',\n",
    "                                             ylabel='Número de clientes')\n",
    "plt.show()"
   ]
  },
  {
   "cell_type": "markdown",
   "id": "d2eff7d5",
   "metadata": {
    "id": "d2eff7d5"
   },
   "source": [
    "Escribe aquí tus conclusiones\n",
    "\n",
    "###### El gráfico nos indica que más de 5mil clientes han hecho un pedido y el máximo de pedidos que han hecho los clientes ha sido de 28."
   ]
  },
  {
   "cell_type": "markdown",
   "id": "54a0319c",
   "metadata": {
    "id": "54a0319c"
   },
   "source": [
    "### [B3] ¿Cuáles son los 20 productos más populares (muestra su ID y nombre)?"
   ]
  },
  {
   "cell_type": "code",
   "execution_count": 46,
   "id": "exterior-arizona",
   "metadata": {
    "id": "exterior-arizona",
    "scrolled": true
   },
   "outputs": [],
   "source": [
    "top_20 = order_products['product_id'].value_counts().head(20)"
   ]
  },
  {
   "cell_type": "code",
   "execution_count": 47,
   "id": "universal-facial",
   "metadata": {
    "id": "universal-facial"
   },
   "outputs": [],
   "source": [
    "top_products = top_20.reset_index().merge(products[['product_id', 'product_name']],\n",
    "                                         left_on='index', right_on='product_id')"
   ]
  },
  {
   "cell_type": "code",
   "execution_count": 48,
   "id": "bbcdd20b",
   "metadata": {
    "id": "bbcdd20b"
   },
   "outputs": [
    {
     "data": {
      "text/html": [
       "<div>\n",
       "<style scoped>\n",
       "    .dataframe tbody tr th:only-of-type {\n",
       "        vertical-align: middle;\n",
       "    }\n",
       "\n",
       "    .dataframe tbody tr th {\n",
       "        vertical-align: top;\n",
       "    }\n",
       "\n",
       "    .dataframe thead th {\n",
       "        text-align: right;\n",
       "    }\n",
       "</style>\n",
       "<table border=\"1\" class=\"dataframe\">\n",
       "  <thead>\n",
       "    <tr style=\"text-align: right;\">\n",
       "      <th></th>\n",
       "      <th>orders</th>\n",
       "      <th>product_id</th>\n",
       "      <th>product_name</th>\n",
       "    </tr>\n",
       "  </thead>\n",
       "  <tbody>\n",
       "    <tr>\n",
       "      <th>0</th>\n",
       "      <td>66050</td>\n",
       "      <td>24852</td>\n",
       "      <td>BANANA</td>\n",
       "    </tr>\n",
       "    <tr>\n",
       "      <th>1</th>\n",
       "      <td>53297</td>\n",
       "      <td>13176</td>\n",
       "      <td>BAG OF ORGANIC BANANAS</td>\n",
       "    </tr>\n",
       "    <tr>\n",
       "      <th>2</th>\n",
       "      <td>37039</td>\n",
       "      <td>21137</td>\n",
       "      <td>ORGANIC STRAWBERRIES</td>\n",
       "    </tr>\n",
       "    <tr>\n",
       "      <th>3</th>\n",
       "      <td>33971</td>\n",
       "      <td>21903</td>\n",
       "      <td>ORGANIC BABY SPINACH</td>\n",
       "    </tr>\n",
       "    <tr>\n",
       "      <th>4</th>\n",
       "      <td>29773</td>\n",
       "      <td>47209</td>\n",
       "      <td>ORGANIC HASS AVOCADO</td>\n",
       "    </tr>\n",
       "    <tr>\n",
       "      <th>5</th>\n",
       "      <td>24689</td>\n",
       "      <td>47766</td>\n",
       "      <td>ORGANIC AVOCADO</td>\n",
       "    </tr>\n",
       "    <tr>\n",
       "      <th>6</th>\n",
       "      <td>21495</td>\n",
       "      <td>47626</td>\n",
       "      <td>LARGE LEMON</td>\n",
       "    </tr>\n",
       "    <tr>\n",
       "      <th>7</th>\n",
       "      <td>20018</td>\n",
       "      <td>16797</td>\n",
       "      <td>STRAWBERRIES</td>\n",
       "    </tr>\n",
       "    <tr>\n",
       "      <th>8</th>\n",
       "      <td>19690</td>\n",
       "      <td>26209</td>\n",
       "      <td>LIMES</td>\n",
       "    </tr>\n",
       "    <tr>\n",
       "      <th>9</th>\n",
       "      <td>19600</td>\n",
       "      <td>27845</td>\n",
       "      <td>ORGANIC WHOLE MILK</td>\n",
       "    </tr>\n",
       "    <tr>\n",
       "      <th>10</th>\n",
       "      <td>19197</td>\n",
       "      <td>27966</td>\n",
       "      <td>ORGANIC RASPBERRIES</td>\n",
       "    </tr>\n",
       "    <tr>\n",
       "      <th>11</th>\n",
       "      <td>15898</td>\n",
       "      <td>22935</td>\n",
       "      <td>ORGANIC YELLOW ONION</td>\n",
       "    </tr>\n",
       "    <tr>\n",
       "      <th>12</th>\n",
       "      <td>15292</td>\n",
       "      <td>24964</td>\n",
       "      <td>ORGANIC GARLIC</td>\n",
       "    </tr>\n",
       "    <tr>\n",
       "      <th>13</th>\n",
       "      <td>14584</td>\n",
       "      <td>45007</td>\n",
       "      <td>ORGANIC ZUCCHINI</td>\n",
       "    </tr>\n",
       "    <tr>\n",
       "      <th>14</th>\n",
       "      <td>13879</td>\n",
       "      <td>39275</td>\n",
       "      <td>ORGANIC BLUEBERRIES</td>\n",
       "    </tr>\n",
       "    <tr>\n",
       "      <th>15</th>\n",
       "      <td>13675</td>\n",
       "      <td>49683</td>\n",
       "      <td>CUCUMBER KIRBY</td>\n",
       "    </tr>\n",
       "    <tr>\n",
       "      <th>16</th>\n",
       "      <td>12544</td>\n",
       "      <td>28204</td>\n",
       "      <td>ORGANIC FUJI APPLE</td>\n",
       "    </tr>\n",
       "    <tr>\n",
       "      <th>17</th>\n",
       "      <td>12232</td>\n",
       "      <td>5876</td>\n",
       "      <td>ORGANIC LEMON</td>\n",
       "    </tr>\n",
       "    <tr>\n",
       "      <th>18</th>\n",
       "      <td>11993</td>\n",
       "      <td>8277</td>\n",
       "      <td>APPLE HONEYCRISP ORGANIC</td>\n",
       "    </tr>\n",
       "    <tr>\n",
       "      <th>19</th>\n",
       "      <td>11781</td>\n",
       "      <td>40706</td>\n",
       "      <td>ORGANIC GRAPE TOMATOES</td>\n",
       "    </tr>\n",
       "  </tbody>\n",
       "</table>\n",
       "</div>"
      ],
      "text/plain": [
       "    orders  product_id              product_name\n",
       "0    66050       24852                    BANANA\n",
       "1    53297       13176    BAG OF ORGANIC BANANAS\n",
       "2    37039       21137      ORGANIC STRAWBERRIES\n",
       "3    33971       21903      ORGANIC BABY SPINACH\n",
       "4    29773       47209      ORGANIC HASS AVOCADO\n",
       "5    24689       47766           ORGANIC AVOCADO\n",
       "6    21495       47626               LARGE LEMON\n",
       "7    20018       16797              STRAWBERRIES\n",
       "8    19690       26209                     LIMES\n",
       "9    19600       27845        ORGANIC WHOLE MILK\n",
       "10   19197       27966       ORGANIC RASPBERRIES\n",
       "11   15898       22935      ORGANIC YELLOW ONION\n",
       "12   15292       24964            ORGANIC GARLIC\n",
       "13   14584       45007          ORGANIC ZUCCHINI\n",
       "14   13879       39275       ORGANIC BLUEBERRIES\n",
       "15   13675       49683            CUCUMBER KIRBY\n",
       "16   12544       28204        ORGANIC FUJI APPLE\n",
       "17   12232        5876             ORGANIC LEMON\n",
       "18   11993        8277  APPLE HONEYCRISP ORGANIC\n",
       "19   11781       40706    ORGANIC GRAPE TOMATOES"
      ]
     },
     "execution_count": 48,
     "metadata": {},
     "output_type": "execute_result"
    }
   ],
   "source": [
    "top_products = top_products.rename(columns={'index':'product_id', 'product_id_x':'orders'})\n",
    "top_products = top_products.drop(columns=['product_id_y'])\n",
    "top_products = top_products[['orders', 'product_id', 'product_name']]\n",
    "top_products"
   ]
  },
  {
   "cell_type": "markdown",
   "id": "7df00f47",
   "metadata": {
    "id": "7df00f47"
   },
   "source": [
    "Escribe aquí tus conclusiones\n",
    "\n",
    "###### La tabla muestra que el producto más vendido dentro del top 20 es 'BANANA' y el menos vendido es 'ORGANIC GRAPE TOMATOES'."
   ]
  },
  {
   "cell_type": "markdown",
   "id": "gross-theme",
   "metadata": {
    "id": "gross-theme"
   },
   "source": [
    "# [C] Difícil (deben completarse todos para aprobar)\n",
    "\n",
    "1. ¿Cuántos artículos suelen comprar las personas en un pedido? ¿Cómo es la distribución?\n",
    "2. ¿Cuáles son los 20 principales artículos que vuelven a pedirse con mayor frecuencia (muestra sus nombres e IDs de los productos)?\n",
    "3. Para cada producto, ¿cuál es la tasa de repetición del pedido (número de repeticiones de pedido/total de pedidos?\n",
    "4. Para cada cliente, ¿qué proporción de los productos que pidió ya los había pedido? Calcula la tasa de repetición de pedido para cada usuario en lugar de para cada producto.\n",
    "5. ¿Cuáles son los 20 principales artículos que la gente pone primero en sus carritos (muestra las IDs de los productos, sus nombres, y el número de veces en que fueron el primer artículo en añadirse al carrito)?"
   ]
  },
  {
   "cell_type": "markdown",
   "id": "romantic-deposit",
   "metadata": {
    "id": "romantic-deposit"
   },
   "source": [
    "### [C1] ¿Cuántos artículos compran normalmente las personas en un pedido? ¿Cómo es la distribución?"
   ]
  },
  {
   "cell_type": "code",
   "execution_count": 49,
   "id": "virtual-punch",
   "metadata": {
    "id": "virtual-punch"
   },
   "outputs": [],
   "source": [
    "order_counts = order_products.groupby('order_id')['product_id'].count()"
   ]
  },
  {
   "cell_type": "code",
   "execution_count": 50,
   "id": "sensitive-breathing",
   "metadata": {
    "id": "sensitive-breathing"
   },
   "outputs": [
    {
     "data": {
      "text/plain": [
       "10.098983215049127"
      ]
     },
     "execution_count": 50,
     "metadata": {},
     "output_type": "execute_result"
    }
   ],
   "source": [
    "order_counts.mean()"
   ]
  },
  {
   "cell_type": "code",
   "execution_count": 51,
   "id": "completed-frank",
   "metadata": {
    "id": "completed-frank"
   },
   "outputs": [
    {
     "data": {
      "image/png": "[encoded data removed]",
      "text/plain": [
       "<Figure size 640x480 with 1 Axes>"
      ]
     },
     "metadata": {},
     "output_type": "display_data"
    }
   ],
   "source": [
    "order_counts.plot(kind='hist',\n",
    "                  title='Distribución del número de artículos por pedido',\n",
    "                  xlabel='Número de articulos',\n",
    "                  ylabel='Frecuencia')\n",
    "plt.show()"
   ]
  },
  {
   "cell_type": "markdown",
   "id": "designed-mortality",
   "metadata": {
    "id": "designed-mortality"
   },
   "source": [
    "Escribe aquí tus conclusiones\n",
    "\n",
    "###### Poco menos de 350000 personas compran de 1 a 10 pedidos, poco menos de 100000 peronas compran de 10 a 25 y cerca de 20000 personas comprar de 25 a casi 40 productos."
   ]
  },
  {
   "cell_type": "markdown",
   "id": "5e6b5537",
   "metadata": {
    "id": "5e6b5537"
   },
   "source": [
    "### [C2] ¿Cuáles son los 20 principales artículos que vuelven a pedirse con mayor frecuencia (muestra sus nombres e IDs de los productos)?"
   ]
  },
  {
   "cell_type": "code",
   "execution_count": 52,
   "id": "9374e55a",
   "metadata": {
    "id": "9374e55a"
   },
   "outputs": [],
   "source": [
    "reorder_20 = order_products[order_products['reordered'] == 1]['product_id'].value_counts().head(20)"
   ]
  },
  {
   "cell_type": "code",
   "execution_count": 53,
   "id": "possible-change",
   "metadata": {
    "id": "possible-change",
    "scrolled": true
   },
   "outputs": [],
   "source": [
    "reorder_20 = reorder_20.reset_index()\n",
    "reorder_20.columns=['product_id', 'order_count']"
   ]
  },
  {
   "cell_type": "code",
   "execution_count": 54,
   "id": "professional-surfing",
   "metadata": {
    "id": "professional-surfing",
    "scrolled": true
   },
   "outputs": [],
   "source": [
    "reorder_20 = reorder_20.merge(products[['product_id', 'product_name']], on='product_id')"
   ]
  },
  {
   "cell_type": "code",
   "execution_count": 55,
   "id": "48dd3658",
   "metadata": {
    "id": "48dd3658"
   },
   "outputs": [
    {
     "data": {
      "text/html": [
       "<div>\n",
       "<style scoped>\n",
       "    .dataframe tbody tr th:only-of-type {\n",
       "        vertical-align: middle;\n",
       "    }\n",
       "\n",
       "    .dataframe tbody tr th {\n",
       "        vertical-align: top;\n",
       "    }\n",
       "\n",
       "    .dataframe thead th {\n",
       "        text-align: right;\n",
       "    }\n",
       "</style>\n",
       "<table border=\"1\" class=\"dataframe\">\n",
       "  <thead>\n",
       "    <tr style=\"text-align: right;\">\n",
       "      <th></th>\n",
       "      <th>product_id</th>\n",
       "      <th>order_count</th>\n",
       "      <th>product_name</th>\n",
       "    </tr>\n",
       "  </thead>\n",
       "  <tbody>\n",
       "    <tr>\n",
       "      <th>0</th>\n",
       "      <td>24852</td>\n",
       "      <td>55763</td>\n",
       "      <td>BANANA</td>\n",
       "    </tr>\n",
       "    <tr>\n",
       "      <th>1</th>\n",
       "      <td>13176</td>\n",
       "      <td>44450</td>\n",
       "      <td>BAG OF ORGANIC BANANAS</td>\n",
       "    </tr>\n",
       "    <tr>\n",
       "      <th>2</th>\n",
       "      <td>21137</td>\n",
       "      <td>28639</td>\n",
       "      <td>ORGANIC STRAWBERRIES</td>\n",
       "    </tr>\n",
       "    <tr>\n",
       "      <th>3</th>\n",
       "      <td>21903</td>\n",
       "      <td>26233</td>\n",
       "      <td>ORGANIC BABY SPINACH</td>\n",
       "    </tr>\n",
       "    <tr>\n",
       "      <th>4</th>\n",
       "      <td>47209</td>\n",
       "      <td>23629</td>\n",
       "      <td>ORGANIC HASS AVOCADO</td>\n",
       "    </tr>\n",
       "    <tr>\n",
       "      <th>5</th>\n",
       "      <td>47766</td>\n",
       "      <td>18743</td>\n",
       "      <td>ORGANIC AVOCADO</td>\n",
       "    </tr>\n",
       "    <tr>\n",
       "      <th>6</th>\n",
       "      <td>27845</td>\n",
       "      <td>16251</td>\n",
       "      <td>ORGANIC WHOLE MILK</td>\n",
       "    </tr>\n",
       "    <tr>\n",
       "      <th>7</th>\n",
       "      <td>47626</td>\n",
       "      <td>15044</td>\n",
       "      <td>LARGE LEMON</td>\n",
       "    </tr>\n",
       "    <tr>\n",
       "      <th>8</th>\n",
       "      <td>27966</td>\n",
       "      <td>14748</td>\n",
       "      <td>ORGANIC RASPBERRIES</td>\n",
       "    </tr>\n",
       "    <tr>\n",
       "      <th>9</th>\n",
       "      <td>16797</td>\n",
       "      <td>13945</td>\n",
       "      <td>STRAWBERRIES</td>\n",
       "    </tr>\n",
       "    <tr>\n",
       "      <th>10</th>\n",
       "      <td>26209</td>\n",
       "      <td>13327</td>\n",
       "      <td>LIMES</td>\n",
       "    </tr>\n",
       "    <tr>\n",
       "      <th>11</th>\n",
       "      <td>22935</td>\n",
       "      <td>11145</td>\n",
       "      <td>ORGANIC YELLOW ONION</td>\n",
       "    </tr>\n",
       "    <tr>\n",
       "      <th>12</th>\n",
       "      <td>24964</td>\n",
       "      <td>10411</td>\n",
       "      <td>ORGANIC GARLIC</td>\n",
       "    </tr>\n",
       "    <tr>\n",
       "      <th>13</th>\n",
       "      <td>45007</td>\n",
       "      <td>10076</td>\n",
       "      <td>ORGANIC ZUCCHINI</td>\n",
       "    </tr>\n",
       "    <tr>\n",
       "      <th>14</th>\n",
       "      <td>49683</td>\n",
       "      <td>9538</td>\n",
       "      <td>CUCUMBER KIRBY</td>\n",
       "    </tr>\n",
       "    <tr>\n",
       "      <th>15</th>\n",
       "      <td>28204</td>\n",
       "      <td>8989</td>\n",
       "      <td>ORGANIC FUJI APPLE</td>\n",
       "    </tr>\n",
       "    <tr>\n",
       "      <th>16</th>\n",
       "      <td>8277</td>\n",
       "      <td>8836</td>\n",
       "      <td>APPLE HONEYCRISP ORGANIC</td>\n",
       "    </tr>\n",
       "    <tr>\n",
       "      <th>17</th>\n",
       "      <td>39275</td>\n",
       "      <td>8799</td>\n",
       "      <td>ORGANIC BLUEBERRIES</td>\n",
       "    </tr>\n",
       "    <tr>\n",
       "      <th>18</th>\n",
       "      <td>5876</td>\n",
       "      <td>8412</td>\n",
       "      <td>ORGANIC LEMON</td>\n",
       "    </tr>\n",
       "    <tr>\n",
       "      <th>19</th>\n",
       "      <td>49235</td>\n",
       "      <td>8389</td>\n",
       "      <td>ORGANIC HALF &amp; HALF</td>\n",
       "    </tr>\n",
       "  </tbody>\n",
       "</table>\n",
       "</div>"
      ],
      "text/plain": [
       "    product_id  order_count              product_name\n",
       "0        24852        55763                    BANANA\n",
       "1        13176        44450    BAG OF ORGANIC BANANAS\n",
       "2        21137        28639      ORGANIC STRAWBERRIES\n",
       "3        21903        26233      ORGANIC BABY SPINACH\n",
       "4        47209        23629      ORGANIC HASS AVOCADO\n",
       "5        47766        18743           ORGANIC AVOCADO\n",
       "6        27845        16251        ORGANIC WHOLE MILK\n",
       "7        47626        15044               LARGE LEMON\n",
       "8        27966        14748       ORGANIC RASPBERRIES\n",
       "9        16797        13945              STRAWBERRIES\n",
       "10       26209        13327                     LIMES\n",
       "11       22935        11145      ORGANIC YELLOW ONION\n",
       "12       24964        10411            ORGANIC GARLIC\n",
       "13       45007        10076          ORGANIC ZUCCHINI\n",
       "14       49683         9538            CUCUMBER KIRBY\n",
       "15       28204         8989        ORGANIC FUJI APPLE\n",
       "16        8277         8836  APPLE HONEYCRISP ORGANIC\n",
       "17       39275         8799       ORGANIC BLUEBERRIES\n",
       "18        5876         8412             ORGANIC LEMON\n",
       "19       49235         8389       ORGANIC HALF & HALF"
      ]
     },
     "execution_count": 55,
     "metadata": {},
     "output_type": "execute_result"
    }
   ],
   "source": [
    "reorder_20"
   ]
  },
  {
   "cell_type": "markdown",
   "id": "80e70c74",
   "metadata": {
    "id": "80e70c74"
   },
   "source": [
    "Escribe aquí tus conclusiones\n",
    "\n",
    "######  Banana tiene el primer puesto de reordenes con 55763 reordenes y la última fue Organic half & half con 8389 reordenes."
   ]
  },
  {
   "cell_type": "markdown",
   "id": "9d312b14",
   "metadata": {
    "id": "9d312b14"
   },
   "source": [
    "### [C3] Para cada producto, ¿cuál es la proporción de las veces que se pide y que se vuelve a pedir?"
   ]
  },
  {
   "cell_type": "code",
   "execution_count": 56,
   "id": "8ae9f4b1",
   "metadata": {
    "id": "8ae9f4b1"
   },
   "outputs": [],
   "source": [
    "total_orders = order_products.groupby('product_id')['order_id'].count()\n",
    "\n",
    "reorders = order_products[order_products['reordered'] == 1].groupby('product_id')['order_id'].count()"
   ]
  },
  {
   "cell_type": "code",
   "execution_count": 57,
   "id": "103e7fe1",
   "metadata": {
    "id": "103e7fe1"
   },
   "outputs": [],
   "source": [
    "reorder_rate = (reorders / total_orders).fillna(0)\n",
    "\n",
    "reorder_rate = reorder_rate.reset_index()\n",
    "\n",
    "reorder_rate = reorder_rate.rename(columns={'order_id': 'reorder_rate'})"
   ]
  },
  {
   "cell_type": "code",
   "execution_count": 58,
   "id": "social-individual",
   "metadata": {
    "id": "social-individual"
   },
   "outputs": [
    {
     "data": {
      "text/html": [
       "<div>\n",
       "<style scoped>\n",
       "    .dataframe tbody tr th:only-of-type {\n",
       "        vertical-align: middle;\n",
       "    }\n",
       "\n",
       "    .dataframe tbody tr th {\n",
       "        vertical-align: top;\n",
       "    }\n",
       "\n",
       "    .dataframe thead th {\n",
       "        text-align: right;\n",
       "    }\n",
       "</style>\n",
       "<table border=\"1\" class=\"dataframe\">\n",
       "  <thead>\n",
       "    <tr style=\"text-align: right;\">\n",
       "      <th></th>\n",
       "      <th>product_id</th>\n",
       "      <th>reorder_rate</th>\n",
       "    </tr>\n",
       "  </thead>\n",
       "  <tbody>\n",
       "    <tr>\n",
       "      <th>0</th>\n",
       "      <td>1</td>\n",
       "      <td>0.564286</td>\n",
       "    </tr>\n",
       "    <tr>\n",
       "      <th>1</th>\n",
       "      <td>2</td>\n",
       "      <td>0.000000</td>\n",
       "    </tr>\n",
       "    <tr>\n",
       "      <th>2</th>\n",
       "      <td>3</td>\n",
       "      <td>0.738095</td>\n",
       "    </tr>\n",
       "    <tr>\n",
       "      <th>3</th>\n",
       "      <td>4</td>\n",
       "      <td>0.510204</td>\n",
       "    </tr>\n",
       "    <tr>\n",
       "      <th>4</th>\n",
       "      <td>7</td>\n",
       "      <td>0.500000</td>\n",
       "    </tr>\n",
       "    <tr>\n",
       "      <th>...</th>\n",
       "      <td>...</td>\n",
       "      <td>...</td>\n",
       "    </tr>\n",
       "    <tr>\n",
       "      <th>45568</th>\n",
       "      <td>49690</td>\n",
       "      <td>0.800000</td>\n",
       "    </tr>\n",
       "    <tr>\n",
       "      <th>45569</th>\n",
       "      <td>49691</td>\n",
       "      <td>0.430556</td>\n",
       "    </tr>\n",
       "    <tr>\n",
       "      <th>45570</th>\n",
       "      <td>49692</td>\n",
       "      <td>0.416667</td>\n",
       "    </tr>\n",
       "    <tr>\n",
       "      <th>45571</th>\n",
       "      <td>49693</td>\n",
       "      <td>0.440000</td>\n",
       "    </tr>\n",
       "    <tr>\n",
       "      <th>45572</th>\n",
       "      <td>49694</td>\n",
       "      <td>0.333333</td>\n",
       "    </tr>\n",
       "  </tbody>\n",
       "</table>\n",
       "<p>45573 rows × 2 columns</p>\n",
       "</div>"
      ],
      "text/plain": [
       "       product_id  reorder_rate\n",
       "0               1      0.564286\n",
       "1               2      0.000000\n",
       "2               3      0.738095\n",
       "3               4      0.510204\n",
       "4               7      0.500000\n",
       "...           ...           ...\n",
       "45568       49690      0.800000\n",
       "45569       49691      0.430556\n",
       "45570       49692      0.416667\n",
       "45571       49693      0.440000\n",
       "45572       49694      0.333333\n",
       "\n",
       "[45573 rows x 2 columns]"
      ]
     },
     "execution_count": 58,
     "metadata": {},
     "output_type": "execute_result"
    }
   ],
   "source": [
    "reorder_rate"
   ]
  },
  {
   "cell_type": "markdown",
   "id": "I10dEIAyldcO",
   "metadata": {
    "id": "I10dEIAyldcO"
   },
   "source": [
    "Escribe aquí tus conclusiones\n",
    "\n",
    "###### Un producto con alta proporción de reordenes indica que es muy valorado por los clientes y productos con baja proporción de reordenes pueden sugerir insatisfacción."
   ]
  },
  {
   "cell_type": "markdown",
   "id": "subject-boxing",
   "metadata": {
    "id": "subject-boxing"
   },
   "source": [
    "### [C4] Para cada cliente, ¿qué proporción de sus productos ya los había pedido?"
   ]
  },
  {
   "cell_type": "code",
   "execution_count": 59,
   "id": "medical-couple",
   "metadata": {
    "id": "medical-couple",
    "scrolled": true
   },
   "outputs": [],
   "source": [
    "reordered_user = order_products.merge(instacart_orders[['order_id', 'user_id']], on='order_id')\n",
    "\n",
    "user_orders = reordered_user.groupby('user_id')['order_id'].count()\n",
    "\n",
    "reorder_user = reordered_user[reordered_user['reordered'] == 1].groupby('user_id')['order_id'].count()\n",
    "\n",
    "proportion = (reorder_user / user_orders).fillna(0).reset_index()\n",
    "\n",
    "proportion = proportion.rename(columns={'order_id': 'reorder_proportion'})"
   ]
  },
  {
   "cell_type": "code",
   "execution_count": 60,
   "id": "8892e4b4",
   "metadata": {
    "id": "8892e4b4"
   },
   "outputs": [
    {
     "data": {
      "text/html": [
       "<div>\n",
       "<style scoped>\n",
       "    .dataframe tbody tr th:only-of-type {\n",
       "        vertical-align: middle;\n",
       "    }\n",
       "\n",
       "    .dataframe tbody tr th {\n",
       "        vertical-align: top;\n",
       "    }\n",
       "\n",
       "    .dataframe thead th {\n",
       "        text-align: right;\n",
       "    }\n",
       "</style>\n",
       "<table border=\"1\" class=\"dataframe\">\n",
       "  <thead>\n",
       "    <tr style=\"text-align: right;\">\n",
       "      <th></th>\n",
       "      <th>user_id</th>\n",
       "      <th>reorder_proportion</th>\n",
       "    </tr>\n",
       "  </thead>\n",
       "  <tbody>\n",
       "    <tr>\n",
       "      <th>0</th>\n",
       "      <td>2</td>\n",
       "      <td>0.038462</td>\n",
       "    </tr>\n",
       "    <tr>\n",
       "      <th>1</th>\n",
       "      <td>4</td>\n",
       "      <td>0.000000</td>\n",
       "    </tr>\n",
       "    <tr>\n",
       "      <th>2</th>\n",
       "      <td>5</td>\n",
       "      <td>0.666667</td>\n",
       "    </tr>\n",
       "    <tr>\n",
       "      <th>3</th>\n",
       "      <td>6</td>\n",
       "      <td>0.000000</td>\n",
       "    </tr>\n",
       "    <tr>\n",
       "      <th>4</th>\n",
       "      <td>7</td>\n",
       "      <td>0.928571</td>\n",
       "    </tr>\n",
       "    <tr>\n",
       "      <th>...</th>\n",
       "      <td>...</td>\n",
       "      <td>...</td>\n",
       "    </tr>\n",
       "    <tr>\n",
       "      <th>149621</th>\n",
       "      <td>206203</td>\n",
       "      <td>0.222222</td>\n",
       "    </tr>\n",
       "    <tr>\n",
       "      <th>149622</th>\n",
       "      <td>206206</td>\n",
       "      <td>0.714286</td>\n",
       "    </tr>\n",
       "    <tr>\n",
       "      <th>149623</th>\n",
       "      <td>206207</td>\n",
       "      <td>0.891304</td>\n",
       "    </tr>\n",
       "    <tr>\n",
       "      <th>149624</th>\n",
       "      <td>206208</td>\n",
       "      <td>0.696000</td>\n",
       "    </tr>\n",
       "    <tr>\n",
       "      <th>149625</th>\n",
       "      <td>206209</td>\n",
       "      <td>0.320000</td>\n",
       "    </tr>\n",
       "  </tbody>\n",
       "</table>\n",
       "<p>149626 rows × 2 columns</p>\n",
       "</div>"
      ],
      "text/plain": [
       "        user_id  reorder_proportion\n",
       "0             2            0.038462\n",
       "1             4            0.000000\n",
       "2             5            0.666667\n",
       "3             6            0.000000\n",
       "4             7            0.928571\n",
       "...         ...                 ...\n",
       "149621   206203            0.222222\n",
       "149622   206206            0.714286\n",
       "149623   206207            0.891304\n",
       "149624   206208            0.696000\n",
       "149625   206209            0.320000\n",
       "\n",
       "[149626 rows x 2 columns]"
      ]
     },
     "execution_count": 60,
     "metadata": {},
     "output_type": "execute_result"
    }
   ],
   "source": [
    "proportion"
   ]
  },
  {
   "cell_type": "markdown",
   "id": "BgJSvXDsleXz",
   "metadata": {
    "id": "BgJSvXDsleXz"
   },
   "source": [
    "Escribe aquí tus conclusiones\n",
    "\n",
    "###### Una alta proporción indica que el cliente tiende a volver a comprar productos que le gustan, lo que sugiere satisfacción."
   ]
  },
  {
   "cell_type": "markdown",
   "id": "92d35137",
   "metadata": {
    "id": "92d35137"
   },
   "source": [
    "### [C5] ¿Cuáles son los 20 principales artículos que las personas ponen primero en sus carritos?"
   ]
  },
  {
   "cell_type": "code",
   "execution_count": 61,
   "id": "0ae57274",
   "metadata": {
    "id": "0ae57274",
    "scrolled": true
   },
   "outputs": [],
   "source": [
    "products_1 = order_products[order_products['add_to_cart_order'] == 1]['product_id'].value_counts().reset_index()\n",
    "products_1 = products_1.rename(columns={'index': 'product_id', 'product_id': 'firts_item_count'})"
   ]
  },
  {
   "cell_type": "code",
   "execution_count": 62,
   "id": "forty-netherlands",
   "metadata": {
    "id": "forty-netherlands",
    "scrolled": true
   },
   "outputs": [],
   "source": [
    "products_20 = products_1.sort_values(by='firts_item_count', ascending=False).head(20)\n",
    "products_name_20 = products_20.merge(products[['product_id', 'product_name']], on='product_id')"
   ]
  },
  {
   "cell_type": "code",
   "execution_count": 63,
   "id": "08e41ec2",
   "metadata": {
    "id": "08e41ec2"
   },
   "outputs": [
    {
     "data": {
      "text/html": [
       "<div>\n",
       "<style scoped>\n",
       "    .dataframe tbody tr th:only-of-type {\n",
       "        vertical-align: middle;\n",
       "    }\n",
       "\n",
       "    .dataframe tbody tr th {\n",
       "        vertical-align: top;\n",
       "    }\n",
       "\n",
       "    .dataframe thead th {\n",
       "        text-align: right;\n",
       "    }\n",
       "</style>\n",
       "<table border=\"1\" class=\"dataframe\">\n",
       "  <thead>\n",
       "    <tr style=\"text-align: right;\">\n",
       "      <th></th>\n",
       "      <th>product_id</th>\n",
       "      <th>firts_item_count</th>\n",
       "      <th>product_name</th>\n",
       "    </tr>\n",
       "  </thead>\n",
       "  <tbody>\n",
       "    <tr>\n",
       "      <th>0</th>\n",
       "      <td>24852</td>\n",
       "      <td>15562</td>\n",
       "      <td>BANANA</td>\n",
       "    </tr>\n",
       "    <tr>\n",
       "      <th>1</th>\n",
       "      <td>13176</td>\n",
       "      <td>11026</td>\n",
       "      <td>BAG OF ORGANIC BANANAS</td>\n",
       "    </tr>\n",
       "    <tr>\n",
       "      <th>2</th>\n",
       "      <td>27845</td>\n",
       "      <td>4363</td>\n",
       "      <td>ORGANIC WHOLE MILK</td>\n",
       "    </tr>\n",
       "    <tr>\n",
       "      <th>3</th>\n",
       "      <td>21137</td>\n",
       "      <td>3946</td>\n",
       "      <td>ORGANIC STRAWBERRIES</td>\n",
       "    </tr>\n",
       "    <tr>\n",
       "      <th>4</th>\n",
       "      <td>47209</td>\n",
       "      <td>3390</td>\n",
       "      <td>ORGANIC HASS AVOCADO</td>\n",
       "    </tr>\n",
       "    <tr>\n",
       "      <th>5</th>\n",
       "      <td>21903</td>\n",
       "      <td>3336</td>\n",
       "      <td>ORGANIC BABY SPINACH</td>\n",
       "    </tr>\n",
       "    <tr>\n",
       "      <th>6</th>\n",
       "      <td>47766</td>\n",
       "      <td>3044</td>\n",
       "      <td>ORGANIC AVOCADO</td>\n",
       "    </tr>\n",
       "    <tr>\n",
       "      <th>7</th>\n",
       "      <td>19660</td>\n",
       "      <td>2336</td>\n",
       "      <td>SPRING WATER</td>\n",
       "    </tr>\n",
       "    <tr>\n",
       "      <th>8</th>\n",
       "      <td>16797</td>\n",
       "      <td>2308</td>\n",
       "      <td>STRAWBERRIES</td>\n",
       "    </tr>\n",
       "    <tr>\n",
       "      <th>9</th>\n",
       "      <td>27966</td>\n",
       "      <td>2024</td>\n",
       "      <td>ORGANIC RASPBERRIES</td>\n",
       "    </tr>\n",
       "    <tr>\n",
       "      <th>10</th>\n",
       "      <td>44632</td>\n",
       "      <td>1914</td>\n",
       "      <td>SPARKLING WATER GRAPEFRUIT</td>\n",
       "    </tr>\n",
       "    <tr>\n",
       "      <th>11</th>\n",
       "      <td>49235</td>\n",
       "      <td>1797</td>\n",
       "      <td>ORGANIC HALF &amp; HALF</td>\n",
       "    </tr>\n",
       "    <tr>\n",
       "      <th>12</th>\n",
       "      <td>47626</td>\n",
       "      <td>1737</td>\n",
       "      <td>LARGE LEMON</td>\n",
       "    </tr>\n",
       "    <tr>\n",
       "      <th>13</th>\n",
       "      <td>196</td>\n",
       "      <td>1733</td>\n",
       "      <td>SODA</td>\n",
       "    </tr>\n",
       "    <tr>\n",
       "      <th>14</th>\n",
       "      <td>38689</td>\n",
       "      <td>1397</td>\n",
       "      <td>ORGANIC REDUCED FAT MILK</td>\n",
       "    </tr>\n",
       "    <tr>\n",
       "      <th>15</th>\n",
       "      <td>26209</td>\n",
       "      <td>1370</td>\n",
       "      <td>LIMES</td>\n",
       "    </tr>\n",
       "    <tr>\n",
       "      <th>16</th>\n",
       "      <td>12341</td>\n",
       "      <td>1340</td>\n",
       "      <td>HASS AVOCADOS</td>\n",
       "    </tr>\n",
       "    <tr>\n",
       "      <th>17</th>\n",
       "      <td>5785</td>\n",
       "      <td>1310</td>\n",
       "      <td>ORGANIC REDUCED FAT 2% MILK</td>\n",
       "    </tr>\n",
       "    <tr>\n",
       "      <th>18</th>\n",
       "      <td>27086</td>\n",
       "      <td>1309</td>\n",
       "      <td>HALF &amp; HALF</td>\n",
       "    </tr>\n",
       "    <tr>\n",
       "      <th>19</th>\n",
       "      <td>22935</td>\n",
       "      <td>1246</td>\n",
       "      <td>ORGANIC YELLOW ONION</td>\n",
       "    </tr>\n",
       "  </tbody>\n",
       "</table>\n",
       "</div>"
      ],
      "text/plain": [
       "    product_id  firts_item_count                 product_name\n",
       "0        24852             15562                       BANANA\n",
       "1        13176             11026       BAG OF ORGANIC BANANAS\n",
       "2        27845              4363           ORGANIC WHOLE MILK\n",
       "3        21137              3946         ORGANIC STRAWBERRIES\n",
       "4        47209              3390         ORGANIC HASS AVOCADO\n",
       "5        21903              3336         ORGANIC BABY SPINACH\n",
       "6        47766              3044              ORGANIC AVOCADO\n",
       "7        19660              2336                 SPRING WATER\n",
       "8        16797              2308                 STRAWBERRIES\n",
       "9        27966              2024          ORGANIC RASPBERRIES\n",
       "10       44632              1914   SPARKLING WATER GRAPEFRUIT\n",
       "11       49235              1797          ORGANIC HALF & HALF\n",
       "12       47626              1737                  LARGE LEMON\n",
       "13         196              1733                         SODA\n",
       "14       38689              1397     ORGANIC REDUCED FAT MILK\n",
       "15       26209              1370                        LIMES\n",
       "16       12341              1340                HASS AVOCADOS\n",
       "17        5785              1310  ORGANIC REDUCED FAT 2% MILK\n",
       "18       27086              1309                  HALF & HALF\n",
       "19       22935              1246         ORGANIC YELLOW ONION"
      ]
     },
     "execution_count": 63,
     "metadata": {},
     "output_type": "execute_result"
    }
   ],
   "source": [
    "products_name_20"
   ]
  },
  {
   "cell_type": "markdown",
   "id": "28ce9872",
   "metadata": {
    "id": "28ce9872"
   },
   "source": [
    "Escribe aquí tus conclusiones\n",
    "\n",
    "###### Banana se puso primero 15562 veces y Organic yellow onion se puso primero 1246 veces."
   ]
  },
  {
   "cell_type": "markdown",
   "id": "uITbFCEoDosC",
   "metadata": {
    "id": "uITbFCEoDosC"
   },
   "source": [
    "### Conclusion general del proyecto:"
   ]
  },
  {
   "cell_type": "markdown",
   "id": "61bebce2",
   "metadata": {
    "id": "Nk-4GS7mDwqY"
   },
   "source": [
    "###### El análisis de los datos de compras de Instacart ha permitido obtener información valiosa sobre el comportamiento de los clientes y las tendencias en la adquisición de productos. A través de la exploración de métricas clave, como la cantidad promedio de artículos por pedido, la frecuencia de artículos reordenados y las proporciones de productos repetidos por cliente, se ha logrado identificar patrones que pueden guiar estrategias comerciales y de marketing.\n",
    "\n",
    "###### Es muy interesante como lo que parencen ser unas simples tablas con números continen tanta información y nos pueden ayudar a deducir tantas cosas con el correcto manejo y los conocimientos necesarios, definitivamente este proyecto no fue nada fácil, pero espero que me sirva de mucho para futuros proyectos y para mi vida profesional. \n",
    ":D"
   ]
  },
  {
   "cell_type": "markdown",
   "id": "d2dd46b1",
   "metadata": {},
   "source": []
  }
 ],
 "metadata": {
  "ExecuteTimeLog": [
   {
    "duration": 2207,
    "start_time": "2024-09-18T00:25:22.590Z"
   },
   {
    "duration": 223,
    "start_time": "2024-09-18T00:27:14.168Z"
   },
   {
    "duration": 308,
    "start_time": "2024-09-18T00:27:17.024Z"
   },
   {
    "duration": 8,
    "start_time": "2024-09-18T00:27:17.594Z"
   },
   {
    "duration": 121,
    "start_time": "2024-09-18T00:27:40.340Z"
   },
   {
    "duration": 7,
    "start_time": "2024-09-18T00:27:40.783Z"
   },
   {
    "duration": 11,
    "start_time": "2024-09-18T00:28:00.304Z"
   },
   {
    "duration": 248,
    "start_time": "2024-09-18T00:28:12.088Z"
   },
   {
    "duration": 21,
    "start_time": "2024-09-18T00:28:12.613Z"
   },
   {
    "duration": 118,
    "start_time": "2024-09-18T00:28:24.260Z"
   },
   {
    "duration": 10,
    "start_time": "2024-09-18T00:28:24.486Z"
   },
   {
    "duration": 8,
    "start_time": "2024-09-18T00:28:35.902Z"
   },
   {
    "duration": 10,
    "start_time": "2024-09-18T00:28:49.521Z"
   },
   {
    "duration": 6,
    "start_time": "2024-09-18T00:41:33.105Z"
   },
   {
    "duration": 4,
    "start_time": "2024-09-18T00:41:37.865Z"
   },
   {
    "duration": 112,
    "start_time": "2024-09-18T00:41:38.531Z"
   },
   {
    "duration": 9,
    "start_time": "2024-09-18T00:41:38.954Z"
   },
   {
    "duration": 166,
    "start_time": "2024-09-18T00:46:56.283Z"
   },
   {
    "duration": 10,
    "start_time": "2024-09-18T00:47:09.793Z"
   },
   {
    "duration": 146,
    "start_time": "2024-09-18T00:47:22.597Z"
   },
   {
    "duration": 10,
    "start_time": "2024-09-18T00:47:22.846Z"
   },
   {
    "duration": 11,
    "start_time": "2024-09-18T00:47:23.441Z"
   },
   {
    "duration": 215,
    "start_time": "2024-09-18T00:48:37.180Z"
   },
   {
    "duration": 11,
    "start_time": "2024-09-18T00:48:37.485Z"
   },
   {
    "duration": 10,
    "start_time": "2024-09-18T00:48:38.058Z"
   },
   {
    "duration": 8,
    "start_time": "2024-09-18T00:48:49.253Z"
   },
   {
    "duration": 147,
    "start_time": "2024-09-18T00:49:00.554Z"
   },
   {
    "duration": 9,
    "start_time": "2024-09-18T00:49:00.782Z"
   },
   {
    "duration": 10,
    "start_time": "2024-09-18T00:49:00.963Z"
   },
   {
    "duration": 8,
    "start_time": "2024-09-18T00:49:01.429Z"
   },
   {
    "duration": 910,
    "start_time": "2024-09-18T00:50:38.637Z"
   },
   {
    "duration": 11,
    "start_time": "2024-09-18T00:50:39.549Z"
   },
   {
    "duration": 10,
    "start_time": "2024-09-18T00:50:39.761Z"
   },
   {
    "duration": 8,
    "start_time": "2024-09-18T00:50:40.516Z"
   },
   {
    "duration": 9,
    "start_time": "2024-09-18T00:50:51.712Z"
   },
   {
    "duration": 21,
    "start_time": "2024-09-18T00:51:09.523Z"
   },
   {
    "duration": 6,
    "start_time": "2024-09-18T00:51:25.604Z"
   },
   {
    "duration": 5,
    "start_time": "2024-09-18T00:51:39.097Z"
   },
   {
    "duration": 19,
    "start_time": "2024-09-18T00:52:31.301Z"
   },
   {
    "duration": 3,
    "start_time": "2024-09-18T00:52:51.696Z"
   },
   {
    "duration": 9,
    "start_time": "2024-09-18T00:53:05.433Z"
   },
   {
    "duration": 3,
    "start_time": "2024-09-18T00:53:19.118Z"
   },
   {
    "duration": 434,
    "start_time": "2024-09-18T00:53:27.133Z"
   },
   {
    "duration": 4,
    "start_time": "2024-09-18T00:53:41.887Z"
   },
   {
    "duration": 204,
    "start_time": "2024-09-18T00:53:44.831Z"
   },
   {
    "duration": 4,
    "start_time": "2024-09-18T00:53:59.045Z"
   },
   {
    "duration": 11,
    "start_time": "2024-09-18T00:54:04.619Z"
   },
   {
    "duration": 4,
    "start_time": "2024-09-18T00:54:17.138Z"
   },
   {
    "duration": 10,
    "start_time": "2024-09-18T00:54:44.430Z"
   },
   {
    "duration": 7,
    "start_time": "2024-09-18T00:54:56.616Z"
   },
   {
    "duration": 2,
    "start_time": "2024-09-18T01:00:02.179Z"
   },
   {
    "duration": 837,
    "start_time": "2024-09-18T01:00:02.665Z"
   },
   {
    "duration": 9,
    "start_time": "2024-09-18T01:00:03.901Z"
   },
   {
    "duration": 11,
    "start_time": "2024-09-18T01:00:07.166Z"
   },
   {
    "duration": 9,
    "start_time": "2024-09-18T01:00:14.095Z"
   },
   {
    "duration": 8,
    "start_time": "2024-09-18T01:00:15.386Z"
   },
   {
    "duration": 8,
    "start_time": "2024-09-18T01:00:16.438Z"
   },
   {
    "duration": 15,
    "start_time": "2024-09-18T01:14:19.445Z"
   },
   {
    "duration": 10,
    "start_time": "2024-09-18T01:14:39.925Z"
   },
   {
    "duration": 11,
    "start_time": "2024-09-18T01:24:10.834Z"
   },
   {
    "duration": 73,
    "start_time": "2024-09-18T01:24:15.646Z"
   },
   {
    "duration": 77,
    "start_time": "2024-09-18T01:24:26.009Z"
   },
   {
    "duration": 72,
    "start_time": "2024-09-18T01:24:30.906Z"
   },
   {
    "duration": 84,
    "start_time": "2024-09-18T01:25:22.886Z"
   },
   {
    "duration": 80,
    "start_time": "2024-09-18T01:25:38.992Z"
   },
   {
    "duration": 74,
    "start_time": "2024-09-18T01:25:49.299Z"
   },
   {
    "duration": 103,
    "start_time": "2024-09-18T01:27:13.067Z"
   },
   {
    "duration": 75,
    "start_time": "2024-09-18T01:33:29.897Z"
   },
   {
    "duration": 79,
    "start_time": "2024-09-18T01:33:59.742Z"
   },
   {
    "duration": 75,
    "start_time": "2024-09-18T01:34:16.742Z"
   },
   {
    "duration": 78,
    "start_time": "2024-09-18T01:34:25.304Z"
   },
   {
    "duration": 117,
    "start_time": "2024-09-18T01:34:33.325Z"
   },
   {
    "duration": 4,
    "start_time": "2024-09-18T01:34:36.994Z"
   },
   {
    "duration": 76,
    "start_time": "2024-09-18T01:34:40.155Z"
   },
   {
    "duration": 174,
    "start_time": "2024-09-18T22:08:56.479Z"
   },
   {
    "duration": 2480,
    "start_time": "2024-09-18T22:09:07.942Z"
   },
   {
    "duration": 1049,
    "start_time": "2024-09-18T22:09:10.425Z"
   },
   {
    "duration": 18,
    "start_time": "2024-09-18T22:09:11.476Z"
   },
   {
    "duration": 13,
    "start_time": "2024-09-18T22:09:11.497Z"
   },
   {
    "duration": 30,
    "start_time": "2024-09-18T22:09:11.514Z"
   },
   {
    "duration": 9,
    "start_time": "2024-09-18T22:09:11.546Z"
   },
   {
    "duration": 8,
    "start_time": "2024-09-18T22:09:11.557Z"
   },
   {
    "duration": 137,
    "start_time": "2024-09-18T22:09:11.567Z"
   },
   {
    "duration": 3,
    "start_time": "2024-09-18T22:09:11.706Z"
   },
   {
    "duration": 2,
    "start_time": "2024-09-18T22:09:11.713Z"
   },
   {
    "duration": 2,
    "start_time": "2024-09-18T22:09:11.717Z"
   },
   {
    "duration": 22,
    "start_time": "2024-09-18T22:09:11.721Z"
   },
   {
    "duration": 3,
    "start_time": "2024-09-18T22:09:11.745Z"
   },
   {
    "duration": 3,
    "start_time": "2024-09-18T22:09:11.751Z"
   },
   {
    "duration": 2,
    "start_time": "2024-09-18T22:09:11.756Z"
   },
   {
    "duration": 3,
    "start_time": "2024-09-18T22:09:11.761Z"
   },
   {
    "duration": 3,
    "start_time": "2024-09-18T22:09:11.765Z"
   },
   {
    "duration": 2,
    "start_time": "2024-09-18T22:09:11.771Z"
   },
   {
    "duration": 2,
    "start_time": "2024-09-18T22:09:11.775Z"
   },
   {
    "duration": 2,
    "start_time": "2024-09-18T22:09:11.779Z"
   },
   {
    "duration": 2,
    "start_time": "2024-09-18T22:09:11.783Z"
   },
   {
    "duration": 2,
    "start_time": "2024-09-18T22:09:11.787Z"
   },
   {
    "duration": 2,
    "start_time": "2024-09-18T22:09:11.791Z"
   },
   {
    "duration": 49,
    "start_time": "2024-09-18T22:09:11.795Z"
   },
   {
    "duration": 2,
    "start_time": "2024-09-18T22:09:11.846Z"
   },
   {
    "duration": 2,
    "start_time": "2024-09-18T22:09:11.851Z"
   },
   {
    "duration": 2,
    "start_time": "2024-09-18T22:09:11.855Z"
   },
   {
    "duration": 2,
    "start_time": "2024-09-18T22:09:11.862Z"
   },
   {
    "duration": 3,
    "start_time": "2024-09-18T22:09:11.866Z"
   },
   {
    "duration": 2,
    "start_time": "2024-09-18T22:09:11.872Z"
   },
   {
    "duration": 2,
    "start_time": "2024-09-18T22:09:11.876Z"
   },
   {
    "duration": 2,
    "start_time": "2024-09-18T22:09:11.880Z"
   },
   {
    "duration": 3,
    "start_time": "2024-09-18T22:09:11.884Z"
   },
   {
    "duration": 55,
    "start_time": "2024-09-18T22:09:11.888Z"
   },
   {
    "duration": 13,
    "start_time": "2024-09-18T22:42:27.861Z"
   },
   {
    "duration": 108,
    "start_time": "2024-09-18T22:48:53.746Z"
   },
   {
    "duration": 284,
    "start_time": "2024-09-18T22:49:07.727Z"
   },
   {
    "duration": 104,
    "start_time": "2024-09-18T22:49:14.696Z"
   },
   {
    "duration": 107,
    "start_time": "2024-09-18T22:52:49.047Z"
   },
   {
    "duration": 103,
    "start_time": "2024-09-18T22:53:20.915Z"
   },
   {
    "duration": 96,
    "start_time": "2024-09-18T22:53:23.798Z"
   },
   {
    "duration": 79,
    "start_time": "2024-09-18T22:53:42.335Z"
   },
   {
    "duration": 73,
    "start_time": "2024-09-18T22:53:52.316Z"
   },
   {
    "duration": 74,
    "start_time": "2024-09-18T22:54:31.484Z"
   },
   {
    "duration": 73,
    "start_time": "2024-09-18T22:54:47.528Z"
   },
   {
    "duration": 88,
    "start_time": "2024-09-18T22:54:59.570Z"
   },
   {
    "duration": 88,
    "start_time": "2024-09-18T22:55:02.807Z"
   },
   {
    "duration": 102,
    "start_time": "2024-09-18T22:55:07.808Z"
   },
   {
    "duration": 94,
    "start_time": "2024-09-18T22:55:10.632Z"
   },
   {
    "duration": 94,
    "start_time": "2024-09-18T22:55:29.017Z"
   },
   {
    "duration": 78,
    "start_time": "2024-09-18T22:55:30.272Z"
   },
   {
    "duration": 81,
    "start_time": "2024-09-18T22:55:37.737Z"
   },
   {
    "duration": 10,
    "start_time": "2024-09-18T22:55:57.784Z"
   },
   {
    "duration": 92,
    "start_time": "2024-09-18T22:56:12.758Z"
   },
   {
    "duration": 35,
    "start_time": "2024-09-18T22:57:19.562Z"
   },
   {
    "duration": 27,
    "start_time": "2024-09-18T22:57:39.148Z"
   },
   {
    "duration": 24,
    "start_time": "2024-09-18T22:57:41.883Z"
   },
   {
    "duration": 27,
    "start_time": "2024-09-18T22:58:22.220Z"
   },
   {
    "duration": 94,
    "start_time": "2024-09-18T22:58:30.256Z"
   },
   {
    "duration": 109,
    "start_time": "2024-09-18T22:58:37.887Z"
   },
   {
    "duration": 104,
    "start_time": "2024-09-18T22:58:48.030Z"
   },
   {
    "duration": 3,
    "start_time": "2024-09-18T22:58:54.923Z"
   },
   {
    "duration": 878,
    "start_time": "2024-09-18T22:58:55.498Z"
   },
   {
    "duration": 11,
    "start_time": "2024-09-18T22:58:56.378Z"
   },
   {
    "duration": 9,
    "start_time": "2024-09-18T22:58:56.391Z"
   },
   {
    "duration": 9,
    "start_time": "2024-09-18T22:58:56.567Z"
   },
   {
    "duration": 9,
    "start_time": "2024-09-18T22:58:57.077Z"
   },
   {
    "duration": 7,
    "start_time": "2024-09-18T22:58:57.614Z"
   },
   {
    "duration": 94,
    "start_time": "2024-09-18T22:59:00.533Z"
   },
   {
    "duration": 11,
    "start_time": "2024-09-18T22:59:04.630Z"
   },
   {
    "duration": 91,
    "start_time": "2024-09-18T22:59:05.033Z"
   },
   {
    "duration": 92,
    "start_time": "2024-09-18T22:59:05.656Z"
   },
   {
    "duration": 28,
    "start_time": "2024-09-18T22:59:06.557Z"
   },
   {
    "duration": 27,
    "start_time": "2024-09-18T22:59:12.819Z"
   },
   {
    "duration": 81,
    "start_time": "2024-09-18T22:59:14.686Z"
   },
   {
    "duration": 101,
    "start_time": "2024-09-18T22:59:19.844Z"
   },
   {
    "duration": 89,
    "start_time": "2024-09-18T22:59:22.664Z"
   },
   {
    "duration": 452,
    "start_time": "2024-09-18T22:59:28.592Z"
   },
   {
    "duration": 958,
    "start_time": "2024-09-18T22:59:29.047Z"
   },
   {
    "duration": 11,
    "start_time": "2024-09-18T22:59:30.007Z"
   },
   {
    "duration": 26,
    "start_time": "2024-09-18T22:59:30.021Z"
   },
   {
    "duration": 10,
    "start_time": "2024-09-18T22:59:30.049Z"
   },
   {
    "duration": 9,
    "start_time": "2024-09-18T22:59:30.061Z"
   },
   {
    "duration": 7,
    "start_time": "2024-09-18T22:59:30.072Z"
   },
   {
    "duration": 137,
    "start_time": "2024-09-18T22:59:30.081Z"
   },
   {
    "duration": 12,
    "start_time": "2024-09-18T22:59:30.219Z"
   },
   {
    "duration": 133,
    "start_time": "2024-09-18T22:59:30.242Z"
   },
   {
    "duration": 125,
    "start_time": "2024-09-18T22:59:30.378Z"
   },
   {
    "duration": 42,
    "start_time": "2024-09-18T22:59:30.504Z"
   },
   {
    "duration": 3,
    "start_time": "2024-09-18T22:59:30.548Z"
   },
   {
    "duration": 2,
    "start_time": "2024-09-18T22:59:30.554Z"
   },
   {
    "duration": 3,
    "start_time": "2024-09-18T22:59:30.557Z"
   },
   {
    "duration": 2,
    "start_time": "2024-09-18T22:59:30.562Z"
   },
   {
    "duration": 3,
    "start_time": "2024-09-18T22:59:30.566Z"
   },
   {
    "duration": 3,
    "start_time": "2024-09-18T22:59:30.570Z"
   },
   {
    "duration": 3,
    "start_time": "2024-09-18T22:59:30.576Z"
   },
   {
    "duration": 2,
    "start_time": "2024-09-18T22:59:30.581Z"
   },
   {
    "duration": 3,
    "start_time": "2024-09-18T22:59:30.584Z"
   },
   {
    "duration": 2,
    "start_time": "2024-09-18T22:59:30.589Z"
   },
   {
    "duration": 51,
    "start_time": "2024-09-18T22:59:30.593Z"
   },
   {
    "duration": 3,
    "start_time": "2024-09-18T22:59:30.646Z"
   },
   {
    "duration": 5,
    "start_time": "2024-09-18T22:59:30.651Z"
   },
   {
    "duration": 2,
    "start_time": "2024-09-18T22:59:30.658Z"
   },
   {
    "duration": 2,
    "start_time": "2024-09-18T22:59:30.662Z"
   },
   {
    "duration": 2,
    "start_time": "2024-09-18T22:59:30.669Z"
   },
   {
    "duration": 3,
    "start_time": "2024-09-18T22:59:30.673Z"
   },
   {
    "duration": 3,
    "start_time": "2024-09-18T22:59:30.677Z"
   },
   {
    "duration": 2,
    "start_time": "2024-09-18T22:59:30.682Z"
   },
   {
    "duration": 2,
    "start_time": "2024-09-18T22:59:30.686Z"
   },
   {
    "duration": 2,
    "start_time": "2024-09-18T22:59:30.690Z"
   },
   {
    "duration": 3,
    "start_time": "2024-09-18T22:59:30.694Z"
   },
   {
    "duration": 109,
    "start_time": "2024-09-18T22:59:37.057Z"
   },
   {
    "duration": 33,
    "start_time": "2024-09-18T22:59:38.991Z"
   },
   {
    "duration": 118,
    "start_time": "2024-09-18T22:59:55.311Z"
   },
   {
    "duration": 101,
    "start_time": "2024-09-18T22:59:56.919Z"
   },
   {
    "duration": 41,
    "start_time": "2024-09-18T22:59:57.625Z"
   },
   {
    "duration": 467,
    "start_time": "2024-09-18T23:00:05.170Z"
   },
   {
    "duration": 936,
    "start_time": "2024-09-18T23:00:05.639Z"
   },
   {
    "duration": 13,
    "start_time": "2024-09-18T23:00:06.576Z"
   },
   {
    "duration": 11,
    "start_time": "2024-09-18T23:00:06.590Z"
   },
   {
    "duration": 10,
    "start_time": "2024-09-18T23:00:06.603Z"
   },
   {
    "duration": 8,
    "start_time": "2024-09-18T23:00:06.614Z"
   },
   {
    "duration": 7,
    "start_time": "2024-09-18T23:00:06.643Z"
   },
   {
    "duration": 126,
    "start_time": "2024-09-18T23:00:06.652Z"
   },
   {
    "duration": 12,
    "start_time": "2024-09-18T23:00:06.780Z"
   },
   {
    "duration": 130,
    "start_time": "2024-09-18T23:00:06.794Z"
   },
   {
    "duration": 105,
    "start_time": "2024-09-18T23:00:06.926Z"
   },
   {
    "duration": 38,
    "start_time": "2024-09-18T23:00:07.033Z"
   },
   {
    "duration": 2,
    "start_time": "2024-09-18T23:00:07.073Z"
   },
   {
    "duration": 2,
    "start_time": "2024-09-18T23:00:07.078Z"
   },
   {
    "duration": 2,
    "start_time": "2024-09-18T23:00:07.082Z"
   },
   {
    "duration": 3,
    "start_time": "2024-09-18T23:00:07.086Z"
   },
   {
    "duration": 2,
    "start_time": "2024-09-18T23:00:07.092Z"
   },
   {
    "duration": 3,
    "start_time": "2024-09-18T23:00:07.096Z"
   },
   {
    "duration": 3,
    "start_time": "2024-09-18T23:00:07.100Z"
   },
   {
    "duration": 2,
    "start_time": "2024-09-18T23:00:07.144Z"
   },
   {
    "duration": 2,
    "start_time": "2024-09-18T23:00:07.148Z"
   },
   {
    "duration": 2,
    "start_time": "2024-09-18T23:00:07.152Z"
   },
   {
    "duration": 2,
    "start_time": "2024-09-18T23:00:07.157Z"
   },
   {
    "duration": 2,
    "start_time": "2024-09-18T23:00:07.161Z"
   },
   {
    "duration": 3,
    "start_time": "2024-09-18T23:00:07.165Z"
   },
   {
    "duration": 2,
    "start_time": "2024-09-18T23:00:07.169Z"
   },
   {
    "duration": 2,
    "start_time": "2024-09-18T23:00:07.173Z"
   },
   {
    "duration": 3,
    "start_time": "2024-09-18T23:00:07.176Z"
   },
   {
    "duration": 3,
    "start_time": "2024-09-18T23:00:07.180Z"
   },
   {
    "duration": 2,
    "start_time": "2024-09-18T23:00:07.185Z"
   },
   {
    "duration": 2,
    "start_time": "2024-09-18T23:00:07.189Z"
   },
   {
    "duration": 53,
    "start_time": "2024-09-18T23:00:07.192Z"
   },
   {
    "duration": 3,
    "start_time": "2024-09-18T23:00:07.247Z"
   },
   {
    "duration": 2,
    "start_time": "2024-09-18T23:00:07.252Z"
   },
   {
    "duration": 14,
    "start_time": "2024-09-18T23:24:12.288Z"
   },
   {
    "duration": 12,
    "start_time": "2024-09-18T23:24:25.139Z"
   },
   {
    "duration": 11,
    "start_time": "2024-09-18T23:24:31.283Z"
   },
   {
    "duration": 11,
    "start_time": "2024-09-18T23:24:49.664Z"
   },
   {
    "duration": 6,
    "start_time": "2024-09-18T23:26:10.448Z"
   },
   {
    "duration": 643,
    "start_time": "2024-09-18T23:26:17.703Z"
   },
   {
    "duration": 5,
    "start_time": "2024-09-18T23:26:26.265Z"
   },
   {
    "duration": 408,
    "start_time": "2024-09-18T23:26:45.808Z"
   },
   {
    "duration": 903,
    "start_time": "2024-09-18T23:26:46.219Z"
   },
   {
    "duration": 11,
    "start_time": "2024-09-18T23:26:47.123Z"
   },
   {
    "duration": 9,
    "start_time": "2024-09-18T23:26:47.143Z"
   },
   {
    "duration": 7,
    "start_time": "2024-09-18T23:26:47.155Z"
   },
   {
    "duration": 8,
    "start_time": "2024-09-18T23:26:47.164Z"
   },
   {
    "duration": 6,
    "start_time": "2024-09-18T23:26:47.174Z"
   },
   {
    "duration": 135,
    "start_time": "2024-09-18T23:26:47.182Z"
   },
   {
    "duration": 11,
    "start_time": "2024-09-18T23:26:47.319Z"
   },
   {
    "duration": 120,
    "start_time": "2024-09-18T23:26:47.331Z"
   },
   {
    "duration": 94,
    "start_time": "2024-09-18T23:26:47.453Z"
   },
   {
    "duration": 26,
    "start_time": "2024-09-18T23:26:47.549Z"
   },
   {
    "duration": 12,
    "start_time": "2024-09-18T23:26:47.577Z"
   },
   {
    "duration": 4,
    "start_time": "2024-09-18T23:26:47.593Z"
   },
   {
    "duration": 2,
    "start_time": "2024-09-18T23:26:47.599Z"
   },
   {
    "duration": 2,
    "start_time": "2024-09-18T23:26:47.603Z"
   },
   {
    "duration": 2,
    "start_time": "2024-09-18T23:26:47.606Z"
   },
   {
    "duration": 3,
    "start_time": "2024-09-18T23:26:47.642Z"
   },
   {
    "duration": 2,
    "start_time": "2024-09-18T23:26:47.646Z"
   },
   {
    "duration": 2,
    "start_time": "2024-09-18T23:26:47.650Z"
   },
   {
    "duration": 2,
    "start_time": "2024-09-18T23:26:47.654Z"
   },
   {
    "duration": 2,
    "start_time": "2024-09-18T23:26:47.658Z"
   },
   {
    "duration": 5,
    "start_time": "2024-09-18T23:26:47.661Z"
   },
   {
    "duration": 2,
    "start_time": "2024-09-18T23:26:47.667Z"
   },
   {
    "duration": 2,
    "start_time": "2024-09-18T23:26:47.671Z"
   },
   {
    "duration": 2,
    "start_time": "2024-09-18T23:26:47.675Z"
   },
   {
    "duration": 2,
    "start_time": "2024-09-18T23:26:47.679Z"
   },
   {
    "duration": 2,
    "start_time": "2024-09-18T23:26:47.683Z"
   },
   {
    "duration": 2,
    "start_time": "2024-09-18T23:26:47.687Z"
   },
   {
    "duration": 53,
    "start_time": "2024-09-18T23:26:47.691Z"
   },
   {
    "duration": 2,
    "start_time": "2024-09-18T23:26:47.747Z"
   },
   {
    "duration": 2,
    "start_time": "2024-09-18T23:26:47.750Z"
   },
   {
    "duration": 2,
    "start_time": "2024-09-18T23:26:47.754Z"
   },
   {
    "duration": 3,
    "start_time": "2024-09-18T23:26:47.757Z"
   },
   {
    "duration": 16,
    "start_time": "2024-09-18T23:29:18.092Z"
   },
   {
    "duration": 16,
    "start_time": "2024-09-18T23:29:20.807Z"
   },
   {
    "duration": 21,
    "start_time": "2024-09-18T23:30:10.734Z"
   },
   {
    "duration": 18,
    "start_time": "2024-09-18T23:30:16.517Z"
   },
   {
    "duration": 24,
    "start_time": "2024-09-18T23:31:04.769Z"
   },
   {
    "duration": 20,
    "start_time": "2024-09-18T23:31:49.659Z"
   },
   {
    "duration": 20,
    "start_time": "2024-09-18T23:31:55.581Z"
   },
   {
    "duration": 20,
    "start_time": "2024-09-18T23:32:44.066Z"
   },
   {
    "duration": 18,
    "start_time": "2024-09-18T23:32:46.396Z"
   },
   {
    "duration": 194,
    "start_time": "2024-09-18T23:33:06.205Z"
   },
   {
    "duration": 20,
    "start_time": "2024-09-18T23:33:09.522Z"
   },
   {
    "duration": 19,
    "start_time": "2024-09-18T23:33:29.079Z"
   },
   {
    "duration": 19,
    "start_time": "2024-09-18T23:33:32.624Z"
   },
   {
    "duration": 21,
    "start_time": "2024-09-18T23:33:42.658Z"
   },
   {
    "duration": 22,
    "start_time": "2024-09-18T23:35:45.304Z"
   },
   {
    "duration": 21,
    "start_time": "2024-09-18T23:35:55.324Z"
   },
   {
    "duration": 5,
    "start_time": "2024-09-18T23:39:07.251Z"
   },
   {
    "duration": 277,
    "start_time": "2024-09-18T23:40:55.785Z"
   },
   {
    "duration": 260,
    "start_time": "2024-09-18T23:41:37.317Z"
   },
   {
    "duration": 44,
    "start_time": "2024-09-18T23:42:07.553Z"
   },
   {
    "duration": 10,
    "start_time": "2024-09-18T23:42:33.850Z"
   },
   {
    "duration": 10,
    "start_time": "2024-09-18T23:42:38.909Z"
   },
   {
    "duration": 11,
    "start_time": "2024-09-18T23:42:53.512Z"
   },
   {
    "duration": 40,
    "start_time": "2024-09-18T23:43:04.168Z"
   },
   {
    "duration": 13,
    "start_time": "2024-09-18T23:43:38.961Z"
   },
   {
    "duration": 14,
    "start_time": "2024-09-18T23:49:40.022Z"
   },
   {
    "duration": 5,
    "start_time": "2024-09-18T23:50:08.974Z"
   },
   {
    "duration": 5,
    "start_time": "2024-09-18T23:50:14.012Z"
   },
   {
    "duration": 13,
    "start_time": "2024-09-18T23:51:40.011Z"
   },
   {
    "duration": 15,
    "start_time": "2024-09-18T23:51:52.427Z"
   },
   {
    "duration": 4,
    "start_time": "2024-09-18T23:52:24.272Z"
   },
   {
    "duration": 4,
    "start_time": "2024-09-18T23:52:28.593Z"
   },
   {
    "duration": 4,
    "start_time": "2024-09-18T23:54:58.117Z"
   },
   {
    "duration": 67,
    "start_time": "2024-09-18T23:55:46.200Z"
   },
   {
    "duration": 4,
    "start_time": "2024-09-18T23:56:16.624Z"
   },
   {
    "duration": 4,
    "start_time": "2024-09-19T00:02:54.661Z"
   },
   {
    "duration": 5,
    "start_time": "2024-09-19T00:03:04.422Z"
   },
   {
    "duration": 738,
    "start_time": "2024-09-19T00:03:54.106Z"
   },
   {
    "duration": 7,
    "start_time": "2024-09-19T00:04:25.540Z"
   },
   {
    "duration": 7,
    "start_time": "2024-09-19T00:04:28.952Z"
   },
   {
    "duration": 81,
    "start_time": "2024-09-19T00:05:36.574Z"
   },
   {
    "duration": 82,
    "start_time": "2024-09-19T00:05:46.345Z"
   },
   {
    "duration": 159,
    "start_time": "2024-09-19T00:05:58.493Z"
   },
   {
    "duration": 118,
    "start_time": "2024-09-19T00:06:29.715Z"
   },
   {
    "duration": 889,
    "start_time": "2024-09-19T00:08:42.906Z"
   },
   {
    "duration": 706,
    "start_time": "2024-09-19T00:11:10.238Z"
   },
   {
    "duration": 665,
    "start_time": "2024-09-19T00:11:15.524Z"
   },
   {
    "duration": 14,
    "start_time": "2024-09-19T00:11:35.149Z"
   },
   {
    "duration": 742,
    "start_time": "2024-09-19T00:11:43.801Z"
   },
   {
    "duration": 690,
    "start_time": "2024-09-19T00:11:55.492Z"
   },
   {
    "duration": 3,
    "start_time": "2024-09-19T00:12:40.272Z"
   },
   {
    "duration": 4,
    "start_time": "2024-09-19T00:12:47.598Z"
   },
   {
    "duration": 4,
    "start_time": "2024-09-19T00:13:04.751Z"
   },
   {
    "duration": 4,
    "start_time": "2024-09-19T00:13:05.761Z"
   },
   {
    "duration": 4,
    "start_time": "2024-09-19T00:13:18.486Z"
   },
   {
    "duration": 8,
    "start_time": "2024-09-19T00:14:14.724Z"
   },
   {
    "duration": 12,
    "start_time": "2024-09-19T00:14:21.135Z"
   },
   {
    "duration": 92,
    "start_time": "2024-09-19T00:14:33.401Z"
   },
   {
    "duration": 89,
    "start_time": "2024-09-19T00:14:40.615Z"
   },
   {
    "duration": 156,
    "start_time": "2024-09-19T00:14:51.716Z"
   },
   {
    "duration": 431,
    "start_time": "2024-09-19T00:14:57.171Z"
   },
   {
    "duration": 904,
    "start_time": "2024-09-19T00:14:57.604Z"
   },
   {
    "duration": 11,
    "start_time": "2024-09-19T00:14:58.510Z"
   },
   {
    "duration": 20,
    "start_time": "2024-09-19T00:14:58.523Z"
   },
   {
    "duration": 7,
    "start_time": "2024-09-19T00:14:58.545Z"
   },
   {
    "duration": 7,
    "start_time": "2024-09-19T00:14:58.554Z"
   },
   {
    "duration": 6,
    "start_time": "2024-09-19T00:14:58.563Z"
   },
   {
    "duration": 129,
    "start_time": "2024-09-19T00:14:58.571Z"
   },
   {
    "duration": 11,
    "start_time": "2024-09-19T00:14:58.701Z"
   },
   {
    "duration": 117,
    "start_time": "2024-09-19T00:14:58.716Z"
   },
   {
    "duration": 89,
    "start_time": "2024-09-19T00:14:58.843Z"
   },
   {
    "duration": 32,
    "start_time": "2024-09-19T00:14:58.934Z"
   },
   {
    "duration": 14,
    "start_time": "2024-09-19T00:14:58.967Z"
   },
   {
    "duration": 3,
    "start_time": "2024-09-19T00:14:58.983Z"
   },
   {
    "duration": 32,
    "start_time": "2024-09-19T00:14:58.988Z"
   },
   {
    "duration": 12,
    "start_time": "2024-09-19T00:14:59.043Z"
   },
   {
    "duration": 5,
    "start_time": "2024-09-19T00:14:59.057Z"
   },
   {
    "duration": 4,
    "start_time": "2024-09-19T00:14:59.067Z"
   },
   {
    "duration": 3,
    "start_time": "2024-09-19T00:14:59.073Z"
   },
   {
    "duration": 4,
    "start_time": "2024-09-19T00:14:59.078Z"
   },
   {
    "duration": 818,
    "start_time": "2024-09-19T00:14:59.084Z"
   },
   {
    "duration": 657,
    "start_time": "2024-09-19T00:14:59.904Z"
   },
   {
    "duration": 3,
    "start_time": "2024-09-19T00:15:00.563Z"
   },
   {
    "duration": 3,
    "start_time": "2024-09-19T00:15:00.567Z"
   },
   {
    "duration": 2,
    "start_time": "2024-09-19T00:15:00.572Z"
   },
   {
    "duration": 3,
    "start_time": "2024-09-19T00:15:00.576Z"
   },
   {
    "duration": 2,
    "start_time": "2024-09-19T00:15:00.581Z"
   },
   {
    "duration": 2,
    "start_time": "2024-09-19T00:15:00.586Z"
   },
   {
    "duration": 3,
    "start_time": "2024-09-19T00:15:00.589Z"
   },
   {
    "duration": 2,
    "start_time": "2024-09-19T00:15:00.593Z"
   },
   {
    "duration": 2,
    "start_time": "2024-09-19T00:15:00.597Z"
   },
   {
    "duration": 42,
    "start_time": "2024-09-19T00:15:00.601Z"
   },
   {
    "duration": 2,
    "start_time": "2024-09-19T00:15:00.645Z"
   },
   {
    "duration": 2,
    "start_time": "2024-09-19T00:15:00.649Z"
   },
   {
    "duration": 2141,
    "start_time": "2024-09-19T07:52:27.684Z"
   },
   {
    "duration": 1111,
    "start_time": "2024-09-19T07:52:29.827Z"
   },
   {
    "duration": 11,
    "start_time": "2024-09-19T07:52:30.940Z"
   },
   {
    "duration": 9,
    "start_time": "2024-09-19T07:52:30.954Z"
   },
   {
    "duration": 25,
    "start_time": "2024-09-19T07:52:30.964Z"
   },
   {
    "duration": 9,
    "start_time": "2024-09-19T07:52:30.991Z"
   },
   {
    "duration": 6,
    "start_time": "2024-09-19T07:52:31.002Z"
   },
   {
    "duration": 121,
    "start_time": "2024-09-19T07:52:31.010Z"
   },
   {
    "duration": 11,
    "start_time": "2024-09-19T07:52:31.133Z"
   },
   {
    "duration": 126,
    "start_time": "2024-09-19T07:52:31.147Z"
   },
   {
    "duration": 100,
    "start_time": "2024-09-19T07:52:31.275Z"
   },
   {
    "duration": 35,
    "start_time": "2024-09-19T07:52:31.377Z"
   },
   {
    "duration": 13,
    "start_time": "2024-09-19T07:52:31.414Z"
   },
   {
    "duration": 3,
    "start_time": "2024-09-19T07:52:31.428Z"
   },
   {
    "duration": 31,
    "start_time": "2024-09-19T07:52:31.434Z"
   },
   {
    "duration": 12,
    "start_time": "2024-09-19T07:52:31.487Z"
   },
   {
    "duration": 3,
    "start_time": "2024-09-19T07:52:31.501Z"
   },
   {
    "duration": 3,
    "start_time": "2024-09-19T07:52:31.506Z"
   },
   {
    "duration": 4,
    "start_time": "2024-09-19T07:52:31.511Z"
   },
   {
    "duration": 3,
    "start_time": "2024-09-19T07:52:31.516Z"
   },
   {
    "duration": 834,
    "start_time": "2024-09-19T07:52:31.521Z"
   },
   {
    "duration": 723,
    "start_time": "2024-09-19T07:52:32.357Z"
   },
   {
    "duration": 3,
    "start_time": "2024-09-19T07:52:33.087Z"
   },
   {
    "duration": 3,
    "start_time": "2024-09-19T07:52:33.091Z"
   },
   {
    "duration": 3,
    "start_time": "2024-09-19T07:52:33.095Z"
   },
   {
    "duration": 2,
    "start_time": "2024-09-19T07:52:33.099Z"
   },
   {
    "duration": 9,
    "start_time": "2024-09-19T07:52:33.108Z"
   },
   {
    "duration": 2,
    "start_time": "2024-09-19T07:52:33.121Z"
   },
   {
    "duration": 8,
    "start_time": "2024-09-19T07:52:33.125Z"
   },
   {
    "duration": 2,
    "start_time": "2024-09-19T07:52:33.135Z"
   },
   {
    "duration": 2,
    "start_time": "2024-09-19T07:52:33.140Z"
   },
   {
    "duration": 10,
    "start_time": "2024-09-19T07:52:33.146Z"
   },
   {
    "duration": 2,
    "start_time": "2024-09-19T07:52:33.159Z"
   },
   {
    "duration": 21,
    "start_time": "2024-09-19T07:52:33.166Z"
   },
   {
    "duration": 12,
    "start_time": "2024-09-19T08:57:16.273Z"
   },
   {
    "duration": 328,
    "start_time": "2024-09-19T09:04:44.908Z"
   },
   {
    "duration": 29,
    "start_time": "2024-09-19T09:05:23.698Z"
   },
   {
    "duration": 10,
    "start_time": "2024-09-19T09:07:12.452Z"
   },
   {
    "duration": 7,
    "start_time": "2024-09-19T09:07:46.740Z"
   },
   {
    "duration": 9,
    "start_time": "2024-09-19T09:07:51.280Z"
   },
   {
    "duration": 11,
    "start_time": "2024-09-19T09:10:50.830Z"
   },
   {
    "duration": 719,
    "start_time": "2024-09-19T09:13:39.434Z"
   },
   {
    "duration": 43,
    "start_time": "2024-09-19T09:13:52.104Z"
   },
   {
    "duration": 10,
    "start_time": "2024-09-19T09:13:59.315Z"
   },
   {
    "duration": 10,
    "start_time": "2024-09-19T09:14:10.328Z"
   },
   {
    "duration": 402,
    "start_time": "2024-09-19T09:14:16.553Z"
   },
   {
    "duration": 951,
    "start_time": "2024-09-19T09:14:16.957Z"
   },
   {
    "duration": 12,
    "start_time": "2024-09-19T09:14:17.909Z"
   },
   {
    "duration": 10,
    "start_time": "2024-09-19T09:14:17.923Z"
   },
   {
    "duration": 7,
    "start_time": "2024-09-19T09:14:17.935Z"
   },
   {
    "duration": 8,
    "start_time": "2024-09-19T09:14:17.944Z"
   },
   {
    "duration": 35,
    "start_time": "2024-09-19T09:14:17.954Z"
   },
   {
    "duration": 120,
    "start_time": "2024-09-19T09:14:17.990Z"
   },
   {
    "duration": 12,
    "start_time": "2024-09-19T09:14:18.112Z"
   },
   {
    "duration": 133,
    "start_time": "2024-09-19T09:14:18.128Z"
   },
   {
    "duration": 98,
    "start_time": "2024-09-19T09:14:18.263Z"
   },
   {
    "duration": 38,
    "start_time": "2024-09-19T09:14:18.363Z"
   },
   {
    "duration": 13,
    "start_time": "2024-09-19T09:14:18.402Z"
   },
   {
    "duration": 3,
    "start_time": "2024-09-19T09:14:18.417Z"
   },
   {
    "duration": 23,
    "start_time": "2024-09-19T09:14:18.422Z"
   },
   {
    "duration": 11,
    "start_time": "2024-09-19T09:14:18.447Z"
   },
   {
    "duration": 4,
    "start_time": "2024-09-19T09:14:18.486Z"
   },
   {
    "duration": 3,
    "start_time": "2024-09-19T09:14:18.491Z"
   },
   {
    "duration": 4,
    "start_time": "2024-09-19T09:14:18.495Z"
   },
   {
    "duration": 3,
    "start_time": "2024-09-19T09:14:18.501Z"
   },
   {
    "duration": 852,
    "start_time": "2024-09-19T09:14:18.506Z"
   },
   {
    "duration": 732,
    "start_time": "2024-09-19T09:14:19.360Z"
   },
   {
    "duration": 13,
    "start_time": "2024-09-19T09:14:20.094Z"
   },
   {
    "duration": 11,
    "start_time": "2024-09-19T09:14:20.109Z"
   },
   {
    "duration": 8,
    "start_time": "2024-09-19T09:14:20.123Z"
   },
   {
    "duration": 2,
    "start_time": "2024-09-19T09:14:20.134Z"
   },
   {
    "duration": 2,
    "start_time": "2024-09-19T09:14:20.138Z"
   },
   {
    "duration": 2,
    "start_time": "2024-09-19T09:14:20.144Z"
   },
   {
    "duration": 3,
    "start_time": "2024-09-19T09:14:20.148Z"
   },
   {
    "duration": 35,
    "start_time": "2024-09-19T09:14:20.153Z"
   },
   {
    "duration": 2,
    "start_time": "2024-09-19T09:14:20.190Z"
   },
   {
    "duration": 2,
    "start_time": "2024-09-19T09:14:20.194Z"
   },
   {
    "duration": 2,
    "start_time": "2024-09-19T09:14:20.198Z"
   },
   {
    "duration": 2,
    "start_time": "2024-09-19T09:14:20.202Z"
   },
   {
    "duration": 182,
    "start_time": "2024-09-19T09:16:36.333Z"
   },
   {
    "duration": 7,
    "start_time": "2024-09-19T09:18:23.513Z"
   },
   {
    "duration": 9,
    "start_time": "2024-09-19T09:19:00.405Z"
   },
   {
    "duration": 6,
    "start_time": "2024-09-19T09:19:21.298Z"
   },
   {
    "duration": 7,
    "start_time": "2024-09-19T09:19:36.400Z"
   },
   {
    "duration": 5,
    "start_time": "2024-09-19T09:20:01.406Z"
   },
   {
    "duration": 3,
    "start_time": "2024-09-19T09:21:24.917Z"
   },
   {
    "duration": 4,
    "start_time": "2024-09-19T09:21:43.007Z"
   },
   {
    "duration": 6,
    "start_time": "2024-09-19T09:21:56.290Z"
   },
   {
    "duration": 6,
    "start_time": "2024-09-19T09:23:04.068Z"
   },
   {
    "duration": 353,
    "start_time": "2024-09-19T09:26:47.545Z"
   },
   {
    "duration": 13,
    "start_time": "2024-09-19T09:27:11.106Z"
   },
   {
    "duration": 8,
    "start_time": "2024-09-19T09:27:24.659Z"
   },
   {
    "duration": 5,
    "start_time": "2024-09-19T09:27:41.779Z"
   },
   {
    "duration": 37,
    "start_time": "2024-09-19T09:27:46.935Z"
   },
   {
    "duration": 9,
    "start_time": "2024-09-19T09:27:55.238Z"
   },
   {
    "duration": 9,
    "start_time": "2024-09-19T09:28:26.490Z"
   },
   {
    "duration": 3,
    "start_time": "2024-09-19T09:28:34.630Z"
   },
   {
    "duration": 11,
    "start_time": "2024-09-19T09:28:50.541Z"
   },
   {
    "duration": 14,
    "start_time": "2024-09-19T09:29:19.361Z"
   },
   {
    "duration": 8,
    "start_time": "2024-09-19T09:29:26.981Z"
   },
   {
    "duration": 5,
    "start_time": "2024-09-19T09:29:59.961Z"
   },
   {
    "duration": 10,
    "start_time": "2024-09-19T09:30:03.110Z"
   },
   {
    "duration": 7,
    "start_time": "2024-09-19T09:33:51.588Z"
   },
   {
    "duration": 32,
    "start_time": "2024-09-19T09:34:22.161Z"
   },
   {
    "duration": 30,
    "start_time": "2024-09-19T09:34:24.372Z"
   },
   {
    "duration": 30,
    "start_time": "2024-09-19T09:34:32.801Z"
   },
   {
    "duration": 8,
    "start_time": "2024-09-19T09:35:16.666Z"
   },
   {
    "duration": 10,
    "start_time": "2024-09-19T09:35:24.914Z"
   },
   {
    "duration": 32,
    "start_time": "2024-09-19T09:35:41.741Z"
   },
   {
    "duration": 7,
    "start_time": "2024-09-19T09:36:09.223Z"
   },
   {
    "duration": 7,
    "start_time": "2024-09-19T09:36:54.043Z"
   },
   {
    "duration": 12,
    "start_time": "2024-09-19T09:37:05.294Z"
   },
   {
    "duration": 3,
    "start_time": "2024-09-19T09:37:12.896Z"
   },
   {
    "duration": 8,
    "start_time": "2024-09-19T09:37:18.632Z"
   },
   {
    "duration": 5,
    "start_time": "2024-09-19T09:39:17.695Z"
   },
   {
    "duration": 6,
    "start_time": "2024-09-19T09:39:41.546Z"
   },
   {
    "duration": 5,
    "start_time": "2024-09-19T09:41:19.258Z"
   },
   {
    "duration": 7,
    "start_time": "2024-09-19T09:41:27.864Z"
   },
   {
    "duration": 15,
    "start_time": "2024-09-19T09:42:39.609Z"
   },
   {
    "duration": 13,
    "start_time": "2024-09-19T09:42:54.020Z"
   },
   {
    "duration": 5,
    "start_time": "2024-09-19T09:42:57.417Z"
   },
   {
    "duration": 3,
    "start_time": "2024-09-19T09:43:41.821Z"
   },
   {
    "duration": 4,
    "start_time": "2024-09-19T09:44:03.041Z"
   },
   {
    "duration": 5,
    "start_time": "2024-09-19T09:44:23.437Z"
   },
   {
    "duration": 5,
    "start_time": "2024-09-19T09:44:32.287Z"
   },
   {
    "duration": 6,
    "start_time": "2024-09-19T09:44:52.961Z"
   },
   {
    "duration": 5,
    "start_time": "2024-09-19T09:45:02.524Z"
   },
   {
    "duration": 6,
    "start_time": "2024-09-19T09:45:19.720Z"
   },
   {
    "duration": 7,
    "start_time": "2024-09-19T09:45:26.849Z"
   },
   {
    "duration": 6,
    "start_time": "2024-09-19T09:46:12.031Z"
   },
   {
    "duration": 12,
    "start_time": "2024-09-19T09:46:46.128Z"
   },
   {
    "duration": 5,
    "start_time": "2024-09-19T09:47:28.067Z"
   },
   {
    "duration": 33,
    "start_time": "2024-09-19T09:47:40.336Z"
   },
   {
    "duration": 19,
    "start_time": "2024-09-19T09:48:05.699Z"
   },
   {
    "duration": 6,
    "start_time": "2024-09-19T09:50:32.215Z"
   },
   {
    "duration": 19,
    "start_time": "2024-09-19T09:51:49.233Z"
   },
   {
    "duration": 27,
    "start_time": "2024-09-19T09:53:41.465Z"
   },
   {
    "duration": 3,
    "start_time": "2024-09-19T09:53:55.902Z"
   },
   {
    "duration": 4,
    "start_time": "2024-09-19T09:54:02.249Z"
   },
   {
    "duration": 4,
    "start_time": "2024-09-19T09:54:14.047Z"
   },
   {
    "duration": 4,
    "start_time": "2024-09-19T09:55:08.118Z"
   },
   {
    "duration": 4,
    "start_time": "2024-09-19T09:55:11.195Z"
   },
   {
    "duration": 4,
    "start_time": "2024-09-19T09:55:15.225Z"
   },
   {
    "duration": 4,
    "start_time": "2024-09-19T09:55:21.261Z"
   },
   {
    "duration": 17,
    "start_time": "2024-09-19T09:55:26.511Z"
   },
   {
    "duration": 30,
    "start_time": "2024-09-19T09:55:59.307Z"
   },
   {
    "duration": 4,
    "start_time": "2024-09-19T09:56:22.991Z"
   },
   {
    "duration": 14,
    "start_time": "2024-09-19T09:56:38.764Z"
   },
   {
    "duration": 14,
    "start_time": "2024-09-19T09:56:41.031Z"
   },
   {
    "duration": 3,
    "start_time": "2024-09-19T09:56:44.907Z"
   },
   {
    "duration": 29,
    "start_time": "2024-09-19T09:56:48.289Z"
   },
   {
    "duration": 4,
    "start_time": "2024-09-19T09:58:02.821Z"
   },
   {
    "duration": 31,
    "start_time": "2024-09-19T09:58:10.031Z"
   },
   {
    "duration": 30,
    "start_time": "2024-09-19T09:58:20.446Z"
   },
   {
    "duration": 29,
    "start_time": "2024-09-19T09:58:30.738Z"
   },
   {
    "duration": 8,
    "start_time": "2024-09-19T10:06:12.074Z"
   },
   {
    "duration": 9,
    "start_time": "2024-09-19T10:06:34.133Z"
   },
   {
    "duration": 9,
    "start_time": "2024-09-19T10:06:56.235Z"
   },
   {
    "duration": 9,
    "start_time": "2024-09-19T10:06:58.538Z"
   },
   {
    "duration": 10,
    "start_time": "2024-09-19T10:07:25.487Z"
   },
   {
    "duration": 4,
    "start_time": "2024-09-19T10:07:40.273Z"
   },
   {
    "duration": 3,
    "start_time": "2024-09-19T10:07:42.597Z"
   },
   {
    "duration": 9,
    "start_time": "2024-09-19T10:07:50.652Z"
   },
   {
    "duration": 668,
    "start_time": "2024-09-19T10:08:04.451Z"
   },
   {
    "duration": 8,
    "start_time": "2024-09-19T10:08:10.309Z"
   },
   {
    "duration": 3,
    "start_time": "2024-09-19T10:08:18.201Z"
   },
   {
    "duration": 37,
    "start_time": "2024-09-19T10:08:22.843Z"
   },
   {
    "duration": 7,
    "start_time": "2024-09-19T10:10:29.125Z"
   },
   {
    "duration": 7,
    "start_time": "2024-09-19T10:10:41.700Z"
   },
   {
    "duration": 447,
    "start_time": "2024-09-19T10:12:22.604Z"
   },
   {
    "duration": 959,
    "start_time": "2024-09-19T10:12:23.053Z"
   },
   {
    "duration": 12,
    "start_time": "2024-09-19T10:12:24.014Z"
   },
   {
    "duration": 9,
    "start_time": "2024-09-19T10:12:24.028Z"
   },
   {
    "duration": 8,
    "start_time": "2024-09-19T10:12:24.039Z"
   },
   {
    "duration": 8,
    "start_time": "2024-09-19T10:12:24.048Z"
   },
   {
    "duration": 8,
    "start_time": "2024-09-19T10:12:24.086Z"
   },
   {
    "duration": 121,
    "start_time": "2024-09-19T10:12:24.095Z"
   },
   {
    "duration": 11,
    "start_time": "2024-09-19T10:12:24.219Z"
   },
   {
    "duration": 129,
    "start_time": "2024-09-19T10:12:24.233Z"
   },
   {
    "duration": 110,
    "start_time": "2024-09-19T10:12:24.364Z"
   },
   {
    "duration": 37,
    "start_time": "2024-09-19T10:12:24.476Z"
   },
   {
    "duration": 13,
    "start_time": "2024-09-19T10:12:24.515Z"
   },
   {
    "duration": 3,
    "start_time": "2024-09-19T10:12:24.532Z"
   },
   {
    "duration": 51,
    "start_time": "2024-09-19T10:12:24.537Z"
   },
   {
    "duration": 12,
    "start_time": "2024-09-19T10:12:24.589Z"
   },
   {
    "duration": 3,
    "start_time": "2024-09-19T10:12:24.603Z"
   },
   {
    "duration": 3,
    "start_time": "2024-09-19T10:12:24.608Z"
   },
   {
    "duration": 4,
    "start_time": "2024-09-19T10:12:24.613Z"
   },
   {
    "duration": 3,
    "start_time": "2024-09-19T10:12:24.618Z"
   },
   {
    "duration": 814,
    "start_time": "2024-09-19T10:12:24.623Z"
   },
   {
    "duration": 712,
    "start_time": "2024-09-19T10:12:25.439Z"
   },
   {
    "duration": 12,
    "start_time": "2024-09-19T10:12:26.153Z"
   },
   {
    "duration": 20,
    "start_time": "2024-09-19T10:12:26.166Z"
   },
   {
    "duration": 9,
    "start_time": "2024-09-19T10:12:26.188Z"
   },
   {
    "duration": 6,
    "start_time": "2024-09-19T10:12:26.198Z"
   },
   {
    "duration": 8,
    "start_time": "2024-09-19T10:12:26.206Z"
   },
   {
    "duration": 18,
    "start_time": "2024-09-19T10:12:26.218Z"
   },
   {
    "duration": 5,
    "start_time": "2024-09-19T10:12:26.237Z"
   },
   {
    "duration": 57,
    "start_time": "2024-09-19T10:12:26.243Z"
   },
   {
    "duration": 32,
    "start_time": "2024-09-19T10:12:26.302Z"
   },
   {
    "duration": 8,
    "start_time": "2024-09-19T10:12:26.335Z"
   },
   {
    "duration": 2,
    "start_time": "2024-09-19T10:12:26.345Z"
   },
   {
    "duration": 3,
    "start_time": "2024-09-19T10:12:26.348Z"
   },
   {
    "duration": 344,
    "start_time": "2024-09-19T10:15:01.287Z"
   },
   {
    "duration": 7,
    "start_time": "2024-09-19T10:15:35.504Z"
   },
   {
    "duration": 241,
    "start_time": "2024-09-19T10:19:19.786Z"
   },
   {
    "duration": 82,
    "start_time": "2024-09-19T10:19:44.718Z"
   },
   {
    "duration": 80,
    "start_time": "2024-09-19T10:20:04.268Z"
   },
   {
    "duration": 271,
    "start_time": "2024-09-19T10:23:58.431Z"
   },
   {
    "duration": 26,
    "start_time": "2024-09-19T10:24:14.236Z"
   },
   {
    "duration": 28,
    "start_time": "2024-09-19T10:25:14.360Z"
   },
   {
    "duration": 8,
    "start_time": "2024-09-19T10:25:45.593Z"
   },
   {
    "duration": 91,
    "start_time": "2024-09-19T10:27:31.388Z"
   },
   {
    "duration": 8,
    "start_time": "2024-09-19T10:29:31.275Z"
   },
   {
    "duration": 346,
    "start_time": "2024-09-19T10:37:53.458Z"
   },
   {
    "duration": 382,
    "start_time": "2024-09-19T10:38:56.728Z"
   },
   {
    "duration": 29,
    "start_time": "2024-09-19T10:39:00.119Z"
   },
   {
    "duration": 32,
    "start_time": "2024-09-19T10:39:15.404Z"
   },
   {
    "duration": 5,
    "start_time": "2024-09-19T10:39:37.188Z"
   },
   {
    "duration": 12,
    "start_time": "2024-09-19T10:40:00.669Z"
   },
   {
    "duration": 33,
    "start_time": "2024-09-19T10:40:39.144Z"
   },
   {
    "duration": 34,
    "start_time": "2024-09-19T10:40:48.690Z"
   },
   {
    "duration": 3,
    "start_time": "2024-09-19T10:55:03.550Z"
   },
   {
    "duration": 4,
    "start_time": "2024-09-19T10:55:46.903Z"
   },
   {
    "duration": 4,
    "start_time": "2024-09-19T10:56:24.388Z"
   },
   {
    "duration": 9341,
    "start_time": "2024-09-19T10:59:21.531Z"
   },
   {
    "duration": 9274,
    "start_time": "2024-09-19T11:00:13.008Z"
   },
   {
    "duration": 9168,
    "start_time": "2024-09-19T11:00:28.948Z"
   },
   {
    "duration": 2469,
    "start_time": "2024-09-19T11:02:21.345Z"
   },
   {
    "duration": 1482,
    "start_time": "2024-09-19T11:02:29.649Z"
   },
   {
    "duration": 1605,
    "start_time": "2024-09-19T11:03:15.309Z"
   },
   {
    "duration": 1577,
    "start_time": "2024-09-19T11:03:30.191Z"
   },
   {
    "duration": 1575,
    "start_time": "2024-09-19T11:03:39.911Z"
   },
   {
    "duration": 446,
    "start_time": "2024-09-19T11:05:05.523Z"
   },
   {
    "duration": 1084,
    "start_time": "2024-09-19T11:05:05.971Z"
   },
   {
    "duration": 11,
    "start_time": "2024-09-19T11:05:07.057Z"
   },
   {
    "duration": 18,
    "start_time": "2024-09-19T11:05:07.071Z"
   },
   {
    "duration": 8,
    "start_time": "2024-09-19T11:05:07.090Z"
   },
   {
    "duration": 9,
    "start_time": "2024-09-19T11:05:07.099Z"
   },
   {
    "duration": 7,
    "start_time": "2024-09-19T11:05:07.110Z"
   },
   {
    "duration": 133,
    "start_time": "2024-09-19T11:05:07.118Z"
   },
   {
    "duration": 12,
    "start_time": "2024-09-19T11:05:07.253Z"
   },
   {
    "duration": 128,
    "start_time": "2024-09-19T11:05:07.268Z"
   },
   {
    "duration": 101,
    "start_time": "2024-09-19T11:05:07.398Z"
   },
   {
    "duration": 29,
    "start_time": "2024-09-19T11:05:07.500Z"
   },
   {
    "duration": 12,
    "start_time": "2024-09-19T11:05:07.530Z"
   },
   {
    "duration": 3,
    "start_time": "2024-09-19T11:05:07.544Z"
   },
   {
    "duration": 46,
    "start_time": "2024-09-19T11:05:07.549Z"
   },
   {
    "duration": 10,
    "start_time": "2024-09-19T11:05:07.596Z"
   },
   {
    "duration": 4,
    "start_time": "2024-09-19T11:05:07.608Z"
   },
   {
    "duration": 4,
    "start_time": "2024-09-19T11:05:07.614Z"
   },
   {
    "duration": 3,
    "start_time": "2024-09-19T11:05:07.621Z"
   },
   {
    "duration": 3,
    "start_time": "2024-09-19T11:05:07.626Z"
   },
   {
    "duration": 835,
    "start_time": "2024-09-19T11:05:07.631Z"
   },
   {
    "duration": 692,
    "start_time": "2024-09-19T11:05:08.468Z"
   },
   {
    "duration": 12,
    "start_time": "2024-09-19T11:05:09.162Z"
   },
   {
    "duration": 16,
    "start_time": "2024-09-19T11:05:09.176Z"
   },
   {
    "duration": 9,
    "start_time": "2024-09-19T11:05:09.194Z"
   },
   {
    "duration": 5,
    "start_time": "2024-09-19T11:05:09.206Z"
   },
   {
    "duration": 7,
    "start_time": "2024-09-19T11:05:09.213Z"
   },
   {
    "duration": 12,
    "start_time": "2024-09-19T11:05:09.225Z"
   },
   {
    "duration": 5,
    "start_time": "2024-09-19T11:05:09.239Z"
   },
   {
    "duration": 54,
    "start_time": "2024-09-19T11:05:09.246Z"
   },
   {
    "duration": 32,
    "start_time": "2024-09-19T11:05:09.301Z"
   },
   {
    "duration": 7,
    "start_time": "2024-09-19T11:05:09.336Z"
   },
   {
    "duration": 7,
    "start_time": "2024-09-19T11:05:09.345Z"
   },
   {
    "duration": 70,
    "start_time": "2024-09-19T11:05:09.354Z"
   },
   {
    "duration": 4,
    "start_time": "2024-09-19T11:05:09.426Z"
   },
   {
    "duration": 4,
    "start_time": "2024-09-19T11:05:09.432Z"
   },
   {
    "duration": 459,
    "start_time": "2024-09-19T11:05:40.719Z"
   },
   {
    "duration": 920,
    "start_time": "2024-09-19T11:05:41.180Z"
   },
   {
    "duration": 11,
    "start_time": "2024-09-19T11:05:42.102Z"
   },
   {
    "duration": 9,
    "start_time": "2024-09-19T11:05:42.116Z"
   },
   {
    "duration": 7,
    "start_time": "2024-09-19T11:05:42.127Z"
   },
   {
    "duration": 7,
    "start_time": "2024-09-19T11:05:42.137Z"
   },
   {
    "duration": 6,
    "start_time": "2024-09-19T11:05:42.146Z"
   },
   {
    "duration": 143,
    "start_time": "2024-09-19T11:05:42.154Z"
   },
   {
    "duration": 11,
    "start_time": "2024-09-19T11:05:42.299Z"
   },
   {
    "duration": 127,
    "start_time": "2024-09-19T11:05:42.313Z"
   },
   {
    "duration": 101,
    "start_time": "2024-09-19T11:05:42.441Z"
   },
   {
    "duration": 28,
    "start_time": "2024-09-19T11:05:42.544Z"
   },
   {
    "duration": 20,
    "start_time": "2024-09-19T11:05:42.574Z"
   },
   {
    "duration": 3,
    "start_time": "2024-09-19T11:05:42.596Z"
   },
   {
    "duration": 23,
    "start_time": "2024-09-19T11:05:42.602Z"
   },
   {
    "duration": 11,
    "start_time": "2024-09-19T11:05:42.626Z"
   },
   {
    "duration": 3,
    "start_time": "2024-09-19T11:05:42.639Z"
   },
   {
    "duration": 3,
    "start_time": "2024-09-19T11:05:42.645Z"
   },
   {
    "duration": 3,
    "start_time": "2024-09-19T11:05:42.687Z"
   },
   {
    "duration": 3,
    "start_time": "2024-09-19T11:05:42.692Z"
   },
   {
    "duration": 851,
    "start_time": "2024-09-19T11:05:42.696Z"
   },
   {
    "duration": 718,
    "start_time": "2024-09-19T11:05:43.549Z"
   },
   {
    "duration": 18,
    "start_time": "2024-09-19T11:05:44.269Z"
   },
   {
    "duration": 8,
    "start_time": "2024-09-19T11:05:44.289Z"
   },
   {
    "duration": 9,
    "start_time": "2024-09-19T11:05:44.299Z"
   },
   {
    "duration": 6,
    "start_time": "2024-09-19T11:05:44.309Z"
   },
   {
    "duration": 8,
    "start_time": "2024-09-19T11:05:44.318Z"
   },
   {
    "duration": 11,
    "start_time": "2024-09-19T11:05:44.330Z"
   },
   {
    "duration": 45,
    "start_time": "2024-09-19T11:05:44.342Z"
   },
   {
    "duration": 16,
    "start_time": "2024-09-19T11:05:44.389Z"
   },
   {
    "duration": 32,
    "start_time": "2024-09-19T11:05:44.408Z"
   },
   {
    "duration": 7,
    "start_time": "2024-09-19T11:05:44.442Z"
   },
   {
    "duration": 7,
    "start_time": "2024-09-19T11:05:44.451Z"
   },
   {
    "duration": 41,
    "start_time": "2024-09-19T11:05:44.487Z"
   },
   {
    "duration": 4,
    "start_time": "2024-09-19T11:05:44.530Z"
   },
   {
    "duration": 4,
    "start_time": "2024-09-19T11:05:44.536Z"
   },
   {
    "duration": 2345,
    "start_time": "2024-09-19T11:05:44.541Z"
   },
   {
    "duration": 4,
    "start_time": "2024-09-19T11:05:47.713Z"
   },
   {
    "duration": 4,
    "start_time": "2024-09-19T11:05:50.553Z"
   },
   {
    "duration": 6285,
    "start_time": "2024-09-19T11:07:23.133Z"
   },
   {
    "duration": 9230,
    "start_time": "2024-09-19T11:07:33.961Z"
   },
   {
    "duration": 6,
    "start_time": "2024-09-19T11:08:15.221Z"
   },
   {
    "duration": 6025,
    "start_time": "2024-09-19T11:09:16.538Z"
   },
   {
    "duration": 1650,
    "start_time": "2024-09-19T11:11:29.316Z"
   },
   {
    "duration": 75,
    "start_time": "2024-09-19T11:11:51.858Z"
   },
   {
    "duration": 1558,
    "start_time": "2024-09-19T11:12:35.012Z"
   },
   {
    "duration": 165,
    "start_time": "2024-09-19T11:12:56.674Z"
   },
   {
    "duration": 477,
    "start_time": "2024-09-19T11:13:21.379Z"
   },
   {
    "duration": 1292,
    "start_time": "2024-09-19T11:13:21.859Z"
   },
   {
    "duration": 15,
    "start_time": "2024-09-19T11:13:23.153Z"
   },
   {
    "duration": 39,
    "start_time": "2024-09-19T11:13:23.171Z"
   },
   {
    "duration": 15,
    "start_time": "2024-09-19T11:13:23.212Z"
   },
   {
    "duration": 7,
    "start_time": "2024-09-19T11:13:23.229Z"
   },
   {
    "duration": 6,
    "start_time": "2024-09-19T11:13:23.238Z"
   },
   {
    "duration": 136,
    "start_time": "2024-09-19T11:13:23.246Z"
   },
   {
    "duration": 18,
    "start_time": "2024-09-19T11:13:23.383Z"
   },
   {
    "duration": 124,
    "start_time": "2024-09-19T11:13:23.408Z"
   },
   {
    "duration": 117,
    "start_time": "2024-09-19T11:13:23.534Z"
   },
   {
    "duration": 27,
    "start_time": "2024-09-19T11:13:23.652Z"
   },
   {
    "duration": 16,
    "start_time": "2024-09-19T11:13:23.681Z"
   },
   {
    "duration": 6,
    "start_time": "2024-09-19T11:13:23.703Z"
   },
   {
    "duration": 29,
    "start_time": "2024-09-19T11:13:23.711Z"
   },
   {
    "duration": 10,
    "start_time": "2024-09-19T11:13:23.742Z"
   },
   {
    "duration": 4,
    "start_time": "2024-09-19T11:13:23.754Z"
   },
   {
    "duration": 3,
    "start_time": "2024-09-19T11:13:23.760Z"
   },
   {
    "duration": 6,
    "start_time": "2024-09-19T11:13:23.786Z"
   },
   {
    "duration": 5,
    "start_time": "2024-09-19T11:13:23.803Z"
   },
   {
    "duration": 934,
    "start_time": "2024-09-19T11:13:23.810Z"
   },
   {
    "duration": 810,
    "start_time": "2024-09-19T11:13:24.746Z"
   },
   {
    "duration": 11,
    "start_time": "2024-09-19T11:13:25.557Z"
   },
   {
    "duration": 25,
    "start_time": "2024-09-19T11:13:25.570Z"
   },
   {
    "duration": 17,
    "start_time": "2024-09-19T11:13:25.602Z"
   },
   {
    "duration": 6,
    "start_time": "2024-09-19T11:13:25.621Z"
   },
   {
    "duration": 8,
    "start_time": "2024-09-19T11:13:25.629Z"
   },
   {
    "duration": 12,
    "start_time": "2024-09-19T11:13:25.639Z"
   },
   {
    "duration": 6,
    "start_time": "2024-09-19T11:13:25.652Z"
   },
   {
    "duration": 36,
    "start_time": "2024-09-19T11:13:25.659Z"
   },
   {
    "duration": 45,
    "start_time": "2024-09-19T11:13:25.697Z"
   },
   {
    "duration": 7,
    "start_time": "2024-09-19T11:13:25.743Z"
   },
   {
    "duration": 8,
    "start_time": "2024-09-19T11:13:25.752Z"
   },
   {
    "duration": 69,
    "start_time": "2024-09-19T11:13:25.764Z"
   },
   {
    "duration": 5,
    "start_time": "2024-09-19T11:13:25.835Z"
   },
   {
    "duration": 5,
    "start_time": "2024-09-19T11:13:25.841Z"
   },
   {
    "duration": 1884,
    "start_time": "2024-09-19T11:13:28.554Z"
   },
   {
    "duration": 1409,
    "start_time": "2024-09-19T11:14:44.133Z"
   },
   {
    "duration": 1511,
    "start_time": "2024-09-19T11:15:41.486Z"
   },
   {
    "duration": 1495,
    "start_time": "2024-09-19T11:15:54.939Z"
   },
   {
    "duration": 235,
    "start_time": "2024-09-19T11:16:31.972Z"
   },
   {
    "duration": 8393,
    "start_time": "2024-09-19T11:17:04.459Z"
   },
   {
    "duration": 9813,
    "start_time": "2024-09-19T11:17:25.544Z"
   },
   {
    "duration": 8862,
    "start_time": "2024-09-19T11:18:04.678Z"
   },
   {
    "duration": 145,
    "start_time": "2024-09-19T11:20:49.074Z"
   },
   {
    "duration": 223,
    "start_time": "2024-09-19T11:22:16.563Z"
   },
   {
    "duration": 273,
    "start_time": "2024-09-19T11:23:16.770Z"
   },
   {
    "duration": 264,
    "start_time": "2024-09-19T11:24:22.306Z"
   },
   {
    "duration": 4,
    "start_time": "2024-09-19T11:24:55.669Z"
   },
   {
    "duration": 3,
    "start_time": "2024-09-19T11:25:08.793Z"
   },
   {
    "duration": 233,
    "start_time": "2024-09-19T11:25:16.729Z"
   },
   {
    "duration": 240,
    "start_time": "2024-09-19T11:26:13.506Z"
   },
   {
    "duration": 296,
    "start_time": "2024-09-19T11:26:24.574Z"
   },
   {
    "duration": 232,
    "start_time": "2024-09-19T11:26:31.536Z"
   },
   {
    "duration": 233,
    "start_time": "2024-09-19T11:26:37.346Z"
   },
   {
    "duration": 230,
    "start_time": "2024-09-19T11:26:44.503Z"
   },
   {
    "duration": 82,
    "start_time": "2024-09-19T11:27:46.516Z"
   },
   {
    "duration": 242,
    "start_time": "2024-09-19T11:28:20.451Z"
   },
   {
    "duration": 294,
    "start_time": "2024-09-19T11:28:56.534Z"
   },
   {
    "duration": 5,
    "start_time": "2024-09-19T11:29:01.840Z"
   },
   {
    "duration": 248,
    "start_time": "2024-09-19T11:29:08.088Z"
   },
   {
    "duration": 243,
    "start_time": "2024-09-19T11:29:54.138Z"
   },
   {
    "duration": 7,
    "start_time": "2024-09-19T11:32:33.076Z"
   },
   {
    "duration": 12,
    "start_time": "2024-09-19T11:33:18.901Z"
   },
   {
    "duration": 4,
    "start_time": "2024-09-19T11:33:25.257Z"
   },
   {
    "duration": 6,
    "start_time": "2024-09-19T11:33:33.061Z"
   },
   {
    "duration": 7,
    "start_time": "2024-09-19T11:33:41.375Z"
   },
   {
    "duration": 5,
    "start_time": "2024-09-19T11:33:55.818Z"
   },
   {
    "duration": 103,
    "start_time": "2024-09-19T11:34:14.029Z"
   },
   {
    "duration": 6,
    "start_time": "2024-09-19T11:35:45.890Z"
   },
   {
    "duration": 6,
    "start_time": "2024-09-19T11:36:40.063Z"
   },
   {
    "duration": 2,
    "start_time": "2024-09-19T11:37:06.374Z"
   },
   {
    "duration": 101,
    "start_time": "2024-09-19T11:37:10.756Z"
   },
   {
    "duration": 8,
    "start_time": "2024-09-19T11:39:26.217Z"
   },
   {
    "duration": 108,
    "start_time": "2024-09-19T11:41:23.393Z"
   },
   {
    "duration": 104,
    "start_time": "2024-09-19T11:41:30.757Z"
   },
   {
    "duration": 5,
    "start_time": "2024-09-19T11:43:24.696Z"
   },
   {
    "duration": 687,
    "start_time": "2024-09-19T11:43:30.648Z"
   },
   {
    "duration": 152,
    "start_time": "2024-09-19T11:43:59.924Z"
   },
   {
    "duration": 122,
    "start_time": "2024-09-19T11:46:12.258Z"
   },
   {
    "duration": 451,
    "start_time": "2024-09-19T11:46:42.658Z"
   },
   {
    "duration": 174,
    "start_time": "2024-09-19T11:46:52.939Z"
   },
   {
    "duration": 165,
    "start_time": "2024-09-19T11:46:57.637Z"
   },
   {
    "duration": 177,
    "start_time": "2024-09-19T11:47:03.210Z"
   },
   {
    "duration": 128,
    "start_time": "2024-09-19T11:47:15.414Z"
   },
   {
    "duration": 235,
    "start_time": "2024-09-19T11:47:31.456Z"
   },
   {
    "duration": 229,
    "start_time": "2024-09-19T11:47:38.632Z"
   },
   {
    "duration": 163,
    "start_time": "2024-09-19T11:47:48.160Z"
   },
   {
    "duration": 172,
    "start_time": "2024-09-19T11:47:57.060Z"
   },
   {
    "duration": 170,
    "start_time": "2024-09-19T11:48:05.312Z"
   },
   {
    "duration": 123,
    "start_time": "2024-09-19T11:48:57.296Z"
   },
   {
    "duration": 5,
    "start_time": "2024-09-19T11:49:54.141Z"
   },
   {
    "duration": 333,
    "start_time": "2024-09-19T11:50:07.155Z"
   },
   {
    "duration": 128,
    "start_time": "2024-09-19T11:50:26.513Z"
   },
   {
    "duration": 127,
    "start_time": "2024-09-19T11:50:37.777Z"
   },
   {
    "duration": 120,
    "start_time": "2024-09-19T11:50:47.652Z"
   },
   {
    "duration": 120,
    "start_time": "2024-09-19T11:51:47.501Z"
   },
   {
    "duration": 127,
    "start_time": "2024-09-19T11:52:32.317Z"
   },
   {
    "duration": 9,
    "start_time": "2024-09-19T11:53:58.512Z"
   },
   {
    "duration": 121,
    "start_time": "2024-09-19T11:55:05.765Z"
   },
   {
    "duration": 6,
    "start_time": "2024-09-19T11:55:21.501Z"
   },
   {
    "duration": 128,
    "start_time": "2024-09-19T11:55:25.378Z"
   },
   {
    "duration": 122,
    "start_time": "2024-09-19T11:56:09.267Z"
   },
   {
    "duration": 121,
    "start_time": "2024-09-19T11:56:26.664Z"
   },
   {
    "duration": 119,
    "start_time": "2024-09-19T11:57:26.117Z"
   },
   {
    "duration": 4,
    "start_time": "2024-09-19T11:58:07.236Z"
   },
   {
    "duration": 5,
    "start_time": "2024-09-19T11:58:16.369Z"
   },
   {
    "duration": 121,
    "start_time": "2024-09-19T11:58:28.689Z"
   },
   {
    "duration": 2168,
    "start_time": "2024-09-19T22:40:38.359Z"
   },
   {
    "duration": 1031,
    "start_time": "2024-09-19T22:40:40.529Z"
   },
   {
    "duration": 15,
    "start_time": "2024-09-19T22:40:41.563Z"
   },
   {
    "duration": 9,
    "start_time": "2024-09-19T22:40:41.586Z"
   },
   {
    "duration": 7,
    "start_time": "2024-09-19T22:40:41.597Z"
   },
   {
    "duration": 8,
    "start_time": "2024-09-19T22:40:41.606Z"
   },
   {
    "duration": 7,
    "start_time": "2024-09-19T22:40:41.615Z"
   },
   {
    "duration": 135,
    "start_time": "2024-09-19T22:40:41.623Z"
   },
   {
    "duration": 10,
    "start_time": "2024-09-19T22:40:41.761Z"
   },
   {
    "duration": 115,
    "start_time": "2024-09-19T22:40:41.786Z"
   },
   {
    "duration": 97,
    "start_time": "2024-09-19T22:40:41.903Z"
   },
   {
    "duration": 31,
    "start_time": "2024-09-19T22:40:42.002Z"
   },
   {
    "duration": 13,
    "start_time": "2024-09-19T22:40:42.034Z"
   },
   {
    "duration": 3,
    "start_time": "2024-09-19T22:40:42.049Z"
   },
   {
    "duration": 51,
    "start_time": "2024-09-19T22:40:42.053Z"
   },
   {
    "duration": 11,
    "start_time": "2024-09-19T22:40:42.105Z"
   },
   {
    "duration": 4,
    "start_time": "2024-09-19T22:40:42.118Z"
   },
   {
    "duration": 3,
    "start_time": "2024-09-19T22:40:42.124Z"
   },
   {
    "duration": 3,
    "start_time": "2024-09-19T22:40:42.129Z"
   },
   {
    "duration": 3,
    "start_time": "2024-09-19T22:40:42.134Z"
   },
   {
    "duration": 896,
    "start_time": "2024-09-19T22:40:42.139Z"
   },
   {
    "duration": 829,
    "start_time": "2024-09-19T22:40:43.037Z"
   },
   {
    "duration": 20,
    "start_time": "2024-09-19T22:40:43.868Z"
   },
   {
    "duration": 8,
    "start_time": "2024-09-19T22:40:43.891Z"
   },
   {
    "duration": 9,
    "start_time": "2024-09-19T22:40:43.901Z"
   },
   {
    "duration": 6,
    "start_time": "2024-09-19T22:40:43.912Z"
   },
   {
    "duration": 8,
    "start_time": "2024-09-19T22:40:43.919Z"
   },
   {
    "duration": 11,
    "start_time": "2024-09-19T22:40:43.931Z"
   },
   {
    "duration": 5,
    "start_time": "2024-09-19T22:40:43.944Z"
   },
   {
    "duration": 53,
    "start_time": "2024-09-19T22:40:43.950Z"
   },
   {
    "duration": 32,
    "start_time": "2024-09-19T22:40:44.004Z"
   },
   {
    "duration": 8,
    "start_time": "2024-09-19T22:40:44.038Z"
   },
   {
    "duration": 7,
    "start_time": "2024-09-19T22:40:44.047Z"
   },
   {
    "duration": 67,
    "start_time": "2024-09-19T22:40:44.056Z"
   },
   {
    "duration": 4,
    "start_time": "2024-09-19T22:40:44.125Z"
   },
   {
    "duration": 3,
    "start_time": "2024-09-19T22:40:44.132Z"
   },
   {
    "duration": 286,
    "start_time": "2024-09-19T22:40:44.138Z"
   },
   {
    "duration": 135,
    "start_time": "2024-09-19T22:40:44.427Z"
   },
   {
    "duration": 2,
    "start_time": "2024-09-19T22:40:44.564Z"
   },
   {
    "duration": 6,
    "start_time": "2024-09-19T22:42:22.046Z"
   },
   {
    "duration": 7,
    "start_time": "2024-09-19T22:42:34.824Z"
   },
   {
    "duration": 94,
    "start_time": "2024-09-19T22:46:23.810Z"
   },
   {
    "duration": 85,
    "start_time": "2024-09-19T22:46:39.873Z"
   },
   {
    "duration": 83,
    "start_time": "2024-09-19T22:47:04.555Z"
   },
   {
    "duration": 82,
    "start_time": "2024-09-19T22:47:11.988Z"
   },
   {
    "duration": 217,
    "start_time": "2024-09-19T22:48:01.729Z"
   },
   {
    "duration": 81,
    "start_time": "2024-09-19T22:48:08.512Z"
   },
   {
    "duration": 89,
    "start_time": "2024-09-19T22:49:44.610Z"
   },
   {
    "duration": 191,
    "start_time": "2024-09-19T22:50:12.330Z"
   },
   {
    "duration": 93,
    "start_time": "2024-09-19T22:50:17.112Z"
   },
   {
    "duration": 89,
    "start_time": "2024-09-19T22:50:24.329Z"
   },
   {
    "duration": 95,
    "start_time": "2024-09-19T22:51:16.172Z"
   },
   {
    "duration": 99,
    "start_time": "2024-09-19T22:52:17.774Z"
   },
   {
    "duration": 4,
    "start_time": "2024-09-19T23:37:41.279Z"
   },
   {
    "duration": 5,
    "start_time": "2024-09-19T23:39:32.909Z"
   },
   {
    "duration": 7,
    "start_time": "2024-09-19T23:39:37.240Z"
   },
   {
    "duration": 10,
    "start_time": "2024-09-19T23:39:48.234Z"
   },
   {
    "duration": 30,
    "start_time": "2024-09-19T23:41:50.061Z"
   },
   {
    "duration": 38,
    "start_time": "2024-09-19T23:41:53.550Z"
   },
   {
    "duration": 10,
    "start_time": "2024-09-19T23:47:33.257Z"
   },
   {
    "duration": 5,
    "start_time": "2024-09-19T23:49:27.827Z"
   },
   {
    "duration": 6,
    "start_time": "2024-09-19T23:49:35.725Z"
   },
   {
    "duration": 6,
    "start_time": "2024-09-19T23:49:56.122Z"
   },
   {
    "duration": 138,
    "start_time": "2024-09-19T23:50:27.787Z"
   },
   {
    "duration": 6,
    "start_time": "2024-09-19T23:50:56.713Z"
   },
   {
    "duration": 5,
    "start_time": "2024-09-19T23:51:51.814Z"
   },
   {
    "duration": 92,
    "start_time": "2024-09-19T23:51:56.355Z"
   },
   {
    "duration": 423,
    "start_time": "2024-09-19T23:53:50.286Z"
   },
   {
    "duration": 102,
    "start_time": "2024-09-19T23:53:57.734Z"
   },
   {
    "duration": 113,
    "start_time": "2024-09-19T23:54:02.262Z"
   },
   {
    "duration": 119,
    "start_time": "2024-09-19T23:54:08.827Z"
   },
   {
    "duration": 164,
    "start_time": "2024-09-19T23:54:17.383Z"
   },
   {
    "duration": 343,
    "start_time": "2024-09-19T23:56:01.663Z"
   },
   {
    "duration": 202,
    "start_time": "2024-09-19T23:56:12.432Z"
   },
   {
    "duration": 188,
    "start_time": "2024-09-19T23:56:27.063Z"
   },
   {
    "duration": 91,
    "start_time": "2024-09-19T23:56:54.940Z"
   },
   {
    "duration": 13,
    "start_time": "2024-09-19T23:58:14.509Z"
   },
   {
    "duration": 13,
    "start_time": "2024-09-19T23:58:19.402Z"
   },
   {
    "duration": 14,
    "start_time": "2024-09-19T23:58:21.560Z"
   },
   {
    "duration": 6,
    "start_time": "2024-09-19T23:58:32.828Z"
   },
   {
    "duration": 156,
    "start_time": "2024-09-19T23:58:33.583Z"
   },
   {
    "duration": 157,
    "start_time": "2024-09-19T23:58:45.018Z"
   },
   {
    "duration": 801,
    "start_time": "2024-09-19T23:59:51.893Z"
   },
   {
    "duration": 171,
    "start_time": "2024-09-20T00:00:09.748Z"
   },
   {
    "duration": 162,
    "start_time": "2024-09-20T00:00:18.534Z"
   },
   {
    "duration": 214,
    "start_time": "2024-09-20T00:00:25.813Z"
   },
   {
    "duration": 8,
    "start_time": "2024-09-20T00:00:44.992Z"
   },
   {
    "duration": 171,
    "start_time": "2024-09-20T00:00:49.056Z"
   },
   {
    "duration": 7,
    "start_time": "2024-09-20T00:00:49.827Z"
   },
   {
    "duration": 7,
    "start_time": "2024-09-20T00:09:27.131Z"
   },
   {
    "duration": 392,
    "start_time": "2024-09-20T00:11:05.144Z"
   },
   {
    "duration": 97,
    "start_time": "2024-09-20T00:11:15.953Z"
   },
   {
    "duration": 114,
    "start_time": "2024-09-20T00:11:29.126Z"
   },
   {
    "duration": 566,
    "start_time": "2024-09-20T00:11:51.634Z"
   },
   {
    "duration": 8,
    "start_time": "2024-09-20T00:12:21.123Z"
   },
   {
    "duration": 111,
    "start_time": "2024-09-20T00:13:20.331Z"
   },
   {
    "duration": 18,
    "start_time": "2024-09-20T00:14:00.647Z"
   },
   {
    "duration": 127,
    "start_time": "2024-09-20T00:15:40.104Z"
   },
   {
    "duration": 204,
    "start_time": "2024-09-20T00:15:58.535Z"
   },
   {
    "duration": 43,
    "start_time": "2024-09-20T00:17:49.615Z"
   },
   {
    "duration": 192,
    "start_time": "2024-09-20T00:17:51.924Z"
   },
   {
    "duration": 286,
    "start_time": "2024-09-20T00:19:33.853Z"
   },
   {
    "duration": 435,
    "start_time": "2024-09-20T00:19:42.302Z"
   },
   {
    "duration": 22,
    "start_time": "2024-09-20T00:20:03.478Z"
   },
   {
    "duration": 49,
    "start_time": "2024-09-20T00:20:08.827Z"
   },
   {
    "duration": 179,
    "start_time": "2024-09-20T00:20:36.241Z"
   },
   {
    "duration": 182,
    "start_time": "2024-09-20T00:20:46.315Z"
   },
   {
    "duration": 198,
    "start_time": "2024-09-20T00:21:02.830Z"
   },
   {
    "duration": 40,
    "start_time": "2024-09-20T00:21:50.976Z"
   },
   {
    "duration": 177,
    "start_time": "2024-09-20T00:21:56.928Z"
   },
   {
    "duration": 35,
    "start_time": "2024-09-20T00:22:02.342Z"
   },
   {
    "duration": 41,
    "start_time": "2024-09-20T00:22:31.569Z"
   },
   {
    "duration": 43,
    "start_time": "2024-09-20T00:22:35.003Z"
   },
   {
    "duration": 173,
    "start_time": "2024-09-20T00:22:35.733Z"
   },
   {
    "duration": 176,
    "start_time": "2024-09-20T00:23:49.752Z"
   },
   {
    "duration": 41,
    "start_time": "2024-09-20T00:23:53.856Z"
   },
   {
    "duration": 187,
    "start_time": "2024-09-20T00:23:54.842Z"
   },
   {
    "duration": 37,
    "start_time": "2024-09-20T00:24:11.056Z"
   },
   {
    "duration": 178,
    "start_time": "2024-09-20T00:24:11.548Z"
   },
   {
    "duration": 187,
    "start_time": "2024-09-20T00:24:24.389Z"
   },
   {
    "duration": 198,
    "start_time": "2024-09-20T00:24:33.848Z"
   },
   {
    "duration": 8,
    "start_time": "2024-09-20T00:29:21.275Z"
   },
   {
    "duration": 13,
    "start_time": "2024-09-20T00:31:12.219Z"
   },
   {
    "duration": 13,
    "start_time": "2024-09-20T00:31:15.485Z"
   },
   {
    "duration": 7,
    "start_time": "2024-09-20T00:31:20.564Z"
   },
   {
    "duration": 8,
    "start_time": "2024-09-20T00:31:33.106Z"
   },
   {
    "duration": 8,
    "start_time": "2024-09-20T00:32:33.803Z"
   },
   {
    "duration": 767,
    "start_time": "2024-09-20T00:33:41.340Z"
   },
   {
    "duration": 765,
    "start_time": "2024-09-20T00:33:46.643Z"
   },
   {
    "duration": 443,
    "start_time": "2024-09-20T00:33:56.137Z"
   },
   {
    "duration": 448,
    "start_time": "2024-09-20T00:34:00.066Z"
   },
   {
    "duration": 3,
    "start_time": "2024-09-20T00:34:12.646Z"
   },
   {
    "duration": 81,
    "start_time": "2024-09-20T00:34:31.084Z"
   },
   {
    "duration": 29,
    "start_time": "2024-09-20T00:35:05.203Z"
   },
   {
    "duration": 27,
    "start_time": "2024-09-20T00:35:14.087Z"
   },
   {
    "duration": 28,
    "start_time": "2024-09-20T00:35:23.827Z"
   },
   {
    "duration": 36,
    "start_time": "2024-09-20T00:36:09.870Z"
   },
   {
    "duration": 27,
    "start_time": "2024-09-20T00:36:31.950Z"
   },
   {
    "duration": 29,
    "start_time": "2024-09-20T00:36:41.006Z"
   },
   {
    "duration": 442,
    "start_time": "2024-09-20T00:37:00.163Z"
   },
   {
    "duration": 996,
    "start_time": "2024-09-20T00:37:00.607Z"
   },
   {
    "duration": 11,
    "start_time": "2024-09-20T00:37:01.605Z"
   },
   {
    "duration": 10,
    "start_time": "2024-09-20T00:37:01.619Z"
   },
   {
    "duration": 8,
    "start_time": "2024-09-20T00:37:01.632Z"
   },
   {
    "duration": 8,
    "start_time": "2024-09-20T00:37:01.642Z"
   },
   {
    "duration": 38,
    "start_time": "2024-09-20T00:37:01.653Z"
   },
   {
    "duration": 120,
    "start_time": "2024-09-20T00:37:01.693Z"
   },
   {
    "duration": 11,
    "start_time": "2024-09-20T00:37:01.815Z"
   },
   {
    "duration": 132,
    "start_time": "2024-09-20T00:37:01.828Z"
   },
   {
    "duration": 101,
    "start_time": "2024-09-20T00:37:01.961Z"
   },
   {
    "duration": 43,
    "start_time": "2024-09-20T00:37:02.064Z"
   },
   {
    "duration": 12,
    "start_time": "2024-09-20T00:37:02.108Z"
   },
   {
    "duration": 4,
    "start_time": "2024-09-20T00:37:02.123Z"
   },
   {
    "duration": 24,
    "start_time": "2024-09-20T00:37:02.128Z"
   },
   {
    "duration": 36,
    "start_time": "2024-09-20T00:37:02.154Z"
   },
   {
    "duration": 3,
    "start_time": "2024-09-20T00:37:02.192Z"
   },
   {
    "duration": 3,
    "start_time": "2024-09-20T00:37:02.197Z"
   },
   {
    "duration": 4,
    "start_time": "2024-09-20T00:37:02.202Z"
   },
   {
    "duration": 3,
    "start_time": "2024-09-20T00:37:02.208Z"
   },
   {
    "duration": 873,
    "start_time": "2024-09-20T00:37:02.213Z"
   },
   {
    "duration": 756,
    "start_time": "2024-09-20T00:37:03.088Z"
   },
   {
    "duration": 12,
    "start_time": "2024-09-20T00:37:03.846Z"
   },
   {
    "duration": 10,
    "start_time": "2024-09-20T00:37:03.860Z"
   },
   {
    "duration": 10,
    "start_time": "2024-09-20T00:37:03.887Z"
   },
   {
    "duration": 6,
    "start_time": "2024-09-20T00:37:03.899Z"
   },
   {
    "duration": 8,
    "start_time": "2024-09-20T00:37:03.906Z"
   },
   {
    "duration": 11,
    "start_time": "2024-09-20T00:37:03.915Z"
   },
   {
    "duration": 4,
    "start_time": "2024-09-20T00:37:03.928Z"
   },
   {
    "duration": 54,
    "start_time": "2024-09-20T00:37:03.934Z"
   },
   {
    "duration": 40,
    "start_time": "2024-09-20T00:37:03.990Z"
   },
   {
    "duration": 7,
    "start_time": "2024-09-20T00:37:04.032Z"
   },
   {
    "duration": 7,
    "start_time": "2024-09-20T00:37:04.040Z"
   },
   {
    "duration": 69,
    "start_time": "2024-09-20T00:37:04.048Z"
   },
   {
    "duration": 4,
    "start_time": "2024-09-20T00:37:04.118Z"
   },
   {
    "duration": 4,
    "start_time": "2024-09-20T00:37:04.124Z"
   },
   {
    "duration": 273,
    "start_time": "2024-09-20T00:37:04.129Z"
   },
   {
    "duration": 129,
    "start_time": "2024-09-20T00:37:04.405Z"
   },
   {
    "duration": 100,
    "start_time": "2024-09-20T00:37:04.536Z"
   },
   {
    "duration": 5,
    "start_time": "2024-09-20T00:37:04.638Z"
   },
   {
    "duration": 181,
    "start_time": "2024-09-20T00:37:04.647Z"
   },
   {
    "duration": 6,
    "start_time": "2024-09-20T00:37:04.830Z"
   },
   {
    "duration": 180,
    "start_time": "2024-09-20T00:37:04.838Z"
   },
   {
    "duration": 35,
    "start_time": "2024-09-20T00:37:05.020Z"
   },
   {
    "duration": 191,
    "start_time": "2024-09-20T00:37:05.057Z"
   },
   {
    "duration": 4,
    "start_time": "2024-09-20T00:37:05.256Z"
   },
   {
    "duration": 330,
    "start_time": "2024-09-20T00:37:37.173Z"
   },
   {
    "duration": 5,
    "start_time": "2024-09-20T00:38:16.115Z"
   },
   {
    "duration": 8,
    "start_time": "2024-09-20T00:39:25.956Z"
   },
   {
    "duration": 91,
    "start_time": "2024-09-20T00:41:52.533Z"
   },
   {
    "duration": 88,
    "start_time": "2024-09-20T00:42:02.819Z"
   },
   {
    "duration": 118,
    "start_time": "2024-09-20T00:42:13.144Z"
   },
   {
    "duration": 86,
    "start_time": "2024-09-20T00:43:09.772Z"
   },
   {
    "duration": 9,
    "start_time": "2024-09-20T00:47:35.679Z"
   },
   {
    "duration": 10,
    "start_time": "2024-09-20T00:47:49.324Z"
   },
   {
    "duration": 11,
    "start_time": "2024-09-20T00:48:30.184Z"
   },
   {
    "duration": 10,
    "start_time": "2024-09-20T00:48:43.788Z"
   },
   {
    "duration": 588,
    "start_time": "2024-09-20T00:51:22.435Z"
   },
   {
    "duration": 35,
    "start_time": "2024-09-20T00:51:53.891Z"
   },
   {
    "duration": 3,
    "start_time": "2024-09-20T00:53:41.982Z"
   },
   {
    "duration": 8,
    "start_time": "2024-09-20T00:53:51.070Z"
   },
   {
    "duration": 98,
    "start_time": "2024-09-20T00:56:05.946Z"
   },
   {
    "duration": 89,
    "start_time": "2024-09-20T00:56:18.410Z"
   },
   {
    "duration": 87,
    "start_time": "2024-09-20T00:56:46.291Z"
   },
   {
    "duration": 7,
    "start_time": "2024-09-20T00:58:23.743Z"
   },
   {
    "duration": 8,
    "start_time": "2024-09-20T00:58:26.888Z"
   },
   {
    "duration": 89,
    "start_time": "2024-09-20T00:58:30.582Z"
   },
   {
    "duration": 10,
    "start_time": "2024-09-20T00:58:30.917Z"
   },
   {
    "duration": 7,
    "start_time": "2024-09-20T00:58:31.384Z"
   },
   {
    "duration": 8,
    "start_time": "2024-09-20T00:59:18.269Z"
   },
   {
    "duration": 612,
    "start_time": "2024-09-20T00:59:33.437Z"
   },
   {
    "duration": 36,
    "start_time": "2024-09-20T00:59:35.409Z"
   },
   {
    "duration": 89,
    "start_time": "2024-09-20T00:59:37.583Z"
   },
   {
    "duration": 9,
    "start_time": "2024-09-20T00:59:38.242Z"
   },
   {
    "duration": 8,
    "start_time": "2024-09-20T00:59:38.817Z"
   },
   {
    "duration": 36,
    "start_time": "2024-09-20T01:01:02.927Z"
   },
   {
    "duration": 88,
    "start_time": "2024-09-20T01:01:23.977Z"
   },
   {
    "duration": 12,
    "start_time": "2024-09-20T01:01:24.551Z"
   },
   {
    "duration": 9,
    "start_time": "2024-09-20T01:01:25.127Z"
   },
   {
    "duration": 34,
    "start_time": "2024-09-20T01:03:21.211Z"
   },
   {
    "duration": 98,
    "start_time": "2024-09-20T01:03:23.705Z"
   },
   {
    "duration": 10,
    "start_time": "2024-09-20T01:03:24.039Z"
   },
   {
    "duration": 9,
    "start_time": "2024-09-20T01:03:24.484Z"
   },
   {
    "duration": 14,
    "start_time": "2024-09-20T01:10:26.092Z"
   },
   {
    "duration": 9,
    "start_time": "2024-09-20T01:10:28.813Z"
   },
   {
    "duration": 333,
    "start_time": "2024-09-20T01:11:52.507Z"
   },
   {
    "duration": 99,
    "start_time": "2024-09-20T01:12:31.880Z"
   },
   {
    "duration": 376,
    "start_time": "2024-09-20T01:12:57.956Z"
   },
   {
    "duration": 97,
    "start_time": "2024-09-20T01:12:58.636Z"
   },
   {
    "duration": 307,
    "start_time": "2024-09-20T01:17:00.625Z"
   },
   {
    "duration": 4,
    "start_time": "2024-09-20T01:17:11.984Z"
   },
   {
    "duration": 264,
    "start_time": "2024-09-20T01:17:21.365Z"
   },
   {
    "duration": 138,
    "start_time": "2024-09-20T01:17:32.292Z"
   },
   {
    "duration": 432,
    "start_time": "2024-09-20T01:18:59.947Z"
   },
   {
    "duration": 921,
    "start_time": "2024-09-20T01:19:00.381Z"
   },
   {
    "duration": 12,
    "start_time": "2024-09-20T01:19:01.304Z"
   },
   {
    "duration": 9,
    "start_time": "2024-09-20T01:19:01.318Z"
   },
   {
    "duration": 7,
    "start_time": "2024-09-20T01:19:01.329Z"
   },
   {
    "duration": 8,
    "start_time": "2024-09-20T01:19:01.338Z"
   },
   {
    "duration": 7,
    "start_time": "2024-09-20T01:19:01.347Z"
   },
   {
    "duration": 122,
    "start_time": "2024-09-20T01:19:01.388Z"
   },
   {
    "duration": 12,
    "start_time": "2024-09-20T01:19:01.511Z"
   },
   {
    "duration": 124,
    "start_time": "2024-09-20T01:19:01.525Z"
   },
   {
    "duration": 104,
    "start_time": "2024-09-20T01:19:01.651Z"
   },
   {
    "duration": 37,
    "start_time": "2024-09-20T01:19:01.757Z"
   },
   {
    "duration": 12,
    "start_time": "2024-09-20T01:19:01.795Z"
   },
   {
    "duration": 4,
    "start_time": "2024-09-20T01:19:01.809Z"
   },
   {
    "duration": 23,
    "start_time": "2024-09-20T01:19:01.814Z"
   },
   {
    "duration": 12,
    "start_time": "2024-09-20T01:19:01.839Z"
   },
   {
    "duration": 3,
    "start_time": "2024-09-20T01:19:01.853Z"
   },
   {
    "duration": 32,
    "start_time": "2024-09-20T01:19:01.858Z"
   },
   {
    "duration": 4,
    "start_time": "2024-09-20T01:19:01.892Z"
   },
   {
    "duration": 3,
    "start_time": "2024-09-20T01:19:01.898Z"
   },
   {
    "duration": 854,
    "start_time": "2024-09-20T01:19:01.902Z"
   },
   {
    "duration": 764,
    "start_time": "2024-09-20T01:19:02.758Z"
   },
   {
    "duration": 11,
    "start_time": "2024-09-20T01:19:03.525Z"
   },
   {
    "duration": 12,
    "start_time": "2024-09-20T01:19:03.538Z"
   },
   {
    "duration": 8,
    "start_time": "2024-09-20T01:19:03.552Z"
   },
   {
    "duration": 26,
    "start_time": "2024-09-20T01:19:03.561Z"
   },
   {
    "duration": 9,
    "start_time": "2024-09-20T01:19:03.589Z"
   },
   {
    "duration": 11,
    "start_time": "2024-09-20T01:19:03.603Z"
   },
   {
    "duration": 5,
    "start_time": "2024-09-20T01:19:03.616Z"
   },
   {
    "duration": 17,
    "start_time": "2024-09-20T01:19:03.623Z"
   },
   {
    "duration": 68,
    "start_time": "2024-09-20T01:19:03.641Z"
   },
   {
    "duration": 8,
    "start_time": "2024-09-20T01:19:03.711Z"
   },
   {
    "duration": 8,
    "start_time": "2024-09-20T01:19:03.720Z"
   },
   {
    "duration": 64,
    "start_time": "2024-09-20T01:19:03.730Z"
   },
   {
    "duration": 4,
    "start_time": "2024-09-20T01:19:03.796Z"
   },
   {
    "duration": 4,
    "start_time": "2024-09-20T01:19:03.802Z"
   },
   {
    "duration": 297,
    "start_time": "2024-09-20T01:19:03.808Z"
   },
   {
    "duration": 134,
    "start_time": "2024-09-20T01:19:04.107Z"
   },
   {
    "duration": 98,
    "start_time": "2024-09-20T01:19:04.243Z"
   },
   {
    "duration": 6,
    "start_time": "2024-09-20T01:19:04.343Z"
   },
   {
    "duration": 189,
    "start_time": "2024-09-20T01:19:04.350Z"
   },
   {
    "duration": 7,
    "start_time": "2024-09-20T01:19:04.540Z"
   },
   {
    "duration": 176,
    "start_time": "2024-09-20T01:19:04.548Z"
   },
   {
    "duration": 36,
    "start_time": "2024-09-20T01:19:04.725Z"
   },
   {
    "duration": 192,
    "start_time": "2024-09-20T01:19:04.763Z"
   },
   {
    "duration": 101,
    "start_time": "2024-09-20T01:19:04.957Z"
   },
   {
    "duration": 9,
    "start_time": "2024-09-20T01:19:05.060Z"
   },
   {
    "duration": 18,
    "start_time": "2024-09-20T01:19:05.071Z"
   },
   {
    "duration": 339,
    "start_time": "2024-09-20T01:19:05.091Z"
   },
   {
    "duration": 149,
    "start_time": "2024-09-20T01:19:05.431Z"
   },
   {
    "duration": 438,
    "start_time": "2024-09-20T01:19:28.288Z"
   },
   {
    "duration": 924,
    "start_time": "2024-09-20T01:19:28.728Z"
   },
   {
    "duration": 12,
    "start_time": "2024-09-20T01:19:29.654Z"
   },
   {
    "duration": 21,
    "start_time": "2024-09-20T01:19:29.668Z"
   },
   {
    "duration": 8,
    "start_time": "2024-09-20T01:19:29.691Z"
   },
   {
    "duration": 7,
    "start_time": "2024-09-20T01:19:29.702Z"
   },
   {
    "duration": 6,
    "start_time": "2024-09-20T01:19:29.711Z"
   },
   {
    "duration": 130,
    "start_time": "2024-09-20T01:19:29.719Z"
   },
   {
    "duration": 13,
    "start_time": "2024-09-20T01:19:29.851Z"
   },
   {
    "duration": 125,
    "start_time": "2024-09-20T01:19:29.868Z"
   },
   {
    "duration": 102,
    "start_time": "2024-09-20T01:19:29.995Z"
   },
   {
    "duration": 28,
    "start_time": "2024-09-20T01:19:30.099Z"
   },
   {
    "duration": 12,
    "start_time": "2024-09-20T01:19:30.129Z"
   },
   {
    "duration": 3,
    "start_time": "2024-09-20T01:19:30.143Z"
   },
   {
    "duration": 47,
    "start_time": "2024-09-20T01:19:30.148Z"
   },
   {
    "duration": 14,
    "start_time": "2024-09-20T01:19:30.197Z"
   },
   {
    "duration": 4,
    "start_time": "2024-09-20T01:19:30.212Z"
   },
   {
    "duration": 3,
    "start_time": "2024-09-20T01:19:30.218Z"
   },
   {
    "duration": 4,
    "start_time": "2024-09-20T01:19:30.223Z"
   },
   {
    "duration": 4,
    "start_time": "2024-09-20T01:19:30.228Z"
   },
   {
    "duration": 813,
    "start_time": "2024-09-20T01:19:30.234Z"
   },
   {
    "duration": 819,
    "start_time": "2024-09-20T01:19:31.049Z"
   },
   {
    "duration": 21,
    "start_time": "2024-09-20T01:19:31.871Z"
   },
   {
    "duration": 9,
    "start_time": "2024-09-20T01:19:31.894Z"
   },
   {
    "duration": 9,
    "start_time": "2024-09-20T01:19:31.904Z"
   },
   {
    "duration": 6,
    "start_time": "2024-09-20T01:19:31.915Z"
   },
   {
    "duration": 8,
    "start_time": "2024-09-20T01:19:31.923Z"
   },
   {
    "duration": 12,
    "start_time": "2024-09-20T01:19:31.936Z"
   },
   {
    "duration": 39,
    "start_time": "2024-09-20T01:19:31.950Z"
   },
   {
    "duration": 18,
    "start_time": "2024-09-20T01:19:31.992Z"
   },
   {
    "duration": 34,
    "start_time": "2024-09-20T01:19:32.012Z"
   },
   {
    "duration": 39,
    "start_time": "2024-09-20T01:19:32.048Z"
   },
   {
    "duration": 8,
    "start_time": "2024-09-20T01:19:32.089Z"
   },
   {
    "duration": 44,
    "start_time": "2024-09-20T01:19:32.098Z"
   },
   {
    "duration": 4,
    "start_time": "2024-09-20T01:19:32.144Z"
   },
   {
    "duration": 5,
    "start_time": "2024-09-20T01:19:32.150Z"
   },
   {
    "duration": 269,
    "start_time": "2024-09-20T01:19:32.188Z"
   },
   {
    "duration": 129,
    "start_time": "2024-09-20T01:19:32.459Z"
   },
   {
    "duration": 99,
    "start_time": "2024-09-20T01:19:32.591Z"
   },
   {
    "duration": 7,
    "start_time": "2024-09-20T01:19:32.692Z"
   },
   {
    "duration": 188,
    "start_time": "2024-09-20T01:19:32.701Z"
   },
   {
    "duration": 7,
    "start_time": "2024-09-20T01:19:32.891Z"
   },
   {
    "duration": 210,
    "start_time": "2024-09-20T01:19:32.899Z"
   },
   {
    "duration": 44,
    "start_time": "2024-09-20T01:19:33.111Z"
   },
   {
    "duration": 203,
    "start_time": "2024-09-20T01:19:33.159Z"
   },
   {
    "duration": 101,
    "start_time": "2024-09-20T01:19:33.365Z"
   },
   {
    "duration": 19,
    "start_time": "2024-09-20T01:19:33.468Z"
   },
   {
    "duration": 14,
    "start_time": "2024-09-20T01:19:33.489Z"
   },
   {
    "duration": 324,
    "start_time": "2024-09-20T01:19:33.506Z"
   },
   {
    "duration": 452,
    "start_time": "2024-09-20T01:20:52.676Z"
   },
   {
    "duration": 982,
    "start_time": "2024-09-20T01:20:53.131Z"
   },
   {
    "duration": 11,
    "start_time": "2024-09-20T01:20:54.115Z"
   },
   {
    "duration": 11,
    "start_time": "2024-09-20T01:20:54.129Z"
   },
   {
    "duration": 9,
    "start_time": "2024-09-20T01:20:54.142Z"
   },
   {
    "duration": 39,
    "start_time": "2024-09-20T01:20:54.153Z"
   },
   {
    "duration": 9,
    "start_time": "2024-09-20T01:20:54.194Z"
   },
   {
    "duration": 119,
    "start_time": "2024-09-20T01:20:54.205Z"
   },
   {
    "duration": 11,
    "start_time": "2024-09-20T01:20:54.326Z"
   },
   {
    "duration": 121,
    "start_time": "2024-09-20T01:20:54.340Z"
   },
   {
    "duration": 101,
    "start_time": "2024-09-20T01:20:54.462Z"
   },
   {
    "duration": 43,
    "start_time": "2024-09-20T01:20:54.564Z"
   },
   {
    "duration": 15,
    "start_time": "2024-09-20T01:20:54.608Z"
   },
   {
    "duration": 3,
    "start_time": "2024-09-20T01:20:54.625Z"
   },
   {
    "duration": 24,
    "start_time": "2024-09-20T01:20:54.630Z"
   },
   {
    "duration": 38,
    "start_time": "2024-09-20T01:20:54.656Z"
   },
   {
    "duration": 4,
    "start_time": "2024-09-20T01:20:54.696Z"
   },
   {
    "duration": 3,
    "start_time": "2024-09-20T01:20:54.702Z"
   },
   {
    "duration": 4,
    "start_time": "2024-09-20T01:20:54.707Z"
   },
   {
    "duration": 4,
    "start_time": "2024-09-20T01:20:54.712Z"
   },
   {
    "duration": 901,
    "start_time": "2024-09-20T01:20:54.718Z"
   },
   {
    "duration": 703,
    "start_time": "2024-09-20T01:20:55.620Z"
   },
   {
    "duration": 11,
    "start_time": "2024-09-20T01:20:56.325Z"
   },
   {
    "duration": 8,
    "start_time": "2024-09-20T01:20:56.338Z"
   },
   {
    "duration": 8,
    "start_time": "2024-09-20T01:20:56.348Z"
   },
   {
    "duration": 30,
    "start_time": "2024-09-20T01:20:56.357Z"
   },
   {
    "duration": 8,
    "start_time": "2024-09-20T01:20:56.389Z"
   },
   {
    "duration": 11,
    "start_time": "2024-09-20T01:20:56.402Z"
   },
   {
    "duration": 6,
    "start_time": "2024-09-20T01:20:56.415Z"
   },
   {
    "duration": 16,
    "start_time": "2024-09-20T01:20:56.423Z"
   },
   {
    "duration": 64,
    "start_time": "2024-09-20T01:20:56.441Z"
   },
   {
    "duration": 7,
    "start_time": "2024-09-20T01:20:56.507Z"
   },
   {
    "duration": 8,
    "start_time": "2024-09-20T01:20:56.516Z"
   },
   {
    "duration": 61,
    "start_time": "2024-09-20T01:20:56.526Z"
   },
   {
    "duration": 4,
    "start_time": "2024-09-20T01:20:56.589Z"
   },
   {
    "duration": 4,
    "start_time": "2024-09-20T01:20:56.595Z"
   },
   {
    "duration": 270,
    "start_time": "2024-09-20T01:20:56.601Z"
   },
   {
    "duration": 141,
    "start_time": "2024-09-20T01:20:56.873Z"
   },
   {
    "duration": 111,
    "start_time": "2024-09-20T01:20:57.016Z"
   },
   {
    "duration": 6,
    "start_time": "2024-09-20T01:20:57.129Z"
   },
   {
    "duration": 187,
    "start_time": "2024-09-20T01:20:57.136Z"
   },
   {
    "duration": 6,
    "start_time": "2024-09-20T01:20:57.325Z"
   },
   {
    "duration": 181,
    "start_time": "2024-09-20T01:20:57.333Z"
   },
   {
    "duration": 36,
    "start_time": "2024-09-20T01:20:57.516Z"
   },
   {
    "duration": 200,
    "start_time": "2024-09-20T01:20:57.554Z"
   },
   {
    "duration": 101,
    "start_time": "2024-09-20T01:20:57.756Z"
   },
   {
    "duration": 14,
    "start_time": "2024-09-20T01:20:57.861Z"
   },
   {
    "duration": 14,
    "start_time": "2024-09-20T01:20:57.877Z"
   },
   {
    "duration": 327,
    "start_time": "2024-09-20T01:20:57.892Z"
   },
   {
    "duration": 859,
    "start_time": "2024-09-20T01:20:58.221Z"
   },
   {
    "duration": 130,
    "start_time": "2024-09-20T01:21:21.906Z"
   },
   {
    "duration": 276,
    "start_time": "2024-09-20T01:23:00.099Z"
   },
   {
    "duration": 133,
    "start_time": "2024-09-20T01:23:11.607Z"
   },
   {
    "duration": 138,
    "start_time": "2024-09-20T01:23:20.053Z"
   },
   {
    "duration": 135,
    "start_time": "2024-09-20T01:24:36.179Z"
   },
   {
    "duration": 129,
    "start_time": "2024-09-20T01:24:40.559Z"
   },
   {
    "duration": 116,
    "start_time": "2024-09-20T01:24:44.584Z"
   },
   {
    "duration": 121,
    "start_time": "2024-09-20T01:24:51.102Z"
   },
   {
    "duration": 121,
    "start_time": "2024-09-20T01:24:55.815Z"
   },
   {
    "duration": 147,
    "start_time": "2024-09-20T01:25:00.054Z"
   },
   {
    "duration": 159,
    "start_time": "2024-09-20T01:25:04.885Z"
   },
   {
    "duration": 207,
    "start_time": "2024-09-20T01:25:24.285Z"
   },
   {
    "duration": 185,
    "start_time": "2024-09-20T01:25:57.388Z"
   },
   {
    "duration": 134,
    "start_time": "2024-09-20T01:26:00.537Z"
   },
   {
    "duration": 132,
    "start_time": "2024-09-20T01:26:18.194Z"
   },
   {
    "duration": 133,
    "start_time": "2024-09-20T01:26:29.602Z"
   },
   {
    "duration": 131,
    "start_time": "2024-09-20T01:26:50.839Z"
   },
   {
    "duration": 142,
    "start_time": "2024-09-20T01:27:00.813Z"
   },
   {
    "duration": 118,
    "start_time": "2024-09-20T01:27:09.849Z"
   },
   {
    "duration": 253,
    "start_time": "2024-09-20T01:27:17.576Z"
   },
   {
    "duration": 133,
    "start_time": "2024-09-20T01:27:30.063Z"
   },
   {
    "duration": 141,
    "start_time": "2024-09-20T01:28:12.170Z"
   },
   {
    "duration": 135,
    "start_time": "2024-09-20T01:28:22.970Z"
   },
   {
    "duration": 730,
    "start_time": "2024-09-20T01:30:08.091Z"
   },
   {
    "duration": 193,
    "start_time": "2024-09-20T01:30:52.439Z"
   },
   {
    "duration": 141,
    "start_time": "2024-09-20T01:31:28.896Z"
   },
   {
    "duration": 296,
    "start_time": "2024-09-20T01:32:00.188Z"
   },
   {
    "duration": 146,
    "start_time": "2024-09-20T01:32:00.880Z"
   },
   {
    "duration": 304,
    "start_time": "2024-09-20T01:32:16.377Z"
   },
   {
    "duration": 150,
    "start_time": "2024-09-20T01:32:42.047Z"
   },
   {
    "duration": 5,
    "start_time": "2024-09-20T01:33:03.858Z"
   },
   {
    "duration": 137,
    "start_time": "2024-09-20T01:33:10.816Z"
   },
   {
    "duration": 138,
    "start_time": "2024-09-20T01:33:20.125Z"
   },
   {
    "duration": 5,
    "start_time": "2024-09-20T01:34:10.633Z"
   },
   {
    "duration": 14,
    "start_time": "2024-09-20T01:34:22.630Z"
   },
   {
    "duration": 11,
    "start_time": "2024-09-20T01:34:25.552Z"
   },
   {
    "duration": 4,
    "start_time": "2024-09-20T01:34:28.861Z"
   },
   {
    "duration": 378,
    "start_time": "2024-09-20T01:35:02.087Z"
   },
   {
    "duration": 5,
    "start_time": "2024-09-20T01:35:02.467Z"
   },
   {
    "duration": 4,
    "start_time": "2024-09-20T01:35:12.329Z"
   },
   {
    "duration": 4,
    "start_time": "2024-09-20T01:35:21.085Z"
   },
   {
    "duration": 304,
    "start_time": "2024-09-20T01:35:25.307Z"
   },
   {
    "duration": 5,
    "start_time": "2024-09-20T01:35:25.966Z"
   },
   {
    "duration": 536,
    "start_time": "2024-09-20T01:41:48.363Z"
   },
   {
    "duration": 42,
    "start_time": "2024-09-20T01:41:54.393Z"
   },
   {
    "duration": 108,
    "start_time": "2024-09-20T01:42:16.981Z"
   },
   {
    "duration": 71,
    "start_time": "2024-09-20T01:42:39.106Z"
   },
   {
    "duration": 71,
    "start_time": "2024-09-20T01:42:54.483Z"
   },
   {
    "duration": 73,
    "start_time": "2024-09-20T01:42:56.591Z"
   },
   {
    "duration": 70,
    "start_time": "2024-09-20T01:43:05.880Z"
   },
   {
    "duration": 70,
    "start_time": "2024-09-20T01:43:08.637Z"
   },
   {
    "duration": 414,
    "start_time": "2024-09-20T01:43:15.382Z"
   },
   {
    "duration": 915,
    "start_time": "2024-09-20T01:43:15.799Z"
   },
   {
    "duration": 13,
    "start_time": "2024-09-20T01:43:16.716Z"
   },
   {
    "duration": 11,
    "start_time": "2024-09-20T01:43:16.731Z"
   },
   {
    "duration": 9,
    "start_time": "2024-09-20T01:43:16.744Z"
   },
   {
    "duration": 37,
    "start_time": "2024-09-20T01:43:16.754Z"
   },
   {
    "duration": 8,
    "start_time": "2024-09-20T01:43:16.793Z"
   },
   {
    "duration": 126,
    "start_time": "2024-09-20T01:43:16.803Z"
   },
   {
    "duration": 10,
    "start_time": "2024-09-20T01:43:16.931Z"
   },
   {
    "duration": 122,
    "start_time": "2024-09-20T01:43:16.945Z"
   },
   {
    "duration": 103,
    "start_time": "2024-09-20T01:43:17.069Z"
   },
   {
    "duration": 40,
    "start_time": "2024-09-20T01:43:17.174Z"
   },
   {
    "duration": 13,
    "start_time": "2024-09-20T01:43:17.216Z"
   },
   {
    "duration": 4,
    "start_time": "2024-09-20T01:43:17.232Z"
   },
   {
    "duration": 23,
    "start_time": "2024-09-20T01:43:17.239Z"
   },
   {
    "duration": 32,
    "start_time": "2024-09-20T01:43:17.263Z"
   },
   {
    "duration": 4,
    "start_time": "2024-09-20T01:43:17.296Z"
   },
   {
    "duration": 4,
    "start_time": "2024-09-20T01:43:17.302Z"
   },
   {
    "duration": 4,
    "start_time": "2024-09-20T01:43:17.307Z"
   },
   {
    "duration": 3,
    "start_time": "2024-09-20T01:43:17.313Z"
   },
   {
    "duration": 857,
    "start_time": "2024-09-20T01:43:17.318Z"
   },
   {
    "duration": 753,
    "start_time": "2024-09-20T01:43:18.177Z"
   },
   {
    "duration": 13,
    "start_time": "2024-09-20T01:43:18.931Z"
   },
   {
    "duration": 9,
    "start_time": "2024-09-20T01:43:18.946Z"
   },
   {
    "duration": 30,
    "start_time": "2024-09-20T01:43:18.957Z"
   },
   {
    "duration": 6,
    "start_time": "2024-09-20T01:43:18.989Z"
   },
   {
    "duration": 8,
    "start_time": "2024-09-20T01:43:18.997Z"
   },
   {
    "duration": 22,
    "start_time": "2024-09-20T01:43:19.009Z"
   },
   {
    "duration": 4,
    "start_time": "2024-09-20T01:43:19.033Z"
   },
   {
    "duration": 17,
    "start_time": "2024-09-20T01:43:19.039Z"
   },
   {
    "duration": 55,
    "start_time": "2024-09-20T01:43:19.058Z"
   },
   {
    "duration": 8,
    "start_time": "2024-09-20T01:43:19.114Z"
   },
   {
    "duration": 8,
    "start_time": "2024-09-20T01:43:19.123Z"
   },
   {
    "duration": 75,
    "start_time": "2024-09-20T01:43:19.133Z"
   },
   {
    "duration": 4,
    "start_time": "2024-09-20T01:43:19.210Z"
   },
   {
    "duration": 4,
    "start_time": "2024-09-20T01:43:19.216Z"
   },
   {
    "duration": 297,
    "start_time": "2024-09-20T01:43:19.222Z"
   },
   {
    "duration": 130,
    "start_time": "2024-09-20T01:43:19.521Z"
   },
   {
    "duration": 95,
    "start_time": "2024-09-20T01:43:19.654Z"
   },
   {
    "duration": 6,
    "start_time": "2024-09-20T01:43:19.751Z"
   },
   {
    "duration": 182,
    "start_time": "2024-09-20T01:43:19.759Z"
   },
   {
    "duration": 6,
    "start_time": "2024-09-20T01:43:19.943Z"
   },
   {
    "duration": 173,
    "start_time": "2024-09-20T01:43:19.950Z"
   },
   {
    "duration": 35,
    "start_time": "2024-09-20T01:43:20.125Z"
   },
   {
    "duration": 188,
    "start_time": "2024-09-20T01:43:20.163Z"
   },
   {
    "duration": 116,
    "start_time": "2024-09-20T01:43:20.353Z"
   },
   {
    "duration": 15,
    "start_time": "2024-09-20T01:43:20.471Z"
   },
   {
    "duration": 9,
    "start_time": "2024-09-20T01:43:20.488Z"
   },
   {
    "duration": 281,
    "start_time": "2024-09-20T01:43:20.499Z"
   },
   {
    "duration": 5,
    "start_time": "2024-09-20T01:43:20.782Z"
   },
   {
    "duration": 148,
    "start_time": "2024-09-20T01:43:20.789Z"
   },
   {
    "duration": 353,
    "start_time": "2024-09-20T01:43:20.939Z"
   },
   {
    "duration": 63,
    "start_time": "2024-09-20T01:44:19.775Z"
   },
   {
    "duration": 64,
    "start_time": "2024-09-20T01:44:46.566Z"
   },
   {
    "duration": 61,
    "start_time": "2024-09-20T01:45:09.065Z"
   },
   {
    "duration": 61,
    "start_time": "2024-09-20T01:45:16.534Z"
   },
   {
    "duration": 68,
    "start_time": "2024-09-20T01:45:20.523Z"
   },
   {
    "duration": 60,
    "start_time": "2024-09-20T01:45:25.445Z"
   },
   {
    "duration": 59,
    "start_time": "2024-09-20T01:45:37.130Z"
   },
   {
    "duration": 61,
    "start_time": "2024-09-20T01:45:43.274Z"
   },
   {
    "duration": 58,
    "start_time": "2024-09-20T01:45:48.828Z"
   },
   {
    "duration": 57,
    "start_time": "2024-09-20T01:45:54.929Z"
   },
   {
    "duration": 62,
    "start_time": "2024-09-20T01:46:17.743Z"
   },
   {
    "duration": 324,
    "start_time": "2024-09-20T01:46:48.977Z"
   },
   {
    "duration": 317,
    "start_time": "2024-09-20T01:46:59.535Z"
   },
   {
    "duration": 101,
    "start_time": "2024-09-20T01:48:18.794Z"
   },
   {
    "duration": 109,
    "start_time": "2024-09-20T01:48:51.049Z"
   },
   {
    "duration": 109,
    "start_time": "2024-09-20T01:48:53.177Z"
   },
   {
    "duration": 109,
    "start_time": "2024-09-20T01:49:02.352Z"
   },
   {
    "duration": 116,
    "start_time": "2024-09-20T01:51:22.368Z"
   },
   {
    "duration": 114,
    "start_time": "2024-09-20T01:51:50.628Z"
   },
   {
    "duration": 117,
    "start_time": "2024-09-20T01:51:57.731Z"
   },
   {
    "duration": 107,
    "start_time": "2024-09-20T01:52:06.179Z"
   },
   {
    "duration": 104,
    "start_time": "2024-09-20T01:52:08.146Z"
   },
   {
    "duration": 131,
    "start_time": "2024-09-20T01:52:13.003Z"
   },
   {
    "duration": 406,
    "start_time": "2024-09-20T01:53:46.090Z"
   },
   {
    "duration": 111,
    "start_time": "2024-09-20T01:53:49.611Z"
   },
   {
    "duration": 4,
    "start_time": "2024-09-20T01:53:49.860Z"
   },
   {
    "duration": 10,
    "start_time": "2024-09-20T01:55:08.770Z"
   },
   {
    "duration": 4,
    "start_time": "2024-09-20T01:55:16.934Z"
   },
   {
    "duration": 6,
    "start_time": "2024-09-20T01:57:31.073Z"
   },
   {
    "duration": 121,
    "start_time": "2024-09-20T01:58:37.787Z"
   },
   {
    "duration": 3,
    "start_time": "2024-09-20T01:58:38.290Z"
   },
   {
    "duration": 9,
    "start_time": "2024-09-20T01:58:38.778Z"
   },
   {
    "duration": 127,
    "start_time": "2024-09-20T02:00:09.124Z"
   },
   {
    "duration": 7,
    "start_time": "2024-09-20T02:00:22.171Z"
   },
   {
    "duration": 2202,
    "start_time": "2024-09-20T21:45:46.544Z"
   },
   {
    "duration": 1035,
    "start_time": "2024-09-20T21:45:48.748Z"
   },
   {
    "duration": 18,
    "start_time": "2024-09-20T21:45:49.786Z"
   },
   {
    "duration": 10,
    "start_time": "2024-09-20T21:45:49.806Z"
   },
   {
    "duration": 15,
    "start_time": "2024-09-20T21:45:49.819Z"
   },
   {
    "duration": 7,
    "start_time": "2024-09-20T21:45:49.836Z"
   },
   {
    "duration": 7,
    "start_time": "2024-09-20T21:45:49.845Z"
   },
   {
    "duration": 121,
    "start_time": "2024-09-20T21:45:49.854Z"
   },
   {
    "duration": 11,
    "start_time": "2024-09-20T21:45:49.977Z"
   },
   {
    "duration": 113,
    "start_time": "2024-09-20T21:45:49.989Z"
   },
   {
    "duration": 93,
    "start_time": "2024-09-20T21:45:50.104Z"
   },
   {
    "duration": 36,
    "start_time": "2024-09-20T21:45:50.199Z"
   },
   {
    "duration": 12,
    "start_time": "2024-09-20T21:45:50.236Z"
   },
   {
    "duration": 3,
    "start_time": "2024-09-20T21:45:50.251Z"
   },
   {
    "duration": 21,
    "start_time": "2024-09-20T21:45:50.256Z"
   },
   {
    "duration": 12,
    "start_time": "2024-09-20T21:45:50.278Z"
   },
   {
    "duration": 4,
    "start_time": "2024-09-20T21:45:50.292Z"
   },
   {
    "duration": 35,
    "start_time": "2024-09-20T21:45:50.298Z"
   },
   {
    "duration": 4,
    "start_time": "2024-09-20T21:45:50.334Z"
   },
   {
    "duration": 3,
    "start_time": "2024-09-20T21:45:50.339Z"
   },
   {
    "duration": 750,
    "start_time": "2024-09-20T21:45:50.344Z"
   },
   {
    "duration": 676,
    "start_time": "2024-09-20T21:45:51.096Z"
   },
   {
    "duration": 11,
    "start_time": "2024-09-20T21:45:51.774Z"
   },
   {
    "duration": 8,
    "start_time": "2024-09-20T21:45:51.788Z"
   },
   {
    "duration": 7,
    "start_time": "2024-09-20T21:45:51.799Z"
   },
   {
    "duration": 26,
    "start_time": "2024-09-20T21:45:51.809Z"
   },
   {
    "duration": 7,
    "start_time": "2024-09-20T21:45:51.837Z"
   },
   {
    "duration": 12,
    "start_time": "2024-09-20T21:45:51.845Z"
   },
   {
    "duration": 4,
    "start_time": "2024-09-20T21:45:51.859Z"
   },
   {
    "duration": 18,
    "start_time": "2024-09-20T21:45:51.864Z"
   },
   {
    "duration": 65,
    "start_time": "2024-09-20T21:45:51.883Z"
   },
   {
    "duration": 9,
    "start_time": "2024-09-20T21:45:51.949Z"
   },
   {
    "duration": 10,
    "start_time": "2024-09-20T21:45:51.960Z"
   },
   {
    "duration": 40,
    "start_time": "2024-09-20T21:45:51.972Z"
   },
   {
    "duration": 4,
    "start_time": "2024-09-20T21:45:52.032Z"
   },
   {
    "duration": 4,
    "start_time": "2024-09-20T21:45:52.039Z"
   },
   {
    "duration": 287,
    "start_time": "2024-09-20T21:45:52.045Z"
   },
   {
    "duration": 135,
    "start_time": "2024-09-20T21:45:52.334Z"
   },
   {
    "duration": 130,
    "start_time": "2024-09-20T21:45:52.471Z"
   },
   {
    "duration": 6,
    "start_time": "2024-09-20T21:45:52.603Z"
   },
   {
    "duration": 173,
    "start_time": "2024-09-20T21:45:52.614Z"
   },
   {
    "duration": 5,
    "start_time": "2024-09-20T21:45:52.789Z"
   },
   {
    "duration": 174,
    "start_time": "2024-09-20T21:45:52.796Z"
   },
   {
    "duration": 35,
    "start_time": "2024-09-20T21:45:52.972Z"
   },
   {
    "duration": 192,
    "start_time": "2024-09-20T21:45:53.009Z"
   },
   {
    "duration": 82,
    "start_time": "2024-09-20T21:45:53.203Z"
   },
   {
    "duration": 8,
    "start_time": "2024-09-20T21:45:53.287Z"
   },
   {
    "duration": 10,
    "start_time": "2024-09-20T21:45:53.296Z"
   },
   {
    "duration": 273,
    "start_time": "2024-09-20T21:45:53.307Z"
   },
   {
    "duration": 4,
    "start_time": "2024-09-20T21:45:53.582Z"
   },
   {
    "duration": 145,
    "start_time": "2024-09-20T21:45:53.588Z"
   },
   {
    "duration": 156,
    "start_time": "2024-09-20T21:45:53.734Z"
   },
   {
    "duration": 3,
    "start_time": "2024-09-20T21:45:53.892Z"
   },
   {
    "duration": 9,
    "start_time": "2024-09-20T21:45:53.898Z"
   },
   {
    "duration": 6,
    "start_time": "2024-09-20T21:45:53.908Z"
   },
   {
    "duration": 4,
    "start_time": "2024-09-20T22:39:35.039Z"
   },
   {
    "duration": 6,
    "start_time": "2024-09-20T22:39:54.687Z"
   },
   {
    "duration": 133,
    "start_time": "2024-09-20T22:50:35.074Z"
   },
   {
    "duration": 133,
    "start_time": "2024-09-20T22:50:53.421Z"
   },
   {
    "duration": 135,
    "start_time": "2024-09-20T22:51:03.079Z"
   },
   {
    "duration": 2196,
    "start_time": "2024-09-21T03:29:46.655Z"
   },
   {
    "duration": 1052,
    "start_time": "2024-09-21T03:29:48.853Z"
   },
   {
    "duration": 12,
    "start_time": "2024-09-21T03:29:49.907Z"
   },
   {
    "duration": 20,
    "start_time": "2024-09-21T03:29:49.921Z"
   },
   {
    "duration": 9,
    "start_time": "2024-09-21T03:29:49.943Z"
   },
   {
    "duration": 7,
    "start_time": "2024-09-21T03:29:49.956Z"
   },
   {
    "duration": 8,
    "start_time": "2024-09-21T03:29:49.965Z"
   },
   {
    "duration": 134,
    "start_time": "2024-09-21T03:29:49.975Z"
   },
   {
    "duration": 20,
    "start_time": "2024-09-21T03:29:50.111Z"
   },
   {
    "duration": 109,
    "start_time": "2024-09-21T03:29:50.134Z"
   },
   {
    "duration": 94,
    "start_time": "2024-09-21T03:29:50.245Z"
   },
   {
    "duration": 28,
    "start_time": "2024-09-21T03:29:50.341Z"
   },
   {
    "duration": 12,
    "start_time": "2024-09-21T03:29:50.371Z"
   },
   {
    "duration": 3,
    "start_time": "2024-09-21T03:29:50.385Z"
   },
   {
    "duration": 50,
    "start_time": "2024-09-21T03:29:50.389Z"
   },
   {
    "duration": 10,
    "start_time": "2024-09-21T03:29:50.440Z"
   },
   {
    "duration": 3,
    "start_time": "2024-09-21T03:29:50.452Z"
   },
   {
    "duration": 3,
    "start_time": "2024-09-21T03:29:50.457Z"
   },
   {
    "duration": 4,
    "start_time": "2024-09-21T03:29:50.462Z"
   },
   {
    "duration": 3,
    "start_time": "2024-09-21T03:29:50.467Z"
   },
   {
    "duration": 784,
    "start_time": "2024-09-21T03:29:50.472Z"
   },
   {
    "duration": 644,
    "start_time": "2024-09-21T03:29:51.258Z"
   },
   {
    "duration": 11,
    "start_time": "2024-09-21T03:29:51.904Z"
   },
   {
    "duration": 16,
    "start_time": "2024-09-21T03:29:51.917Z"
   },
   {
    "duration": 8,
    "start_time": "2024-09-21T03:29:51.934Z"
   },
   {
    "duration": 8,
    "start_time": "2024-09-21T03:29:51.943Z"
   },
   {
    "duration": 10,
    "start_time": "2024-09-21T03:29:51.953Z"
   },
   {
    "duration": 12,
    "start_time": "2024-09-21T03:29:51.969Z"
   },
   {
    "duration": 5,
    "start_time": "2024-09-21T03:29:51.982Z"
   },
   {
    "duration": 50,
    "start_time": "2024-09-21T03:29:51.989Z"
   },
   {
    "duration": 32,
    "start_time": "2024-09-21T03:29:52.040Z"
   },
   {
    "duration": 8,
    "start_time": "2024-09-21T03:29:52.073Z"
   },
   {
    "duration": 7,
    "start_time": "2024-09-21T03:29:52.083Z"
   },
   {
    "duration": 65,
    "start_time": "2024-09-21T03:29:52.092Z"
   },
   {
    "duration": 3,
    "start_time": "2024-09-21T03:29:52.160Z"
   },
   {
    "duration": 3,
    "start_time": "2024-09-21T03:29:52.165Z"
   },
   {
    "duration": 262,
    "start_time": "2024-09-21T03:29:52.171Z"
   },
   {
    "duration": 129,
    "start_time": "2024-09-21T03:29:52.436Z"
   },
   {
    "duration": 98,
    "start_time": "2024-09-21T03:29:52.566Z"
   },
   {
    "duration": 6,
    "start_time": "2024-09-21T03:29:52.666Z"
   },
   {
    "duration": 177,
    "start_time": "2024-09-21T03:29:52.674Z"
   },
   {
    "duration": 7,
    "start_time": "2024-09-21T03:29:52.853Z"
   },
   {
    "duration": 206,
    "start_time": "2024-09-21T03:29:52.861Z"
   },
   {
    "duration": 35,
    "start_time": "2024-09-21T03:29:53.069Z"
   },
   {
    "duration": 185,
    "start_time": "2024-09-21T03:29:53.107Z"
   },
   {
    "duration": 87,
    "start_time": "2024-09-21T03:29:53.294Z"
   },
   {
    "duration": 8,
    "start_time": "2024-09-21T03:29:53.383Z"
   },
   {
    "duration": 8,
    "start_time": "2024-09-21T03:29:53.395Z"
   },
   {
    "duration": 263,
    "start_time": "2024-09-21T03:29:53.406Z"
   },
   {
    "duration": 5,
    "start_time": "2024-09-21T03:29:53.671Z"
   },
   {
    "duration": 155,
    "start_time": "2024-09-21T03:29:53.678Z"
   },
   {
    "duration": 160,
    "start_time": "2024-09-21T03:29:53.835Z"
   },
   {
    "duration": 4,
    "start_time": "2024-09-21T03:29:53.997Z"
   },
   {
    "duration": 9,
    "start_time": "2024-09-21T03:29:54.003Z"
   },
   {
    "duration": 22,
    "start_time": "2024-09-21T03:29:54.014Z"
   },
   {
    "duration": 1314,
    "start_time": "2024-09-21T03:33:22.578Z"
   },
   {
    "duration": 1326,
    "start_time": "2024-09-21T03:33:33.999Z"
   },
   {
    "duration": 1535,
    "start_time": "2024-09-21T03:33:44.132Z"
   },
   {
    "duration": 4,
    "start_time": "2024-09-21T03:33:52.408Z"
   },
   {
    "duration": 1346,
    "start_time": "2024-09-21T03:34:02.322Z"
   },
   {
    "duration": 94,
    "start_time": "2024-09-21T03:36:04.433Z"
   },
   {
    "duration": 99,
    "start_time": "2024-09-21T03:36:17.265Z"
   },
   {
    "duration": 90,
    "start_time": "2024-09-21T03:37:20.610Z"
   },
   {
    "duration": 154,
    "start_time": "2024-09-21T03:38:20.582Z"
   },
   {
    "duration": 179,
    "start_time": "2024-09-21T03:39:16.923Z"
   },
   {
    "duration": 183,
    "start_time": "2024-09-21T03:40:37.149Z"
   },
   {
    "duration": 181,
    "start_time": "2024-09-21T03:40:54.300Z"
   },
   {
    "duration": 174,
    "start_time": "2024-09-21T03:41:03.050Z"
   },
   {
    "duration": 171,
    "start_time": "2024-09-21T03:41:10.009Z"
   },
   {
    "duration": 446,
    "start_time": "2024-09-21T03:42:23.074Z"
   },
   {
    "duration": 185,
    "start_time": "2024-09-21T03:44:19.731Z"
   },
   {
    "duration": 176,
    "start_time": "2024-09-21T03:44:32.053Z"
   },
   {
    "duration": 172,
    "start_time": "2024-09-21T03:44:59.271Z"
   },
   {
    "duration": 192,
    "start_time": "2024-09-21T03:45:08.247Z"
   },
   {
    "duration": 175,
    "start_time": "2024-09-21T03:46:29.866Z"
   },
   {
    "duration": 174,
    "start_time": "2024-09-21T03:46:39.256Z"
   },
   {
    "duration": 174,
    "start_time": "2024-09-21T03:46:43.699Z"
   },
   {
    "duration": 740,
    "start_time": "2024-09-21T03:46:59.408Z"
   },
   {
    "duration": 165,
    "start_time": "2024-09-21T03:47:04.774Z"
   },
   {
    "duration": 187,
    "start_time": "2024-09-21T03:47:16.440Z"
   },
   {
    "duration": 182,
    "start_time": "2024-09-21T03:47:32.876Z"
   },
   {
    "duration": 172,
    "start_time": "2024-09-21T03:47:57.121Z"
   },
   {
    "duration": 172,
    "start_time": "2024-09-21T03:48:52.567Z"
   },
   {
    "duration": 174,
    "start_time": "2024-09-21T03:49:01.320Z"
   },
   {
    "duration": 174,
    "start_time": "2024-09-21T03:50:00.939Z"
   },
   {
    "duration": 215,
    "start_time": "2024-09-21T03:50:13.426Z"
   },
   {
    "duration": 213,
    "start_time": "2024-09-21T03:51:26.091Z"
   },
   {
    "duration": 218,
    "start_time": "2024-09-21T03:51:36.101Z"
   },
   {
    "duration": 214,
    "start_time": "2024-09-21T03:52:42.381Z"
   },
   {
    "duration": 255,
    "start_time": "2024-09-21T03:53:45.255Z"
   },
   {
    "duration": 212,
    "start_time": "2024-09-21T03:54:13.342Z"
   },
   {
    "duration": 216,
    "start_time": "2024-09-21T03:54:20.534Z"
   },
   {
    "duration": 7,
    "start_time": "2024-09-21T03:55:03.599Z"
   },
   {
    "duration": 469,
    "start_time": "2024-09-21T03:55:40.572Z"
   },
   {
    "duration": 485,
    "start_time": "2024-09-21T03:55:52.526Z"
   },
   {
    "duration": 10,
    "start_time": "2024-09-21T03:56:55.135Z"
   },
   {
    "duration": 10,
    "start_time": "2024-09-21T03:57:04.711Z"
   },
   {
    "duration": 9,
    "start_time": "2024-09-21T03:57:10.170Z"
   },
   {
    "duration": 12,
    "start_time": "2024-09-21T03:57:19.321Z"
   },
   {
    "duration": 171,
    "start_time": "2024-09-21T03:58:50.790Z"
   },
   {
    "duration": 182,
    "start_time": "2024-09-21T03:58:55.116Z"
   },
   {
    "duration": 185,
    "start_time": "2024-09-21T03:59:08.002Z"
   },
   {
    "duration": 5,
    "start_time": "2024-09-21T04:00:52.797Z"
   },
   {
    "duration": 8,
    "start_time": "2024-09-21T04:01:01.014Z"
   },
   {
    "duration": 170,
    "start_time": "2024-09-21T04:01:20.731Z"
   },
   {
    "duration": 6,
    "start_time": "2024-09-21T04:01:21.457Z"
   },
   {
    "duration": 172,
    "start_time": "2024-09-21T04:01:27.982Z"
   },
   {
    "duration": 4,
    "start_time": "2024-09-21T04:01:28.406Z"
   },
   {
    "duration": 9,
    "start_time": "2024-09-21T04:01:29.064Z"
   },
   {
    "duration": 6,
    "start_time": "2024-09-21T04:01:36.778Z"
   },
   {
    "duration": 178,
    "start_time": "2024-09-21T04:01:41.017Z"
   },
   {
    "duration": 6,
    "start_time": "2024-09-21T04:01:41.353Z"
   },
   {
    "duration": 7,
    "start_time": "2024-09-21T04:01:41.709Z"
   },
   {
    "duration": 10,
    "start_time": "2024-09-21T04:09:38.426Z"
   },
   {
    "duration": 21,
    "start_time": "2024-09-21T04:14:23.691Z"
   },
   {
    "duration": 20,
    "start_time": "2024-09-21T04:14:42.245Z"
   },
   {
    "duration": 598,
    "start_time": "2024-09-21T04:16:39.533Z"
   },
   {
    "duration": 583,
    "start_time": "2024-09-21T04:16:58.499Z"
   },
   {
    "duration": 569,
    "start_time": "2024-09-21T04:17:06.218Z"
   },
   {
    "duration": 564,
    "start_time": "2024-09-21T04:17:18.860Z"
   },
   {
    "duration": 562,
    "start_time": "2024-09-21T04:17:38.661Z"
   },
   {
    "duration": 557,
    "start_time": "2024-09-21T04:19:21.287Z"
   },
   {
    "duration": 651,
    "start_time": "2024-09-21T04:21:01.344Z"
   },
   {
    "duration": 1063,
    "start_time": "2024-09-21T04:23:54.623Z"
   },
   {
    "duration": 887,
    "start_time": "2024-09-21T04:24:09.629Z"
   },
   {
    "duration": 8,
    "start_time": "2024-09-21T04:24:42.249Z"
   },
   {
    "duration": 8,
    "start_time": "2024-09-21T04:25:00.434Z"
   },
   {
    "duration": 11,
    "start_time": "2024-09-21T04:25:04.947Z"
   },
   {
    "duration": 8,
    "start_time": "2024-09-21T04:25:10.557Z"
   },
   {
    "duration": 8,
    "start_time": "2024-09-21T04:25:17.618Z"
   },
   {
    "duration": 11,
    "start_time": "2024-09-21T04:25:28.382Z"
   },
   {
    "duration": 8,
    "start_time": "2024-09-21T04:25:45.389Z"
   },
   {
    "duration": 867,
    "start_time": "2024-09-21T04:26:43.521Z"
   },
   {
    "duration": 9,
    "start_time": "2024-09-21T04:26:53.554Z"
   },
   {
    "duration": 107,
    "start_time": "2024-09-21T04:28:34.275Z"
   },
   {
    "duration": 104,
    "start_time": "2024-09-21T04:28:46.164Z"
   },
   {
    "duration": 12,
    "start_time": "2024-09-21T04:39:21.892Z"
   },
   {
    "duration": 7,
    "start_time": "2024-09-21T04:39:23.959Z"
   },
   {
    "duration": 704,
    "start_time": "2024-09-21T04:40:36.137Z"
   },
   {
    "duration": 8,
    "start_time": "2024-09-21T04:40:43.938Z"
   },
   {
    "duration": 11,
    "start_time": "2024-09-21T04:41:30.886Z"
   },
   {
    "duration": 11,
    "start_time": "2024-09-21T04:41:35.773Z"
   },
   {
    "duration": 8,
    "start_time": "2024-09-21T04:41:46.986Z"
   },
   {
    "duration": 7,
    "start_time": "2024-09-21T04:43:01.227Z"
   },
   {
    "duration": 10,
    "start_time": "2024-09-21T04:43:36.442Z"
   },
   {
    "duration": 8,
    "start_time": "2024-09-21T04:43:43.751Z"
   },
   {
    "duration": 9,
    "start_time": "2024-09-21T04:43:46.711Z"
   },
   {
    "duration": 96,
    "start_time": "2024-09-21T04:46:13.449Z"
   },
   {
    "duration": 33,
    "start_time": "2024-09-21T04:49:24.242Z"
   },
   {
    "duration": 34,
    "start_time": "2024-09-21T04:50:23.520Z"
   },
   {
    "duration": 35,
    "start_time": "2024-09-21T04:50:50.657Z"
   },
   {
    "duration": 29,
    "start_time": "2024-09-21T04:50:56.532Z"
   },
   {
    "duration": 40,
    "start_time": "2024-09-21T04:51:35.448Z"
   },
   {
    "duration": 27,
    "start_time": "2024-09-21T04:51:39.574Z"
   },
   {
    "duration": 30,
    "start_time": "2024-09-21T04:51:45.022Z"
   },
   {
    "duration": 40,
    "start_time": "2024-09-21T04:52:02.018Z"
   },
   {
    "duration": 34,
    "start_time": "2024-09-21T04:52:31.464Z"
   },
   {
    "duration": 69,
    "start_time": "2024-09-21T04:53:05.064Z"
   },
   {
    "duration": 33,
    "start_time": "2024-09-21T04:53:09.796Z"
   },
   {
    "duration": 33,
    "start_time": "2024-09-21T04:53:27.390Z"
   },
   {
    "duration": 30,
    "start_time": "2024-09-21T04:53:56.241Z"
   },
   {
    "duration": 37,
    "start_time": "2024-09-21T04:54:07.820Z"
   },
   {
    "duration": 34,
    "start_time": "2024-09-21T04:54:33.330Z"
   },
   {
    "duration": 35,
    "start_time": "2024-09-21T04:54:44.931Z"
   },
   {
    "duration": 39,
    "start_time": "2024-09-21T04:54:55.643Z"
   },
   {
    "duration": 35,
    "start_time": "2024-09-21T04:55:00.267Z"
   },
   {
    "duration": 34,
    "start_time": "2024-09-21T04:55:25.886Z"
   },
   {
    "duration": 34,
    "start_time": "2024-09-21T04:55:31.551Z"
   },
   {
    "duration": 31,
    "start_time": "2024-09-21T04:56:21.176Z"
   },
   {
    "duration": 41,
    "start_time": "2024-09-21T04:56:36.268Z"
   },
   {
    "duration": 33,
    "start_time": "2024-09-21T04:56:45.419Z"
   },
   {
    "duration": 31,
    "start_time": "2024-09-21T04:59:38.622Z"
   },
   {
    "duration": 31,
    "start_time": "2024-09-21T04:59:53.305Z"
   },
   {
    "duration": 34,
    "start_time": "2024-09-21T05:00:08.388Z"
   },
   {
    "duration": 31,
    "start_time": "2024-09-21T05:00:45.269Z"
   },
   {
    "duration": 32,
    "start_time": "2024-09-21T05:01:20.114Z"
   },
   {
    "duration": 33,
    "start_time": "2024-09-21T05:01:30.622Z"
   },
   {
    "duration": 33,
    "start_time": "2024-09-21T05:02:16.668Z"
   },
   {
    "duration": 30,
    "start_time": "2024-09-21T05:02:28.840Z"
   },
   {
    "duration": 31,
    "start_time": "2024-09-21T05:02:36.487Z"
   },
   {
    "duration": 38,
    "start_time": "2024-09-21T05:03:11.272Z"
   },
   {
    "duration": 34,
    "start_time": "2024-09-21T05:03:25.711Z"
   },
   {
    "duration": 34,
    "start_time": "2024-09-21T05:03:37.531Z"
   },
   {
    "duration": 32,
    "start_time": "2024-09-21T05:03:58.799Z"
   },
   {
    "duration": 32,
    "start_time": "2024-09-21T05:07:07.206Z"
   },
   {
    "duration": 34,
    "start_time": "2024-09-21T05:07:38.452Z"
   },
   {
    "duration": 37,
    "start_time": "2024-09-21T05:08:31.064Z"
   },
   {
    "duration": 38,
    "start_time": "2024-09-21T05:08:43.398Z"
   },
   {
    "duration": 39,
    "start_time": "2024-09-21T05:08:47.344Z"
   },
   {
    "duration": 37,
    "start_time": "2024-09-21T05:08:52.806Z"
   },
   {
    "duration": 32,
    "start_time": "2024-09-21T05:09:12.329Z"
   },
   {
    "duration": 39,
    "start_time": "2024-09-21T05:09:46.504Z"
   },
   {
    "duration": 35,
    "start_time": "2024-09-21T05:10:01.054Z"
   },
   {
    "duration": 5,
    "start_time": "2024-09-21T05:12:00.180Z"
   },
   {
    "duration": 33,
    "start_time": "2024-09-21T05:12:05.002Z"
   },
   {
    "duration": 5,
    "start_time": "2024-09-21T05:12:51.367Z"
   },
   {
    "duration": 4,
    "start_time": "2024-09-21T05:12:57.015Z"
   },
   {
    "duration": 33,
    "start_time": "2024-09-21T05:13:02.736Z"
   },
   {
    "duration": 32,
    "start_time": "2024-09-21T05:13:12.459Z"
   },
   {
    "duration": 5,
    "start_time": "2024-09-21T05:15:05.702Z"
   },
   {
    "duration": 44,
    "start_time": "2024-09-21T05:15:21.906Z"
   },
   {
    "duration": 41,
    "start_time": "2024-09-21T05:15:40.063Z"
   },
   {
    "duration": 39,
    "start_time": "2024-09-21T05:21:40.658Z"
   },
   {
    "duration": 41,
    "start_time": "2024-09-21T05:21:51.391Z"
   },
   {
    "duration": 39,
    "start_time": "2024-09-21T05:22:36.812Z"
   },
   {
    "duration": 38,
    "start_time": "2024-09-21T05:22:44.195Z"
   },
   {
    "duration": 27,
    "start_time": "2024-09-21T05:23:24.583Z"
   },
   {
    "duration": 10,
    "start_time": "2024-09-21T05:23:25.136Z"
   },
   {
    "duration": 7,
    "start_time": "2024-09-21T05:23:25.447Z"
   },
   {
    "duration": 27,
    "start_time": "2024-09-21T05:23:32.804Z"
   },
   {
    "duration": 10,
    "start_time": "2024-09-21T05:23:33.334Z"
   },
   {
    "duration": 6,
    "start_time": "2024-09-21T05:23:33.952Z"
   },
   {
    "duration": 466,
    "start_time": "2024-09-21T05:23:49.559Z"
   },
   {
    "duration": 921,
    "start_time": "2024-09-21T05:23:50.030Z"
   },
   {
    "duration": 11,
    "start_time": "2024-09-21T05:23:50.952Z"
   },
   {
    "duration": 9,
    "start_time": "2024-09-21T05:23:50.965Z"
   },
   {
    "duration": 7,
    "start_time": "2024-09-21T05:23:50.977Z"
   },
   {
    "duration": 8,
    "start_time": "2024-09-21T05:23:50.986Z"
   },
   {
    "duration": 38,
    "start_time": "2024-09-21T05:23:50.996Z"
   },
   {
    "duration": 108,
    "start_time": "2024-09-21T05:23:51.036Z"
   },
   {
    "duration": 11,
    "start_time": "2024-09-21T05:23:51.146Z"
   },
   {
    "duration": 124,
    "start_time": "2024-09-21T05:23:51.159Z"
   },
   {
    "duration": 90,
    "start_time": "2024-09-21T05:23:51.285Z"
   },
   {
    "duration": 27,
    "start_time": "2024-09-21T05:23:51.377Z"
   },
   {
    "duration": 26,
    "start_time": "2024-09-21T05:23:51.405Z"
   },
   {
    "duration": 3,
    "start_time": "2024-09-21T05:23:51.435Z"
   },
   {
    "duration": 21,
    "start_time": "2024-09-21T05:23:51.439Z"
   },
   {
    "duration": 11,
    "start_time": "2024-09-21T05:23:51.461Z"
   },
   {
    "duration": 3,
    "start_time": "2024-09-21T05:23:51.473Z"
   },
   {
    "duration": 4,
    "start_time": "2024-09-21T05:23:51.478Z"
   },
   {
    "duration": 3,
    "start_time": "2024-09-21T05:23:51.484Z"
   },
   {
    "duration": 42,
    "start_time": "2024-09-21T05:23:51.489Z"
   },
   {
    "duration": 749,
    "start_time": "2024-09-21T05:23:51.533Z"
   },
   {
    "duration": 663,
    "start_time": "2024-09-21T05:23:52.284Z"
   },
   {
    "duration": 13,
    "start_time": "2024-09-21T05:23:52.949Z"
   },
   {
    "duration": 8,
    "start_time": "2024-09-21T05:23:52.963Z"
   },
   {
    "duration": 9,
    "start_time": "2024-09-21T05:23:52.972Z"
   },
   {
    "duration": 5,
    "start_time": "2024-09-21T05:23:52.983Z"
   },
   {
    "duration": 8,
    "start_time": "2024-09-21T05:23:52.990Z"
   },
   {
    "duration": 43,
    "start_time": "2024-09-21T05:23:52.999Z"
   },
   {
    "duration": 5,
    "start_time": "2024-09-21T05:23:53.044Z"
   },
   {
    "duration": 16,
    "start_time": "2024-09-21T05:23:53.051Z"
   },
   {
    "duration": 32,
    "start_time": "2024-09-21T05:23:53.069Z"
   },
   {
    "duration": 32,
    "start_time": "2024-09-21T05:23:53.103Z"
   },
   {
    "duration": 7,
    "start_time": "2024-09-21T05:23:53.136Z"
   },
   {
    "duration": 40,
    "start_time": "2024-09-21T05:23:53.144Z"
   },
   {
    "duration": 4,
    "start_time": "2024-09-21T05:23:53.186Z"
   },
   {
    "duration": 4,
    "start_time": "2024-09-21T05:23:53.192Z"
   },
   {
    "duration": 262,
    "start_time": "2024-09-21T05:23:53.231Z"
   },
   {
    "duration": 130,
    "start_time": "2024-09-21T05:23:53.495Z"
   },
   {
    "duration": 90,
    "start_time": "2024-09-21T05:23:53.630Z"
   },
   {
    "duration": 15,
    "start_time": "2024-09-21T05:23:53.721Z"
   },
   {
    "duration": 177,
    "start_time": "2024-09-21T05:23:53.741Z"
   },
   {
    "duration": 11,
    "start_time": "2024-09-21T05:23:53.920Z"
   },
   {
    "duration": 170,
    "start_time": "2024-09-21T05:23:53.933Z"
   },
   {
    "duration": 44,
    "start_time": "2024-09-21T05:23:54.105Z"
   },
   {
    "duration": 176,
    "start_time": "2024-09-21T05:23:54.151Z"
   },
   {
    "duration": 84,
    "start_time": "2024-09-21T05:23:54.331Z"
   },
   {
    "duration": 19,
    "start_time": "2024-09-21T05:23:54.416Z"
   },
   {
    "duration": 8,
    "start_time": "2024-09-21T05:23:54.437Z"
   },
   {
    "duration": 259,
    "start_time": "2024-09-21T05:23:54.447Z"
   },
   {
    "duration": 4,
    "start_time": "2024-09-21T05:23:54.707Z"
   },
   {
    "duration": 149,
    "start_time": "2024-09-21T05:23:54.713Z"
   },
   {
    "duration": 158,
    "start_time": "2024-09-21T05:23:54.864Z"
   },
   {
    "duration": 4,
    "start_time": "2024-09-21T05:23:55.023Z"
   },
   {
    "duration": 9,
    "start_time": "2024-09-21T05:23:55.032Z"
   },
   {
    "duration": 7,
    "start_time": "2024-09-21T05:23:55.043Z"
   },
   {
    "duration": 230,
    "start_time": "2024-09-21T05:23:55.052Z"
   },
   {
    "duration": 6,
    "start_time": "2024-09-21T05:23:55.284Z"
   },
   {
    "duration": 7,
    "start_time": "2024-09-21T05:23:55.292Z"
   },
   {
    "duration": 854,
    "start_time": "2024-09-21T05:23:55.301Z"
   },
   {
    "duration": 7,
    "start_time": "2024-09-21T05:23:56.157Z"
   },
   {
    "duration": 31,
    "start_time": "2024-09-21T05:23:56.166Z"
   },
   {
    "duration": 9,
    "start_time": "2024-09-21T05:23:56.199Z"
   },
   {
    "duration": 6,
    "start_time": "2024-09-21T05:23:56.230Z"
   },
   {
    "duration": 29,
    "start_time": "2024-09-21T05:24:36.169Z"
   },
   {
    "duration": 11,
    "start_time": "2024-09-21T05:24:36.742Z"
   },
   {
    "duration": 6,
    "start_time": "2024-09-21T05:24:37.318Z"
   },
   {
    "duration": 40,
    "start_time": "2024-09-21T05:24:50.332Z"
   },
   {
    "duration": 28,
    "start_time": "2024-09-21T05:25:31.105Z"
   },
   {
    "duration": 11,
    "start_time": "2024-09-21T05:25:31.876Z"
   },
   {
    "duration": 6,
    "start_time": "2024-09-21T05:25:36.560Z"
   },
   {
    "duration": 2,
    "start_time": "2024-09-21T05:26:14.805Z"
   },
   {
    "duration": 85,
    "start_time": "2024-09-21T05:27:12.441Z"
   },
   {
    "duration": 86,
    "start_time": "2024-09-21T05:27:16.376Z"
   },
   {
    "duration": 36,
    "start_time": "2024-09-21T05:27:20.379Z"
   },
   {
    "duration": 412,
    "start_time": "2024-09-21T05:27:30.923Z"
   },
   {
    "duration": 901,
    "start_time": "2024-09-21T05:27:31.337Z"
   },
   {
    "duration": 11,
    "start_time": "2024-09-21T05:27:32.243Z"
   },
   {
    "duration": 9,
    "start_time": "2024-09-21T05:27:32.256Z"
   },
   {
    "duration": 7,
    "start_time": "2024-09-21T05:27:32.267Z"
   },
   {
    "duration": 7,
    "start_time": "2024-09-21T05:27:32.276Z"
   },
   {
    "duration": 6,
    "start_time": "2024-09-21T05:27:32.285Z"
   },
   {
    "duration": 104,
    "start_time": "2024-09-21T05:27:32.332Z"
   },
   {
    "duration": 10,
    "start_time": "2024-09-21T05:27:32.438Z"
   },
   {
    "duration": 114,
    "start_time": "2024-09-21T05:27:32.450Z"
   },
   {
    "duration": 97,
    "start_time": "2024-09-21T05:27:32.566Z"
   },
   {
    "duration": 30,
    "start_time": "2024-09-21T05:27:32.664Z"
   },
   {
    "duration": 11,
    "start_time": "2024-09-21T05:27:32.696Z"
   },
   {
    "duration": 23,
    "start_time": "2024-09-21T05:27:32.709Z"
   },
   {
    "duration": 21,
    "start_time": "2024-09-21T05:27:32.734Z"
   },
   {
    "duration": 9,
    "start_time": "2024-09-21T05:27:32.757Z"
   },
   {
    "duration": 3,
    "start_time": "2024-09-21T05:27:32.768Z"
   },
   {
    "duration": 4,
    "start_time": "2024-09-21T05:27:32.772Z"
   },
   {
    "duration": 4,
    "start_time": "2024-09-21T05:27:32.777Z"
   },
   {
    "duration": 3,
    "start_time": "2024-09-21T05:27:32.782Z"
   },
   {
    "duration": 768,
    "start_time": "2024-09-21T05:27:32.787Z"
   },
   {
    "duration": 670,
    "start_time": "2024-09-21T05:27:33.556Z"
   },
   {
    "duration": 11,
    "start_time": "2024-09-21T05:27:34.231Z"
   },
   {
    "duration": 8,
    "start_time": "2024-09-21T05:27:34.245Z"
   },
   {
    "duration": 9,
    "start_time": "2024-09-21T05:27:34.254Z"
   },
   {
    "duration": 7,
    "start_time": "2024-09-21T05:27:34.264Z"
   },
   {
    "duration": 7,
    "start_time": "2024-09-21T05:27:34.276Z"
   },
   {
    "duration": 11,
    "start_time": "2024-09-21T05:27:34.285Z"
   },
   {
    "duration": 5,
    "start_time": "2024-09-21T05:27:34.331Z"
   },
   {
    "duration": 16,
    "start_time": "2024-09-21T05:27:34.338Z"
   },
   {
    "duration": 31,
    "start_time": "2024-09-21T05:27:34.356Z"
   },
   {
    "duration": 7,
    "start_time": "2024-09-21T05:27:34.389Z"
   },
   {
    "duration": 34,
    "start_time": "2024-09-21T05:27:34.398Z"
   },
   {
    "duration": 39,
    "start_time": "2024-09-21T05:27:34.434Z"
   },
   {
    "duration": 3,
    "start_time": "2024-09-21T05:27:34.476Z"
   },
   {
    "duration": 4,
    "start_time": "2024-09-21T05:27:34.481Z"
   },
   {
    "duration": 282,
    "start_time": "2024-09-21T05:27:34.487Z"
   },
   {
    "duration": 131,
    "start_time": "2024-09-21T05:27:34.771Z"
   },
   {
    "duration": 101,
    "start_time": "2024-09-21T05:27:34.904Z"
   },
   {
    "duration": 6,
    "start_time": "2024-09-21T05:27:35.007Z"
   },
   {
    "duration": 169,
    "start_time": "2024-09-21T05:27:35.015Z"
   },
   {
    "duration": 5,
    "start_time": "2024-09-21T05:27:35.186Z"
   },
   {
    "duration": 177,
    "start_time": "2024-09-21T05:27:35.193Z"
   },
   {
    "duration": 34,
    "start_time": "2024-09-21T05:27:35.372Z"
   },
   {
    "duration": 188,
    "start_time": "2024-09-21T05:27:35.408Z"
   },
   {
    "duration": 91,
    "start_time": "2024-09-21T05:27:35.598Z"
   },
   {
    "duration": 9,
    "start_time": "2024-09-21T05:27:35.690Z"
   },
   {
    "duration": 8,
    "start_time": "2024-09-21T05:27:35.700Z"
   },
   {
    "duration": 268,
    "start_time": "2024-09-21T05:27:35.710Z"
   },
   {
    "duration": 4,
    "start_time": "2024-09-21T05:27:35.980Z"
   },
   {
    "duration": 147,
    "start_time": "2024-09-21T05:27:35.986Z"
   },
   {
    "duration": 158,
    "start_time": "2024-09-21T05:27:36.135Z"
   },
   {
    "duration": 3,
    "start_time": "2024-09-21T05:27:36.295Z"
   },
   {
    "duration": 9,
    "start_time": "2024-09-21T05:27:36.300Z"
   },
   {
    "duration": 6,
    "start_time": "2024-09-21T05:27:36.311Z"
   },
   {
    "duration": 225,
    "start_time": "2024-09-21T05:27:36.319Z"
   },
   {
    "duration": 6,
    "start_time": "2024-09-21T05:27:36.546Z"
   },
   {
    "duration": 7,
    "start_time": "2024-09-21T05:27:36.553Z"
   },
   {
    "duration": 885,
    "start_time": "2024-09-21T05:27:36.561Z"
   },
   {
    "duration": 7,
    "start_time": "2024-09-21T05:27:37.448Z"
   },
   {
    "duration": 30,
    "start_time": "2024-09-21T05:27:37.457Z"
   },
   {
    "duration": 10,
    "start_time": "2024-09-21T05:27:37.489Z"
   },
   {
    "duration": 6,
    "start_time": "2024-09-21T05:27:37.501Z"
   },
   {
    "duration": 2170,
    "start_time": "2024-09-22T22:19:56.132Z"
   },
   {
    "duration": 1030,
    "start_time": "2024-09-22T22:19:58.305Z"
   },
   {
    "duration": 11,
    "start_time": "2024-09-22T22:19:59.337Z"
   },
   {
    "duration": 9,
    "start_time": "2024-09-22T22:19:59.349Z"
   },
   {
    "duration": 7,
    "start_time": "2024-09-22T22:19:59.360Z"
   },
   {
    "duration": 7,
    "start_time": "2024-09-22T22:19:59.369Z"
   },
   {
    "duration": 7,
    "start_time": "2024-09-22T22:19:59.377Z"
   },
   {
    "duration": 132,
    "start_time": "2024-09-22T22:19:59.386Z"
   },
   {
    "duration": 13,
    "start_time": "2024-09-22T22:19:59.520Z"
   },
   {
    "duration": 108,
    "start_time": "2024-09-22T22:19:59.534Z"
   },
   {
    "duration": 89,
    "start_time": "2024-09-22T22:19:59.644Z"
   },
   {
    "duration": 28,
    "start_time": "2024-09-22T22:19:59.734Z"
   },
   {
    "duration": 11,
    "start_time": "2024-09-22T22:19:59.763Z"
   },
   {
    "duration": 3,
    "start_time": "2024-09-22T22:19:59.778Z"
   },
   {
    "duration": 52,
    "start_time": "2024-09-22T22:19:59.783Z"
   },
   {
    "duration": 11,
    "start_time": "2024-09-22T22:19:59.836Z"
   },
   {
    "duration": 4,
    "start_time": "2024-09-22T22:19:59.848Z"
   },
   {
    "duration": 3,
    "start_time": "2024-09-22T22:19:59.853Z"
   },
   {
    "duration": 3,
    "start_time": "2024-09-22T22:19:59.858Z"
   },
   {
    "duration": 3,
    "start_time": "2024-09-22T22:19:59.863Z"
   },
   {
    "duration": 765,
    "start_time": "2024-09-22T22:19:59.868Z"
   },
   {
    "duration": 635,
    "start_time": "2024-09-22T22:20:00.635Z"
   },
   {
    "duration": 11,
    "start_time": "2024-09-22T22:20:01.271Z"
   },
   {
    "duration": 7,
    "start_time": "2024-09-22T22:20:01.284Z"
   },
   {
    "duration": 10,
    "start_time": "2024-09-22T22:20:01.293Z"
   },
   {
    "duration": 23,
    "start_time": "2024-09-22T22:20:01.304Z"
   },
   {
    "duration": 6,
    "start_time": "2024-09-22T22:20:01.329Z"
   },
   {
    "duration": 10,
    "start_time": "2024-09-22T22:20:01.337Z"
   },
   {
    "duration": 5,
    "start_time": "2024-09-22T22:20:01.349Z"
   },
   {
    "duration": 17,
    "start_time": "2024-09-22T22:20:01.355Z"
   },
   {
    "duration": 65,
    "start_time": "2024-09-22T22:20:01.374Z"
   },
   {
    "duration": 7,
    "start_time": "2024-09-22T22:20:01.442Z"
   },
   {
    "duration": 7,
    "start_time": "2024-09-22T22:20:01.451Z"
   },
   {
    "duration": 36,
    "start_time": "2024-09-22T22:20:01.459Z"
   },
   {
    "duration": 29,
    "start_time": "2024-09-22T22:20:01.497Z"
   },
   {
    "duration": 4,
    "start_time": "2024-09-22T22:20:01.528Z"
   },
   {
    "duration": 284,
    "start_time": "2024-09-22T22:20:01.533Z"
   },
   {
    "duration": 154,
    "start_time": "2024-09-22T22:20:01.818Z"
   },
   {
    "duration": 98,
    "start_time": "2024-09-22T22:20:01.974Z"
   },
   {
    "duration": 6,
    "start_time": "2024-09-22T22:20:02.074Z"
   },
   {
    "duration": 178,
    "start_time": "2024-09-22T22:20:02.084Z"
   },
   {
    "duration": 6,
    "start_time": "2024-09-22T22:20:02.264Z"
   },
   {
    "duration": 184,
    "start_time": "2024-09-22T22:20:02.271Z"
   },
   {
    "duration": 38,
    "start_time": "2024-09-22T22:20:02.457Z"
   },
   {
    "duration": 183,
    "start_time": "2024-09-22T22:20:02.497Z"
   },
   {
    "duration": 90,
    "start_time": "2024-09-22T22:20:02.682Z"
   },
   {
    "duration": 9,
    "start_time": "2024-09-22T22:20:02.774Z"
   },
   {
    "duration": 8,
    "start_time": "2024-09-22T22:20:02.784Z"
   },
   {
    "duration": 268,
    "start_time": "2024-09-22T22:20:02.794Z"
   },
   {
    "duration": 4,
    "start_time": "2024-09-22T22:20:03.063Z"
   },
   {
    "duration": 144,
    "start_time": "2024-09-22T22:20:03.068Z"
   },
   {
    "duration": 154,
    "start_time": "2024-09-22T22:20:03.214Z"
   },
   {
    "duration": 3,
    "start_time": "2024-09-22T22:20:03.370Z"
   },
   {
    "duration": 9,
    "start_time": "2024-09-22T22:20:03.375Z"
   },
   {
    "duration": 6,
    "start_time": "2024-09-22T22:20:03.385Z"
   },
   {
    "duration": 232,
    "start_time": "2024-09-22T22:20:03.393Z"
   },
   {
    "duration": 7,
    "start_time": "2024-09-22T22:20:03.627Z"
   },
   {
    "duration": 6,
    "start_time": "2024-09-22T22:20:03.636Z"
   },
   {
    "duration": 823,
    "start_time": "2024-09-22T22:20:03.644Z"
   },
   {
    "duration": 8,
    "start_time": "2024-09-22T22:20:04.469Z"
   },
   {
    "duration": 27,
    "start_time": "2024-09-22T22:20:04.479Z"
   },
   {
    "duration": 23,
    "start_time": "2024-09-22T22:20:04.508Z"
   },
   {
    "duration": 7,
    "start_time": "2024-09-22T22:20:04.533Z"
   },
   {
    "duration": 15,
    "start_time": "2024-09-22T22:21:17.429Z"
   },
   {
    "duration": 22,
    "start_time": "2024-09-22T22:21:40.798Z"
   },
   {
    "duration": 15,
    "start_time": "2024-09-22T22:21:41.375Z"
   },
   {
    "duration": 12,
    "start_time": "2024-09-22T22:22:16.566Z"
   },
   {
    "duration": 407,
    "start_time": "2024-09-22T22:22:27.390Z"
   },
   {
    "duration": 945,
    "start_time": "2024-09-22T22:22:27.799Z"
   },
   {
    "duration": 11,
    "start_time": "2024-09-22T22:22:28.746Z"
   },
   {
    "duration": 9,
    "start_time": "2024-09-22T22:22:28.759Z"
   },
   {
    "duration": 8,
    "start_time": "2024-09-22T22:22:28.769Z"
   },
   {
    "duration": 8,
    "start_time": "2024-09-22T22:22:28.778Z"
   },
   {
    "duration": 36,
    "start_time": "2024-09-22T22:22:28.788Z"
   },
   {
    "duration": 104,
    "start_time": "2024-09-22T22:22:28.825Z"
   },
   {
    "duration": 11,
    "start_time": "2024-09-22T22:22:28.931Z"
   },
   {
    "duration": 113,
    "start_time": "2024-09-22T22:22:28.944Z"
   },
   {
    "duration": 94,
    "start_time": "2024-09-22T22:22:29.058Z"
   },
   {
    "duration": 28,
    "start_time": "2024-09-22T22:22:29.154Z"
   },
   {
    "duration": 12,
    "start_time": "2024-09-22T22:22:29.184Z"
   },
   {
    "duration": 4,
    "start_time": "2024-09-22T22:22:29.198Z"
   },
   {
    "duration": 38,
    "start_time": "2024-09-22T22:22:29.203Z"
   },
   {
    "duration": 10,
    "start_time": "2024-09-22T22:22:29.242Z"
   },
   {
    "duration": 3,
    "start_time": "2024-09-22T22:22:29.254Z"
   },
   {
    "duration": 3,
    "start_time": "2024-09-22T22:22:29.259Z"
   },
   {
    "duration": 3,
    "start_time": "2024-09-22T22:22:29.264Z"
   },
   {
    "duration": 3,
    "start_time": "2024-09-22T22:22:29.269Z"
   },
   {
    "duration": 769,
    "start_time": "2024-09-22T22:22:29.274Z"
   },
   {
    "duration": 646,
    "start_time": "2024-09-22T22:22:30.045Z"
   },
   {
    "duration": 12,
    "start_time": "2024-09-22T22:22:30.693Z"
   },
   {
    "duration": 19,
    "start_time": "2024-09-22T22:22:30.707Z"
   },
   {
    "duration": 8,
    "start_time": "2024-09-22T22:22:30.728Z"
   },
   {
    "duration": 5,
    "start_time": "2024-09-22T22:22:30.737Z"
   },
   {
    "duration": 7,
    "start_time": "2024-09-22T22:22:30.744Z"
   },
   {
    "duration": 10,
    "start_time": "2024-09-22T22:22:30.757Z"
   },
   {
    "duration": 4,
    "start_time": "2024-09-22T22:22:30.769Z"
   },
   {
    "duration": 50,
    "start_time": "2024-09-22T22:22:30.775Z"
   },
   {
    "duration": 31,
    "start_time": "2024-09-22T22:22:30.827Z"
   },
   {
    "duration": 7,
    "start_time": "2024-09-22T22:22:30.860Z"
   },
   {
    "duration": 7,
    "start_time": "2024-09-22T22:22:30.868Z"
   },
   {
    "duration": 61,
    "start_time": "2024-09-22T22:22:30.878Z"
   },
   {
    "duration": 4,
    "start_time": "2024-09-22T22:22:30.941Z"
   },
   {
    "duration": 4,
    "start_time": "2024-09-22T22:22:30.947Z"
   },
   {
    "duration": 266,
    "start_time": "2024-09-22T22:22:30.953Z"
   },
   {
    "duration": 129,
    "start_time": "2024-09-22T22:22:31.220Z"
   },
   {
    "duration": 99,
    "start_time": "2024-09-22T22:22:31.351Z"
   },
   {
    "duration": 6,
    "start_time": "2024-09-22T22:22:31.452Z"
   },
   {
    "duration": 175,
    "start_time": "2024-09-22T22:22:31.459Z"
   },
   {
    "duration": 6,
    "start_time": "2024-09-22T22:22:31.635Z"
   },
   {
    "duration": 175,
    "start_time": "2024-09-22T22:22:31.643Z"
   },
   {
    "duration": 33,
    "start_time": "2024-09-22T22:22:31.825Z"
   },
   {
    "duration": 179,
    "start_time": "2024-09-22T22:22:31.860Z"
   },
   {
    "duration": 89,
    "start_time": "2024-09-22T22:22:32.041Z"
   },
   {
    "duration": 8,
    "start_time": "2024-09-22T22:22:32.132Z"
   },
   {
    "duration": 9,
    "start_time": "2024-09-22T22:22:32.141Z"
   },
   {
    "duration": 253,
    "start_time": "2024-09-22T22:22:32.151Z"
   },
   {
    "duration": 4,
    "start_time": "2024-09-22T22:22:32.406Z"
   },
   {
    "duration": 141,
    "start_time": "2024-09-22T22:22:32.412Z"
   },
   {
    "duration": 158,
    "start_time": "2024-09-22T22:22:32.555Z"
   },
   {
    "duration": 4,
    "start_time": "2024-09-22T22:22:32.715Z"
   },
   {
    "duration": 9,
    "start_time": "2024-09-22T22:22:32.724Z"
   },
   {
    "duration": 7,
    "start_time": "2024-09-22T22:22:32.734Z"
   },
   {
    "duration": 223,
    "start_time": "2024-09-22T22:22:32.742Z"
   },
   {
    "duration": 6,
    "start_time": "2024-09-22T22:22:32.967Z"
   },
   {
    "duration": 8,
    "start_time": "2024-09-22T22:22:32.975Z"
   },
   {
    "duration": 840,
    "start_time": "2024-09-22T22:22:32.984Z"
   },
   {
    "duration": 9,
    "start_time": "2024-09-22T22:22:33.825Z"
   },
   {
    "duration": 33,
    "start_time": "2024-09-22T22:22:33.837Z"
   },
   {
    "duration": 10,
    "start_time": "2024-09-22T22:22:33.872Z"
   },
   {
    "duration": 6,
    "start_time": "2024-09-22T22:22:33.883Z"
   },
   {
    "duration": 16,
    "start_time": "2024-09-22T22:22:42.901Z"
   },
   {
    "duration": 11,
    "start_time": "2024-09-22T22:23:01.646Z"
   },
   {
    "duration": 14,
    "start_time": "2024-09-22T22:23:12.380Z"
   },
   {
    "duration": 428,
    "start_time": "2024-09-22T22:23:18.156Z"
   },
   {
    "duration": 900,
    "start_time": "2024-09-22T22:23:18.586Z"
   },
   {
    "duration": 11,
    "start_time": "2024-09-22T22:23:19.492Z"
   },
   {
    "duration": 21,
    "start_time": "2024-09-22T22:23:19.504Z"
   },
   {
    "duration": 7,
    "start_time": "2024-09-22T22:23:19.527Z"
   },
   {
    "duration": 6,
    "start_time": "2024-09-22T22:23:19.536Z"
   },
   {
    "duration": 6,
    "start_time": "2024-09-22T22:23:19.544Z"
   },
   {
    "duration": 119,
    "start_time": "2024-09-22T22:23:19.552Z"
   },
   {
    "duration": 11,
    "start_time": "2024-09-22T22:23:19.675Z"
   },
   {
    "duration": 113,
    "start_time": "2024-09-22T22:23:19.687Z"
   },
   {
    "duration": 89,
    "start_time": "2024-09-22T22:23:19.802Z"
   },
   {
    "duration": 32,
    "start_time": "2024-09-22T22:23:19.893Z"
   },
   {
    "duration": 12,
    "start_time": "2024-09-22T22:23:19.926Z"
   },
   {
    "duration": 3,
    "start_time": "2024-09-22T22:23:19.940Z"
   },
   {
    "duration": 21,
    "start_time": "2024-09-22T22:23:19.944Z"
   },
   {
    "duration": 13,
    "start_time": "2024-09-22T22:23:19.967Z"
   },
   {
    "duration": 3,
    "start_time": "2024-09-22T22:23:19.981Z"
   },
   {
    "duration": 39,
    "start_time": "2024-09-22T22:23:19.986Z"
   },
   {
    "duration": 4,
    "start_time": "2024-09-22T22:23:20.026Z"
   },
   {
    "duration": 4,
    "start_time": "2024-09-22T22:23:20.031Z"
   },
   {
    "duration": 736,
    "start_time": "2024-09-22T22:23:20.036Z"
   },
   {
    "duration": 650,
    "start_time": "2024-09-22T22:23:20.774Z"
   },
   {
    "duration": 11,
    "start_time": "2024-09-22T22:23:21.426Z"
   },
   {
    "duration": 8,
    "start_time": "2024-09-22T22:23:21.439Z"
   },
   {
    "duration": 7,
    "start_time": "2024-09-22T22:23:21.448Z"
   },
   {
    "duration": 5,
    "start_time": "2024-09-22T22:23:21.457Z"
   },
   {
    "duration": 6,
    "start_time": "2024-09-22T22:23:21.467Z"
   },
   {
    "duration": 48,
    "start_time": "2024-09-22T22:23:21.475Z"
   },
   {
    "duration": 5,
    "start_time": "2024-09-22T22:23:21.525Z"
   },
   {
    "duration": 16,
    "start_time": "2024-09-22T22:23:21.531Z"
   },
   {
    "duration": 31,
    "start_time": "2024-09-22T22:23:21.549Z"
   },
   {
    "duration": 7,
    "start_time": "2024-09-22T22:23:21.583Z"
   },
   {
    "duration": 35,
    "start_time": "2024-09-22T22:23:21.592Z"
   },
   {
    "duration": 38,
    "start_time": "2024-09-22T22:23:21.628Z"
   },
   {
    "duration": 3,
    "start_time": "2024-09-22T22:23:21.669Z"
   },
   {
    "duration": 4,
    "start_time": "2024-09-22T22:23:21.674Z"
   },
   {
    "duration": 280,
    "start_time": "2024-09-22T22:23:21.679Z"
   },
   {
    "duration": 132,
    "start_time": "2024-09-22T22:23:21.961Z"
   },
   {
    "duration": 99,
    "start_time": "2024-09-22T22:23:22.095Z"
   },
   {
    "duration": 6,
    "start_time": "2024-09-22T22:23:22.195Z"
   },
   {
    "duration": 188,
    "start_time": "2024-09-22T22:23:22.202Z"
   },
   {
    "duration": 5,
    "start_time": "2024-09-22T22:23:22.392Z"
   },
   {
    "duration": 173,
    "start_time": "2024-09-22T22:23:22.399Z"
   },
   {
    "duration": 34,
    "start_time": "2024-09-22T22:23:22.574Z"
   },
   {
    "duration": 192,
    "start_time": "2024-09-22T22:23:22.609Z"
   },
   {
    "duration": 90,
    "start_time": "2024-09-22T22:23:22.802Z"
   },
   {
    "duration": 8,
    "start_time": "2024-09-22T22:23:22.894Z"
   },
   {
    "duration": 8,
    "start_time": "2024-09-22T22:23:22.904Z"
   },
   {
    "duration": 256,
    "start_time": "2024-09-22T22:23:22.914Z"
   },
   {
    "duration": 4,
    "start_time": "2024-09-22T22:23:23.172Z"
   },
   {
    "duration": 148,
    "start_time": "2024-09-22T22:23:23.178Z"
   },
   {
    "duration": 154,
    "start_time": "2024-09-22T22:23:23.328Z"
   },
   {
    "duration": 4,
    "start_time": "2024-09-22T22:23:23.483Z"
   },
   {
    "duration": 8,
    "start_time": "2024-09-22T22:23:23.489Z"
   },
   {
    "duration": 7,
    "start_time": "2024-09-22T22:23:23.499Z"
   },
   {
    "duration": 229,
    "start_time": "2024-09-22T22:23:23.508Z"
   },
   {
    "duration": 6,
    "start_time": "2024-09-22T22:23:23.739Z"
   },
   {
    "duration": 8,
    "start_time": "2024-09-22T22:23:23.746Z"
   },
   {
    "duration": 843,
    "start_time": "2024-09-22T22:23:23.755Z"
   },
   {
    "duration": 7,
    "start_time": "2024-09-22T22:23:24.600Z"
   },
   {
    "duration": 40,
    "start_time": "2024-09-22T22:23:24.608Z"
   },
   {
    "duration": 10,
    "start_time": "2024-09-22T22:23:24.649Z"
   },
   {
    "duration": 6,
    "start_time": "2024-09-22T22:23:24.660Z"
   },
   {
    "duration": 14,
    "start_time": "2024-09-22T22:25:13.666Z"
   },
   {
    "duration": 14,
    "start_time": "2024-09-22T22:25:28.720Z"
   },
   {
    "duration": 402,
    "start_time": "2024-09-22T22:25:35.014Z"
   },
   {
    "duration": 893,
    "start_time": "2024-09-22T22:25:35.419Z"
   },
   {
    "duration": 21,
    "start_time": "2024-09-22T22:25:36.314Z"
   },
   {
    "duration": 11,
    "start_time": "2024-09-22T22:25:36.337Z"
   },
   {
    "duration": 7,
    "start_time": "2024-09-22T22:25:36.349Z"
   },
   {
    "duration": 7,
    "start_time": "2024-09-22T22:25:36.358Z"
   },
   {
    "duration": 6,
    "start_time": "2024-09-22T22:25:36.366Z"
   },
   {
    "duration": 127,
    "start_time": "2024-09-22T22:25:36.374Z"
   },
   {
    "duration": 10,
    "start_time": "2024-09-22T22:25:36.503Z"
   },
   {
    "duration": 104,
    "start_time": "2024-09-22T22:25:36.525Z"
   },
   {
    "duration": 93,
    "start_time": "2024-09-22T22:25:36.631Z"
   },
   {
    "duration": 26,
    "start_time": "2024-09-22T22:25:36.726Z"
   },
   {
    "duration": 11,
    "start_time": "2024-09-22T22:25:36.754Z"
   },
   {
    "duration": 3,
    "start_time": "2024-09-22T22:25:36.766Z"
   },
   {
    "duration": 20,
    "start_time": "2024-09-22T22:25:36.771Z"
   },
   {
    "duration": 35,
    "start_time": "2024-09-22T22:25:36.793Z"
   },
   {
    "duration": 3,
    "start_time": "2024-09-22T22:25:36.830Z"
   },
   {
    "duration": 3,
    "start_time": "2024-09-22T22:25:36.835Z"
   },
   {
    "duration": 4,
    "start_time": "2024-09-22T22:25:36.839Z"
   },
   {
    "duration": 3,
    "start_time": "2024-09-22T22:25:36.845Z"
   },
   {
    "duration": 780,
    "start_time": "2024-09-22T22:25:36.850Z"
   },
   {
    "duration": 670,
    "start_time": "2024-09-22T22:25:37.632Z"
   },
   {
    "duration": 22,
    "start_time": "2024-09-22T22:25:38.304Z"
   },
   {
    "duration": 8,
    "start_time": "2024-09-22T22:25:38.327Z"
   },
   {
    "duration": 7,
    "start_time": "2024-09-22T22:25:38.337Z"
   },
   {
    "duration": 5,
    "start_time": "2024-09-22T22:25:38.346Z"
   },
   {
    "duration": 8,
    "start_time": "2024-09-22T22:25:38.353Z"
   },
   {
    "duration": 11,
    "start_time": "2024-09-22T22:25:38.365Z"
   },
   {
    "duration": 4,
    "start_time": "2024-09-22T22:25:38.377Z"
   },
   {
    "duration": 52,
    "start_time": "2024-09-22T22:25:38.383Z"
   },
   {
    "duration": 30,
    "start_time": "2024-09-22T22:25:38.437Z"
   },
   {
    "duration": 7,
    "start_time": "2024-09-22T22:25:38.469Z"
   },
   {
    "duration": 6,
    "start_time": "2024-09-22T22:25:38.477Z"
   },
   {
    "duration": 66,
    "start_time": "2024-09-22T22:25:38.485Z"
   },
   {
    "duration": 4,
    "start_time": "2024-09-22T22:25:38.552Z"
   },
   {
    "duration": 5,
    "start_time": "2024-09-22T22:25:38.558Z"
   },
   {
    "duration": 258,
    "start_time": "2024-09-22T22:25:38.566Z"
   },
   {
    "duration": 125,
    "start_time": "2024-09-22T22:25:38.826Z"
   },
   {
    "duration": 93,
    "start_time": "2024-09-22T22:25:38.954Z"
   },
   {
    "duration": 6,
    "start_time": "2024-09-22T22:25:39.048Z"
   },
   {
    "duration": 187,
    "start_time": "2024-09-22T22:25:39.055Z"
   },
   {
    "duration": 6,
    "start_time": "2024-09-22T22:25:39.244Z"
   },
   {
    "duration": 175,
    "start_time": "2024-09-22T22:25:39.252Z"
   },
   {
    "duration": 33,
    "start_time": "2024-09-22T22:25:39.429Z"
   },
   {
    "duration": 182,
    "start_time": "2024-09-22T22:25:39.464Z"
   },
   {
    "duration": 91,
    "start_time": "2024-09-22T22:25:39.648Z"
   },
   {
    "duration": 10,
    "start_time": "2024-09-22T22:25:39.740Z"
   },
   {
    "duration": 8,
    "start_time": "2024-09-22T22:25:39.752Z"
   },
   {
    "duration": 264,
    "start_time": "2024-09-22T22:25:39.761Z"
   },
   {
    "duration": 6,
    "start_time": "2024-09-22T22:25:40.026Z"
   },
   {
    "duration": 147,
    "start_time": "2024-09-22T22:25:40.033Z"
   },
   {
    "duration": 162,
    "start_time": "2024-09-22T22:25:40.182Z"
   },
   {
    "duration": 3,
    "start_time": "2024-09-22T22:25:40.346Z"
   },
   {
    "duration": 10,
    "start_time": "2024-09-22T22:25:40.351Z"
   },
   {
    "duration": 7,
    "start_time": "2024-09-22T22:25:40.362Z"
   },
   {
    "duration": 228,
    "start_time": "2024-09-22T22:25:40.371Z"
   },
   {
    "duration": 7,
    "start_time": "2024-09-22T22:25:40.600Z"
   },
   {
    "duration": 17,
    "start_time": "2024-09-22T22:25:40.610Z"
   },
   {
    "duration": 883,
    "start_time": "2024-09-22T22:25:40.629Z"
   },
   {
    "duration": 13,
    "start_time": "2024-09-22T22:25:41.514Z"
   },
   {
    "duration": 31,
    "start_time": "2024-09-22T22:25:41.529Z"
   },
   {
    "duration": 10,
    "start_time": "2024-09-22T22:25:41.562Z"
   },
   {
    "duration": 6,
    "start_time": "2024-09-22T22:25:41.574Z"
   },
   {
    "duration": 11,
    "start_time": "2024-09-22T22:27:01.667Z"
   },
   {
    "duration": 404,
    "start_time": "2024-09-22T22:27:11.911Z"
   },
   {
    "duration": 904,
    "start_time": "2024-09-22T22:27:12.316Z"
   },
   {
    "duration": 10,
    "start_time": "2024-09-22T22:27:13.222Z"
   },
   {
    "duration": 9,
    "start_time": "2024-09-22T22:27:13.235Z"
   },
   {
    "duration": 7,
    "start_time": "2024-09-22T22:27:13.245Z"
   },
   {
    "duration": 7,
    "start_time": "2024-09-22T22:27:13.255Z"
   },
   {
    "duration": 7,
    "start_time": "2024-09-22T22:27:13.264Z"
   },
   {
    "duration": 130,
    "start_time": "2024-09-22T22:27:13.272Z"
   },
   {
    "duration": 10,
    "start_time": "2024-09-22T22:27:13.404Z"
   },
   {
    "duration": 108,
    "start_time": "2024-09-22T22:27:13.426Z"
   },
   {
    "duration": 88,
    "start_time": "2024-09-22T22:27:13.537Z"
   },
   {
    "duration": 26,
    "start_time": "2024-09-22T22:27:13.627Z"
   },
   {
    "duration": 12,
    "start_time": "2024-09-22T22:27:13.655Z"
   },
   {
    "duration": 4,
    "start_time": "2024-09-22T22:27:13.668Z"
   },
   {
    "duration": 22,
    "start_time": "2024-09-22T22:27:13.673Z"
   },
   {
    "duration": 35,
    "start_time": "2024-09-22T22:27:13.696Z"
   },
   {
    "duration": 3,
    "start_time": "2024-09-22T22:27:13.732Z"
   },
   {
    "duration": 3,
    "start_time": "2024-09-22T22:27:13.737Z"
   },
   {
    "duration": 4,
    "start_time": "2024-09-22T22:27:13.741Z"
   },
   {
    "duration": 4,
    "start_time": "2024-09-22T22:27:13.746Z"
   },
   {
    "duration": 780,
    "start_time": "2024-09-22T22:27:13.752Z"
   },
   {
    "duration": 631,
    "start_time": "2024-09-22T22:27:14.533Z"
   },
   {
    "duration": 16,
    "start_time": "2024-09-22T22:27:15.165Z"
   },
   {
    "duration": 13,
    "start_time": "2024-09-22T22:27:15.183Z"
   },
   {
    "duration": 27,
    "start_time": "2024-09-22T22:27:15.198Z"
   },
   {
    "duration": 7,
    "start_time": "2024-09-22T22:27:15.227Z"
   },
   {
    "duration": 7,
    "start_time": "2024-09-22T22:27:15.235Z"
   },
   {
    "duration": 12,
    "start_time": "2024-09-22T22:27:15.247Z"
   },
   {
    "duration": 5,
    "start_time": "2024-09-22T22:27:15.260Z"
   },
   {
    "duration": 16,
    "start_time": "2024-09-22T22:27:15.267Z"
   },
   {
    "duration": 62,
    "start_time": "2024-09-22T22:27:15.285Z"
   },
   {
    "duration": 7,
    "start_time": "2024-09-22T22:27:15.349Z"
   },
   {
    "duration": 7,
    "start_time": "2024-09-22T22:27:15.357Z"
   },
   {
    "duration": 59,
    "start_time": "2024-09-22T22:27:15.365Z"
   },
   {
    "duration": 4,
    "start_time": "2024-09-22T22:27:15.426Z"
   },
   {
    "duration": 4,
    "start_time": "2024-09-22T22:27:15.433Z"
   },
   {
    "duration": 258,
    "start_time": "2024-09-22T22:27:15.438Z"
   },
   {
    "duration": 128,
    "start_time": "2024-09-22T22:27:15.698Z"
   },
   {
    "duration": 98,
    "start_time": "2024-09-22T22:27:15.828Z"
   },
   {
    "duration": 6,
    "start_time": "2024-09-22T22:27:15.928Z"
   },
   {
    "duration": 172,
    "start_time": "2024-09-22T22:27:15.936Z"
   },
   {
    "duration": 6,
    "start_time": "2024-09-22T22:27:16.110Z"
   },
   {
    "duration": 172,
    "start_time": "2024-09-22T22:27:16.125Z"
   },
   {
    "duration": 38,
    "start_time": "2024-09-22T22:27:16.299Z"
   },
   {
    "duration": 180,
    "start_time": "2024-09-22T22:27:16.339Z"
   },
   {
    "duration": 89,
    "start_time": "2024-09-22T22:27:16.521Z"
   },
   {
    "duration": 19,
    "start_time": "2024-09-22T22:27:16.611Z"
   },
   {
    "duration": 9,
    "start_time": "2024-09-22T22:27:16.631Z"
   },
   {
    "duration": 254,
    "start_time": "2024-09-22T22:27:16.642Z"
   },
   {
    "duration": 4,
    "start_time": "2024-09-22T22:27:16.898Z"
   },
   {
    "duration": 145,
    "start_time": "2024-09-22T22:27:16.904Z"
   },
   {
    "duration": 151,
    "start_time": "2024-09-22T22:27:17.051Z"
   },
   {
    "duration": 3,
    "start_time": "2024-09-22T22:27:17.204Z"
   },
   {
    "duration": 20,
    "start_time": "2024-09-22T22:27:17.209Z"
   },
   {
    "duration": 7,
    "start_time": "2024-09-22T22:27:17.230Z"
   },
   {
    "duration": 225,
    "start_time": "2024-09-22T22:27:17.239Z"
   },
   {
    "duration": 7,
    "start_time": "2024-09-22T22:27:17.465Z"
   },
   {
    "duration": 7,
    "start_time": "2024-09-22T22:27:17.474Z"
   },
   {
    "duration": 855,
    "start_time": "2024-09-22T22:27:17.483Z"
   },
   {
    "duration": 7,
    "start_time": "2024-09-22T22:27:18.340Z"
   },
   {
    "duration": 27,
    "start_time": "2024-09-22T22:27:18.349Z"
   },
   {
    "duration": 9,
    "start_time": "2024-09-22T22:27:18.378Z"
   },
   {
    "duration": 6,
    "start_time": "2024-09-22T22:27:18.389Z"
   },
   {
    "duration": 12,
    "start_time": "2024-09-22T22:27:34.995Z"
   },
   {
    "duration": 392,
    "start_time": "2024-09-22T22:28:02.386Z"
   },
   {
    "duration": 906,
    "start_time": "2024-09-22T22:28:02.780Z"
   },
   {
    "duration": 11,
    "start_time": "2024-09-22T22:28:03.688Z"
   },
   {
    "duration": 24,
    "start_time": "2024-09-22T22:28:03.701Z"
   },
   {
    "duration": 7,
    "start_time": "2024-09-22T22:28:03.726Z"
   },
   {
    "duration": 7,
    "start_time": "2024-09-22T22:28:03.735Z"
   },
   {
    "duration": 9,
    "start_time": "2024-09-22T22:28:03.744Z"
   },
   {
    "duration": 125,
    "start_time": "2024-09-22T22:28:03.754Z"
   },
   {
    "duration": 10,
    "start_time": "2024-09-22T22:28:03.881Z"
   },
   {
    "duration": 114,
    "start_time": "2024-09-22T22:28:03.895Z"
   },
   {
    "duration": 90,
    "start_time": "2024-09-22T22:28:04.010Z"
   },
   {
    "duration": 29,
    "start_time": "2024-09-22T22:28:04.102Z"
   },
   {
    "duration": 11,
    "start_time": "2024-09-22T22:28:04.133Z"
   },
   {
    "duration": 3,
    "start_time": "2024-09-22T22:28:04.146Z"
   },
   {
    "duration": 21,
    "start_time": "2024-09-22T22:28:04.151Z"
   },
   {
    "duration": 9,
    "start_time": "2024-09-22T22:28:04.174Z"
   },
   {
    "duration": 4,
    "start_time": "2024-09-22T22:28:04.185Z"
   },
   {
    "duration": 35,
    "start_time": "2024-09-22T22:28:04.191Z"
   },
   {
    "duration": 4,
    "start_time": "2024-09-22T22:28:04.228Z"
   },
   {
    "duration": 3,
    "start_time": "2024-09-22T22:28:04.234Z"
   },
   {
    "duration": 737,
    "start_time": "2024-09-22T22:28:04.238Z"
   },
   {
    "duration": 648,
    "start_time": "2024-09-22T22:28:04.977Z"
   },
   {
    "duration": 11,
    "start_time": "2024-09-22T22:28:05.626Z"
   },
   {
    "duration": 8,
    "start_time": "2024-09-22T22:28:05.638Z"
   },
   {
    "duration": 7,
    "start_time": "2024-09-22T22:28:05.647Z"
   },
   {
    "duration": 6,
    "start_time": "2024-09-22T22:28:05.656Z"
   },
   {
    "duration": 7,
    "start_time": "2024-09-22T22:28:05.664Z"
   },
   {
    "duration": 10,
    "start_time": "2024-09-22T22:28:05.676Z"
   },
   {
    "duration": 41,
    "start_time": "2024-09-22T22:28:05.687Z"
   },
   {
    "duration": 16,
    "start_time": "2024-09-22T22:28:05.729Z"
   },
   {
    "duration": 30,
    "start_time": "2024-09-22T22:28:05.747Z"
   },
   {
    "duration": 8,
    "start_time": "2024-09-22T22:28:05.779Z"
   },
   {
    "duration": 36,
    "start_time": "2024-09-22T22:28:05.789Z"
   },
   {
    "duration": 38,
    "start_time": "2024-09-22T22:28:05.826Z"
   },
   {
    "duration": 4,
    "start_time": "2024-09-22T22:28:05.866Z"
   },
   {
    "duration": 4,
    "start_time": "2024-09-22T22:28:05.872Z"
   },
   {
    "duration": 270,
    "start_time": "2024-09-22T22:28:05.878Z"
   },
   {
    "duration": 127,
    "start_time": "2024-09-22T22:28:06.149Z"
   },
   {
    "duration": 98,
    "start_time": "2024-09-22T22:28:06.278Z"
   },
   {
    "duration": 7,
    "start_time": "2024-09-22T22:28:06.377Z"
   },
   {
    "duration": 174,
    "start_time": "2024-09-22T22:28:06.385Z"
   },
   {
    "duration": 7,
    "start_time": "2024-09-22T22:28:06.560Z"
   },
   {
    "duration": 176,
    "start_time": "2024-09-22T22:28:06.569Z"
   },
   {
    "duration": 34,
    "start_time": "2024-09-22T22:28:06.746Z"
   },
   {
    "duration": 184,
    "start_time": "2024-09-22T22:28:06.781Z"
   },
   {
    "duration": 92,
    "start_time": "2024-09-22T22:28:06.967Z"
   },
   {
    "duration": 8,
    "start_time": "2024-09-22T22:28:07.060Z"
   },
   {
    "duration": 9,
    "start_time": "2024-09-22T22:28:07.070Z"
   },
   {
    "duration": 254,
    "start_time": "2024-09-22T22:28:07.081Z"
   },
   {
    "duration": 4,
    "start_time": "2024-09-22T22:28:07.337Z"
   },
   {
    "duration": 147,
    "start_time": "2024-09-22T22:28:07.343Z"
   },
   {
    "duration": 159,
    "start_time": "2024-09-22T22:28:07.492Z"
   },
   {
    "duration": 4,
    "start_time": "2024-09-22T22:28:07.653Z"
   },
   {
    "duration": 9,
    "start_time": "2024-09-22T22:28:07.658Z"
   },
   {
    "duration": 6,
    "start_time": "2024-09-22T22:28:07.668Z"
   },
   {
    "duration": 229,
    "start_time": "2024-09-22T22:28:07.676Z"
   },
   {
    "duration": 6,
    "start_time": "2024-09-22T22:28:07.907Z"
   },
   {
    "duration": 14,
    "start_time": "2024-09-22T22:28:07.915Z"
   },
   {
    "duration": 834,
    "start_time": "2024-09-22T22:28:07.932Z"
   },
   {
    "duration": 7,
    "start_time": "2024-09-22T22:28:08.767Z"
   },
   {
    "duration": 31,
    "start_time": "2024-09-22T22:28:08.776Z"
   },
   {
    "duration": 22,
    "start_time": "2024-09-22T22:28:08.809Z"
   },
   {
    "duration": 7,
    "start_time": "2024-09-22T22:28:08.832Z"
   },
   {
    "duration": 12,
    "start_time": "2024-09-22T22:31:28.268Z"
   },
   {
    "duration": 393,
    "start_time": "2024-09-22T22:31:38.904Z"
   },
   {
    "duration": 893,
    "start_time": "2024-09-22T22:31:39.299Z"
   },
   {
    "duration": 12,
    "start_time": "2024-09-22T22:31:40.193Z"
   },
   {
    "duration": 22,
    "start_time": "2024-09-22T22:31:40.206Z"
   },
   {
    "duration": 8,
    "start_time": "2024-09-22T22:31:40.231Z"
   },
   {
    "duration": 7,
    "start_time": "2024-09-22T22:31:40.240Z"
   },
   {
    "duration": 6,
    "start_time": "2024-09-22T22:31:40.249Z"
   },
   {
    "duration": 127,
    "start_time": "2024-09-22T22:31:40.257Z"
   },
   {
    "duration": 12,
    "start_time": "2024-09-22T22:31:40.386Z"
   },
   {
    "duration": 112,
    "start_time": "2024-09-22T22:31:40.400Z"
   },
   {
    "duration": 99,
    "start_time": "2024-09-22T22:31:40.513Z"
   },
   {
    "duration": 30,
    "start_time": "2024-09-22T22:31:40.613Z"
   },
   {
    "duration": 11,
    "start_time": "2024-09-22T22:31:40.645Z"
   },
   {
    "duration": 3,
    "start_time": "2024-09-22T22:31:40.659Z"
   },
   {
    "duration": 21,
    "start_time": "2024-09-22T22:31:40.664Z"
   },
   {
    "duration": 40,
    "start_time": "2024-09-22T22:31:40.687Z"
   },
   {
    "duration": 4,
    "start_time": "2024-09-22T22:31:40.728Z"
   },
   {
    "duration": 3,
    "start_time": "2024-09-22T22:31:40.733Z"
   },
   {
    "duration": 3,
    "start_time": "2024-09-22T22:31:40.739Z"
   },
   {
    "duration": 3,
    "start_time": "2024-09-22T22:31:40.743Z"
   },
   {
    "duration": 760,
    "start_time": "2024-09-22T22:31:40.748Z"
   },
   {
    "duration": 637,
    "start_time": "2024-09-22T22:31:41.510Z"
   },
   {
    "duration": 12,
    "start_time": "2024-09-22T22:31:42.149Z"
   },
   {
    "duration": 8,
    "start_time": "2024-09-22T22:31:42.162Z"
   },
   {
    "duration": 8,
    "start_time": "2024-09-22T22:31:42.172Z"
   },
   {
    "duration": 6,
    "start_time": "2024-09-22T22:31:42.181Z"
   },
   {
    "duration": 34,
    "start_time": "2024-09-22T22:31:42.189Z"
   },
   {
    "duration": 11,
    "start_time": "2024-09-22T22:31:42.225Z"
   },
   {
    "duration": 5,
    "start_time": "2024-09-22T22:31:42.237Z"
   },
   {
    "duration": 16,
    "start_time": "2024-09-22T22:31:42.243Z"
   },
   {
    "duration": 30,
    "start_time": "2024-09-22T22:31:42.261Z"
   },
   {
    "duration": 35,
    "start_time": "2024-09-22T22:31:42.293Z"
   },
   {
    "duration": 7,
    "start_time": "2024-09-22T22:31:42.329Z"
   },
   {
    "duration": 38,
    "start_time": "2024-09-22T22:31:42.338Z"
   },
   {
    "duration": 4,
    "start_time": "2024-09-22T22:31:42.378Z"
   },
   {
    "duration": 4,
    "start_time": "2024-09-22T22:31:42.384Z"
   },
   {
    "duration": 275,
    "start_time": "2024-09-22T22:31:42.391Z"
   },
   {
    "duration": 126,
    "start_time": "2024-09-22T22:31:42.668Z"
   },
   {
    "duration": 94,
    "start_time": "2024-09-22T22:31:42.796Z"
   },
   {
    "duration": 5,
    "start_time": "2024-09-22T22:31:42.892Z"
   },
   {
    "duration": 174,
    "start_time": "2024-09-22T22:31:42.902Z"
   },
   {
    "duration": 7,
    "start_time": "2024-09-22T22:31:43.077Z"
   },
   {
    "duration": 178,
    "start_time": "2024-09-22T22:31:43.086Z"
   },
   {
    "duration": 42,
    "start_time": "2024-09-22T22:31:43.266Z"
   },
   {
    "duration": 181,
    "start_time": "2024-09-22T22:31:43.310Z"
   },
   {
    "duration": 88,
    "start_time": "2024-09-22T22:31:43.493Z"
   },
   {
    "duration": 9,
    "start_time": "2024-09-22T22:31:43.582Z"
   },
   {
    "duration": 8,
    "start_time": "2024-09-22T22:31:43.593Z"
   },
   {
    "duration": 275,
    "start_time": "2024-09-22T22:31:43.603Z"
   },
   {
    "duration": 4,
    "start_time": "2024-09-22T22:31:43.880Z"
   },
   {
    "duration": 152,
    "start_time": "2024-09-22T22:31:43.886Z"
   },
   {
    "duration": 164,
    "start_time": "2024-09-22T22:31:44.040Z"
   },
   {
    "duration": 4,
    "start_time": "2024-09-22T22:31:44.205Z"
   },
   {
    "duration": 17,
    "start_time": "2024-09-22T22:31:44.211Z"
   },
   {
    "duration": 7,
    "start_time": "2024-09-22T22:31:44.229Z"
   },
   {
    "duration": 225,
    "start_time": "2024-09-22T22:31:44.237Z"
   },
   {
    "duration": 6,
    "start_time": "2024-09-22T22:31:44.465Z"
   },
   {
    "duration": 7,
    "start_time": "2024-09-22T22:31:44.473Z"
   },
   {
    "duration": 842,
    "start_time": "2024-09-22T22:31:44.482Z"
   },
   {
    "duration": 8,
    "start_time": "2024-09-22T22:31:45.326Z"
   },
   {
    "duration": 31,
    "start_time": "2024-09-22T22:31:45.335Z"
   },
   {
    "duration": 10,
    "start_time": "2024-09-22T22:31:45.367Z"
   },
   {
    "duration": 6,
    "start_time": "2024-09-22T22:31:45.379Z"
   },
   {
    "duration": 6,
    "start_time": "2024-09-22T22:32:42.985Z"
   },
   {
    "duration": 3,
    "start_time": "2024-09-22T22:33:05.996Z"
   },
   {
    "duration": 12,
    "start_time": "2024-09-22T22:33:11.427Z"
   },
   {
    "duration": 105,
    "start_time": "2024-09-22T22:33:29.246Z"
   },
   {
    "duration": 153,
    "start_time": "2024-09-22T22:33:43.477Z"
   },
   {
    "duration": 414,
    "start_time": "2024-09-22T22:34:14.014Z"
   },
   {
    "duration": 902,
    "start_time": "2024-09-22T22:34:14.430Z"
   },
   {
    "duration": 12,
    "start_time": "2024-09-22T22:34:15.333Z"
   },
   {
    "duration": 8,
    "start_time": "2024-09-22T22:34:15.347Z"
   },
   {
    "duration": 7,
    "start_time": "2024-09-22T22:34:15.358Z"
   },
   {
    "duration": 8,
    "start_time": "2024-09-22T22:34:15.369Z"
   },
   {
    "duration": 8,
    "start_time": "2024-09-22T22:34:15.379Z"
   },
   {
    "duration": 140,
    "start_time": "2024-09-22T22:34:15.389Z"
   },
   {
    "duration": 11,
    "start_time": "2024-09-22T22:34:15.530Z"
   },
   {
    "duration": 113,
    "start_time": "2024-09-22T22:34:15.542Z"
   },
   {
    "duration": 96,
    "start_time": "2024-09-22T22:34:15.657Z"
   },
   {
    "duration": 27,
    "start_time": "2024-09-22T22:34:15.755Z"
   },
   {
    "duration": 12,
    "start_time": "2024-09-22T22:34:15.784Z"
   },
   {
    "duration": 3,
    "start_time": "2024-09-22T22:34:15.800Z"
   },
   {
    "duration": 21,
    "start_time": "2024-09-22T22:34:15.825Z"
   },
   {
    "duration": 9,
    "start_time": "2024-09-22T22:34:15.848Z"
   },
   {
    "duration": 3,
    "start_time": "2024-09-22T22:34:15.858Z"
   },
   {
    "duration": 4,
    "start_time": "2024-09-22T22:34:15.863Z"
   },
   {
    "duration": 3,
    "start_time": "2024-09-22T22:34:15.869Z"
   },
   {
    "duration": 4,
    "start_time": "2024-09-22T22:34:15.874Z"
   },
   {
    "duration": 772,
    "start_time": "2024-09-22T22:34:15.881Z"
   },
   {
    "duration": 652,
    "start_time": "2024-09-22T22:34:16.655Z"
   },
   {
    "duration": 10,
    "start_time": "2024-09-22T22:34:17.309Z"
   },
   {
    "duration": 9,
    "start_time": "2024-09-22T22:34:17.321Z"
   },
   {
    "duration": 8,
    "start_time": "2024-09-22T22:34:17.332Z"
   },
   {
    "duration": 6,
    "start_time": "2024-09-22T22:34:17.341Z"
   },
   {
    "duration": 7,
    "start_time": "2024-09-22T22:34:17.348Z"
   },
   {
    "duration": 11,
    "start_time": "2024-09-22T22:34:17.356Z"
   },
   {
    "duration": 5,
    "start_time": "2024-09-22T22:34:17.369Z"
   },
   {
    "duration": 53,
    "start_time": "2024-09-22T22:34:17.375Z"
   },
   {
    "duration": 30,
    "start_time": "2024-09-22T22:34:17.431Z"
   },
   {
    "duration": 7,
    "start_time": "2024-09-22T22:34:17.463Z"
   },
   {
    "duration": 7,
    "start_time": "2024-09-22T22:34:17.471Z"
   },
   {
    "duration": 66,
    "start_time": "2024-09-22T22:34:17.479Z"
   },
   {
    "duration": 4,
    "start_time": "2024-09-22T22:34:17.547Z"
   },
   {
    "duration": 4,
    "start_time": "2024-09-22T22:34:17.553Z"
   },
   {
    "duration": 271,
    "start_time": "2024-09-22T22:34:17.558Z"
   },
   {
    "duration": 130,
    "start_time": "2024-09-22T22:34:17.830Z"
   },
   {
    "duration": 98,
    "start_time": "2024-09-22T22:34:17.962Z"
   },
   {
    "duration": 6,
    "start_time": "2024-09-22T22:34:18.062Z"
   },
   {
    "duration": 184,
    "start_time": "2024-09-22T22:34:18.072Z"
   },
   {
    "duration": 5,
    "start_time": "2024-09-22T22:34:18.259Z"
   },
   {
    "duration": 178,
    "start_time": "2024-09-22T22:34:18.266Z"
   },
   {
    "duration": 34,
    "start_time": "2024-09-22T22:34:18.446Z"
   },
   {
    "duration": 185,
    "start_time": "2024-09-22T22:34:18.481Z"
   },
   {
    "duration": 95,
    "start_time": "2024-09-22T22:34:18.668Z"
   },
   {
    "duration": 9,
    "start_time": "2024-09-22T22:34:18.765Z"
   },
   {
    "duration": 8,
    "start_time": "2024-09-22T22:34:18.776Z"
   },
   {
    "duration": 253,
    "start_time": "2024-09-22T22:34:18.786Z"
   },
   {
    "duration": 5,
    "start_time": "2024-09-22T22:34:19.041Z"
   },
   {
    "duration": 146,
    "start_time": "2024-09-22T22:34:19.048Z"
   },
   {
    "duration": 156,
    "start_time": "2024-09-22T22:34:19.196Z"
   },
   {
    "duration": 3,
    "start_time": "2024-09-22T22:34:19.354Z"
   },
   {
    "duration": 9,
    "start_time": "2024-09-22T22:34:19.359Z"
   },
   {
    "duration": 6,
    "start_time": "2024-09-22T22:34:19.369Z"
   },
   {
    "duration": 230,
    "start_time": "2024-09-22T22:34:19.376Z"
   },
   {
    "duration": 6,
    "start_time": "2024-09-22T22:34:19.607Z"
   },
   {
    "duration": 14,
    "start_time": "2024-09-22T22:34:19.615Z"
   },
   {
    "duration": 830,
    "start_time": "2024-09-22T22:34:19.630Z"
   },
   {
    "duration": 7,
    "start_time": "2024-09-22T22:34:20.462Z"
   },
   {
    "duration": 31,
    "start_time": "2024-09-22T22:34:20.470Z"
   },
   {
    "duration": 26,
    "start_time": "2024-09-22T22:34:20.503Z"
   },
   {
    "duration": 6,
    "start_time": "2024-09-22T22:34:20.531Z"
   },
   {
    "duration": 10,
    "start_time": "2024-09-22T22:38:30.463Z"
   },
   {
    "duration": 6,
    "start_time": "2024-09-22T22:41:27.319Z"
   },
   {
    "duration": 5,
    "start_time": "2024-09-22T22:41:39.337Z"
   },
   {
    "duration": 12,
    "start_time": "2024-09-22T22:43:19.502Z"
   },
   {
    "duration": 430,
    "start_time": "2024-09-22T22:43:27.821Z"
   },
   {
    "duration": 887,
    "start_time": "2024-09-22T22:43:28.253Z"
   },
   {
    "duration": 11,
    "start_time": "2024-09-22T22:43:29.142Z"
   },
   {
    "duration": 8,
    "start_time": "2024-09-22T22:43:29.155Z"
   },
   {
    "duration": 6,
    "start_time": "2024-09-22T22:43:29.167Z"
   },
   {
    "duration": 7,
    "start_time": "2024-09-22T22:43:29.176Z"
   },
   {
    "duration": 6,
    "start_time": "2024-09-22T22:43:29.185Z"
   },
   {
    "duration": 101,
    "start_time": "2024-09-22T22:43:29.224Z"
   },
   {
    "duration": 11,
    "start_time": "2024-09-22T22:43:29.327Z"
   },
   {
    "duration": 112,
    "start_time": "2024-09-22T22:43:29.340Z"
   },
   {
    "duration": 90,
    "start_time": "2024-09-22T22:43:29.454Z"
   },
   {
    "duration": 27,
    "start_time": "2024-09-22T22:43:29.546Z"
   },
   {
    "duration": 11,
    "start_time": "2024-09-22T22:43:29.576Z"
   },
   {
    "duration": 3,
    "start_time": "2024-09-22T22:43:29.590Z"
   },
   {
    "duration": 45,
    "start_time": "2024-09-22T22:43:29.594Z"
   },
   {
    "duration": 10,
    "start_time": "2024-09-22T22:43:29.641Z"
   },
   {
    "duration": 4,
    "start_time": "2024-09-22T22:43:29.652Z"
   },
   {
    "duration": 3,
    "start_time": "2024-09-22T22:43:29.657Z"
   },
   {
    "duration": 3,
    "start_time": "2024-09-22T22:43:29.662Z"
   },
   {
    "duration": 3,
    "start_time": "2024-09-22T22:43:29.667Z"
   },
   {
    "duration": 767,
    "start_time": "2024-09-22T22:43:29.672Z"
   },
   {
    "duration": 669,
    "start_time": "2024-09-22T22:43:30.441Z"
   },
   {
    "duration": 15,
    "start_time": "2024-09-22T22:43:31.112Z"
   },
   {
    "duration": 8,
    "start_time": "2024-09-22T22:43:31.128Z"
   },
   {
    "duration": 7,
    "start_time": "2024-09-22T22:43:31.137Z"
   },
   {
    "duration": 6,
    "start_time": "2024-09-22T22:43:31.146Z"
   },
   {
    "duration": 10,
    "start_time": "2024-09-22T22:43:31.154Z"
   },
   {
    "duration": 14,
    "start_time": "2024-09-22T22:43:31.166Z"
   },
   {
    "duration": 37,
    "start_time": "2024-09-22T22:43:31.187Z"
   },
   {
    "duration": 16,
    "start_time": "2024-09-22T22:43:31.226Z"
   },
   {
    "duration": 30,
    "start_time": "2024-09-22T22:43:31.244Z"
   },
   {
    "duration": 6,
    "start_time": "2024-09-22T22:43:31.276Z"
   },
   {
    "duration": 7,
    "start_time": "2024-09-22T22:43:31.284Z"
   },
   {
    "duration": 66,
    "start_time": "2024-09-22T22:43:31.292Z"
   },
   {
    "duration": 4,
    "start_time": "2024-09-22T22:43:31.360Z"
   },
   {
    "duration": 4,
    "start_time": "2024-09-22T22:43:31.365Z"
   },
   {
    "duration": 269,
    "start_time": "2024-09-22T22:43:31.371Z"
   },
   {
    "duration": 128,
    "start_time": "2024-09-22T22:43:31.642Z"
   },
   {
    "duration": 97,
    "start_time": "2024-09-22T22:43:31.771Z"
   },
   {
    "duration": 6,
    "start_time": "2024-09-22T22:43:31.870Z"
   },
   {
    "duration": 172,
    "start_time": "2024-09-22T22:43:31.880Z"
   },
   {
    "duration": 5,
    "start_time": "2024-09-22T22:43:32.054Z"
   },
   {
    "duration": 179,
    "start_time": "2024-09-22T22:43:32.061Z"
   },
   {
    "duration": 35,
    "start_time": "2024-09-22T22:43:32.242Z"
   },
   {
    "duration": 184,
    "start_time": "2024-09-22T22:43:32.279Z"
   },
   {
    "duration": 93,
    "start_time": "2024-09-22T22:43:32.465Z"
   },
   {
    "duration": 8,
    "start_time": "2024-09-22T22:43:32.560Z"
   },
   {
    "duration": 9,
    "start_time": "2024-09-22T22:43:32.570Z"
   },
   {
    "duration": 251,
    "start_time": "2024-09-22T22:43:32.582Z"
   },
   {
    "duration": 5,
    "start_time": "2024-09-22T22:43:32.834Z"
   },
   {
    "duration": 148,
    "start_time": "2024-09-22T22:43:32.840Z"
   },
   {
    "duration": 160,
    "start_time": "2024-09-22T22:43:32.990Z"
   },
   {
    "duration": 3,
    "start_time": "2024-09-22T22:43:33.152Z"
   },
   {
    "duration": 8,
    "start_time": "2024-09-22T22:43:33.158Z"
   },
   {
    "duration": 6,
    "start_time": "2024-09-22T22:43:33.167Z"
   },
   {
    "duration": 226,
    "start_time": "2024-09-22T22:43:33.175Z"
   },
   {
    "duration": 7,
    "start_time": "2024-09-22T22:43:33.403Z"
   },
   {
    "duration": 16,
    "start_time": "2024-09-22T22:43:33.411Z"
   },
   {
    "duration": 841,
    "start_time": "2024-09-22T22:43:33.429Z"
   },
   {
    "duration": 7,
    "start_time": "2024-09-22T22:43:34.272Z"
   },
   {
    "duration": 48,
    "start_time": "2024-09-22T22:43:34.280Z"
   },
   {
    "duration": 10,
    "start_time": "2024-09-22T22:43:34.329Z"
   },
   {
    "duration": 7,
    "start_time": "2024-09-22T22:43:34.340Z"
   },
   {
    "duration": 5,
    "start_time": "2024-09-22T22:45:49.780Z"
   },
   {
    "duration": 5,
    "start_time": "2024-09-22T22:45:59.892Z"
   },
   {
    "duration": 6,
    "start_time": "2024-09-22T22:46:44.684Z"
   },
   {
    "duration": 5,
    "start_time": "2024-09-22T22:46:52.293Z"
   },
   {
    "duration": 405,
    "start_time": "2024-09-22T22:47:01.687Z"
   },
   {
    "duration": 891,
    "start_time": "2024-09-22T22:47:02.094Z"
   },
   {
    "duration": 11,
    "start_time": "2024-09-22T22:47:02.986Z"
   },
   {
    "duration": 9,
    "start_time": "2024-09-22T22:47:03.000Z"
   },
   {
    "duration": 21,
    "start_time": "2024-09-22T22:47:03.010Z"
   },
   {
    "duration": 7,
    "start_time": "2024-09-22T22:47:03.033Z"
   },
   {
    "duration": 8,
    "start_time": "2024-09-22T22:47:03.042Z"
   },
   {
    "duration": 125,
    "start_time": "2024-09-22T22:47:03.052Z"
   },
   {
    "duration": 13,
    "start_time": "2024-09-22T22:47:03.178Z"
   },
   {
    "duration": 118,
    "start_time": "2024-09-22T22:47:03.195Z"
   },
   {
    "duration": 90,
    "start_time": "2024-09-22T22:47:03.315Z"
   },
   {
    "duration": 35,
    "start_time": "2024-09-22T22:47:03.406Z"
   },
   {
    "duration": 11,
    "start_time": "2024-09-22T22:47:03.442Z"
   },
   {
    "duration": 4,
    "start_time": "2024-09-22T22:47:03.455Z"
   },
   {
    "duration": 20,
    "start_time": "2024-09-22T22:47:03.461Z"
   },
   {
    "duration": 10,
    "start_time": "2024-09-22T22:47:03.483Z"
   },
   {
    "duration": 32,
    "start_time": "2024-09-22T22:47:03.494Z"
   },
   {
    "duration": 3,
    "start_time": "2024-09-22T22:47:03.528Z"
   },
   {
    "duration": 4,
    "start_time": "2024-09-22T22:47:03.532Z"
   },
   {
    "duration": 3,
    "start_time": "2024-09-22T22:47:03.539Z"
   },
   {
    "duration": 752,
    "start_time": "2024-09-22T22:47:03.543Z"
   },
   {
    "duration": 645,
    "start_time": "2024-09-22T22:47:04.297Z"
   },
   {
    "duration": 12,
    "start_time": "2024-09-22T22:47:04.944Z"
   },
   {
    "duration": 9,
    "start_time": "2024-09-22T22:47:04.957Z"
   },
   {
    "duration": 8,
    "start_time": "2024-09-22T22:47:04.967Z"
   },
   {
    "duration": 5,
    "start_time": "2024-09-22T22:47:04.977Z"
   },
   {
    "duration": 7,
    "start_time": "2024-09-22T22:47:04.983Z"
   },
   {
    "duration": 39,
    "start_time": "2024-09-22T22:47:04.995Z"
   },
   {
    "duration": 4,
    "start_time": "2024-09-22T22:47:05.036Z"
   },
   {
    "duration": 16,
    "start_time": "2024-09-22T22:47:05.042Z"
   },
   {
    "duration": 32,
    "start_time": "2024-09-22T22:47:05.059Z"
   },
   {
    "duration": 32,
    "start_time": "2024-09-22T22:47:05.093Z"
   },
   {
    "duration": 7,
    "start_time": "2024-09-22T22:47:05.126Z"
   },
   {
    "duration": 39,
    "start_time": "2024-09-22T22:47:05.134Z"
   },
   {
    "duration": 4,
    "start_time": "2024-09-22T22:47:05.175Z"
   },
   {
    "duration": 4,
    "start_time": "2024-09-22T22:47:05.181Z"
   },
   {
    "duration": 282,
    "start_time": "2024-09-22T22:47:05.186Z"
   },
   {
    "duration": 128,
    "start_time": "2024-09-22T22:47:05.470Z"
   },
   {
    "duration": 99,
    "start_time": "2024-09-22T22:47:05.599Z"
   },
   {
    "duration": 5,
    "start_time": "2024-09-22T22:47:05.700Z"
   },
   {
    "duration": 173,
    "start_time": "2024-09-22T22:47:05.707Z"
   },
   {
    "duration": 6,
    "start_time": "2024-09-22T22:47:05.881Z"
   },
   {
    "duration": 178,
    "start_time": "2024-09-22T22:47:05.889Z"
   },
   {
    "duration": 35,
    "start_time": "2024-09-22T22:47:06.068Z"
   },
   {
    "duration": 190,
    "start_time": "2024-09-22T22:47:06.104Z"
   },
   {
    "duration": 89,
    "start_time": "2024-09-22T22:47:06.296Z"
   },
   {
    "duration": 9,
    "start_time": "2024-09-22T22:47:06.386Z"
   },
   {
    "duration": 8,
    "start_time": "2024-09-22T22:47:06.397Z"
   },
   {
    "duration": 257,
    "start_time": "2024-09-22T22:47:06.407Z"
   },
   {
    "duration": 4,
    "start_time": "2024-09-22T22:47:06.665Z"
   },
   {
    "duration": 146,
    "start_time": "2024-09-22T22:47:06.671Z"
   },
   {
    "duration": 148,
    "start_time": "2024-09-22T22:47:06.819Z"
   },
   {
    "duration": 4,
    "start_time": "2024-09-22T22:47:06.968Z"
   },
   {
    "duration": 9,
    "start_time": "2024-09-22T22:47:06.974Z"
   },
   {
    "duration": 6,
    "start_time": "2024-09-22T22:47:06.985Z"
   },
   {
    "duration": 231,
    "start_time": "2024-09-22T22:47:06.993Z"
   },
   {
    "duration": 7,
    "start_time": "2024-09-22T22:47:07.225Z"
   },
   {
    "duration": 8,
    "start_time": "2024-09-22T22:47:07.233Z"
   },
   {
    "duration": 875,
    "start_time": "2024-09-22T22:47:07.242Z"
   },
   {
    "duration": 13,
    "start_time": "2024-09-22T22:47:08.118Z"
   },
   {
    "duration": 32,
    "start_time": "2024-09-22T22:47:08.133Z"
   },
   {
    "duration": 10,
    "start_time": "2024-09-22T22:47:08.166Z"
   },
   {
    "duration": 14,
    "start_time": "2024-09-22T22:47:08.177Z"
   },
   {
    "duration": 5,
    "start_time": "2024-09-22T22:47:41.945Z"
   },
   {
    "duration": 419,
    "start_time": "2024-09-22T22:47:46.272Z"
   },
   {
    "duration": 902,
    "start_time": "2024-09-22T22:47:46.693Z"
   },
   {
    "duration": 11,
    "start_time": "2024-09-22T22:47:47.597Z"
   },
   {
    "duration": 20,
    "start_time": "2024-09-22T22:47:47.610Z"
   },
   {
    "duration": 9,
    "start_time": "2024-09-22T22:47:47.632Z"
   },
   {
    "duration": 8,
    "start_time": "2024-09-22T22:47:47.642Z"
   },
   {
    "duration": 6,
    "start_time": "2024-09-22T22:47:47.652Z"
   },
   {
    "duration": 125,
    "start_time": "2024-09-22T22:47:47.660Z"
   },
   {
    "duration": 10,
    "start_time": "2024-09-22T22:47:47.787Z"
   },
   {
    "duration": 115,
    "start_time": "2024-09-22T22:47:47.800Z"
   },
   {
    "duration": 92,
    "start_time": "2024-09-22T22:47:47.917Z"
   },
   {
    "duration": 40,
    "start_time": "2024-09-22T22:47:48.011Z"
   },
   {
    "duration": 11,
    "start_time": "2024-09-22T22:47:48.054Z"
   },
   {
    "duration": 3,
    "start_time": "2024-09-22T22:47:48.066Z"
   },
   {
    "duration": 21,
    "start_time": "2024-09-22T22:47:48.071Z"
   },
   {
    "duration": 37,
    "start_time": "2024-09-22T22:47:48.094Z"
   },
   {
    "duration": 4,
    "start_time": "2024-09-22T22:47:48.134Z"
   },
   {
    "duration": 4,
    "start_time": "2024-09-22T22:47:48.139Z"
   },
   {
    "duration": 4,
    "start_time": "2024-09-22T22:47:48.145Z"
   },
   {
    "duration": 3,
    "start_time": "2024-09-22T22:47:48.151Z"
   },
   {
    "duration": 779,
    "start_time": "2024-09-22T22:47:48.155Z"
   },
   {
    "duration": 632,
    "start_time": "2024-09-22T22:47:48.937Z"
   },
   {
    "duration": 12,
    "start_time": "2024-09-22T22:47:49.571Z"
   },
   {
    "duration": 7,
    "start_time": "2024-09-22T22:47:49.585Z"
   },
   {
    "duration": 8,
    "start_time": "2024-09-22T22:47:49.595Z"
   },
   {
    "duration": 21,
    "start_time": "2024-09-22T22:47:49.604Z"
   },
   {
    "duration": 7,
    "start_time": "2024-09-22T22:47:49.627Z"
   },
   {
    "duration": 11,
    "start_time": "2024-09-22T22:47:49.638Z"
   },
   {
    "duration": 6,
    "start_time": "2024-09-22T22:47:49.650Z"
   },
   {
    "duration": 16,
    "start_time": "2024-09-22T22:47:49.657Z"
   },
   {
    "duration": 67,
    "start_time": "2024-09-22T22:47:49.675Z"
   },
   {
    "duration": 7,
    "start_time": "2024-09-22T22:47:49.743Z"
   },
   {
    "duration": 6,
    "start_time": "2024-09-22T22:47:49.752Z"
   },
   {
    "duration": 39,
    "start_time": "2024-09-22T22:47:49.759Z"
   },
   {
    "duration": 26,
    "start_time": "2024-09-22T22:47:49.800Z"
   },
   {
    "duration": 4,
    "start_time": "2024-09-22T22:47:49.828Z"
   },
   {
    "duration": 263,
    "start_time": "2024-09-22T22:47:49.833Z"
   },
   {
    "duration": 128,
    "start_time": "2024-09-22T22:47:50.097Z"
   },
   {
    "duration": 99,
    "start_time": "2024-09-22T22:47:50.227Z"
   },
   {
    "duration": 6,
    "start_time": "2024-09-22T22:47:50.327Z"
   },
   {
    "duration": 175,
    "start_time": "2024-09-22T22:47:50.335Z"
   },
   {
    "duration": 6,
    "start_time": "2024-09-22T22:47:50.511Z"
   },
   {
    "duration": 166,
    "start_time": "2024-09-22T22:47:50.523Z"
   },
   {
    "duration": 42,
    "start_time": "2024-09-22T22:47:50.691Z"
   },
   {
    "duration": 175,
    "start_time": "2024-09-22T22:47:50.735Z"
   },
   {
    "duration": 105,
    "start_time": "2024-09-22T22:47:50.912Z"
   },
   {
    "duration": 12,
    "start_time": "2024-09-22T22:47:51.018Z"
   },
   {
    "duration": 8,
    "start_time": "2024-09-22T22:47:51.032Z"
   },
   {
    "duration": 265,
    "start_time": "2024-09-22T22:47:51.042Z"
   },
   {
    "duration": 5,
    "start_time": "2024-09-22T22:47:51.309Z"
   },
   {
    "duration": 139,
    "start_time": "2024-09-22T22:47:51.323Z"
   },
   {
    "duration": 153,
    "start_time": "2024-09-22T22:47:51.463Z"
   },
   {
    "duration": 6,
    "start_time": "2024-09-22T22:47:51.618Z"
   },
   {
    "duration": 9,
    "start_time": "2024-09-22T22:47:51.625Z"
   },
   {
    "duration": 7,
    "start_time": "2024-09-22T22:47:51.636Z"
   },
   {
    "duration": 226,
    "start_time": "2024-09-22T22:47:51.644Z"
   },
   {
    "duration": 6,
    "start_time": "2024-09-22T22:47:51.872Z"
   },
   {
    "duration": 15,
    "start_time": "2024-09-22T22:47:51.880Z"
   },
   {
    "duration": 841,
    "start_time": "2024-09-22T22:47:51.898Z"
   },
   {
    "duration": 7,
    "start_time": "2024-09-22T22:47:52.740Z"
   },
   {
    "duration": 31,
    "start_time": "2024-09-22T22:47:52.749Z"
   },
   {
    "duration": 10,
    "start_time": "2024-09-22T22:47:52.781Z"
   },
   {
    "duration": 6,
    "start_time": "2024-09-22T22:47:52.792Z"
   },
   {
    "duration": 5,
    "start_time": "2024-09-22T22:48:26.575Z"
   },
   {
    "duration": 5,
    "start_time": "2024-09-22T22:48:30.298Z"
   },
   {
    "duration": 5,
    "start_time": "2024-09-22T22:48:38.231Z"
   },
   {
    "duration": 411,
    "start_time": "2024-09-22T22:48:52.784Z"
   },
   {
    "duration": 908,
    "start_time": "2024-09-22T22:48:53.197Z"
   },
   {
    "duration": 19,
    "start_time": "2024-09-22T22:48:54.106Z"
   },
   {
    "duration": 10,
    "start_time": "2024-09-22T22:48:54.130Z"
   },
   {
    "duration": 7,
    "start_time": "2024-09-22T22:48:54.141Z"
   },
   {
    "duration": 7,
    "start_time": "2024-09-22T22:48:54.150Z"
   },
   {
    "duration": 6,
    "start_time": "2024-09-22T22:48:54.159Z"
   },
   {
    "duration": 135,
    "start_time": "2024-09-22T22:48:54.167Z"
   },
   {
    "duration": 10,
    "start_time": "2024-09-22T22:48:54.303Z"
   },
   {
    "duration": 117,
    "start_time": "2024-09-22T22:48:54.323Z"
   },
   {
    "duration": 89,
    "start_time": "2024-09-22T22:48:54.442Z"
   },
   {
    "duration": 25,
    "start_time": "2024-09-22T22:48:54.533Z"
   },
   {
    "duration": 11,
    "start_time": "2024-09-22T22:48:54.560Z"
   },
   {
    "duration": 3,
    "start_time": "2024-09-22T22:48:54.573Z"
   },
   {
    "duration": 50,
    "start_time": "2024-09-22T22:48:54.578Z"
   },
   {
    "duration": 10,
    "start_time": "2024-09-22T22:48:54.630Z"
   },
   {
    "duration": 3,
    "start_time": "2024-09-22T22:48:54.642Z"
   },
   {
    "duration": 4,
    "start_time": "2024-09-22T22:48:54.646Z"
   },
   {
    "duration": 3,
    "start_time": "2024-09-22T22:48:54.651Z"
   },
   {
    "duration": 4,
    "start_time": "2024-09-22T22:48:54.656Z"
   },
   {
    "duration": 778,
    "start_time": "2024-09-22T22:48:54.661Z"
   },
   {
    "duration": 658,
    "start_time": "2024-09-22T22:48:55.441Z"
   },
   {
    "duration": 12,
    "start_time": "2024-09-22T22:48:56.101Z"
   },
   {
    "duration": 16,
    "start_time": "2024-09-22T22:48:56.114Z"
   },
   {
    "duration": 7,
    "start_time": "2024-09-22T22:48:56.132Z"
   },
   {
    "duration": 6,
    "start_time": "2024-09-22T22:48:56.141Z"
   },
   {
    "duration": 7,
    "start_time": "2024-09-22T22:48:56.148Z"
   },
   {
    "duration": 11,
    "start_time": "2024-09-22T22:48:56.159Z"
   },
   {
    "duration": 5,
    "start_time": "2024-09-22T22:48:56.171Z"
   },
   {
    "duration": 52,
    "start_time": "2024-09-22T22:48:56.177Z"
   },
   {
    "duration": 30,
    "start_time": "2024-09-22T22:48:56.232Z"
   },
   {
    "duration": 7,
    "start_time": "2024-09-22T22:48:56.264Z"
   },
   {
    "duration": 7,
    "start_time": "2024-09-22T22:48:56.273Z"
   },
   {
    "duration": 64,
    "start_time": "2024-09-22T22:48:56.282Z"
   },
   {
    "duration": 5,
    "start_time": "2024-09-22T22:48:56.348Z"
   },
   {
    "duration": 4,
    "start_time": "2024-09-22T22:48:56.354Z"
   },
   {
    "duration": 266,
    "start_time": "2024-09-22T22:48:56.359Z"
   },
   {
    "duration": 129,
    "start_time": "2024-09-22T22:48:56.626Z"
   },
   {
    "duration": 97,
    "start_time": "2024-09-22T22:48:56.758Z"
   },
   {
    "duration": 6,
    "start_time": "2024-09-22T22:48:56.857Z"
   },
   {
    "duration": 175,
    "start_time": "2024-09-22T22:48:56.865Z"
   },
   {
    "duration": 7,
    "start_time": "2024-09-22T22:48:57.042Z"
   },
   {
    "duration": 173,
    "start_time": "2024-09-22T22:48:57.051Z"
   },
   {
    "duration": 34,
    "start_time": "2024-09-22T22:48:57.225Z"
   },
   {
    "duration": 185,
    "start_time": "2024-09-22T22:48:57.261Z"
   },
   {
    "duration": 109,
    "start_time": "2024-09-22T22:48:57.447Z"
   },
   {
    "duration": 9,
    "start_time": "2024-09-22T22:48:57.557Z"
   },
   {
    "duration": 9,
    "start_time": "2024-09-22T22:48:57.568Z"
   },
   {
    "duration": 271,
    "start_time": "2024-09-22T22:48:57.578Z"
   },
   {
    "duration": 4,
    "start_time": "2024-09-22T22:48:57.851Z"
   },
   {
    "duration": 150,
    "start_time": "2024-09-22T22:48:57.857Z"
   },
   {
    "duration": 160,
    "start_time": "2024-09-22T22:48:58.008Z"
   },
   {
    "duration": 4,
    "start_time": "2024-09-22T22:48:58.170Z"
   },
   {
    "duration": 9,
    "start_time": "2024-09-22T22:48:58.176Z"
   },
   {
    "duration": 7,
    "start_time": "2024-09-22T22:48:58.186Z"
   },
   {
    "duration": 236,
    "start_time": "2024-09-22T22:48:58.195Z"
   },
   {
    "duration": 6,
    "start_time": "2024-09-22T22:48:58.433Z"
   },
   {
    "duration": 7,
    "start_time": "2024-09-22T22:48:58.440Z"
   },
   {
    "duration": 865,
    "start_time": "2024-09-22T22:48:58.449Z"
   },
   {
    "duration": 12,
    "start_time": "2024-09-22T22:48:59.316Z"
   },
   {
    "duration": 30,
    "start_time": "2024-09-22T22:48:59.330Z"
   },
   {
    "duration": 9,
    "start_time": "2024-09-22T22:48:59.362Z"
   },
   {
    "duration": 6,
    "start_time": "2024-09-22T22:48:59.373Z"
   },
   {
    "duration": 5,
    "start_time": "2024-09-22T23:01:03.052Z"
   },
   {
    "duration": 4,
    "start_time": "2024-09-22T23:01:06.184Z"
   },
   {
    "duration": 5,
    "start_time": "2024-09-22T23:06:48.797Z"
   },
   {
    "duration": 3,
    "start_time": "2024-09-22T23:06:49.309Z"
   },
   {
    "duration": 401,
    "start_time": "2024-09-22T23:09:08.582Z"
   },
   {
    "duration": 897,
    "start_time": "2024-09-22T23:09:08.985Z"
   },
   {
    "duration": 11,
    "start_time": "2024-09-22T23:09:09.885Z"
   },
   {
    "duration": 9,
    "start_time": "2024-09-22T23:09:09.898Z"
   },
   {
    "duration": 7,
    "start_time": "2024-09-22T23:09:09.924Z"
   },
   {
    "duration": 7,
    "start_time": "2024-09-22T23:09:09.934Z"
   },
   {
    "duration": 8,
    "start_time": "2024-09-22T23:09:09.944Z"
   },
   {
    "duration": 113,
    "start_time": "2024-09-22T23:09:09.953Z"
   },
   {
    "duration": 11,
    "start_time": "2024-09-22T23:09:10.068Z"
   },
   {
    "duration": 115,
    "start_time": "2024-09-22T23:09:10.082Z"
   },
   {
    "duration": 95,
    "start_time": "2024-09-22T23:09:10.198Z"
   },
   {
    "duration": 32,
    "start_time": "2024-09-22T23:09:10.295Z"
   },
   {
    "duration": 12,
    "start_time": "2024-09-22T23:09:10.328Z"
   },
   {
    "duration": 3,
    "start_time": "2024-09-22T23:09:10.342Z"
   },
   {
    "duration": 21,
    "start_time": "2024-09-22T23:09:10.347Z"
   },
   {
    "duration": 10,
    "start_time": "2024-09-22T23:09:10.369Z"
   },
   {
    "duration": 3,
    "start_time": "2024-09-22T23:09:10.380Z"
   },
   {
    "duration": 4,
    "start_time": "2024-09-22T23:09:10.385Z"
   },
   {
    "duration": 4,
    "start_time": "2024-09-22T23:09:10.424Z"
   },
   {
    "duration": 4,
    "start_time": "2024-09-22T23:09:10.429Z"
   },
   {
    "duration": 756,
    "start_time": "2024-09-22T23:09:10.434Z"
   },
   {
    "duration": 644,
    "start_time": "2024-09-22T23:09:11.192Z"
   },
   {
    "duration": 11,
    "start_time": "2024-09-22T23:09:11.838Z"
   },
   {
    "duration": 7,
    "start_time": "2024-09-22T23:09:11.851Z"
   },
   {
    "duration": 8,
    "start_time": "2024-09-22T23:09:11.860Z"
   },
   {
    "duration": 6,
    "start_time": "2024-09-22T23:09:11.870Z"
   },
   {
    "duration": 7,
    "start_time": "2024-09-22T23:09:11.877Z"
   },
   {
    "duration": 44,
    "start_time": "2024-09-22T23:09:11.888Z"
   },
   {
    "duration": 5,
    "start_time": "2024-09-22T23:09:11.934Z"
   },
   {
    "duration": 15,
    "start_time": "2024-09-22T23:09:11.941Z"
   },
   {
    "duration": 30,
    "start_time": "2024-09-22T23:09:11.958Z"
   },
   {
    "duration": 35,
    "start_time": "2024-09-22T23:09:11.990Z"
   },
   {
    "duration": 7,
    "start_time": "2024-09-22T23:09:12.027Z"
   },
   {
    "duration": 38,
    "start_time": "2024-09-22T23:09:12.036Z"
   },
   {
    "duration": 4,
    "start_time": "2024-09-22T23:09:12.076Z"
   },
   {
    "duration": 4,
    "start_time": "2024-09-22T23:09:12.081Z"
   },
   {
    "duration": 274,
    "start_time": "2024-09-22T23:09:12.087Z"
   },
   {
    "duration": 129,
    "start_time": "2024-09-22T23:09:12.364Z"
   },
   {
    "duration": 471,
    "start_time": "2024-09-22T23:11:28.045Z"
   },
   {
    "duration": 1070,
    "start_time": "2024-09-22T23:11:28.518Z"
   },
   {
    "duration": 11,
    "start_time": "2024-09-22T23:11:29.589Z"
   },
   {
    "duration": 25,
    "start_time": "2024-09-22T23:11:29.603Z"
   },
   {
    "duration": 7,
    "start_time": "2024-09-22T23:11:29.630Z"
   },
   {
    "duration": 7,
    "start_time": "2024-09-22T23:11:29.639Z"
   },
   {
    "duration": 6,
    "start_time": "2024-09-22T23:11:29.648Z"
   },
   {
    "duration": 116,
    "start_time": "2024-09-22T23:11:29.656Z"
   },
   {
    "duration": 10,
    "start_time": "2024-09-22T23:11:29.775Z"
   },
   {
    "duration": 112,
    "start_time": "2024-09-22T23:11:29.788Z"
   },
   {
    "duration": 89,
    "start_time": "2024-09-22T23:11:29.902Z"
   },
   {
    "duration": 36,
    "start_time": "2024-09-22T23:11:29.993Z"
   },
   {
    "duration": 12,
    "start_time": "2024-09-22T23:11:30.030Z"
   },
   {
    "duration": 3,
    "start_time": "2024-09-22T23:11:30.043Z"
   },
   {
    "duration": 21,
    "start_time": "2024-09-22T23:11:30.048Z"
   },
   {
    "duration": 10,
    "start_time": "2024-09-22T23:11:30.070Z"
   },
   {
    "duration": 3,
    "start_time": "2024-09-22T23:11:30.082Z"
   },
   {
    "duration": 3,
    "start_time": "2024-09-22T23:11:30.087Z"
   },
   {
    "duration": 4,
    "start_time": "2024-09-22T23:11:30.124Z"
   },
   {
    "duration": 3,
    "start_time": "2024-09-22T23:11:30.130Z"
   },
   {
    "duration": 741,
    "start_time": "2024-09-22T23:11:30.134Z"
   },
   {
    "duration": 653,
    "start_time": "2024-09-22T23:11:30.877Z"
   },
   {
    "duration": 11,
    "start_time": "2024-09-22T23:11:31.532Z"
   },
   {
    "duration": 7,
    "start_time": "2024-09-22T23:11:31.544Z"
   },
   {
    "duration": 9,
    "start_time": "2024-09-22T23:11:31.553Z"
   },
   {
    "duration": 6,
    "start_time": "2024-09-22T23:11:31.563Z"
   },
   {
    "duration": 8,
    "start_time": "2024-09-22T23:11:31.571Z"
   },
   {
    "duration": 48,
    "start_time": "2024-09-22T23:11:31.585Z"
   },
   {
    "duration": 5,
    "start_time": "2024-09-22T23:11:31.635Z"
   },
   {
    "duration": 16,
    "start_time": "2024-09-22T23:11:31.642Z"
   },
   {
    "duration": 30,
    "start_time": "2024-09-22T23:11:31.660Z"
   },
   {
    "duration": 32,
    "start_time": "2024-09-22T23:11:31.692Z"
   },
   {
    "duration": 6,
    "start_time": "2024-09-22T23:11:31.726Z"
   },
   {
    "duration": 39,
    "start_time": "2024-09-22T23:11:31.734Z"
   },
   {
    "duration": 4,
    "start_time": "2024-09-22T23:11:31.775Z"
   },
   {
    "duration": 3,
    "start_time": "2024-09-22T23:11:31.781Z"
   },
   {
    "duration": 276,
    "start_time": "2024-09-22T23:11:31.786Z"
   },
   {
    "duration": 121,
    "start_time": "2024-09-22T23:11:32.064Z"
   },
   {
    "duration": 284,
    "start_time": "2024-09-22T23:11:32.187Z"
   },
   {
    "duration": 0,
    "start_time": "2024-09-22T23:11:32.473Z"
   },
   {
    "duration": 0,
    "start_time": "2024-09-22T23:11:32.474Z"
   },
   {
    "duration": 0,
    "start_time": "2024-09-22T23:11:32.475Z"
   },
   {
    "duration": 0,
    "start_time": "2024-09-22T23:11:32.476Z"
   },
   {
    "duration": 0,
    "start_time": "2024-09-22T23:11:32.478Z"
   },
   {
    "duration": 0,
    "start_time": "2024-09-22T23:11:32.480Z"
   },
   {
    "duration": 0,
    "start_time": "2024-09-22T23:11:32.481Z"
   },
   {
    "duration": 0,
    "start_time": "2024-09-22T23:11:32.482Z"
   },
   {
    "duration": 0,
    "start_time": "2024-09-22T23:11:32.484Z"
   },
   {
    "duration": 0,
    "start_time": "2024-09-22T23:11:32.485Z"
   },
   {
    "duration": 0,
    "start_time": "2024-09-22T23:11:32.486Z"
   },
   {
    "duration": 0,
    "start_time": "2024-09-22T23:11:32.487Z"
   },
   {
    "duration": 0,
    "start_time": "2024-09-22T23:11:32.489Z"
   },
   {
    "duration": 0,
    "start_time": "2024-09-22T23:11:32.490Z"
   },
   {
    "duration": 0,
    "start_time": "2024-09-22T23:11:32.491Z"
   },
   {
    "duration": 0,
    "start_time": "2024-09-22T23:11:32.492Z"
   },
   {
    "duration": 0,
    "start_time": "2024-09-22T23:11:32.493Z"
   },
   {
    "duration": 0,
    "start_time": "2024-09-22T23:11:32.494Z"
   },
   {
    "duration": 0,
    "start_time": "2024-09-22T23:11:32.524Z"
   },
   {
    "duration": 1,
    "start_time": "2024-09-22T23:11:32.525Z"
   },
   {
    "duration": 0,
    "start_time": "2024-09-22T23:11:32.527Z"
   },
   {
    "duration": 0,
    "start_time": "2024-09-22T23:11:32.528Z"
   },
   {
    "duration": 0,
    "start_time": "2024-09-22T23:11:32.530Z"
   },
   {
    "duration": 0,
    "start_time": "2024-09-22T23:11:32.531Z"
   },
   {
    "duration": 187,
    "start_time": "2024-09-22T23:12:29.473Z"
   },
   {
    "duration": 193,
    "start_time": "2024-09-22T23:12:42.032Z"
   },
   {
    "duration": 190,
    "start_time": "2024-09-22T23:12:49.748Z"
   },
   {
    "duration": 189,
    "start_time": "2024-09-22T23:13:02.541Z"
   },
   {
    "duration": 248,
    "start_time": "2024-09-22T23:13:27.153Z"
   },
   {
    "duration": 190,
    "start_time": "2024-09-22T23:13:37.178Z"
   },
   {
    "duration": 184,
    "start_time": "2024-09-22T23:15:09.628Z"
   },
   {
    "duration": 7,
    "start_time": "2024-09-22T23:15:50.861Z"
   },
   {
    "duration": 190,
    "start_time": "2024-09-22T23:15:55.456Z"
   },
   {
    "duration": 8,
    "start_time": "2024-09-22T23:17:45.632Z"
   },
   {
    "duration": 6,
    "start_time": "2024-09-22T23:18:00.272Z"
   },
   {
    "duration": 172,
    "start_time": "2024-09-22T23:18:00.734Z"
   },
   {
    "duration": 7,
    "start_time": "2024-09-22T23:18:01.787Z"
   },
   {
    "duration": 187,
    "start_time": "2024-09-22T23:18:02.605Z"
   },
   {
    "duration": 6,
    "start_time": "2024-09-22T23:19:40.844Z"
   },
   {
    "duration": 6,
    "start_time": "2024-09-22T23:19:44.147Z"
   },
   {
    "duration": 4,
    "start_time": "2024-09-22T23:20:20.764Z"
   },
   {
    "duration": 5,
    "start_time": "2024-09-22T23:20:31.044Z"
   },
   {
    "duration": 4,
    "start_time": "2024-09-22T23:23:11.965Z"
   },
   {
    "duration": 7,
    "start_time": "2024-09-22T23:23:24.390Z"
   },
   {
    "duration": 313,
    "start_time": "2024-09-22T23:24:07.885Z"
   },
   {
    "duration": 261,
    "start_time": "2024-09-22T23:25:15.441Z"
   },
   {
    "duration": 127,
    "start_time": "2024-09-22T23:25:21.235Z"
   },
   {
    "duration": 131,
    "start_time": "2024-09-22T23:25:44.205Z"
   },
   {
    "duration": 125,
    "start_time": "2024-09-22T23:26:11.938Z"
   },
   {
    "duration": 176,
    "start_time": "2024-09-22T23:28:12.741Z"
   },
   {
    "duration": 54,
    "start_time": "2024-09-22T23:33:54.987Z"
   },
   {
    "duration": 6,
    "start_time": "2024-09-22T23:34:02.143Z"
   },
   {
    "duration": 6,
    "start_time": "2024-09-22T23:34:02.476Z"
   },
   {
    "duration": 127,
    "start_time": "2024-09-22T23:34:02.854Z"
   },
   {
    "duration": 158,
    "start_time": "2024-09-22T23:34:52.594Z"
   },
   {
    "duration": 144,
    "start_time": "2024-09-22T23:35:13.974Z"
   },
   {
    "duration": 6,
    "start_time": "2024-09-22T23:37:03.739Z"
   },
   {
    "duration": 15,
    "start_time": "2024-09-22T23:39:43.245Z"
   },
   {
    "duration": 11,
    "start_time": "2024-09-22T23:40:57.279Z"
   },
   {
    "duration": 13,
    "start_time": "2024-09-22T23:41:16.610Z"
   },
   {
    "duration": 11,
    "start_time": "2024-09-22T23:42:39.702Z"
   },
   {
    "duration": 6,
    "start_time": "2024-09-22T23:43:21.613Z"
   },
   {
    "duration": 5,
    "start_time": "2024-09-22T23:43:22.028Z"
   },
   {
    "duration": 10,
    "start_time": "2024-09-22T23:43:22.821Z"
   },
   {
    "duration": 12,
    "start_time": "2024-09-22T23:45:00.663Z"
   },
   {
    "duration": 11,
    "start_time": "2024-09-22T23:46:13.519Z"
   },
   {
    "duration": 168,
    "start_time": "2024-09-22T23:48:49.863Z"
   },
   {
    "duration": 7,
    "start_time": "2024-09-22T23:50:10.982Z"
   },
   {
    "duration": 55,
    "start_time": "2024-09-22T23:50:12.502Z"
   },
   {
    "duration": 5,
    "start_time": "2024-09-22T23:50:13.975Z"
   },
   {
    "duration": 30,
    "start_time": "2024-09-22T23:51:31.410Z"
   },
   {
    "duration": 235,
    "start_time": "2024-09-22T23:52:10.178Z"
   },
   {
    "duration": 427,
    "start_time": "2024-09-22T23:54:12.564Z"
   },
   {
    "duration": 909,
    "start_time": "2024-09-22T23:54:12.994Z"
   },
   {
    "duration": 11,
    "start_time": "2024-09-22T23:54:13.905Z"
   },
   {
    "duration": 9,
    "start_time": "2024-09-22T23:54:13.926Z"
   },
   {
    "duration": 8,
    "start_time": "2024-09-22T23:54:13.936Z"
   },
   {
    "duration": 8,
    "start_time": "2024-09-22T23:54:13.945Z"
   },
   {
    "duration": 7,
    "start_time": "2024-09-22T23:54:13.955Z"
   },
   {
    "duration": 121,
    "start_time": "2024-09-22T23:54:13.964Z"
   },
   {
    "duration": 10,
    "start_time": "2024-09-22T23:54:14.087Z"
   },
   {
    "duration": 114,
    "start_time": "2024-09-22T23:54:14.101Z"
   },
   {
    "duration": 91,
    "start_time": "2024-09-22T23:54:14.217Z"
   },
   {
    "duration": 41,
    "start_time": "2024-09-22T23:54:14.310Z"
   },
   {
    "duration": 12,
    "start_time": "2024-09-22T23:54:14.352Z"
   },
   {
    "duration": 3,
    "start_time": "2024-09-22T23:54:14.365Z"
   },
   {
    "duration": 22,
    "start_time": "2024-09-22T23:54:14.370Z"
   },
   {
    "duration": 34,
    "start_time": "2024-09-22T23:54:14.393Z"
   },
   {
    "duration": 3,
    "start_time": "2024-09-22T23:54:14.429Z"
   },
   {
    "duration": 4,
    "start_time": "2024-09-22T23:54:14.434Z"
   },
   {
    "duration": 3,
    "start_time": "2024-09-22T23:54:14.439Z"
   },
   {
    "duration": 3,
    "start_time": "2024-09-22T23:54:14.444Z"
   },
   {
    "duration": 787,
    "start_time": "2024-09-22T23:54:14.449Z"
   },
   {
    "duration": 668,
    "start_time": "2024-09-22T23:54:15.239Z"
   },
   {
    "duration": 16,
    "start_time": "2024-09-22T23:54:15.909Z"
   },
   {
    "duration": 8,
    "start_time": "2024-09-22T23:54:15.926Z"
   },
   {
    "duration": 8,
    "start_time": "2024-09-22T23:54:15.935Z"
   },
   {
    "duration": 5,
    "start_time": "2024-09-22T23:54:15.944Z"
   },
   {
    "duration": 7,
    "start_time": "2024-09-22T23:54:15.951Z"
   },
   {
    "duration": 11,
    "start_time": "2024-09-22T23:54:15.963Z"
   },
   {
    "duration": 6,
    "start_time": "2024-09-22T23:54:15.976Z"
   },
   {
    "duration": 53,
    "start_time": "2024-09-22T23:54:15.983Z"
   },
   {
    "duration": 30,
    "start_time": "2024-09-22T23:54:16.038Z"
   },
   {
    "duration": 7,
    "start_time": "2024-09-22T23:54:16.070Z"
   },
   {
    "duration": 6,
    "start_time": "2024-09-22T23:54:16.079Z"
   },
   {
    "duration": 67,
    "start_time": "2024-09-22T23:54:16.087Z"
   },
   {
    "duration": 5,
    "start_time": "2024-09-22T23:54:16.156Z"
   },
   {
    "duration": 3,
    "start_time": "2024-09-22T23:54:16.162Z"
   },
   {
    "duration": 264,
    "start_time": "2024-09-22T23:54:16.167Z"
   },
   {
    "duration": 129,
    "start_time": "2024-09-22T23:54:16.433Z"
   },
   {
    "duration": 194,
    "start_time": "2024-09-22T23:54:16.564Z"
   },
   {
    "duration": 405,
    "start_time": "2024-09-22T23:54:32.178Z"
   },
   {
    "duration": 897,
    "start_time": "2024-09-22T23:54:32.585Z"
   },
   {
    "duration": 11,
    "start_time": "2024-09-22T23:54:33.483Z"
   },
   {
    "duration": 18,
    "start_time": "2024-09-22T23:54:33.496Z"
   },
   {
    "duration": 11,
    "start_time": "2024-09-22T23:54:33.516Z"
   },
   {
    "duration": 9,
    "start_time": "2024-09-22T23:54:33.528Z"
   },
   {
    "duration": 7,
    "start_time": "2024-09-22T23:54:33.538Z"
   },
   {
    "duration": 122,
    "start_time": "2024-09-22T23:54:33.547Z"
   },
   {
    "duration": 11,
    "start_time": "2024-09-22T23:54:33.671Z"
   },
   {
    "duration": 116,
    "start_time": "2024-09-22T23:54:33.684Z"
   },
   {
    "duration": 112,
    "start_time": "2024-09-22T23:54:33.801Z"
   },
   {
    "duration": 26,
    "start_time": "2024-09-22T23:54:33.915Z"
   },
   {
    "duration": 11,
    "start_time": "2024-09-22T23:54:33.943Z"
   },
   {
    "duration": 3,
    "start_time": "2024-09-22T23:54:33.956Z"
   },
   {
    "duration": 21,
    "start_time": "2024-09-22T23:54:33.961Z"
   },
   {
    "duration": 10,
    "start_time": "2024-09-22T23:54:33.985Z"
   },
   {
    "duration": 3,
    "start_time": "2024-09-22T23:54:34.024Z"
   },
   {
    "duration": 3,
    "start_time": "2024-09-22T23:54:34.030Z"
   },
   {
    "duration": 3,
    "start_time": "2024-09-22T23:54:34.035Z"
   },
   {
    "duration": 3,
    "start_time": "2024-09-22T23:54:34.040Z"
   },
   {
    "duration": 771,
    "start_time": "2024-09-22T23:54:34.045Z"
   },
   {
    "duration": 677,
    "start_time": "2024-09-22T23:54:34.818Z"
   },
   {
    "duration": 12,
    "start_time": "2024-09-22T23:54:35.497Z"
   },
   {
    "duration": 7,
    "start_time": "2024-09-22T23:54:35.523Z"
   },
   {
    "duration": 7,
    "start_time": "2024-09-22T23:54:35.532Z"
   },
   {
    "duration": 6,
    "start_time": "2024-09-22T23:54:35.541Z"
   },
   {
    "duration": 8,
    "start_time": "2024-09-22T23:54:35.548Z"
   },
   {
    "duration": 10,
    "start_time": "2024-09-22T23:54:35.560Z"
   },
   {
    "duration": 5,
    "start_time": "2024-09-22T23:54:35.572Z"
   },
   {
    "duration": 53,
    "start_time": "2024-09-22T23:54:35.578Z"
   },
   {
    "duration": 31,
    "start_time": "2024-09-22T23:54:35.633Z"
   },
   {
    "duration": 7,
    "start_time": "2024-09-22T23:54:35.666Z"
   },
   {
    "duration": 7,
    "start_time": "2024-09-22T23:54:35.674Z"
   },
   {
    "duration": 62,
    "start_time": "2024-09-22T23:54:35.683Z"
   },
   {
    "duration": 6,
    "start_time": "2024-09-22T23:54:35.747Z"
   },
   {
    "duration": 4,
    "start_time": "2024-09-22T23:54:35.754Z"
   },
   {
    "duration": 280,
    "start_time": "2024-09-22T23:54:35.759Z"
   },
   {
    "duration": 129,
    "start_time": "2024-09-22T23:54:36.041Z"
   },
   {
    "duration": 201,
    "start_time": "2024-09-22T23:54:36.172Z"
   },
   {
    "duration": 232,
    "start_time": "2024-09-22T23:54:36.374Z"
   },
   {
    "duration": 40,
    "start_time": "2024-09-22T23:54:36.608Z"
   },
   {
    "duration": 179,
    "start_time": "2024-09-22T23:54:36.650Z"
   },
   {
    "duration": 93,
    "start_time": "2024-09-22T23:54:36.831Z"
   },
   {
    "duration": 8,
    "start_time": "2024-09-22T23:54:36.926Z"
   },
   {
    "duration": 8,
    "start_time": "2024-09-22T23:54:36.936Z"
   },
   {
    "duration": 260,
    "start_time": "2024-09-22T23:54:36.945Z"
   },
   {
    "duration": 4,
    "start_time": "2024-09-22T23:54:37.206Z"
   },
   {
    "duration": 150,
    "start_time": "2024-09-22T23:54:37.212Z"
   },
   {
    "duration": 160,
    "start_time": "2024-09-22T23:54:37.364Z"
   },
   {
    "duration": 7,
    "start_time": "2024-09-22T23:54:37.527Z"
   },
   {
    "duration": 10,
    "start_time": "2024-09-22T23:54:37.536Z"
   },
   {
    "duration": 6,
    "start_time": "2024-09-22T23:54:37.548Z"
   },
   {
    "duration": 227,
    "start_time": "2024-09-22T23:54:37.556Z"
   },
   {
    "duration": 6,
    "start_time": "2024-09-22T23:54:37.785Z"
   },
   {
    "duration": 8,
    "start_time": "2024-09-22T23:54:37.793Z"
   },
   {
    "duration": 883,
    "start_time": "2024-09-22T23:54:37.802Z"
   },
   {
    "duration": 9,
    "start_time": "2024-09-22T23:54:38.687Z"
   },
   {
    "duration": 39,
    "start_time": "2024-09-22T23:54:38.697Z"
   },
   {
    "duration": 10,
    "start_time": "2024-09-22T23:54:38.738Z"
   },
   {
    "duration": 7,
    "start_time": "2024-09-22T23:54:38.749Z"
   },
   {
    "duration": 229,
    "start_time": "2024-09-22T23:56:21.496Z"
   },
   {
    "duration": 271,
    "start_time": "2024-09-22T23:57:24.467Z"
   },
   {
    "duration": 12,
    "start_time": "2024-09-22T23:58:38.646Z"
   },
   {
    "duration": 13,
    "start_time": "2024-09-22T23:58:39.220Z"
   },
   {
    "duration": 215,
    "start_time": "2024-09-22T23:58:39.693Z"
   },
   {
    "duration": 10,
    "start_time": "2024-09-22T23:59:30.540Z"
   },
   {
    "duration": 6,
    "start_time": "2024-09-22T23:59:30.874Z"
   },
   {
    "duration": 11,
    "start_time": "2024-09-22T23:59:31.537Z"
   },
   {
    "duration": 211,
    "start_time": "2024-09-22T23:59:32.594Z"
   },
   {
    "duration": 217,
    "start_time": "2024-09-22T23:59:44.400Z"
   },
   {
    "duration": 228,
    "start_time": "2024-09-23T00:01:16.839Z"
   },
   {
    "duration": 13,
    "start_time": "2024-09-23T00:01:21.271Z"
   },
   {
    "duration": 213,
    "start_time": "2024-09-23T00:01:28.234Z"
   },
   {
    "duration": 219,
    "start_time": "2024-09-23T00:01:37.126Z"
   },
   {
    "duration": 11,
    "start_time": "2024-09-23T00:01:52.324Z"
   },
   {
    "duration": 4,
    "start_time": "2024-09-23T00:01:52.702Z"
   },
   {
    "duration": 3,
    "start_time": "2024-09-23T00:01:53.102Z"
   },
   {
    "duration": 408,
    "start_time": "2024-09-23T00:02:09.281Z"
   },
   {
    "duration": 899,
    "start_time": "2024-09-23T00:02:09.691Z"
   },
   {
    "duration": 12,
    "start_time": "2024-09-23T00:02:10.592Z"
   },
   {
    "duration": 21,
    "start_time": "2024-09-23T00:02:10.607Z"
   },
   {
    "duration": 7,
    "start_time": "2024-09-23T00:02:10.630Z"
   },
   {
    "duration": 8,
    "start_time": "2024-09-23T00:02:10.638Z"
   },
   {
    "duration": 7,
    "start_time": "2024-09-23T00:02:10.647Z"
   },
   {
    "duration": 118,
    "start_time": "2024-09-23T00:02:10.655Z"
   },
   {
    "duration": 11,
    "start_time": "2024-09-23T00:02:10.775Z"
   },
   {
    "duration": 114,
    "start_time": "2024-09-23T00:02:10.789Z"
   },
   {
    "duration": 106,
    "start_time": "2024-09-23T00:02:10.905Z"
   },
   {
    "duration": 31,
    "start_time": "2024-09-23T00:02:11.013Z"
   },
   {
    "duration": 11,
    "start_time": "2024-09-23T00:02:11.046Z"
   },
   {
    "duration": 3,
    "start_time": "2024-09-23T00:02:11.059Z"
   },
   {
    "duration": 21,
    "start_time": "2024-09-23T00:02:11.063Z"
   },
   {
    "duration": 9,
    "start_time": "2024-09-23T00:02:11.086Z"
   },
   {
    "duration": 29,
    "start_time": "2024-09-23T00:02:11.096Z"
   },
   {
    "duration": 3,
    "start_time": "2024-09-23T00:02:11.127Z"
   },
   {
    "duration": 4,
    "start_time": "2024-09-23T00:02:11.132Z"
   },
   {
    "duration": 4,
    "start_time": "2024-09-23T00:02:11.138Z"
   },
   {
    "duration": 771,
    "start_time": "2024-09-23T00:02:11.144Z"
   },
   {
    "duration": 646,
    "start_time": "2024-09-23T00:02:11.916Z"
   },
   {
    "duration": 11,
    "start_time": "2024-09-23T00:02:12.564Z"
   },
   {
    "duration": 8,
    "start_time": "2024-09-23T00:02:12.577Z"
   },
   {
    "duration": 9,
    "start_time": "2024-09-23T00:02:12.586Z"
   },
   {
    "duration": 29,
    "start_time": "2024-09-23T00:02:12.596Z"
   },
   {
    "duration": 7,
    "start_time": "2024-09-23T00:02:12.626Z"
   },
   {
    "duration": 11,
    "start_time": "2024-09-23T00:02:12.638Z"
   },
   {
    "duration": 5,
    "start_time": "2024-09-23T00:02:12.651Z"
   },
   {
    "duration": 16,
    "start_time": "2024-09-23T00:02:12.657Z"
   },
   {
    "duration": 62,
    "start_time": "2024-09-23T00:02:12.675Z"
   },
   {
    "duration": 7,
    "start_time": "2024-09-23T00:02:12.739Z"
   },
   {
    "duration": 6,
    "start_time": "2024-09-23T00:02:12.747Z"
   },
   {
    "duration": 38,
    "start_time": "2024-09-23T00:02:12.755Z"
   },
   {
    "duration": 29,
    "start_time": "2024-09-23T00:02:12.795Z"
   },
   {
    "duration": 4,
    "start_time": "2024-09-23T00:02:12.825Z"
   },
   {
    "duration": 267,
    "start_time": "2024-09-23T00:02:12.830Z"
   },
   {
    "duration": 129,
    "start_time": "2024-09-23T00:02:13.099Z"
   },
   {
    "duration": 197,
    "start_time": "2024-09-23T00:02:13.229Z"
   },
   {
    "duration": 10,
    "start_time": "2024-09-23T00:02:13.428Z"
   },
   {
    "duration": 4,
    "start_time": "2024-09-23T00:02:13.440Z"
   },
   {
    "duration": 3,
    "start_time": "2024-09-23T00:02:13.445Z"
   },
   {
    "duration": 436,
    "start_time": "2024-09-23T00:03:05.132Z"
   },
   {
    "duration": 893,
    "start_time": "2024-09-23T00:03:05.571Z"
   },
   {
    "duration": 11,
    "start_time": "2024-09-23T00:03:06.467Z"
   },
   {
    "duration": 9,
    "start_time": "2024-09-23T00:03:06.481Z"
   },
   {
    "duration": 7,
    "start_time": "2024-09-23T00:03:06.491Z"
   },
   {
    "duration": 29,
    "start_time": "2024-09-23T00:03:06.500Z"
   },
   {
    "duration": 7,
    "start_time": "2024-09-23T00:03:06.531Z"
   },
   {
    "duration": 112,
    "start_time": "2024-09-23T00:03:06.539Z"
   },
   {
    "duration": 11,
    "start_time": "2024-09-23T00:03:06.652Z"
   },
   {
    "duration": 112,
    "start_time": "2024-09-23T00:03:06.666Z"
   },
   {
    "duration": 90,
    "start_time": "2024-09-23T00:03:06.780Z"
   },
   {
    "duration": 27,
    "start_time": "2024-09-23T00:03:06.872Z"
   },
   {
    "duration": 26,
    "start_time": "2024-09-23T00:03:06.901Z"
   },
   {
    "duration": 2,
    "start_time": "2024-09-23T00:03:06.929Z"
   },
   {
    "duration": 20,
    "start_time": "2024-09-23T00:03:06.933Z"
   },
   {
    "duration": 10,
    "start_time": "2024-09-23T00:03:06.955Z"
   },
   {
    "duration": 3,
    "start_time": "2024-09-23T00:03:06.967Z"
   },
   {
    "duration": 4,
    "start_time": "2024-09-23T00:03:06.971Z"
   },
   {
    "duration": 3,
    "start_time": "2024-09-23T00:03:06.978Z"
   },
   {
    "duration": 43,
    "start_time": "2024-09-23T00:03:06.982Z"
   },
   {
    "duration": 761,
    "start_time": "2024-09-23T00:03:07.026Z"
   },
   {
    "duration": 670,
    "start_time": "2024-09-23T00:03:07.788Z"
   },
   {
    "duration": 11,
    "start_time": "2024-09-23T00:03:08.459Z"
   },
   {
    "duration": 7,
    "start_time": "2024-09-23T00:03:08.472Z"
   },
   {
    "duration": 7,
    "start_time": "2024-09-23T00:03:08.481Z"
   },
   {
    "duration": 6,
    "start_time": "2024-09-23T00:03:08.489Z"
   },
   {
    "duration": 34,
    "start_time": "2024-09-23T00:03:08.496Z"
   },
   {
    "duration": 10,
    "start_time": "2024-09-23T00:03:08.535Z"
   },
   {
    "duration": 6,
    "start_time": "2024-09-23T00:03:08.547Z"
   },
   {
    "duration": 16,
    "start_time": "2024-09-23T00:03:08.555Z"
   },
   {
    "duration": 58,
    "start_time": "2024-09-23T00:03:08.573Z"
   },
   {
    "duration": 7,
    "start_time": "2024-09-23T00:03:08.633Z"
   },
   {
    "duration": 6,
    "start_time": "2024-09-23T00:03:08.642Z"
   },
   {
    "duration": 39,
    "start_time": "2024-09-23T00:03:08.649Z"
   },
   {
    "duration": 5,
    "start_time": "2024-09-23T00:03:08.690Z"
   },
   {
    "duration": 4,
    "start_time": "2024-09-23T00:03:08.723Z"
   },
   {
    "duration": 248,
    "start_time": "2024-09-23T00:03:08.729Z"
   },
   {
    "duration": 127,
    "start_time": "2024-09-23T00:03:08.978Z"
   },
   {
    "duration": 200,
    "start_time": "2024-09-23T00:03:09.107Z"
   },
   {
    "duration": 15,
    "start_time": "2024-09-23T00:03:09.309Z"
   },
   {
    "duration": 4,
    "start_time": "2024-09-23T00:03:09.325Z"
   },
   {
    "duration": 12,
    "start_time": "2024-09-23T00:03:09.330Z"
   },
   {
    "duration": 229,
    "start_time": "2024-09-23T00:03:09.343Z"
   },
   {
    "duration": 35,
    "start_time": "2024-09-23T00:03:09.573Z"
   },
   {
    "duration": 196,
    "start_time": "2024-09-23T00:03:09.609Z"
   },
   {
    "duration": 97,
    "start_time": "2024-09-23T00:03:09.807Z"
   },
   {
    "duration": 9,
    "start_time": "2024-09-23T00:03:09.905Z"
   },
   {
    "duration": 16,
    "start_time": "2024-09-23T00:03:09.915Z"
   },
   {
    "duration": 252,
    "start_time": "2024-09-23T00:03:09.933Z"
   },
   {
    "duration": 4,
    "start_time": "2024-09-23T00:03:10.187Z"
   },
   {
    "duration": 143,
    "start_time": "2024-09-23T00:03:10.194Z"
   },
   {
    "duration": 156,
    "start_time": "2024-09-23T00:03:10.338Z"
   },
   {
    "duration": 4,
    "start_time": "2024-09-23T00:03:10.496Z"
   },
   {
    "duration": 10,
    "start_time": "2024-09-23T00:03:10.501Z"
   },
   {
    "duration": 17,
    "start_time": "2024-09-23T00:03:10.512Z"
   },
   {
    "duration": 225,
    "start_time": "2024-09-23T00:03:10.530Z"
   },
   {
    "duration": 6,
    "start_time": "2024-09-23T00:03:10.757Z"
   },
   {
    "duration": 8,
    "start_time": "2024-09-23T00:03:10.764Z"
   },
   {
    "duration": 852,
    "start_time": "2024-09-23T00:03:10.773Z"
   },
   {
    "duration": 8,
    "start_time": "2024-09-23T00:03:11.626Z"
   },
   {
    "duration": 30,
    "start_time": "2024-09-23T00:03:11.636Z"
   },
   {
    "duration": 9,
    "start_time": "2024-09-23T00:03:11.668Z"
   },
   {
    "duration": 6,
    "start_time": "2024-09-23T00:03:11.678Z"
   },
   {
    "duration": 9,
    "start_time": "2024-09-23T00:04:33.788Z"
   },
   {
    "duration": 3,
    "start_time": "2024-09-23T00:04:34.180Z"
   },
   {
    "duration": 563,
    "start_time": "2024-09-23T00:04:34.599Z"
   },
   {
    "duration": 415,
    "start_time": "2024-09-23T00:05:54.615Z"
   },
   {
    "duration": 895,
    "start_time": "2024-09-23T00:05:55.032Z"
   },
   {
    "duration": 12,
    "start_time": "2024-09-23T00:05:55.929Z"
   },
   {
    "duration": 10,
    "start_time": "2024-09-23T00:05:55.943Z"
   },
   {
    "duration": 8,
    "start_time": "2024-09-23T00:05:55.954Z"
   },
   {
    "duration": 9,
    "start_time": "2024-09-23T00:05:55.963Z"
   },
   {
    "duration": 6,
    "start_time": "2024-09-23T00:05:55.973Z"
   },
   {
    "duration": 132,
    "start_time": "2024-09-23T00:05:55.980Z"
   },
   {
    "duration": 16,
    "start_time": "2024-09-23T00:05:56.113Z"
   },
   {
    "duration": 112,
    "start_time": "2024-09-23T00:05:56.132Z"
   },
   {
    "duration": 96,
    "start_time": "2024-09-23T00:05:56.246Z"
   },
   {
    "duration": 28,
    "start_time": "2024-09-23T00:05:56.343Z"
   },
   {
    "duration": 12,
    "start_time": "2024-09-23T00:05:56.374Z"
   },
   {
    "duration": 3,
    "start_time": "2024-09-23T00:05:56.388Z"
   },
   {
    "duration": 42,
    "start_time": "2024-09-23T00:05:56.393Z"
   },
   {
    "duration": 10,
    "start_time": "2024-09-23T00:05:56.438Z"
   },
   {
    "duration": 3,
    "start_time": "2024-09-23T00:05:56.449Z"
   },
   {
    "duration": 4,
    "start_time": "2024-09-23T00:05:56.453Z"
   },
   {
    "duration": 4,
    "start_time": "2024-09-23T00:05:56.459Z"
   },
   {
    "duration": 3,
    "start_time": "2024-09-23T00:05:56.464Z"
   },
   {
    "duration": 784,
    "start_time": "2024-09-23T00:05:56.469Z"
   },
   {
    "duration": 652,
    "start_time": "2024-09-23T00:05:57.255Z"
   },
   {
    "duration": 18,
    "start_time": "2024-09-23T00:05:57.911Z"
   },
   {
    "duration": 9,
    "start_time": "2024-09-23T00:05:57.931Z"
   },
   {
    "duration": 8,
    "start_time": "2024-09-23T00:05:57.942Z"
   },
   {
    "duration": 6,
    "start_time": "2024-09-23T00:05:57.952Z"
   },
   {
    "duration": 8,
    "start_time": "2024-09-23T00:05:57.960Z"
   },
   {
    "duration": 11,
    "start_time": "2024-09-23T00:05:57.972Z"
   },
   {
    "duration": 41,
    "start_time": "2024-09-23T00:05:57.984Z"
   },
   {
    "duration": 17,
    "start_time": "2024-09-23T00:05:58.027Z"
   },
   {
    "duration": 30,
    "start_time": "2024-09-23T00:05:58.046Z"
   },
   {
    "duration": 7,
    "start_time": "2024-09-23T00:05:58.078Z"
   },
   {
    "duration": 7,
    "start_time": "2024-09-23T00:05:58.087Z"
   },
   {
    "duration": 40,
    "start_time": "2024-09-23T00:05:58.124Z"
   },
   {
    "duration": 6,
    "start_time": "2024-09-23T00:05:58.166Z"
   },
   {
    "duration": 4,
    "start_time": "2024-09-23T00:05:58.173Z"
   },
   {
    "duration": 273,
    "start_time": "2024-09-23T00:05:58.178Z"
   },
   {
    "duration": 128,
    "start_time": "2024-09-23T00:05:58.453Z"
   },
   {
    "duration": 193,
    "start_time": "2024-09-23T00:05:58.582Z"
   },
   {
    "duration": 11,
    "start_time": "2024-09-23T00:05:58.777Z"
   },
   {
    "duration": 3,
    "start_time": "2024-09-23T00:05:58.790Z"
   },
   {
    "duration": 30,
    "start_time": "2024-09-23T00:05:58.795Z"
   },
   {
    "duration": 217,
    "start_time": "2024-09-23T00:05:58.827Z"
   },
   {
    "duration": 34,
    "start_time": "2024-09-23T00:05:59.046Z"
   },
   {
    "duration": 190,
    "start_time": "2024-09-23T00:05:59.081Z"
   },
   {
    "duration": 91,
    "start_time": "2024-09-23T00:05:59.272Z"
   },
   {
    "duration": 9,
    "start_time": "2024-09-23T00:05:59.365Z"
   },
   {
    "duration": 9,
    "start_time": "2024-09-23T00:05:59.376Z"
   },
   {
    "duration": 262,
    "start_time": "2024-09-23T00:05:59.387Z"
   },
   {
    "duration": 4,
    "start_time": "2024-09-23T00:05:59.651Z"
   },
   {
    "duration": 144,
    "start_time": "2024-09-23T00:05:59.657Z"
   },
   {
    "duration": 154,
    "start_time": "2024-09-23T00:05:59.804Z"
   },
   {
    "duration": 4,
    "start_time": "2024-09-23T00:05:59.960Z"
   },
   {
    "duration": 9,
    "start_time": "2024-09-23T00:05:59.966Z"
   },
   {
    "duration": 7,
    "start_time": "2024-09-23T00:05:59.977Z"
   },
   {
    "duration": 229,
    "start_time": "2024-09-23T00:05:59.986Z"
   },
   {
    "duration": 8,
    "start_time": "2024-09-23T00:06:00.217Z"
   },
   {
    "duration": 8,
    "start_time": "2024-09-23T00:06:00.227Z"
   },
   {
    "duration": 840,
    "start_time": "2024-09-23T00:06:00.236Z"
   },
   {
    "duration": 9,
    "start_time": "2024-09-23T00:06:01.077Z"
   },
   {
    "duration": 44,
    "start_time": "2024-09-23T00:06:01.088Z"
   },
   {
    "duration": 11,
    "start_time": "2024-09-23T00:06:01.134Z"
   },
   {
    "duration": 6,
    "start_time": "2024-09-23T00:06:01.147Z"
   },
   {
    "duration": 182,
    "start_time": "2024-09-23T00:20:21.551Z"
   },
   {
    "duration": 13,
    "start_time": "2024-09-23T00:20:27.832Z"
   },
   {
    "duration": 8,
    "start_time": "2024-09-23T00:20:55.071Z"
   },
   {
    "duration": 59,
    "start_time": "2024-09-23T00:23:52.462Z"
   },
   {
    "duration": 84,
    "start_time": "2024-09-23T00:24:18.576Z"
   },
   {
    "duration": 156,
    "start_time": "2024-09-23T00:27:12.539Z"
   },
   {
    "duration": 14,
    "start_time": "2024-09-23T00:28:19.100Z"
   },
   {
    "duration": 437,
    "start_time": "2024-09-23T00:28:27.478Z"
   },
   {
    "duration": 1060,
    "start_time": "2024-09-23T00:28:27.917Z"
   },
   {
    "duration": 12,
    "start_time": "2024-09-23T00:28:28.979Z"
   },
   {
    "duration": 9,
    "start_time": "2024-09-23T00:28:28.994Z"
   },
   {
    "duration": 23,
    "start_time": "2024-09-23T00:28:29.005Z"
   },
   {
    "duration": 8,
    "start_time": "2024-09-23T00:28:29.030Z"
   },
   {
    "duration": 7,
    "start_time": "2024-09-23T00:28:29.039Z"
   },
   {
    "duration": 122,
    "start_time": "2024-09-23T00:28:29.048Z"
   },
   {
    "duration": 12,
    "start_time": "2024-09-23T00:28:29.172Z"
   },
   {
    "duration": 115,
    "start_time": "2024-09-23T00:28:29.187Z"
   },
   {
    "duration": 92,
    "start_time": "2024-09-23T00:28:29.304Z"
   },
   {
    "duration": 37,
    "start_time": "2024-09-23T00:28:29.398Z"
   },
   {
    "duration": 12,
    "start_time": "2024-09-23T00:28:29.436Z"
   },
   {
    "duration": 3,
    "start_time": "2024-09-23T00:28:29.449Z"
   },
   {
    "duration": 21,
    "start_time": "2024-09-23T00:28:29.454Z"
   },
   {
    "duration": 10,
    "start_time": "2024-09-23T00:28:29.476Z"
   },
   {
    "duration": 3,
    "start_time": "2024-09-23T00:28:29.487Z"
   },
   {
    "duration": 34,
    "start_time": "2024-09-23T00:28:29.492Z"
   },
   {
    "duration": 4,
    "start_time": "2024-09-23T00:28:29.527Z"
   },
   {
    "duration": 3,
    "start_time": "2024-09-23T00:28:29.533Z"
   },
   {
    "duration": 750,
    "start_time": "2024-09-23T00:28:29.537Z"
   },
   {
    "duration": 650,
    "start_time": "2024-09-23T00:28:30.289Z"
   },
   {
    "duration": 11,
    "start_time": "2024-09-23T00:28:30.942Z"
   },
   {
    "duration": 8,
    "start_time": "2024-09-23T00:28:30.954Z"
   },
   {
    "duration": 8,
    "start_time": "2024-09-23T00:28:30.963Z"
   },
   {
    "duration": 6,
    "start_time": "2024-09-23T00:28:30.972Z"
   },
   {
    "duration": 7,
    "start_time": "2024-09-23T00:28:30.979Z"
   },
   {
    "duration": 43,
    "start_time": "2024-09-23T00:28:30.990Z"
   },
   {
    "duration": 5,
    "start_time": "2024-09-23T00:28:31.035Z"
   },
   {
    "duration": 16,
    "start_time": "2024-09-23T00:28:31.042Z"
   },
   {
    "duration": 31,
    "start_time": "2024-09-23T00:28:31.060Z"
   },
   {
    "duration": 35,
    "start_time": "2024-09-23T00:28:31.092Z"
   },
   {
    "duration": 7,
    "start_time": "2024-09-23T00:28:31.129Z"
   },
   {
    "duration": 39,
    "start_time": "2024-09-23T00:28:31.137Z"
   },
   {
    "duration": 6,
    "start_time": "2024-09-23T00:28:31.178Z"
   },
   {
    "duration": 6,
    "start_time": "2024-09-23T00:28:31.186Z"
   },
   {
    "duration": 275,
    "start_time": "2024-09-23T00:28:31.195Z"
   },
   {
    "duration": 125,
    "start_time": "2024-09-23T00:28:31.472Z"
   },
   {
    "duration": 194,
    "start_time": "2024-09-23T00:28:31.599Z"
   },
   {
    "duration": 115,
    "start_time": "2024-09-23T00:28:31.795Z"
   },
   {
    "duration": 0,
    "start_time": "2024-09-23T00:28:31.912Z"
   },
   {
    "duration": 0,
    "start_time": "2024-09-23T00:28:31.913Z"
   },
   {
    "duration": 0,
    "start_time": "2024-09-23T00:28:31.924Z"
   },
   {
    "duration": 0,
    "start_time": "2024-09-23T00:28:31.925Z"
   },
   {
    "duration": 0,
    "start_time": "2024-09-23T00:28:31.927Z"
   },
   {
    "duration": 0,
    "start_time": "2024-09-23T00:28:31.928Z"
   },
   {
    "duration": 0,
    "start_time": "2024-09-23T00:28:31.929Z"
   },
   {
    "duration": 0,
    "start_time": "2024-09-23T00:28:31.932Z"
   },
   {
    "duration": 0,
    "start_time": "2024-09-23T00:28:31.933Z"
   },
   {
    "duration": 0,
    "start_time": "2024-09-23T00:28:31.934Z"
   },
   {
    "duration": 0,
    "start_time": "2024-09-23T00:28:31.936Z"
   },
   {
    "duration": 0,
    "start_time": "2024-09-23T00:28:31.938Z"
   },
   {
    "duration": 0,
    "start_time": "2024-09-23T00:28:31.940Z"
   },
   {
    "duration": 0,
    "start_time": "2024-09-23T00:28:31.941Z"
   },
   {
    "duration": 0,
    "start_time": "2024-09-23T00:28:31.942Z"
   },
   {
    "duration": 0,
    "start_time": "2024-09-23T00:28:31.946Z"
   },
   {
    "duration": 0,
    "start_time": "2024-09-23T00:28:31.947Z"
   },
   {
    "duration": 0,
    "start_time": "2024-09-23T00:28:31.949Z"
   },
   {
    "duration": 0,
    "start_time": "2024-09-23T00:28:31.951Z"
   },
   {
    "duration": 0,
    "start_time": "2024-09-23T00:28:31.952Z"
   },
   {
    "duration": 0,
    "start_time": "2024-09-23T00:28:31.953Z"
   },
   {
    "duration": 0,
    "start_time": "2024-09-23T00:28:31.954Z"
   },
   {
    "duration": 0,
    "start_time": "2024-09-23T00:28:31.956Z"
   },
   {
    "duration": 0,
    "start_time": "2024-09-23T00:28:31.958Z"
   },
   {
    "duration": 415,
    "start_time": "2024-09-23T00:29:59.121Z"
   },
   {
    "duration": 893,
    "start_time": "2024-09-23T00:29:59.538Z"
   },
   {
    "duration": 11,
    "start_time": "2024-09-23T00:30:00.433Z"
   },
   {
    "duration": 9,
    "start_time": "2024-09-23T00:30:00.445Z"
   },
   {
    "duration": 9,
    "start_time": "2024-09-23T00:30:00.457Z"
   },
   {
    "duration": 8,
    "start_time": "2024-09-23T00:30:00.467Z"
   },
   {
    "duration": 6,
    "start_time": "2024-09-23T00:30:00.476Z"
   },
   {
    "duration": 135,
    "start_time": "2024-09-23T00:30:00.484Z"
   },
   {
    "duration": 11,
    "start_time": "2024-09-23T00:30:00.621Z"
   },
   {
    "duration": 109,
    "start_time": "2024-09-23T00:30:00.633Z"
   },
   {
    "duration": 96,
    "start_time": "2024-09-23T00:30:00.744Z"
   },
   {
    "duration": 27,
    "start_time": "2024-09-23T00:30:00.842Z"
   },
   {
    "duration": 12,
    "start_time": "2024-09-23T00:30:00.871Z"
   },
   {
    "duration": 3,
    "start_time": "2024-09-23T00:30:00.886Z"
   },
   {
    "duration": 43,
    "start_time": "2024-09-23T00:30:00.890Z"
   },
   {
    "duration": 10,
    "start_time": "2024-09-23T00:30:00.934Z"
   },
   {
    "duration": 3,
    "start_time": "2024-09-23T00:30:00.947Z"
   },
   {
    "duration": 3,
    "start_time": "2024-09-23T00:30:00.952Z"
   },
   {
    "duration": 3,
    "start_time": "2024-09-23T00:30:00.957Z"
   },
   {
    "duration": 2,
    "start_time": "2024-09-23T00:30:00.963Z"
   },
   {
    "duration": 772,
    "start_time": "2024-09-23T00:30:00.967Z"
   },
   {
    "duration": 662,
    "start_time": "2024-09-23T00:30:01.741Z"
   },
   {
    "duration": 13,
    "start_time": "2024-09-23T00:30:02.405Z"
   },
   {
    "duration": 9,
    "start_time": "2024-09-23T00:30:02.426Z"
   },
   {
    "duration": 9,
    "start_time": "2024-09-23T00:30:02.438Z"
   },
   {
    "duration": 6,
    "start_time": "2024-09-23T00:30:02.449Z"
   },
   {
    "duration": 8,
    "start_time": "2024-09-23T00:30:02.457Z"
   },
   {
    "duration": 10,
    "start_time": "2024-09-23T00:30:02.468Z"
   },
   {
    "duration": 4,
    "start_time": "2024-09-23T00:30:02.481Z"
   },
   {
    "duration": 49,
    "start_time": "2024-09-23T00:30:02.487Z"
   },
   {
    "duration": 31,
    "start_time": "2024-09-23T00:30:02.538Z"
   },
   {
    "duration": 7,
    "start_time": "2024-09-23T00:30:02.570Z"
   },
   {
    "duration": 7,
    "start_time": "2024-09-23T00:30:02.579Z"
   },
   {
    "duration": 62,
    "start_time": "2024-09-23T00:30:02.588Z"
   },
   {
    "duration": 5,
    "start_time": "2024-09-23T00:30:02.652Z"
   },
   {
    "duration": 4,
    "start_time": "2024-09-23T00:30:02.658Z"
   },
   {
    "duration": 272,
    "start_time": "2024-09-23T00:30:02.664Z"
   },
   {
    "duration": 125,
    "start_time": "2024-09-23T00:30:02.938Z"
   },
   {
    "duration": 192,
    "start_time": "2024-09-23T00:30:03.065Z"
   },
   {
    "duration": 11,
    "start_time": "2024-09-23T00:30:03.259Z"
   },
   {
    "duration": 3,
    "start_time": "2024-09-23T00:30:03.275Z"
   },
   {
    "duration": 10,
    "start_time": "2024-09-23T00:30:03.281Z"
   },
   {
    "duration": 238,
    "start_time": "2024-09-23T00:30:03.292Z"
   },
   {
    "duration": 34,
    "start_time": "2024-09-23T00:30:03.532Z"
   },
   {
    "duration": 185,
    "start_time": "2024-09-23T00:30:03.568Z"
   },
   {
    "duration": 95,
    "start_time": "2024-09-23T00:30:03.755Z"
   },
   {
    "duration": 10,
    "start_time": "2024-09-23T00:30:03.852Z"
   },
   {
    "duration": 12,
    "start_time": "2024-09-23T00:30:03.864Z"
   },
   {
    "duration": 262,
    "start_time": "2024-09-23T00:30:03.878Z"
   },
   {
    "duration": 5,
    "start_time": "2024-09-23T00:30:04.142Z"
   },
   {
    "duration": 140,
    "start_time": "2024-09-23T00:30:04.149Z"
   },
   {
    "duration": 156,
    "start_time": "2024-09-23T00:30:04.291Z"
   },
   {
    "duration": 4,
    "start_time": "2024-09-23T00:30:04.448Z"
   },
   {
    "duration": 8,
    "start_time": "2024-09-23T00:30:04.454Z"
   },
   {
    "duration": 6,
    "start_time": "2024-09-23T00:30:04.464Z"
   },
   {
    "duration": 239,
    "start_time": "2024-09-23T00:30:04.471Z"
   },
   {
    "duration": 12,
    "start_time": "2024-09-23T00:30:04.712Z"
   },
   {
    "duration": 7,
    "start_time": "2024-09-23T00:30:04.725Z"
   },
   {
    "duration": 823,
    "start_time": "2024-09-23T00:30:04.734Z"
   },
   {
    "duration": 8,
    "start_time": "2024-09-23T00:30:05.558Z"
   },
   {
    "duration": 37,
    "start_time": "2024-09-23T00:30:05.567Z"
   },
   {
    "duration": 24,
    "start_time": "2024-09-23T00:30:05.607Z"
   },
   {
    "duration": 6,
    "start_time": "2024-09-23T00:30:05.633Z"
   },
   {
    "duration": 437,
    "start_time": "2024-09-23T00:33:19.789Z"
   },
   {
    "duration": 907,
    "start_time": "2024-09-23T00:33:20.229Z"
   },
   {
    "duration": 11,
    "start_time": "2024-09-23T00:33:21.138Z"
   },
   {
    "duration": 9,
    "start_time": "2024-09-23T00:33:21.151Z"
   },
   {
    "duration": 8,
    "start_time": "2024-09-23T00:33:21.162Z"
   },
   {
    "duration": 11,
    "start_time": "2024-09-23T00:33:21.171Z"
   },
   {
    "duration": 8,
    "start_time": "2024-09-23T00:33:21.184Z"
   },
   {
    "duration": 131,
    "start_time": "2024-09-23T00:33:21.196Z"
   },
   {
    "duration": 10,
    "start_time": "2024-09-23T00:33:21.329Z"
   },
   {
    "duration": 114,
    "start_time": "2024-09-23T00:33:21.342Z"
   },
   {
    "duration": 90,
    "start_time": "2024-09-23T00:33:21.458Z"
   },
   {
    "duration": 25,
    "start_time": "2024-09-23T00:33:21.550Z"
   },
   {
    "duration": 12,
    "start_time": "2024-09-23T00:33:21.577Z"
   },
   {
    "duration": 3,
    "start_time": "2024-09-23T00:33:21.592Z"
   },
   {
    "duration": 42,
    "start_time": "2024-09-23T00:33:21.597Z"
   },
   {
    "duration": 11,
    "start_time": "2024-09-23T00:33:21.641Z"
   },
   {
    "duration": 4,
    "start_time": "2024-09-23T00:33:21.654Z"
   },
   {
    "duration": 3,
    "start_time": "2024-09-23T00:33:21.660Z"
   },
   {
    "duration": 4,
    "start_time": "2024-09-23T00:33:21.665Z"
   },
   {
    "duration": 4,
    "start_time": "2024-09-23T00:33:21.670Z"
   },
   {
    "duration": 784,
    "start_time": "2024-09-23T00:33:21.676Z"
   },
   {
    "duration": 663,
    "start_time": "2024-09-23T00:33:22.462Z"
   },
   {
    "duration": 11,
    "start_time": "2024-09-23T00:33:23.127Z"
   },
   {
    "duration": 8,
    "start_time": "2024-09-23T00:33:23.139Z"
   },
   {
    "duration": 7,
    "start_time": "2024-09-23T00:33:23.148Z"
   },
   {
    "duration": 5,
    "start_time": "2024-09-23T00:33:23.157Z"
   },
   {
    "duration": 7,
    "start_time": "2024-09-23T00:33:23.164Z"
   },
   {
    "duration": 11,
    "start_time": "2024-09-23T00:33:23.173Z"
   },
   {
    "duration": 41,
    "start_time": "2024-09-23T00:33:23.186Z"
   },
   {
    "duration": 16,
    "start_time": "2024-09-23T00:33:23.229Z"
   },
   {
    "duration": 31,
    "start_time": "2024-09-23T00:33:23.246Z"
   },
   {
    "duration": 7,
    "start_time": "2024-09-23T00:33:23.279Z"
   },
   {
    "duration": 38,
    "start_time": "2024-09-23T00:33:23.287Z"
   },
   {
    "duration": 38,
    "start_time": "2024-09-23T00:33:23.327Z"
   },
   {
    "duration": 5,
    "start_time": "2024-09-23T00:33:23.367Z"
   },
   {
    "duration": 4,
    "start_time": "2024-09-23T00:33:23.374Z"
   },
   {
    "duration": 267,
    "start_time": "2024-09-23T00:33:23.380Z"
   },
   {
    "duration": 128,
    "start_time": "2024-09-23T00:33:23.649Z"
   },
   {
    "duration": 208,
    "start_time": "2024-09-23T00:33:23.779Z"
   },
   {
    "duration": 11,
    "start_time": "2024-09-23T00:33:23.989Z"
   },
   {
    "duration": 3,
    "start_time": "2024-09-23T00:33:24.005Z"
   },
   {
    "duration": 11,
    "start_time": "2024-09-23T00:33:24.023Z"
   },
   {
    "duration": 219,
    "start_time": "2024-09-23T00:33:24.036Z"
   },
   {
    "duration": 34,
    "start_time": "2024-09-23T00:33:24.257Z"
   },
   {
    "duration": 191,
    "start_time": "2024-09-23T00:33:24.293Z"
   },
   {
    "duration": 89,
    "start_time": "2024-09-23T00:33:24.486Z"
   },
   {
    "duration": 11,
    "start_time": "2024-09-23T00:33:24.577Z"
   },
   {
    "duration": 10,
    "start_time": "2024-09-23T00:33:24.589Z"
   },
   {
    "duration": 267,
    "start_time": "2024-09-23T00:33:24.600Z"
   },
   {
    "duration": 4,
    "start_time": "2024-09-23T00:33:24.868Z"
   },
   {
    "duration": 149,
    "start_time": "2024-09-23T00:33:24.874Z"
   },
   {
    "duration": 154,
    "start_time": "2024-09-23T00:33:25.025Z"
   },
   {
    "duration": 4,
    "start_time": "2024-09-23T00:33:25.181Z"
   },
   {
    "duration": 9,
    "start_time": "2024-09-23T00:33:25.187Z"
   },
   {
    "duration": 8,
    "start_time": "2024-09-23T00:33:25.197Z"
   },
   {
    "duration": 228,
    "start_time": "2024-09-23T00:33:25.206Z"
   },
   {
    "duration": 6,
    "start_time": "2024-09-23T00:33:25.436Z"
   },
   {
    "duration": 8,
    "start_time": "2024-09-23T00:33:25.444Z"
   },
   {
    "duration": 845,
    "start_time": "2024-09-23T00:33:25.454Z"
   },
   {
    "duration": 8,
    "start_time": "2024-09-23T00:33:26.300Z"
   },
   {
    "duration": 43,
    "start_time": "2024-09-23T00:33:26.310Z"
   },
   {
    "duration": 11,
    "start_time": "2024-09-23T00:33:26.354Z"
   },
   {
    "duration": 6,
    "start_time": "2024-09-23T00:33:26.367Z"
   },
   {
    "duration": 2265,
    "start_time": "2024-11-07T04:44:06.408Z"
   },
   {
    "duration": 1006,
    "start_time": "2024-11-07T04:44:08.675Z"
   },
   {
    "duration": 11,
    "start_time": "2024-11-07T04:44:09.683Z"
   },
   {
    "duration": 17,
    "start_time": "2024-11-07T04:44:09.697Z"
   },
   {
    "duration": 7,
    "start_time": "2024-11-07T04:44:09.716Z"
   },
   {
    "duration": 7,
    "start_time": "2024-11-07T04:44:09.725Z"
   },
   {
    "duration": 7,
    "start_time": "2024-11-07T04:44:09.734Z"
   },
   {
    "duration": 146,
    "start_time": "2024-11-07T04:44:09.742Z"
   },
   {
    "duration": 11,
    "start_time": "2024-11-07T04:44:09.889Z"
   },
   {
    "duration": 109,
    "start_time": "2024-11-07T04:44:09.911Z"
   },
   {
    "duration": 108,
    "start_time": "2024-11-07T04:44:10.022Z"
   },
   {
    "duration": 27,
    "start_time": "2024-11-07T04:44:10.132Z"
   },
   {
    "duration": 14,
    "start_time": "2024-11-07T04:44:10.161Z"
   },
   {
    "duration": 3,
    "start_time": "2024-11-07T04:44:10.176Z"
   },
   {
    "duration": 43,
    "start_time": "2024-11-07T04:44:10.181Z"
   },
   {
    "duration": 10,
    "start_time": "2024-11-07T04:44:10.226Z"
   },
   {
    "duration": 3,
    "start_time": "2024-11-07T04:44:10.238Z"
   },
   {
    "duration": 4,
    "start_time": "2024-11-07T04:44:10.242Z"
   },
   {
    "duration": 3,
    "start_time": "2024-11-07T04:44:10.248Z"
   },
   {
    "duration": 5,
    "start_time": "2024-11-07T04:44:10.253Z"
   },
   {
    "duration": 825,
    "start_time": "2024-11-07T04:44:10.259Z"
   },
   {
    "duration": 701,
    "start_time": "2024-11-07T04:44:11.086Z"
   },
   {
    "duration": 11,
    "start_time": "2024-11-07T04:44:11.789Z"
   },
   {
    "duration": 8,
    "start_time": "2024-11-07T04:44:11.809Z"
   },
   {
    "duration": 9,
    "start_time": "2024-11-07T04:44:11.819Z"
   },
   {
    "duration": 6,
    "start_time": "2024-11-07T04:44:11.829Z"
   },
   {
    "duration": 7,
    "start_time": "2024-11-07T04:44:11.836Z"
   },
   {
    "duration": 12,
    "start_time": "2024-11-07T04:44:11.847Z"
   },
   {
    "duration": 5,
    "start_time": "2024-11-07T04:44:11.860Z"
   },
   {
    "duration": 54,
    "start_time": "2024-11-07T04:44:11.868Z"
   },
   {
    "duration": 33,
    "start_time": "2024-11-07T04:44:11.924Z"
   },
   {
    "duration": 8,
    "start_time": "2024-11-07T04:44:11.959Z"
   },
   {
    "duration": 7,
    "start_time": "2024-11-07T04:44:11.970Z"
   },
   {
    "duration": 63,
    "start_time": "2024-11-07T04:44:11.978Z"
   },
   {
    "duration": 4,
    "start_time": "2024-11-07T04:44:12.043Z"
   },
   {
    "duration": 4,
    "start_time": "2024-11-07T04:44:12.049Z"
   },
   {
    "duration": 241,
    "start_time": "2024-11-07T04:44:12.055Z"
   },
   {
    "duration": 0,
    "start_time": "2024-11-07T04:44:12.298Z"
   },
   {
    "duration": 0,
    "start_time": "2024-11-07T04:44:12.299Z"
   },
   {
    "duration": 0,
    "start_time": "2024-11-07T04:44:12.300Z"
   },
   {
    "duration": 0,
    "start_time": "2024-11-07T04:44:12.310Z"
   },
   {
    "duration": 0,
    "start_time": "2024-11-07T04:44:12.311Z"
   },
   {
    "duration": 0,
    "start_time": "2024-11-07T04:44:12.313Z"
   },
   {
    "duration": 0,
    "start_time": "2024-11-07T04:44:12.314Z"
   },
   {
    "duration": 0,
    "start_time": "2024-11-07T04:44:12.315Z"
   },
   {
    "duration": 0,
    "start_time": "2024-11-07T04:44:12.316Z"
   },
   {
    "duration": 0,
    "start_time": "2024-11-07T04:44:12.317Z"
   },
   {
    "duration": 0,
    "start_time": "2024-11-07T04:44:12.318Z"
   },
   {
    "duration": 0,
    "start_time": "2024-11-07T04:44:12.319Z"
   },
   {
    "duration": 0,
    "start_time": "2024-11-07T04:44:12.319Z"
   },
   {
    "duration": 0,
    "start_time": "2024-11-07T04:44:12.321Z"
   },
   {
    "duration": 0,
    "start_time": "2024-11-07T04:44:12.323Z"
   },
   {
    "duration": 0,
    "start_time": "2024-11-07T04:44:12.324Z"
   },
   {
    "duration": 0,
    "start_time": "2024-11-07T04:44:12.325Z"
   },
   {
    "duration": 0,
    "start_time": "2024-11-07T04:44:12.327Z"
   },
   {
    "duration": 0,
    "start_time": "2024-11-07T04:44:12.328Z"
   },
   {
    "duration": 0,
    "start_time": "2024-11-07T04:44:12.329Z"
   },
   {
    "duration": 0,
    "start_time": "2024-11-07T04:44:12.331Z"
   },
   {
    "duration": 0,
    "start_time": "2024-11-07T04:44:12.333Z"
   },
   {
    "duration": 0,
    "start_time": "2024-11-07T04:44:12.334Z"
   },
   {
    "duration": 0,
    "start_time": "2024-11-07T04:44:12.336Z"
   },
   {
    "duration": 0,
    "start_time": "2024-11-07T04:44:12.337Z"
   },
   {
    "duration": 0,
    "start_time": "2024-11-07T04:44:12.339Z"
   },
   {
    "duration": 420,
    "start_time": "2024-11-07T04:45:53.392Z"
   },
   {
    "duration": 913,
    "start_time": "2024-11-07T04:45:53.815Z"
   },
   {
    "duration": 11,
    "start_time": "2024-11-07T04:45:54.730Z"
   },
   {
    "duration": 9,
    "start_time": "2024-11-07T04:45:54.743Z"
   },
   {
    "duration": 7,
    "start_time": "2024-11-07T04:45:54.755Z"
   },
   {
    "duration": 8,
    "start_time": "2024-11-07T04:45:54.765Z"
   },
   {
    "duration": 37,
    "start_time": "2024-11-07T04:45:54.775Z"
   },
   {
    "duration": 114,
    "start_time": "2024-11-07T04:45:54.813Z"
   },
   {
    "duration": 11,
    "start_time": "2024-11-07T04:45:54.929Z"
   },
   {
    "duration": 126,
    "start_time": "2024-11-07T04:45:54.943Z"
   },
   {
    "duration": 97,
    "start_time": "2024-11-07T04:45:55.071Z"
   },
   {
    "duration": 26,
    "start_time": "2024-11-07T04:45:55.169Z"
   },
   {
    "duration": 21,
    "start_time": "2024-11-07T04:45:55.198Z"
   },
   {
    "duration": 3,
    "start_time": "2024-11-07T04:45:55.223Z"
   },
   {
    "duration": 21,
    "start_time": "2024-11-07T04:45:55.228Z"
   },
   {
    "duration": 11,
    "start_time": "2024-11-07T04:45:55.251Z"
   },
   {
    "duration": 3,
    "start_time": "2024-11-07T04:45:55.264Z"
   },
   {
    "duration": 3,
    "start_time": "2024-11-07T04:45:55.269Z"
   },
   {
    "duration": 3,
    "start_time": "2024-11-07T04:45:55.309Z"
   },
   {
    "duration": 4,
    "start_time": "2024-11-07T04:45:55.313Z"
   },
   {
    "duration": 811,
    "start_time": "2024-11-07T04:45:55.319Z"
   },
   {
    "duration": 697,
    "start_time": "2024-11-07T04:45:56.132Z"
   },
   {
    "duration": 12,
    "start_time": "2024-11-07T04:45:56.831Z"
   },
   {
    "duration": 8,
    "start_time": "2024-11-07T04:45:56.844Z"
   },
   {
    "duration": 8,
    "start_time": "2024-11-07T04:45:56.854Z"
   },
   {
    "duration": 5,
    "start_time": "2024-11-07T04:45:56.865Z"
   },
   {
    "duration": 40,
    "start_time": "2024-11-07T04:45:56.871Z"
   },
   {
    "duration": 12,
    "start_time": "2024-11-07T04:45:56.912Z"
   },
   {
    "duration": 4,
    "start_time": "2024-11-07T04:45:56.926Z"
   },
   {
    "duration": 16,
    "start_time": "2024-11-07T04:45:56.932Z"
   },
   {
    "duration": 32,
    "start_time": "2024-11-07T04:45:56.950Z"
   },
   {
    "duration": 7,
    "start_time": "2024-11-07T04:45:57.009Z"
   },
   {
    "duration": 8,
    "start_time": "2024-11-07T04:45:57.018Z"
   },
   {
    "duration": 40,
    "start_time": "2024-11-07T04:45:57.027Z"
   },
   {
    "duration": 5,
    "start_time": "2024-11-07T04:45:57.069Z"
   },
   {
    "duration": 3,
    "start_time": "2024-11-07T04:45:57.075Z"
   },
   {
    "duration": 32,
    "start_time": "2024-11-07T04:45:57.080Z"
   },
   {
    "duration": 172,
    "start_time": "2024-11-07T04:45:57.114Z"
   },
   {
    "duration": 211,
    "start_time": "2024-11-07T04:45:57.290Z"
   },
   {
    "duration": 13,
    "start_time": "2024-11-07T04:45:57.508Z"
   },
   {
    "duration": 3,
    "start_time": "2024-11-07T04:45:57.526Z"
   },
   {
    "duration": 12,
    "start_time": "2024-11-07T04:45:57.530Z"
   },
   {
    "duration": 248,
    "start_time": "2024-11-07T04:45:57.543Z"
   },
   {
    "duration": 41,
    "start_time": "2024-11-07T04:45:57.795Z"
   },
   {
    "duration": 191,
    "start_time": "2024-11-07T04:45:57.838Z"
   },
   {
    "duration": 94,
    "start_time": "2024-11-07T04:45:58.031Z"
   },
   {
    "duration": 10,
    "start_time": "2024-11-07T04:45:58.127Z"
   },
   {
    "duration": 9,
    "start_time": "2024-11-07T04:45:58.138Z"
   },
   {
    "duration": 302,
    "start_time": "2024-11-07T04:45:58.148Z"
   },
   {
    "duration": 5,
    "start_time": "2024-11-07T04:45:58.452Z"
   },
   {
    "duration": 152,
    "start_time": "2024-11-07T04:45:58.459Z"
   },
   {
    "duration": 155,
    "start_time": "2024-11-07T04:45:58.613Z"
   },
   {
    "duration": 4,
    "start_time": "2024-11-07T04:45:58.770Z"
   },
   {
    "duration": 9,
    "start_time": "2024-11-07T04:45:58.776Z"
   },
   {
    "duration": 24,
    "start_time": "2024-11-07T04:45:58.786Z"
   },
   {
    "duration": 224,
    "start_time": "2024-11-07T04:45:58.811Z"
   },
   {
    "duration": 6,
    "start_time": "2024-11-07T04:45:59.037Z"
   },
   {
    "duration": 9,
    "start_time": "2024-11-07T04:45:59.044Z"
   },
   {
    "duration": 898,
    "start_time": "2024-11-07T04:45:59.054Z"
   },
   {
    "duration": 8,
    "start_time": "2024-11-07T04:45:59.954Z"
   },
   {
    "duration": 46,
    "start_time": "2024-11-07T04:45:59.963Z"
   },
   {
    "duration": 10,
    "start_time": "2024-11-07T04:46:00.010Z"
   },
   {
    "duration": 6,
    "start_time": "2024-11-07T04:46:00.022Z"
   },
   {
    "duration": 414,
    "start_time": "2024-11-07T04:47:22.186Z"
   },
   {
    "duration": 902,
    "start_time": "2024-11-07T04:47:22.602Z"
   },
   {
    "duration": 12,
    "start_time": "2024-11-07T04:47:23.505Z"
   },
   {
    "duration": 10,
    "start_time": "2024-11-07T04:47:23.519Z"
   },
   {
    "duration": 8,
    "start_time": "2024-11-07T04:47:23.530Z"
   },
   {
    "duration": 8,
    "start_time": "2024-11-07T04:47:23.539Z"
   },
   {
    "duration": 6,
    "start_time": "2024-11-07T04:47:23.548Z"
   },
   {
    "duration": 137,
    "start_time": "2024-11-07T04:47:23.556Z"
   },
   {
    "duration": 19,
    "start_time": "2024-11-07T04:47:23.694Z"
   },
   {
    "duration": 117,
    "start_time": "2024-11-07T04:47:23.717Z"
   },
   {
    "duration": 96,
    "start_time": "2024-11-07T04:47:23.836Z"
   },
   {
    "duration": 31,
    "start_time": "2024-11-07T04:47:23.934Z"
   },
   {
    "duration": 12,
    "start_time": "2024-11-07T04:47:23.966Z"
   },
   {
    "duration": 4,
    "start_time": "2024-11-07T04:47:23.980Z"
   },
   {
    "duration": 24,
    "start_time": "2024-11-07T04:47:24.009Z"
   },
   {
    "duration": 11,
    "start_time": "2024-11-07T04:47:24.034Z"
   },
   {
    "duration": 3,
    "start_time": "2024-11-07T04:47:24.047Z"
   },
   {
    "duration": 4,
    "start_time": "2024-11-07T04:47:24.052Z"
   },
   {
    "duration": 3,
    "start_time": "2024-11-07T04:47:24.058Z"
   },
   {
    "duration": 3,
    "start_time": "2024-11-07T04:47:24.063Z"
   },
   {
    "duration": 824,
    "start_time": "2024-11-07T04:47:24.068Z"
   },
   {
    "duration": 704,
    "start_time": "2024-11-07T04:47:24.894Z"
   },
   {
    "duration": 17,
    "start_time": "2024-11-07T04:47:25.600Z"
   },
   {
    "duration": 8,
    "start_time": "2024-11-07T04:47:25.618Z"
   },
   {
    "duration": 8,
    "start_time": "2024-11-07T04:47:25.629Z"
   },
   {
    "duration": 6,
    "start_time": "2024-11-07T04:47:25.638Z"
   },
   {
    "duration": 8,
    "start_time": "2024-11-07T04:47:25.645Z"
   },
   {
    "duration": 11,
    "start_time": "2024-11-07T04:47:25.658Z"
   },
   {
    "duration": 41,
    "start_time": "2024-11-07T04:47:25.671Z"
   },
   {
    "duration": 16,
    "start_time": "2024-11-07T04:47:25.714Z"
   },
   {
    "duration": 32,
    "start_time": "2024-11-07T04:47:25.732Z"
   },
   {
    "duration": 8,
    "start_time": "2024-11-07T04:47:25.767Z"
   },
   {
    "duration": 36,
    "start_time": "2024-11-07T04:47:25.776Z"
   },
   {
    "duration": 40,
    "start_time": "2024-11-07T04:47:25.813Z"
   },
   {
    "duration": 5,
    "start_time": "2024-11-07T04:47:25.855Z"
   },
   {
    "duration": 4,
    "start_time": "2024-11-07T04:47:25.862Z"
   },
   {
    "duration": 277,
    "start_time": "2024-11-07T04:47:25.868Z"
   },
   {
    "duration": 131,
    "start_time": "2024-11-07T04:47:26.147Z"
   },
   {
    "duration": 218,
    "start_time": "2024-11-07T04:47:26.280Z"
   },
   {
    "duration": 18,
    "start_time": "2024-11-07T04:47:26.500Z"
   },
   {
    "duration": 4,
    "start_time": "2024-11-07T04:47:26.520Z"
   },
   {
    "duration": 12,
    "start_time": "2024-11-07T04:47:26.525Z"
   },
   {
    "duration": 236,
    "start_time": "2024-11-07T04:47:26.538Z"
   },
   {
    "duration": 44,
    "start_time": "2024-11-07T04:47:26.775Z"
   },
   {
    "duration": 188,
    "start_time": "2024-11-07T04:47:26.821Z"
   },
   {
    "duration": 89,
    "start_time": "2024-11-07T04:47:27.010Z"
   },
   {
    "duration": 15,
    "start_time": "2024-11-07T04:47:27.101Z"
   },
   {
    "duration": 9,
    "start_time": "2024-11-07T04:47:27.117Z"
   },
   {
    "duration": 320,
    "start_time": "2024-11-07T04:47:27.127Z"
   },
   {
    "duration": 4,
    "start_time": "2024-11-07T04:47:27.449Z"
   },
   {
    "duration": 156,
    "start_time": "2024-11-07T04:47:27.455Z"
   },
   {
    "duration": 165,
    "start_time": "2024-11-07T04:47:27.613Z"
   },
   {
    "duration": 5,
    "start_time": "2024-11-07T04:47:27.780Z"
   },
   {
    "duration": 10,
    "start_time": "2024-11-07T04:47:27.786Z"
   },
   {
    "duration": 8,
    "start_time": "2024-11-07T04:47:27.808Z"
   },
   {
    "duration": 226,
    "start_time": "2024-11-07T04:47:27.818Z"
   },
   {
    "duration": 6,
    "start_time": "2024-11-07T04:47:28.048Z"
   },
   {
    "duration": 10,
    "start_time": "2024-11-07T04:47:28.055Z"
   },
   {
    "duration": 908,
    "start_time": "2024-11-07T04:47:28.066Z"
   },
   {
    "duration": 6,
    "start_time": "2024-11-07T04:47:28.976Z"
   },
   {
    "duration": 44,
    "start_time": "2024-11-07T04:47:28.984Z"
   },
   {
    "duration": 9,
    "start_time": "2024-11-07T04:47:29.030Z"
   },
   {
    "duration": 7,
    "start_time": "2024-11-07T04:47:29.041Z"
   },
   {
    "duration": 434,
    "start_time": "2024-11-07T04:50:01.891Z"
   },
   {
    "duration": 913,
    "start_time": "2024-11-07T04:50:02.328Z"
   },
   {
    "duration": 11,
    "start_time": "2024-11-07T04:50:03.243Z"
   },
   {
    "duration": 10,
    "start_time": "2024-11-07T04:50:03.256Z"
   },
   {
    "duration": 7,
    "start_time": "2024-11-07T04:50:03.269Z"
   },
   {
    "duration": 32,
    "start_time": "2024-11-07T04:50:03.278Z"
   },
   {
    "duration": 6,
    "start_time": "2024-11-07T04:50:03.312Z"
   },
   {
    "duration": 120,
    "start_time": "2024-11-07T04:50:03.320Z"
   },
   {
    "duration": 11,
    "start_time": "2024-11-07T04:50:03.442Z"
   },
   {
    "duration": 120,
    "start_time": "2024-11-07T04:50:03.454Z"
   },
   {
    "duration": 100,
    "start_time": "2024-11-07T04:50:03.576Z"
   },
   {
    "duration": 31,
    "start_time": "2024-11-07T04:50:03.678Z"
   },
   {
    "duration": 12,
    "start_time": "2024-11-07T04:50:03.711Z"
   },
   {
    "duration": 3,
    "start_time": "2024-11-07T04:50:03.728Z"
   },
   {
    "duration": 23,
    "start_time": "2024-11-07T04:50:03.732Z"
   },
   {
    "duration": 11,
    "start_time": "2024-11-07T04:50:03.757Z"
   },
   {
    "duration": 4,
    "start_time": "2024-11-07T04:50:03.770Z"
   },
   {
    "duration": 36,
    "start_time": "2024-11-07T04:50:03.776Z"
   },
   {
    "duration": 4,
    "start_time": "2024-11-07T04:50:03.814Z"
   },
   {
    "duration": 3,
    "start_time": "2024-11-07T04:50:03.820Z"
   },
   {
    "duration": 817,
    "start_time": "2024-11-07T04:50:03.825Z"
   },
   {
    "duration": 690,
    "start_time": "2024-11-07T04:50:04.644Z"
   },
   {
    "duration": 11,
    "start_time": "2024-11-07T04:50:05.336Z"
   },
   {
    "duration": 7,
    "start_time": "2024-11-07T04:50:05.349Z"
   },
   {
    "duration": 9,
    "start_time": "2024-11-07T04:50:05.358Z"
   },
   {
    "duration": 6,
    "start_time": "2024-11-07T04:50:05.368Z"
   },
   {
    "duration": 39,
    "start_time": "2024-11-07T04:50:05.375Z"
   },
   {
    "duration": 11,
    "start_time": "2024-11-07T04:50:05.416Z"
   },
   {
    "duration": 5,
    "start_time": "2024-11-07T04:50:05.429Z"
   },
   {
    "duration": 16,
    "start_time": "2024-11-07T04:50:05.436Z"
   },
   {
    "duration": 60,
    "start_time": "2024-11-07T04:50:05.454Z"
   },
   {
    "duration": 7,
    "start_time": "2024-11-07T04:50:05.515Z"
   },
   {
    "duration": 7,
    "start_time": "2024-11-07T04:50:05.524Z"
   },
   {
    "duration": 40,
    "start_time": "2024-11-07T04:50:05.533Z"
   },
   {
    "duration": 5,
    "start_time": "2024-11-07T04:50:05.575Z"
   },
   {
    "duration": 31,
    "start_time": "2024-11-07T04:50:05.581Z"
   },
   {
    "duration": 416,
    "start_time": "2024-11-07T04:50:41.674Z"
   },
   {
    "duration": 936,
    "start_time": "2024-11-07T04:50:42.092Z"
   },
   {
    "duration": 11,
    "start_time": "2024-11-07T04:50:43.030Z"
   },
   {
    "duration": 10,
    "start_time": "2024-11-07T04:50:43.043Z"
   },
   {
    "duration": 8,
    "start_time": "2024-11-07T04:50:43.054Z"
   },
   {
    "duration": 8,
    "start_time": "2024-11-07T04:50:43.063Z"
   },
   {
    "duration": 37,
    "start_time": "2024-11-07T04:50:43.072Z"
   },
   {
    "duration": 112,
    "start_time": "2024-11-07T04:50:43.112Z"
   },
   {
    "duration": 10,
    "start_time": "2024-11-07T04:50:43.226Z"
   },
   {
    "duration": 120,
    "start_time": "2024-11-07T04:50:43.240Z"
   },
   {
    "duration": 103,
    "start_time": "2024-11-07T04:50:43.362Z"
   },
   {
    "duration": 31,
    "start_time": "2024-11-07T04:50:43.467Z"
   },
   {
    "duration": 20,
    "start_time": "2024-11-07T04:50:43.499Z"
   },
   {
    "duration": 4,
    "start_time": "2024-11-07T04:50:43.521Z"
   },
   {
    "duration": 24,
    "start_time": "2024-11-07T04:50:43.526Z"
   },
   {
    "duration": 11,
    "start_time": "2024-11-07T04:50:43.551Z"
   },
   {
    "duration": 6,
    "start_time": "2024-11-07T04:50:43.563Z"
   },
   {
    "duration": 4,
    "start_time": "2024-11-07T04:50:43.570Z"
   },
   {
    "duration": 4,
    "start_time": "2024-11-07T04:50:43.608Z"
   },
   {
    "duration": 3,
    "start_time": "2024-11-07T04:50:43.614Z"
   },
   {
    "duration": 799,
    "start_time": "2024-11-07T04:50:43.619Z"
   },
   {
    "duration": 704,
    "start_time": "2024-11-07T04:50:44.420Z"
   },
   {
    "duration": 10,
    "start_time": "2024-11-07T04:50:45.126Z"
   },
   {
    "duration": 7,
    "start_time": "2024-11-07T04:50:45.139Z"
   },
   {
    "duration": 8,
    "start_time": "2024-11-07T04:50:45.148Z"
   },
   {
    "duration": 7,
    "start_time": "2024-11-07T04:50:45.158Z"
   },
   {
    "duration": 8,
    "start_time": "2024-11-07T04:50:45.166Z"
   },
   {
    "duration": 11,
    "start_time": "2024-11-07T04:50:45.211Z"
   },
   {
    "duration": 5,
    "start_time": "2024-11-07T04:50:45.223Z"
   },
   {
    "duration": 16,
    "start_time": "2024-11-07T04:50:45.231Z"
   },
   {
    "duration": 32,
    "start_time": "2024-11-07T04:50:45.249Z"
   },
   {
    "duration": 6,
    "start_time": "2024-11-07T04:50:45.310Z"
   },
   {
    "duration": 6,
    "start_time": "2024-11-07T04:50:45.318Z"
   },
   {
    "duration": 40,
    "start_time": "2024-11-07T04:50:45.326Z"
   },
   {
    "duration": 6,
    "start_time": "2024-11-07T04:50:45.368Z"
   },
   {
    "duration": 4,
    "start_time": "2024-11-07T04:50:45.376Z"
   },
   {
    "duration": 261,
    "start_time": "2024-11-07T04:50:45.411Z"
   },
   {
    "duration": 130,
    "start_time": "2024-11-07T04:50:45.674Z"
   },
   {
    "duration": 201,
    "start_time": "2024-11-07T04:50:45.809Z"
   },
   {
    "duration": 11,
    "start_time": "2024-11-07T04:50:46.012Z"
   },
   {
    "duration": 3,
    "start_time": "2024-11-07T04:50:46.027Z"
   },
   {
    "duration": 13,
    "start_time": "2024-11-07T04:50:46.031Z"
   },
   {
    "duration": 243,
    "start_time": "2024-11-07T04:50:46.046Z"
   },
   {
    "duration": 45,
    "start_time": "2024-11-07T04:50:46.290Z"
   },
   {
    "duration": 204,
    "start_time": "2024-11-07T04:50:46.337Z"
   },
   {
    "duration": 91,
    "start_time": "2024-11-07T04:50:46.542Z"
   },
   {
    "duration": 9,
    "start_time": "2024-11-07T04:50:46.634Z"
   },
   {
    "duration": 9,
    "start_time": "2024-11-07T04:50:46.645Z"
   },
   {
    "duration": 288,
    "start_time": "2024-11-07T04:50:46.656Z"
   },
   {
    "duration": 4,
    "start_time": "2024-11-07T04:50:46.945Z"
   },
   {
    "duration": 146,
    "start_time": "2024-11-07T04:50:46.951Z"
   },
   {
    "duration": 178,
    "start_time": "2024-11-07T04:50:47.099Z"
   },
   {
    "duration": 5,
    "start_time": "2024-11-07T04:50:47.279Z"
   },
   {
    "duration": 23,
    "start_time": "2024-11-07T04:50:47.286Z"
   },
   {
    "duration": 16,
    "start_time": "2024-11-07T04:50:47.310Z"
   },
   {
    "duration": 228,
    "start_time": "2024-11-07T04:50:47.330Z"
   },
   {
    "duration": 7,
    "start_time": "2024-11-07T04:50:47.561Z"
   },
   {
    "duration": 7,
    "start_time": "2024-11-07T04:50:47.570Z"
   },
   {
    "duration": 885,
    "start_time": "2024-11-07T04:50:47.579Z"
   },
   {
    "duration": 8,
    "start_time": "2024-11-07T04:50:48.466Z"
   },
   {
    "duration": 42,
    "start_time": "2024-11-07T04:50:48.476Z"
   },
   {
    "duration": 10,
    "start_time": "2024-11-07T04:50:48.520Z"
   },
   {
    "duration": 7,
    "start_time": "2024-11-07T04:50:48.531Z"
   }
  ],
  "colab": {
   "provenance": []
  },
  "kernelspec": {
   "display_name": "Python 3 (ipykernel)",
   "language": "python",
   "name": "python3"
  },
  "language_info": {
   "codemirror_mode": {
    "name": "ipython",
    "version": 3
   },
   "file_extension": ".py",
   "mimetype": "text/x-python",
   "name": "python",
   "nbconvert_exporter": "python",
   "pygments_lexer": "ipython3",
   "version": "3.9.19"
  },
  "toc": {
   "base_numbering": 1,
   "nav_menu": {},
   "number_sections": true,
   "sideBar": true,
   "skip_h1_title": true,
   "title_cell": "Table of Contents",
   "title_sidebar": "Contents",
   "toc_cell": false,
   "toc_position": {},
   "toc_section_display": true,
   "toc_window_display": false
  },
  "vscode": {
   "interpreter": {
    "hash": "01a7be9ec63e704a62cefc5fe7a4756944464ee731be31632bdf42a4cb4688cf"
   }
  }
 },
 "nbformat": 4,
 "nbformat_minor": 5
}
