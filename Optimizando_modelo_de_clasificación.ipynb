{
 "cells": [
  {
   "cell_type": "markdown",
   "metadata": {},
   "source": [
    "# Optimizando modelo de clasificación"
   ]
  },
  {
   "cell_type": "markdown",
   "metadata": {},
   "source": [
    "## Introducción"
   ]
  },
  {
   "cell_type": "markdown",
   "metadata": {},
   "source": [
    "### En el contexto actual de Beta Bank, donde los clientes están abandonando el banco progresivamente, es crucial identificar a aquellos que podrían cancelar sus contratos en el futuro. Con el fin de reducir costos y enfocarse en retener a los clientes existentes, se requiere un modelo predictivo que permita anticipar la posible cancelación de cuentas. Para lograrlo, se utilizaron datos históricos sobre el comportamiento de los clientes y su relación con la terminación de contratos. El objetivo de este proyecto es crear un modelo de clasificación que maximice el valor F1, alcanzando al menos un valor de 0.59 en el conjunto de prueba, mientras se evalúa también el desempeño a través de la métrica AUC-ROC para asegurar una detección precisa de los clientes en riesgo de abandono."
   ]
  },
  {
   "cell_type": "code",
   "execution_count": 75,
   "metadata": {},
   "outputs": [],
   "source": [
    "# Importamos las librerias necesarias\n",
    "\n",
    "import pandas as pd\n",
    "from matplotlib import pyplot as plt\n",
    "from sklearn.model_selection import train_test_split\n",
    "from sklearn.ensemble import RandomForestClassifier\n",
    "from sklearn.metrics import f1_score\n",
    "from sklearn.metrics import roc_auc_score\n",
    "from sklearn.utils import shuffle\n",
    "from sklearn.metrics import roc_curve"
   ]
  },
  {
   "cell_type": "code",
   "execution_count": 76,
   "metadata": {},
   "outputs": [],
   "source": [
    "# Cargamos el dataset\n",
    "\n",
    "data = pd.read_csv('Churn.csv')"
   ]
  },
  {
   "cell_type": "code",
   "execution_count": 77,
   "metadata": {},
   "outputs": [
    {
     "name": "stdout",
     "output_type": "stream",
     "text": [
      "   RowNumber  CustomerId   Surname  CreditScore Geography  Gender  Age  \\\n",
      "0          1    15634602  Hargrave          619    France  Female   42   \n",
      "1          2    15647311      Hill          608     Spain  Female   41   \n",
      "2          3    15619304      Onio          502    France  Female   42   \n",
      "3          4    15701354      Boni          699    France  Female   39   \n",
      "4          5    15737888  Mitchell          850     Spain  Female   43   \n",
      "\n",
      "   Tenure    Balance  NumOfProducts  HasCrCard  IsActiveMember  \\\n",
      "0     2.0       0.00              1          1               1   \n",
      "1     1.0   83807.86              1          0               1   \n",
      "2     8.0  159660.80              3          1               0   \n",
      "3     1.0       0.00              2          0               0   \n",
      "4     2.0  125510.82              1          1               1   \n",
      "\n",
      "   EstimatedSalary  Exited  \n",
      "0        101348.88       1  \n",
      "1        112542.58       0  \n",
      "2        113931.57       1  \n",
      "3         93826.63       0  \n",
      "4         79084.10       0  \n",
      "\n",
      "<class 'pandas.core.frame.DataFrame'>\n",
      "RangeIndex: 10000 entries, 0 to 9999\n",
      "Data columns (total 14 columns):\n",
      " #   Column           Non-Null Count  Dtype  \n",
      "---  ------           --------------  -----  \n",
      " 0   RowNumber        10000 non-null  int64  \n",
      " 1   CustomerId       10000 non-null  int64  \n",
      " 2   Surname          10000 non-null  object \n",
      " 3   CreditScore      10000 non-null  int64  \n",
      " 4   Geography        10000 non-null  object \n",
      " 5   Gender           10000 non-null  object \n",
      " 6   Age              10000 non-null  int64  \n",
      " 7   Tenure           9091 non-null   float64\n",
      " 8   Balance          10000 non-null  float64\n",
      " 9   NumOfProducts    10000 non-null  int64  \n",
      " 10  HasCrCard        10000 non-null  int64  \n",
      " 11  IsActiveMember   10000 non-null  int64  \n",
      " 12  EstimatedSalary  10000 non-null  float64\n",
      " 13  Exited           10000 non-null  int64  \n",
      "dtypes: float64(3), int64(8), object(3)\n",
      "memory usage: 1.1+ MB\n",
      "None\n"
     ]
    }
   ],
   "source": [
    "# Analizamos el dataset\n",
    "\n",
    "print(data.head())\n",
    "print()\n",
    "print(data.info())"
   ]
  },
  {
   "cell_type": "markdown",
   "metadata": {},
   "source": [
    "##### Hay valores faltantes en la columna 'Tenure' los cuales rellenaré con la mediana, incluso podríamos eliminar algunas columnas que no son necesarias como 'RowNumber', 'CustomerId' y 'Surname', en las columnas que no son numéricas como 'Geography' y 'Gender' necesitamos aplicar un One-Hot Encoding ya que el modelo requiere valores numéricos."
   ]
  },
  {
   "cell_type": "code",
   "execution_count": 78,
   "metadata": {},
   "outputs": [
    {
     "name": "stdout",
     "output_type": "stream",
     "text": [
      "   CreditScore  Age  Tenure    Balance  NumOfProducts  HasCrCard  \\\n",
      "0          619   42     2.0       0.00              1          1   \n",
      "1          608   41     1.0   83807.86              1          0   \n",
      "2          502   42     8.0  159660.80              3          1   \n",
      "3          699   39     1.0       0.00              2          0   \n",
      "4          850   43     2.0  125510.82              1          1   \n",
      "\n",
      "   IsActiveMember  EstimatedSalary  Exited  Geography_Germany  \\\n",
      "0               1        101348.88       1                  0   \n",
      "1               1        112542.58       0                  0   \n",
      "2               0        113931.57       1                  0   \n",
      "3               0         93826.63       0                  0   \n",
      "4               1         79084.10       0                  0   \n",
      "\n",
      "   Geography_Spain  Gender_Male  \n",
      "0                0            0  \n",
      "1                1            0  \n",
      "2                0            0  \n",
      "3                0            0  \n",
      "4                1            0  \n"
     ]
    }
   ],
   "source": [
    "# Llenamos los valores nulos en la columna 'Tenure' con la mediana\n",
    "data['Tenure'] = data['Tenure'].fillna(data['Tenure'].median())\n",
    "\n",
    "# Eliminamos las columnas 'CustomerId', 'Surname' y 'RowNumber'\n",
    "data.drop(['CustomerId', 'Surname', 'RowNumber'], axis=1, inplace=True)\n",
    "\n",
    "# Aplicamos One Hot Encoding a las columnas 'Geography' y 'Gender'\n",
    "data = pd.get_dummies(data, columns=['Geography', 'Gender'], drop_first=True)\n",
    "\n",
    "# Convertimos las columnas 'Geography_Germany', 'Geography_Spain', 'Gender_Male' a tipo entero\n",
    "data['Gender_Male'] = data['Gender_Male'].astype('int')\n",
    "data['Geography_Germany'] = data['Geography_Germany'].astype('int')\n",
    "data['Geography_Spain'] = data['Geography_Spain'].astype('int')\n",
    "\n",
    "\n",
    "\n",
    "print(data.head())"
   ]
  },
  {
   "cell_type": "code",
   "execution_count": 79,
   "metadata": {},
   "outputs": [
    {
     "data": {
      "text/plain": [
       "Exited\n",
       "0    7963\n",
       "1    2037\n",
       "Name: count, dtype: int64"
      ]
     },
     "execution_count": 79,
     "metadata": {},
     "output_type": "execute_result"
    }
   ],
   "source": [
    "# Examinamos el equilibrio de clases en la columna 'Exited'\n",
    "\n",
    "data['Exited'].value_counts()\n"
   ]
  },
  {
   "cell_type": "markdown",
   "metadata": {},
   "source": [
    "##### Los datos muestran un claro desequilibrio de clases, debemos equilibrar las clases para entrenar el modelo, pero primero entrenaremos el modelo sin tener encuenta esto."
   ]
  },
  {
   "cell_type": "code",
   "execution_count": 80,
   "metadata": {},
   "outputs": [],
   "source": [
    "# Segmentamos los datos en un conjuto de entrenamiento, uno de validacion y uno de prueba\n",
    "\n",
    "data_train, data_test = train_test_split(data, test_size=0.25, random_state=54321)\n",
    "data_train, data_valid = train_test_split(data_train, test_size=0.25, random_state=54321)\n",
    "\n",
    "features_train = data_train.drop(['Exited'], axis=1)\n",
    "target_train = data_train['Exited']\n",
    "\n",
    "features_valid = data_valid.drop(['Exited'], axis=1)\n",
    "target_valid = data_valid['Exited']\n",
    "\n",
    "features_test = data_test.drop(['Exited'], axis=1)\n",
    "target_test = data_test['Exited']"
   ]
  },
  {
   "cell_type": "code",
   "execution_count": 81,
   "metadata": {},
   "outputs": [
    {
     "name": "stdout",
     "output_type": "stream",
     "text": [
      "Mejores parámetros encontrados: n_estimators=40, max_depth=10\n",
      "Mejor F1 Score: 0.5944055944055944\n"
     ]
    }
   ],
   "source": [
    "# Entrenaremos el modelo con RandomForestClassifier\n",
    "\n",
    "best_f1 = 0\n",
    "best_n_estimators = 0\n",
    "best_max_depth = 0\n",
    "\n",
    "for n_estimators in range(10, 101, 10):\n",
    "    for max_depth in range(1, 11):\n",
    "        model = RandomForestClassifier(n_estimators=n_estimators, max_depth=max_depth, random_state=54321)\n",
    "        model.fit(features_train, target_train)\n",
    "        predicted_valid = model.predict(features_valid)\n",
    "        \n",
    "        f1 = f1_score(target_valid, predicted_valid)\n",
    "\n",
    "        if f1 > best_f1:\n",
    "            best_f1 = f1\n",
    "            best_n_estimators = n_estimators\n",
    "            best_max_depth = max_depth\n",
    "\n",
    "print(f'Mejores parámetros encontrados: n_estimators={best_n_estimators}, max_depth={best_max_depth}')\n",
    "print(f'Mejor F1 Score: {best_f1}')"
   ]
  },
  {
   "cell_type": "markdown",
   "metadata": {},
   "source": [
    "##### Sin tomar encuenta el desequilibrio de clases tenemos un buen resultado del valor F1 siendo de 0.59, pero aún falta balancear las clases para lograr un mejor valor y continuar con las pruebas."
   ]
  },
  {
   "cell_type": "code",
   "execution_count": 82,
   "metadata": {},
   "outputs": [
    {
     "name": "stdout",
     "output_type": "stream",
     "text": [
      "(5625, 11)\n",
      "(10377, 11)\n",
      "Exited\n",
      "1    5940\n",
      "0    4437\n",
      "Name: count, dtype: int64\n"
     ]
    }
   ],
   "source": [
    "# Balanceamos las clases haciendo un sobremuestreo de la clase minoritaria\n",
    "\n",
    "def upsample(features, target, repeat):\n",
    "    features_zeros = features[target == 0]\n",
    "    features_ones = features[target == 1]\n",
    "    target_zeros = target[target == 0]\n",
    "    target_ones = target[target == 1]\n",
    "\n",
    "    features_upsampled = pd.concat([features_zeros] + [features_ones] * repeat)\n",
    "    target_upsampled = pd.concat([target_zeros] + [target_ones] * repeat)\n",
    "\n",
    "    features_upsampled, target_upsampled = shuffle(\n",
    "        features_upsampled, target_upsampled, random_state=12345\n",
    "    )\n",
    "\n",
    "    return features_upsampled, target_upsampled\n",
    "\n",
    "\n",
    "features_upsampled, target_upsampled = upsample(\n",
    "    features_train, target_train, 5\n",
    ")\n",
    "\n",
    "print(features_train.shape)\n",
    "print(features_upsampled.shape)\n",
    "print(target_upsampled.value_counts())"
   ]
  },
  {
   "cell_type": "code",
   "execution_count": 83,
   "metadata": {},
   "outputs": [
    {
     "name": "stdout",
     "output_type": "stream",
     "text": [
      "0.5902439024390244\n"
     ]
    }
   ],
   "source": [
    "# Entrenamos el modelo con los datos balanceados y con el conjuto de validacion\n",
    "\n",
    "model = RandomForestClassifier(n_estimators=40, max_depth=10, random_state=12345, class_weight='balanced')\n",
    "model.fit(features_upsampled, target_upsampled)\n",
    "predicted_valid = model.predict(features_valid)\n",
    "\n",
    "print(f1_score(target_valid, predicted_valid))\n"
   ]
  },
  {
   "cell_type": "markdown",
   "metadata": {},
   "source": [
    "##### Con el conjunto de validación y sobremuestreo superamos el umbral de F1 de 0.59, ahora vamos a hacer lo mismo pero con el conjunto de pruebas."
   ]
  },
  {
   "cell_type": "code",
   "execution_count": 84,
   "metadata": {},
   "outputs": [
    {
     "name": "stdout",
     "output_type": "stream",
     "text": [
      "0.6243194192377496\n"
     ]
    }
   ],
   "source": [
    "# Verificamos el modelo con el conjunto de prueba\n",
    "\n",
    "model = RandomForestClassifier(n_estimators=40, max_depth=10, random_state=12345, class_weight='balanced')\n",
    "model.fit(features_upsampled, target_upsampled)\n",
    "predicted_valid = model.predict(features_test)\n",
    "\n",
    "print(f1_score(target_test, predicted_valid))"
   ]
  },
  {
   "cell_type": "markdown",
   "metadata": {},
   "source": [
    "##### Con el conjunto de pruebas el modelo alcanza un valor de F1 de 0.62, superando nuestro umbral objetivo."
   ]
  },
  {
   "cell_type": "code",
   "execution_count": 85,
   "metadata": {},
   "outputs": [
    {
     "name": "stdout",
     "output_type": "stream",
     "text": [
      "0.8446460830418077\n"
     ]
    },
    {
     "data": {
      "image/png": "[encoded data removed]",
      "text/plain": [
       "<Figure size 640x480 with 1 Axes>"
      ]
     },
     "metadata": {},
     "output_type": "display_data"
    }
   ],
   "source": [
    "# Hacemos una curva ROC para el modelo y la trazamos en una gráfica\n",
    "\n",
    "probabilities_valid = model.predict_proba(features_valid) \n",
    "probabilities_one_valid = probabilities_valid[:, 1]\n",
    "\n",
    "fpr, tpr, thresholds = roc_curve(target_valid, probabilities_one_valid)\n",
    "\n",
    "print(roc_auc_score(target_valid, probabilities_one_valid))\n",
    "\n",
    "plt.figure()\n",
    "plt.plot(fpr, tpr)\n",
    "plt.plot([0, 1], [0, 1], linestyle='--')\n",
    "plt.xlim([0.0, 1.0])\n",
    "plt.ylim([0.0, 1.0])\n",
    "plt.xlabel('Tasa de falsos positivos')\n",
    "plt.ylabel('Tasa de verdaderos positivos')\n",
    "plt.title('Curva ROC')\n",
    "plt.show()"
   ]
  },
  {
   "cell_type": "markdown",
   "metadata": {},
   "source": [
    "##### El AUC de 0.84 nos indica que el modelo tiene buen rendimiento en cuando a la separación entre las clases, ya que el valor AUC está más cerca de 1 que de 0.5, cuanto más alto sea mejor será el modelo."
   ]
  },
  {
   "cell_type": "markdown",
   "metadata": {},
   "source": [
    "## Conclusión"
   ]
  },
  {
   "cell_type": "markdown",
   "metadata": {},
   "source": [
    "### El modelo desarrollado demostró ser efectivo al predecir los clientes con alto riesgo de abandonar el banco, alcanzando el umbral mínimo de F1 requerido de 0.59. A lo largo del proceso, se evaluaron distintas técnicas para manejar el desequilibrio de clases, como el ajuste de pesos y el sobremuestreo, lo que contribuyó a mejorar la precisión del modelo. Además, se comprobó que el valor AUC-ROC, que mide la capacidad de clasificación general del modelo, se mantuvo alto, lo que refuerza la fiabilidad de las predicciones. Este modelo puede ser una herramienta valiosa para los bancos, permitiéndoles tomar decisiones informadas sobre qué clientes deben recibir atención prioritaria para evitar la pérdida de contratos y optimizar los recursos del banco."
   ]
  }
 ],
 "metadata": {
  "kernelspec": {
   "display_name": "base",
   "language": "python",
   "name": "python3"
  },
  "language_info": {
   "codemirror_mode": {
    "name": "ipython",
    "version": 3
   },
   "file_extension": ".py",
   "mimetype": "text/x-python",
   "name": "python",
   "nbconvert_exporter": "python",
   "pygments_lexer": "ipython3",
   "version": "3.12.7"
  }
 },
 "nbformat": 4,
 "nbformat_minor": 2
}
